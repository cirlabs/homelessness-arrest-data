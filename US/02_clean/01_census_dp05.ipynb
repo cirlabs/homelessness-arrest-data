{
 "cells": [
  {
   "cell_type": "markdown",
   "id": "7f258a44-a8d8-48be-b0a0-be2eac280b0a",
   "metadata": {},
   "source": [
    "# Demographic data by geography"
   ]
  },
  {
   "cell_type": "code",
   "execution_count": 1,
   "id": "48c0d3d7-0276-4348-82a9-5cba020dd742",
   "metadata": {},
   "outputs": [
    {
     "data": {
      "text/html": [
       "<style>\n",
       "table {float:left}\n",
       "</style>\n"
      ],
      "text/plain": [
       "<IPython.core.display.HTML object>"
      ]
     },
     "metadata": {},
     "output_type": "display_data"
    }
   ],
   "source": [
    "%%html\n",
    "<style>\n",
    "table {float:left}\n",
    "</style>"
   ]
  },
  {
   "cell_type": "code",
   "execution_count": 2,
   "id": "3f417235-cfa4-4d7a-81e5-b83be088dd95",
   "metadata": {},
   "outputs": [],
   "source": [
    "import glob\n",
    "import math\n",
    "import os\n",
    "import re\n",
    "\n",
    "import pandas as pd"
   ]
  },
  {
   "cell_type": "markdown",
   "id": "cbcb5339-64e2-4ac5-925f-df6cf67164e0",
   "metadata": {
    "tags": []
   },
   "source": [
    "# Los Angeles County Continuum of Care\n",
    "\n",
    "Los Angeles County comprises four CoCs. Thanks to [this crosswalk data](https://github.com/tomhbyrne/HUD-CoC-Geography-Crosswalk), I'm able to use demographic data for the subset of the county that exists within CoC ID CA-600."
   ]
  },
  {
   "cell_type": "code",
   "execution_count": 3,
   "id": "d09d8e49-63cd-4004-b840-6b4e6c9ef71e",
   "metadata": {},
   "outputs": [],
   "source": [
    "la_files = glob.glob('../01_inputs/USCB/DP05/LA/*.csv')"
   ]
  },
  {
   "cell_type": "code",
   "execution_count": 4,
   "id": "4da10719-ed85-482b-a924-820ca4687ca6",
   "metadata": {},
   "outputs": [],
   "source": [
    "la_files.sort()"
   ]
  },
  {
   "cell_type": "markdown",
   "id": "a765739e-6a94-4929-a3d8-d97789fc0999",
   "metadata": {},
   "source": [
    "## Normalize\n",
    "\n",
    "These are slightly different for each of the ACS 5-Year datasets I plan to use. Based on previous experience, column IDs can also vary among years, so I'm going the inelegant route because the names are more immediately legible to me."
   ]
  },
  {
   "cell_type": "code",
   "execution_count": 5,
   "id": "177ef38f-117a-48d1-b71f-2adad99c0cf3",
   "metadata": {},
   "outputs": [],
   "source": [
    "usecols_2020 = [\n",
    "    'id',\n",
    "    'Geographic Area Name',\n",
    "    'Estimate!!HISPANIC OR LATINO AND RACE!!Total population!!Not Hispanic or Latino',\n",
    "    'Margin of Error!!HISPANIC OR LATINO AND RACE!!Total population!!Not Hispanic or Latino',\n",
    "    'Estimate!!HISPANIC OR LATINO AND RACE!!Total population!!Hispanic or Latino (of any race)',\n",
    "    'Margin of Error!!HISPANIC OR LATINO AND RACE!!Total population!!Hispanic or Latino (of any race)',\n",
    "    'Estimate!!Race alone or in combination with one or more other races!!Total population',\n",
    "    'Margin of Error!!Race alone or in combination with one or more other races!!Total population',\n",
    "    'Estimate!!Race alone or in combination with one or more other races!!Total population!!White',\n",
    "    'Margin of Error!!Race alone or in combination with one or more other races!!Total population!!White',\n",
    "    'Estimate!!Race alone or in combination with one or more other races!!Total population!!Black or African American',\n",
    "    'Margin of Error!!Race alone or in combination with one or more other races!!Total population!!Black or African American',\n",
    "    'Estimate!!Race alone or in combination with one or more other races!!Total population!!American Indian and Alaska Native',\n",
    "    'Margin of Error!!Race alone or in combination with one or more other races!!Total population!!American Indian and Alaska Native',\n",
    "    'Estimate!!Race alone or in combination with one or more other races!!Total population!!Asian',\n",
    "    'Margin of Error!!Race alone or in combination with one or more other races!!Total population!!Asian',\n",
    "    'Estimate!!Race alone or in combination with one or more other races!!Total population!!Native Hawaiian and Other Pacific Islander',\n",
    "    'Margin of Error!!Race alone or in combination with one or more other races!!Total population!!Native Hawaiian and Other Pacific Islander',\n",
    "    'Estimate!!Race alone or in combination with one or more other races!!Total population!!Some other race',\n",
    "    'Margin of Error!!Race alone or in combination with one or more other races!!Total population!!Some other race',\n",
    "]"
   ]
  },
  {
   "cell_type": "code",
   "execution_count": 6,
   "id": "644c8a75-9ec7-4bf5-a14b-5bc22ce1b77b",
   "metadata": {},
   "outputs": [],
   "source": [
    "usecols_2015 = [\n",
    "    'id',\n",
    "    'Geographic Area Name',\n",
    "    'Estimate!!HISPANIC OR LATINO AND RACE!!Total population!!Not Hispanic or Latino',\n",
    "    'Margin of Error!!HISPANIC OR LATINO AND RACE!!Total population!!Not Hispanic or Latino',\n",
    "    'Estimate!!HISPANIC OR LATINO AND RACE!!Total population!!Hispanic or Latino (of any race)',\n",
    "    'Margin of Error!!HISPANIC OR LATINO AND RACE!!Total population!!Hispanic or Latino (of any race)',\n",
    "    'Estimate!!RACE!!Race alone or in combination with one or more other races!!Total population',\n",
    "    'Margin of Error!!RACE!!Race alone or in combination with one or more other races!!Total population',\n",
    "    'Estimate!!RACE!!Race alone or in combination with one or more other races!!Total population!!White',\n",
    "    'Margin of Error!!RACE!!Race alone or in combination with one or more other races!!Total population!!White',\n",
    "    'Estimate!!RACE!!Race alone or in combination with one or more other races!!Total population!!Black or African American',\n",
    "    'Margin of Error!!RACE!!Race alone or in combination with one or more other races!!Total population!!Black or African American',\n",
    "    'Estimate!!RACE!!Race alone or in combination with one or more other races!!Total population!!American Indian and Alaska Native',\n",
    "    'Margin of Error!!RACE!!Race alone or in combination with one or more other races!!Total population!!American Indian and Alaska Native',\n",
    "    'Estimate!!RACE!!Race alone or in combination with one or more other races!!Total population!!Asian',\n",
    "    'Margin of Error!!RACE!!Race alone or in combination with one or more other races!!Total population!!Asian',\n",
    "    'Estimate!!RACE!!Race alone or in combination with one or more other races!!Total population!!Native Hawaiian and Other Pacific Islander',\n",
    "    'Margin of Error!!RACE!!Race alone or in combination with one or more other races!!Total population!!Native Hawaiian and Other Pacific Islander',\n",
    "    'Estimate!!RACE!!Race alone or in combination with one or more other races!!Total population!!Some other race',\n",
    "    'Margin of Error!!RACE!!Race alone or in combination with one or more other races!!Total population!!Some other race',\n",
    "]"
   ]
  },
  {
   "cell_type": "code",
   "execution_count": 7,
   "id": "b4f4bba4-220a-4b8e-86d7-ecad4891a1c2",
   "metadata": {},
   "outputs": [],
   "source": [
    "usecols_2010 = [\n",
    "    'id',\n",
    "    'Geographic Area Name',\n",
    "    'Estimate!!HISPANIC OR LATINO AND RACE!!Not Hispanic or Latino',\n",
    "    'Estimate Margin of Error!!HISPANIC OR LATINO AND RACE!!Not Hispanic or Latino',\n",
    "    'Estimate!!HISPANIC OR LATINO AND RACE!!Hispanic or Latino (of any race)',\n",
    "    'Estimate Margin of Error!!HISPANIC OR LATINO AND RACE!!Hispanic or Latino (of any race)',\n",
    "    'Estimate!!RACE!!Race alone or in combination with one or more other races!!Total population',\n",
    "    'Estimate Margin of Error!!RACE!!Race alone or in combination with one or more other races!!Total population',\n",
    "    'Estimate!!RACE!!White',\n",
    "    'Estimate Margin of Error!!RACE!!White',\n",
    "    'Estimate!!RACE!!Black or African American',\n",
    "    'Estimate Margin of Error!!RACE!!Black or African American',\n",
    "    'Estimate!!RACE!!American Indian and Alaska Native',\n",
    "    'Estimate Margin of Error!!RACE!!American Indian and Alaska Native',\n",
    "    'Estimate!!RACE!!Asian',\n",
    "    'Estimate Margin of Error!!RACE!!Asian',\n",
    "    'Estimate!!RACE!!Native Hawaiian and Other Pacific Islander',\n",
    "    'Estimate Margin of Error!!RACE!!Native Hawaiian and Other Pacific Islander',\n",
    "    'Estimate!!RACE!!Some other race',\n",
    "    'Estimate Margin of Error!!RACE!!Some other race',\n",
    "]"
   ]
  },
  {
   "cell_type": "code",
   "execution_count": 8,
   "id": "0f59cdce-2d73-4dc0-92a6-474706402790",
   "metadata": {},
   "outputs": [],
   "source": [
    "def read_dp05(file):\n",
    "    usecols_dict = {'2010': usecols_2010,\n",
    "                    '2015': usecols_2015, '2020': usecols_2020}\n",
    "    year = os.path.basename(file)[7:11]\n",
    "    df = pd.read_csv(file, skiprows=1, usecols=usecols_dict[year])\n",
    "    df = df[usecols_dict[year]]\n",
    "    df.columns = [\n",
    "        re.sub('Race alone or in combination with one or more other races!!', '', col)\n",
    "        for col in df.columns\n",
    "    ]\n",
    "    df.columns = [\n",
    "        re.sub('RACE!!', '', col)\n",
    "        for col in df.columns\n",
    "    ]\n",
    "    df.columns = [\n",
    "        re.sub('Total population!!', '', col)\n",
    "        for col in df.columns\n",
    "    ]\n",
    "    df.columns = [\n",
    "        re.sub('HISPANIC OR LATINO AND ', '', col)\n",
    "        for col in df.columns\n",
    "    ]\n",
    "    df.columns = [\n",
    "        re.sub('Estimate Margin', 'Margin', col)\n",
    "        for col in df.columns\n",
    "    ]\n",
    "    df['census year'] = year\n",
    "    return df"
   ]
  },
  {
   "cell_type": "code",
   "execution_count": 9,
   "id": "240ba26d-e038-4d75-b6f2-95efdb64fabd",
   "metadata": {},
   "outputs": [],
   "source": [
    "df = pd.concat([read_dp05(file) for file in la_files])"
   ]
  },
  {
   "cell_type": "code",
   "execution_count": 10,
   "id": "5a1f7114-ae58-4030-82dc-70e390ce3abf",
   "metadata": {},
   "outputs": [],
   "source": [
    "reshaped_df = df.melt(id_vars=['census year', 'id', 'Geographic Area Name'])"
   ]
  },
  {
   "cell_type": "code",
   "execution_count": 11,
   "id": "31c9e9cd-aca5-4f2b-bb9f-8ed403b4cae3",
   "metadata": {},
   "outputs": [],
   "source": [
    "reshaped_df[['measure', 'demographic']] = reshaped_df['variable'].str.split(\n",
    "    '!!', 1, expand=True)"
   ]
  },
  {
   "cell_type": "code",
   "execution_count": 12,
   "id": "46be49e4-201f-470e-ad49-4420ee28d091",
   "metadata": {},
   "outputs": [
    {
     "data": {
      "text/html": [
       "<div>\n",
       "<style scoped>\n",
       "    .dataframe tbody tr th:only-of-type {\n",
       "        vertical-align: middle;\n",
       "    }\n",
       "\n",
       "    .dataframe tbody tr th {\n",
       "        vertical-align: top;\n",
       "    }\n",
       "\n",
       "    .dataframe thead th {\n",
       "        text-align: right;\n",
       "    }\n",
       "</style>\n",
       "<table border=\"1\" class=\"dataframe\">\n",
       "  <thead>\n",
       "    <tr style=\"text-align: right;\">\n",
       "      <th></th>\n",
       "      <th>census year</th>\n",
       "      <th>id</th>\n",
       "      <th>Geographic Area Name</th>\n",
       "      <th>variable</th>\n",
       "      <th>value</th>\n",
       "      <th>measure</th>\n",
       "      <th>demographic</th>\n",
       "    </tr>\n",
       "  </thead>\n",
       "  <tbody>\n",
       "    <tr>\n",
       "      <th>0</th>\n",
       "      <td>2010</td>\n",
       "      <td>1400000US06037101110</td>\n",
       "      <td>Census Tract 1011.10, Los Angeles County, Cali...</td>\n",
       "      <td>Estimate!!Not Hispanic or Latino</td>\n",
       "      <td>3932</td>\n",
       "      <td>Estimate</td>\n",
       "      <td>Not Hispanic or Latino</td>\n",
       "    </tr>\n",
       "    <tr>\n",
       "      <th>1</th>\n",
       "      <td>2010</td>\n",
       "      <td>1400000US06037101122</td>\n",
       "      <td>Census Tract 1011.22, Los Angeles County, Cali...</td>\n",
       "      <td>Estimate!!Not Hispanic or Latino</td>\n",
       "      <td>3212</td>\n",
       "      <td>Estimate</td>\n",
       "      <td>Not Hispanic or Latino</td>\n",
       "    </tr>\n",
       "    <tr>\n",
       "      <th>2</th>\n",
       "      <td>2010</td>\n",
       "      <td>1400000US06037101210</td>\n",
       "      <td>Census Tract 1012.10, Los Angeles County, Cali...</td>\n",
       "      <td>Estimate!!Not Hispanic or Latino</td>\n",
       "      <td>4009</td>\n",
       "      <td>Estimate</td>\n",
       "      <td>Not Hispanic or Latino</td>\n",
       "    </tr>\n",
       "    <tr>\n",
       "      <th>3</th>\n",
       "      <td>2010</td>\n",
       "      <td>1400000US06037101220</td>\n",
       "      <td>Census Tract 1012.20, Los Angeles County, Cali...</td>\n",
       "      <td>Estimate!!Not Hispanic or Latino</td>\n",
       "      <td>2041</td>\n",
       "      <td>Estimate</td>\n",
       "      <td>Not Hispanic or Latino</td>\n",
       "    </tr>\n",
       "    <tr>\n",
       "      <th>4</th>\n",
       "      <td>2010</td>\n",
       "      <td>1400000US06037101300</td>\n",
       "      <td>Census Tract 1013, Los Angeles County, California</td>\n",
       "      <td>Estimate!!Not Hispanic or Latino</td>\n",
       "      <td>3385</td>\n",
       "      <td>Estimate</td>\n",
       "      <td>Not Hispanic or Latino</td>\n",
       "    </tr>\n",
       "  </tbody>\n",
       "</table>\n",
       "</div>"
      ],
      "text/plain": [
       "  census year                    id  \\\n",
       "0        2010  1400000US06037101110   \n",
       "1        2010  1400000US06037101122   \n",
       "2        2010  1400000US06037101210   \n",
       "3        2010  1400000US06037101220   \n",
       "4        2010  1400000US06037101300   \n",
       "\n",
       "                                Geographic Area Name  \\\n",
       "0  Census Tract 1011.10, Los Angeles County, Cali...   \n",
       "1  Census Tract 1011.22, Los Angeles County, Cali...   \n",
       "2  Census Tract 1012.10, Los Angeles County, Cali...   \n",
       "3  Census Tract 1012.20, Los Angeles County, Cali...   \n",
       "4  Census Tract 1013, Los Angeles County, California   \n",
       "\n",
       "                           variable  value   measure             demographic  \n",
       "0  Estimate!!Not Hispanic or Latino   3932  Estimate  Not Hispanic or Latino  \n",
       "1  Estimate!!Not Hispanic or Latino   3212  Estimate  Not Hispanic or Latino  \n",
       "2  Estimate!!Not Hispanic or Latino   4009  Estimate  Not Hispanic or Latino  \n",
       "3  Estimate!!Not Hispanic or Latino   2041  Estimate  Not Hispanic or Latino  \n",
       "4  Estimate!!Not Hispanic or Latino   3385  Estimate  Not Hispanic or Latino  "
      ]
     },
     "execution_count": 12,
     "metadata": {},
     "output_type": "execute_result"
    }
   ],
   "source": [
    "reshaped_df.head()"
   ]
  },
  {
   "cell_type": "markdown",
   "id": "f2c5eb82-32d9-4f9a-82fb-80271367a3ef",
   "metadata": {},
   "source": [
    "## Tract/CoC Crosswalk\n",
    "\n",
    "[source](https://github.com/tomhbyrne/HUD-CoC-Geography-Crosswalk)"
   ]
  },
  {
   "cell_type": "code",
   "execution_count": 13,
   "id": "2586df57-15a0-4913-bce3-9167049a4233",
   "metadata": {},
   "outputs": [],
   "source": [
    "tract_crosswalk_df = pd.read_csv(\n",
    "    '../01_inputs/USCB/tract_coc_match.csv',\n",
    "    encoding='ISO-8859-1',\n",
    "    dtype={'tract_fips': str},\n",
    ")"
   ]
  },
  {
   "cell_type": "code",
   "execution_count": 14,
   "id": "da572486-bb72-45cc-bb4b-845b0cc24d31",
   "metadata": {},
   "outputs": [],
   "source": [
    "la_tracts = tract_crosswalk_df[tract_crosswalk_df['coc_number']\n",
    "                               == 'CA-600'].copy()"
   ]
  },
  {
   "cell_type": "code",
   "execution_count": 15,
   "id": "1cb934d8-e45c-4144-9e29-bd3960755cce",
   "metadata": {},
   "outputs": [],
   "source": [
    "la_tracts['tract_fips'] = '1400000US' + la_tracts['tract_fips']"
   ]
  },
  {
   "cell_type": "code",
   "execution_count": 16,
   "id": "272d2f4a-aec3-4dae-afe2-5b575e7a2dca",
   "metadata": {},
   "outputs": [],
   "source": [
    "coc_tracts = set(la_tracts['tract_fips'])"
   ]
  },
  {
   "cell_type": "code",
   "execution_count": 17,
   "id": "264d4563-cc10-4ff5-9fd3-84c30158c12c",
   "metadata": {},
   "outputs": [],
   "source": [
    "coc_df = reshaped_df[(reshaped_df['id'].isin(coc_tracts)) & (\n",
    "    reshaped_df['demographic'] != 'Total population')].copy()"
   ]
  },
  {
   "cell_type": "code",
   "execution_count": 18,
   "id": "4465e36a-a96a-4f17-b194-ddfb60e5cb8e",
   "metadata": {},
   "outputs": [],
   "source": [
    "coc_total_df = reshaped_df[(reshaped_df['id'].isin(coc_tracts)) & (\n",
    "    reshaped_df['variable'] == 'Estimate!!Total population')].copy()"
   ]
  },
  {
   "cell_type": "markdown",
   "id": "ed3b9f7e-0d98-4b54-afdb-acd30eadc09c",
   "metadata": {},
   "source": [
    "Totals to be used in percent calculation [below](#Combine-LA-CoC-and-county-data)"
   ]
  },
  {
   "cell_type": "code",
   "execution_count": 19,
   "id": "c115be7c-c4a1-40db-9ee3-08cc93f74238",
   "metadata": {},
   "outputs": [],
   "source": [
    "coc_totals = coc_total_df.groupby(['census year']).agg(\n",
    "    total_population=('value', sum)).reset_index()"
   ]
  },
  {
   "cell_type": "markdown",
   "id": "adc1f7f0-7c88-42c8-90a2-26f32588dfe5",
   "metadata": {},
   "source": [
    "## Aggregate estimates"
   ]
  },
  {
   "cell_type": "code",
   "execution_count": 20,
   "id": "7512ae32-0e12-49d9-b6e3-11d34067b370",
   "metadata": {},
   "outputs": [],
   "source": [
    "coc_est_df = coc_df[coc_df['measure'] == 'Estimate'].copy()"
   ]
  },
  {
   "cell_type": "code",
   "execution_count": 21,
   "id": "d45e749f-d15b-4275-a37a-220c95262c0f",
   "metadata": {},
   "outputs": [
    {
     "data": {
      "text/html": [
       "<div>\n",
       "<style scoped>\n",
       "    .dataframe tbody tr th:only-of-type {\n",
       "        vertical-align: middle;\n",
       "    }\n",
       "\n",
       "    .dataframe tbody tr th {\n",
       "        vertical-align: top;\n",
       "    }\n",
       "\n",
       "    .dataframe thead th {\n",
       "        text-align: right;\n",
       "    }\n",
       "</style>\n",
       "<table border=\"1\" class=\"dataframe\">\n",
       "  <thead>\n",
       "    <tr style=\"text-align: right;\">\n",
       "      <th></th>\n",
       "      <th>census year</th>\n",
       "      <th>id</th>\n",
       "      <th>Geographic Area Name</th>\n",
       "      <th>variable</th>\n",
       "      <th>value</th>\n",
       "      <th>measure</th>\n",
       "      <th>demographic</th>\n",
       "    </tr>\n",
       "  </thead>\n",
       "  <tbody>\n",
       "    <tr>\n",
       "      <th>100660</th>\n",
       "      <td>2010</td>\n",
       "      <td>1400000US06037101110</td>\n",
       "      <td>Census Tract 1011.10, Los Angeles County, Cali...</td>\n",
       "      <td>Estimate!!Native Hawaiian and Other Pacific Is...</td>\n",
       "      <td>0</td>\n",
       "      <td>Estimate</td>\n",
       "      <td>Native Hawaiian and Other Pacific Islander</td>\n",
       "    </tr>\n",
       "    <tr>\n",
       "      <th>100661</th>\n",
       "      <td>2010</td>\n",
       "      <td>1400000US06037101122</td>\n",
       "      <td>Census Tract 1011.22, Los Angeles County, Cali...</td>\n",
       "      <td>Estimate!!Native Hawaiian and Other Pacific Is...</td>\n",
       "      <td>0</td>\n",
       "      <td>Estimate</td>\n",
       "      <td>Native Hawaiian and Other Pacific Islander</td>\n",
       "    </tr>\n",
       "    <tr>\n",
       "      <th>100662</th>\n",
       "      <td>2010</td>\n",
       "      <td>1400000US06037101210</td>\n",
       "      <td>Census Tract 1012.10, Los Angeles County, Cali...</td>\n",
       "      <td>Estimate!!Native Hawaiian and Other Pacific Is...</td>\n",
       "      <td>0</td>\n",
       "      <td>Estimate</td>\n",
       "      <td>Native Hawaiian and Other Pacific Islander</td>\n",
       "    </tr>\n",
       "    <tr>\n",
       "      <th>100663</th>\n",
       "      <td>2010</td>\n",
       "      <td>1400000US06037101220</td>\n",
       "      <td>Census Tract 1012.20, Los Angeles County, Cali...</td>\n",
       "      <td>Estimate!!Native Hawaiian and Other Pacific Is...</td>\n",
       "      <td>8</td>\n",
       "      <td>Estimate</td>\n",
       "      <td>Native Hawaiian and Other Pacific Islander</td>\n",
       "    </tr>\n",
       "    <tr>\n",
       "      <th>100664</th>\n",
       "      <td>2010</td>\n",
       "      <td>1400000US06037101300</td>\n",
       "      <td>Census Tract 1013, Los Angeles County, California</td>\n",
       "      <td>Estimate!!Native Hawaiian and Other Pacific Is...</td>\n",
       "      <td>0</td>\n",
       "      <td>Estimate</td>\n",
       "      <td>Native Hawaiian and Other Pacific Islander</td>\n",
       "    </tr>\n",
       "    <tr>\n",
       "      <th>...</th>\n",
       "      <td>...</td>\n",
       "      <td>...</td>\n",
       "      <td>...</td>\n",
       "      <td>...</td>\n",
       "      <td>...</td>\n",
       "      <td>...</td>\n",
       "      <td>...</td>\n",
       "    </tr>\n",
       "    <tr>\n",
       "      <th>107835</th>\n",
       "      <td>2020</td>\n",
       "      <td>1400000US06037980025</td>\n",
       "      <td>Census Tract 9800.25, Los Angeles County, Cali...</td>\n",
       "      <td>Estimate!!Native Hawaiian and Other Pacific Is...</td>\n",
       "      <td>15</td>\n",
       "      <td>Estimate</td>\n",
       "      <td>Native Hawaiian and Other Pacific Islander</td>\n",
       "    </tr>\n",
       "    <tr>\n",
       "      <th>107836</th>\n",
       "      <td>2020</td>\n",
       "      <td>1400000US06037980026</td>\n",
       "      <td>Census Tract 9800.26, Los Angeles County, Cali...</td>\n",
       "      <td>Estimate!!Native Hawaiian and Other Pacific Is...</td>\n",
       "      <td>0</td>\n",
       "      <td>Estimate</td>\n",
       "      <td>Native Hawaiian and Other Pacific Islander</td>\n",
       "    </tr>\n",
       "    <tr>\n",
       "      <th>107837</th>\n",
       "      <td>2020</td>\n",
       "      <td>1400000US06037980028</td>\n",
       "      <td>Census Tract 9800.28, Los Angeles County, Cali...</td>\n",
       "      <td>Estimate!!Native Hawaiian and Other Pacific Is...</td>\n",
       "      <td>0</td>\n",
       "      <td>Estimate</td>\n",
       "      <td>Native Hawaiian and Other Pacific Islander</td>\n",
       "    </tr>\n",
       "    <tr>\n",
       "      <th>107838</th>\n",
       "      <td>2020</td>\n",
       "      <td>1400000US06037980030</td>\n",
       "      <td>Census Tract 9800.30, Los Angeles County, Cali...</td>\n",
       "      <td>Estimate!!Native Hawaiian and Other Pacific Is...</td>\n",
       "      <td>0</td>\n",
       "      <td>Estimate</td>\n",
       "      <td>Native Hawaiian and Other Pacific Islander</td>\n",
       "    </tr>\n",
       "    <tr>\n",
       "      <th>107839</th>\n",
       "      <td>2020</td>\n",
       "      <td>1400000US06037980031</td>\n",
       "      <td>Census Tract 9800.31, Los Angeles County, Cali...</td>\n",
       "      <td>Estimate!!Native Hawaiian and Other Pacific Is...</td>\n",
       "      <td>27</td>\n",
       "      <td>Estimate</td>\n",
       "      <td>Native Hawaiian and Other Pacific Islander</td>\n",
       "    </tr>\n",
       "  </tbody>\n",
       "</table>\n",
       "<p>6166 rows × 7 columns</p>\n",
       "</div>"
      ],
      "text/plain": [
       "       census year                    id  \\\n",
       "100660        2010  1400000US06037101110   \n",
       "100661        2010  1400000US06037101122   \n",
       "100662        2010  1400000US06037101210   \n",
       "100663        2010  1400000US06037101220   \n",
       "100664        2010  1400000US06037101300   \n",
       "...            ...                   ...   \n",
       "107835        2020  1400000US06037980025   \n",
       "107836        2020  1400000US06037980026   \n",
       "107837        2020  1400000US06037980028   \n",
       "107838        2020  1400000US06037980030   \n",
       "107839        2020  1400000US06037980031   \n",
       "\n",
       "                                     Geographic Area Name  \\\n",
       "100660  Census Tract 1011.10, Los Angeles County, Cali...   \n",
       "100661  Census Tract 1011.22, Los Angeles County, Cali...   \n",
       "100662  Census Tract 1012.10, Los Angeles County, Cali...   \n",
       "100663  Census Tract 1012.20, Los Angeles County, Cali...   \n",
       "100664  Census Tract 1013, Los Angeles County, California   \n",
       "...                                                   ...   \n",
       "107835  Census Tract 9800.25, Los Angeles County, Cali...   \n",
       "107836  Census Tract 9800.26, Los Angeles County, Cali...   \n",
       "107837  Census Tract 9800.28, Los Angeles County, Cali...   \n",
       "107838  Census Tract 9800.30, Los Angeles County, Cali...   \n",
       "107839  Census Tract 9800.31, Los Angeles County, Cali...   \n",
       "\n",
       "                                                 variable  value   measure  \\\n",
       "100660  Estimate!!Native Hawaiian and Other Pacific Is...      0  Estimate   \n",
       "100661  Estimate!!Native Hawaiian and Other Pacific Is...      0  Estimate   \n",
       "100662  Estimate!!Native Hawaiian and Other Pacific Is...      0  Estimate   \n",
       "100663  Estimate!!Native Hawaiian and Other Pacific Is...      8  Estimate   \n",
       "100664  Estimate!!Native Hawaiian and Other Pacific Is...      0  Estimate   \n",
       "...                                                   ...    ...       ...   \n",
       "107835  Estimate!!Native Hawaiian and Other Pacific Is...     15  Estimate   \n",
       "107836  Estimate!!Native Hawaiian and Other Pacific Is...      0  Estimate   \n",
       "107837  Estimate!!Native Hawaiian and Other Pacific Is...      0  Estimate   \n",
       "107838  Estimate!!Native Hawaiian and Other Pacific Is...      0  Estimate   \n",
       "107839  Estimate!!Native Hawaiian and Other Pacific Is...     27  Estimate   \n",
       "\n",
       "                                       demographic  \n",
       "100660  Native Hawaiian and Other Pacific Islander  \n",
       "100661  Native Hawaiian and Other Pacific Islander  \n",
       "100662  Native Hawaiian and Other Pacific Islander  \n",
       "100663  Native Hawaiian and Other Pacific Islander  \n",
       "100664  Native Hawaiian and Other Pacific Islander  \n",
       "...                                            ...  \n",
       "107835  Native Hawaiian and Other Pacific Islander  \n",
       "107836  Native Hawaiian and Other Pacific Islander  \n",
       "107837  Native Hawaiian and Other Pacific Islander  \n",
       "107838  Native Hawaiian and Other Pacific Islander  \n",
       "107839  Native Hawaiian and Other Pacific Islander  \n",
       "\n",
       "[6166 rows x 7 columns]"
      ]
     },
     "execution_count": 21,
     "metadata": {},
     "output_type": "execute_result"
    }
   ],
   "source": [
    "coc_est_df[coc_est_df['demographic'] ==\n",
    "           'Native Hawaiian and Other Pacific Islander']"
   ]
  },
  {
   "cell_type": "code",
   "execution_count": 22,
   "id": "12bbe7eb-5b79-4614-93ef-b6b261f064a2",
   "metadata": {},
   "outputs": [],
   "source": [
    "agg_est_df = coc_est_df.groupby(['census year', 'demographic']).agg(\n",
    "    Estimate=('value', sum)).reset_index()"
   ]
  },
  {
   "cell_type": "code",
   "execution_count": 23,
   "id": "5c3a9188-0912-441e-b2a1-1781fb222525",
   "metadata": {},
   "outputs": [
    {
     "data": {
      "text/html": [
       "<div>\n",
       "<style scoped>\n",
       "    .dataframe tbody tr th:only-of-type {\n",
       "        vertical-align: middle;\n",
       "    }\n",
       "\n",
       "    .dataframe tbody tr th {\n",
       "        vertical-align: top;\n",
       "    }\n",
       "\n",
       "    .dataframe thead th {\n",
       "        text-align: right;\n",
       "    }\n",
       "</style>\n",
       "<table border=\"1\" class=\"dataframe\">\n",
       "  <thead>\n",
       "    <tr style=\"text-align: right;\">\n",
       "      <th></th>\n",
       "      <th>census year</th>\n",
       "      <th>demographic</th>\n",
       "      <th>Estimate</th>\n",
       "    </tr>\n",
       "  </thead>\n",
       "  <tbody>\n",
       "    <tr>\n",
       "      <th>0</th>\n",
       "      <td>2010</td>\n",
       "      <td>American Indian and Alaska Native</td>\n",
       "      <td>102527</td>\n",
       "    </tr>\n",
       "    <tr>\n",
       "      <th>1</th>\n",
       "      <td>2010</td>\n",
       "      <td>Asian</td>\n",
       "      <td>1326930</td>\n",
       "    </tr>\n",
       "    <tr>\n",
       "      <th>2</th>\n",
       "      <td>2010</td>\n",
       "      <td>Black or African American</td>\n",
       "      <td>844211</td>\n",
       "    </tr>\n",
       "    <tr>\n",
       "      <th>3</th>\n",
       "      <td>2010</td>\n",
       "      <td>Hispanic or Latino (of any race)</td>\n",
       "      <td>4331506</td>\n",
       "    </tr>\n",
       "    <tr>\n",
       "      <th>4</th>\n",
       "      <td>2010</td>\n",
       "      <td>Native Hawaiian and Other Pacific Islander</td>\n",
       "      <td>36805</td>\n",
       "    </tr>\n",
       "  </tbody>\n",
       "</table>\n",
       "</div>"
      ],
      "text/plain": [
       "  census year                                 demographic  Estimate\n",
       "0        2010           American Indian and Alaska Native    102527\n",
       "1        2010                                       Asian   1326930\n",
       "2        2010                   Black or African American    844211\n",
       "3        2010            Hispanic or Latino (of any race)   4331506\n",
       "4        2010  Native Hawaiian and Other Pacific Islander     36805"
      ]
     },
     "execution_count": 23,
     "metadata": {},
     "output_type": "execute_result"
    }
   ],
   "source": [
    "agg_est_df.head()"
   ]
  },
  {
   "cell_type": "markdown",
   "id": "ab965b9d-f522-4f40-a27a-20af00b5d2c8",
   "metadata": {
    "tags": []
   },
   "source": [
    "## Calculate error for aggregation\n",
    "\n",
    "Because I'm deriving my own estimates (summing census tracts within CA-600), I want to confirm that the demographic data I'm using is still reliable by calculating coefficients of variance for these estimates as well. For this I consulted [\"Calculating Measures Of Error For Derived Estimates\"](https://web.archive.org/web/20220119121038/https://www.census.gov/content/dam/Census/library/publications/2020/acs/acs_general_handbook_2020_ch08.pdf) (specifically page 60) of the American Community Survey handbook."
   ]
  },
  {
   "cell_type": "code",
   "execution_count": 24,
   "id": "c928825a-8dd4-4ebf-8d1e-ee545cdda1f4",
   "metadata": {},
   "outputs": [],
   "source": [
    "coc_moe_df = coc_df[coc_df['measure'] == 'Margin of Error'].copy()"
   ]
  },
  {
   "cell_type": "code",
   "execution_count": 25,
   "id": "94bdf821-aa74-4907-b51e-d71f43f528c1",
   "metadata": {},
   "outputs": [],
   "source": [
    "coc_moe_df.rename(columns={'value': 'MOE'}, inplace=True)"
   ]
  },
  {
   "cell_type": "markdown",
   "id": "697896ab-ca10-4228-89c8-4338e424d152",
   "metadata": {},
   "source": [
    "The American Community Survey reports 90% confidence level margins of error (p.3, [Worked Examples for Approximating Standard Errors\n",
    "Using American Community Survey Data](https://web.archive.org/web/20220120042207/https://www2.census.gov/programs-surveys/acs/tech_docs/accuracy/2020_ACS_Accuracy_Document_Worked_Examples.pdf)).\n",
    "\n",
    "For each component estimate:\n",
    "\n",
    "$$\\mathrm{SE = \\frac{MOE}{1.645}}$$"
   ]
  },
  {
   "cell_type": "code",
   "execution_count": 26,
   "id": "f67a189a-d8c4-48bb-8997-66fac2108a57",
   "metadata": {},
   "outputs": [],
   "source": [
    "coc_moe_df['SE'] = coc_moe_df['MOE']/1.645"
   ]
  },
  {
   "cell_type": "markdown",
   "id": "da8ab72d-d803-400d-a19d-1107c8a3ce0c",
   "metadata": {
    "tags": []
   },
   "source": [
    "### Example\n",
    "\n",
    "#### Estimate\n",
    "\n",
    "For the aggregate estimate $\\mathrm{{\\color{blue} \\hat{X}}}$:\n",
    "\n",
    "$~~~~\\mathrm{{\\color{blue} \\hat{X}} = \\hat{X}_{1} + \\hat{X}_{2} + \\cdots + \\hat{X}_{n}}$"
   ]
  },
  {
   "cell_type": "markdown",
   "id": "55c26f4f-74b0-448a-a22a-730518bd7046",
   "metadata": {},
   "source": [
    "For `Hispanic or Latino (of any race)` in `2010`:\n"
   ]
  },
  {
   "cell_type": "code",
   "execution_count": 27,
   "id": "5e88f0ff-21e0-47e8-9f8d-72396764d70e",
   "metadata": {},
   "outputs": [
    {
     "data": {
      "text/html": [
       "<div>\n",
       "<style scoped>\n",
       "    .dataframe tbody tr th:only-of-type {\n",
       "        vertical-align: middle;\n",
       "    }\n",
       "\n",
       "    .dataframe tbody tr th {\n",
       "        vertical-align: top;\n",
       "    }\n",
       "\n",
       "    .dataframe thead th {\n",
       "        text-align: right;\n",
       "    }\n",
       "</style>\n",
       "<table border=\"1\" class=\"dataframe\">\n",
       "  <thead>\n",
       "    <tr style=\"text-align: right;\">\n",
       "      <th></th>\n",
       "      <th>census year</th>\n",
       "      <th>demographic</th>\n",
       "      <th>Estimate</th>\n",
       "    </tr>\n",
       "  </thead>\n",
       "  <tbody>\n",
       "    <tr>\n",
       "      <th>3</th>\n",
       "      <td>2010</td>\n",
       "      <td>Hispanic or Latino (of any race)</td>\n",
       "      <td>4331506</td>\n",
       "    </tr>\n",
       "  </tbody>\n",
       "</table>\n",
       "</div>"
      ],
      "text/plain": [
       "  census year                       demographic  Estimate\n",
       "3        2010  Hispanic or Latino (of any race)   4331506"
      ]
     },
     "execution_count": 27,
     "metadata": {},
     "output_type": "execute_result"
    }
   ],
   "source": [
    "agg_est_df.iloc[3:4]"
   ]
  },
  {
   "cell_type": "markdown",
   "id": "d304f0db-7721-48c3-a16c-74f6c7d76da6",
   "metadata": {},
   "source": [
    "$\\mathrm{{\\color{blue} \\hat{X}} = 4331506}$"
   ]
  },
  {
   "cell_type": "markdown",
   "id": "e712ba9e-c67d-4c3a-82de-3c9a04d40527",
   "metadata": {},
   "source": [
    "#### Error\n",
    "\n",
    "So, for the standard error $\\mathrm{{\\color{red} SE}}$ of the aggregate estimate:\n",
    "    \n",
    "$~~~~\\mathrm{{\\color{red} SE}({\\color{blue}4331506}) = \\sqrt{[{\\color{red} SE}(\\hat{X}_{1})]^{2} + [{\\color{red} SE}(\\hat{X}_{2})]^{2} + \\cdots + [{\\color{red} SE}(\\hat{X}_{n})]^{2}}}$"
   ]
  },
  {
   "cell_type": "markdown",
   "id": "49e40f9f-a61c-4af5-be13-9798347151de",
   "metadata": {},
   "source": [
    "For `Hispanic or Latino (of any race)` in `2010`:\n",
    "\n",
    "\n",
    "| census year | demographic                      | Census Tract | SE  |\n",
    "|-------------|----------------------------------|--------------|-----|\n",
    "| 2010        | Hispanic or Latino (of any race) | 1            | 237 |\n",
    "| 2010        | Hispanic or Latino (of any race) | 2            | 102 |\n",
    "| ...         | ...                              | ...          | ... |\n",
    "| 2010        | Hispanic or Latino (of any race) | 2158         | 310 |"
   ]
  },
  {
   "cell_type": "markdown",
   "id": "ec49a9c0-6c4e-4f64-8779-67521924454c",
   "metadata": {},
   "source": [
    "$~~~~\\mathrm{{\\color{red} SE}({\\color{blue}4331506}) = \\sqrt{(237)^{2} + (102)^{2} + \\cdots + (310)^{2}}}$"
   ]
  },
  {
   "cell_type": "code",
   "execution_count": 28,
   "id": "595eaf7f-f399-499e-b045-a7714538d224",
   "metadata": {
    "tags": []
   },
   "outputs": [],
   "source": [
    "def aggregate_error(values):\n",
    "    squared_values = [x**2 for x in values]\n",
    "    summed_sq = sum(squared_values)\n",
    "    return math.sqrt(summed_sq)"
   ]
  },
  {
   "cell_type": "code",
   "execution_count": 29,
   "id": "2e6db0d4-42b2-4696-925d-e78937414fe6",
   "metadata": {},
   "outputs": [],
   "source": [
    "agg_error_df = (\n",
    "    coc_moe_df.groupby(['census year', 'demographic'])\n",
    "    .agg({'SE': aggregate_error}\n",
    "         )\n",
    "    .reset_index()\n",
    ")"
   ]
  },
  {
   "cell_type": "code",
   "execution_count": 30,
   "id": "636d1d11-e515-45e6-8d88-239d5004ec68",
   "metadata": {},
   "outputs": [
    {
     "data": {
      "text/html": [
       "<div>\n",
       "<style scoped>\n",
       "    .dataframe tbody tr th:only-of-type {\n",
       "        vertical-align: middle;\n",
       "    }\n",
       "\n",
       "    .dataframe tbody tr th {\n",
       "        vertical-align: top;\n",
       "    }\n",
       "\n",
       "    .dataframe thead th {\n",
       "        text-align: right;\n",
       "    }\n",
       "</style>\n",
       "<table border=\"1\" class=\"dataframe\">\n",
       "  <thead>\n",
       "    <tr style=\"text-align: right;\">\n",
       "      <th></th>\n",
       "      <th>census year</th>\n",
       "      <th>demographic</th>\n",
       "      <th>SE</th>\n",
       "    </tr>\n",
       "  </thead>\n",
       "  <tbody>\n",
       "    <tr>\n",
       "      <th>3</th>\n",
       "      <td>2010</td>\n",
       "      <td>Hispanic or Latino (of any race)</td>\n",
       "      <td>11629.458223</td>\n",
       "    </tr>\n",
       "  </tbody>\n",
       "</table>\n",
       "</div>"
      ],
      "text/plain": [
       "  census year                       demographic            SE\n",
       "3        2010  Hispanic or Latino (of any race)  11629.458223"
      ]
     },
     "execution_count": 30,
     "metadata": {},
     "output_type": "execute_result"
    }
   ],
   "source": [
    "agg_error_df.iloc[3:4]"
   ]
  },
  {
   "cell_type": "markdown",
   "id": "aa1355a6-552c-4a45-9395-acbda8503031",
   "metadata": {},
   "source": [
    "$~~~~\\mathrm{{\\color{red} SE} = 11629}$"
   ]
  },
  {
   "cell_type": "markdown",
   "id": "3f6e1f23-02f9-46ee-9e58-7b5dff31f3af",
   "metadata": {},
   "source": [
    "#### Reliability\n",
    "\n",
    "$\\mathrm{CV = \\frac{\\color{red} SE}{\\color{blue} Estimate}}$"
   ]
  },
  {
   "cell_type": "code",
   "execution_count": 31,
   "id": "a1c27e31-63e8-4f6d-b38f-bfec1ac2a726",
   "metadata": {},
   "outputs": [],
   "source": [
    "agg_df = pd.merge(agg_error_df, agg_est_df)"
   ]
  },
  {
   "cell_type": "code",
   "execution_count": 32,
   "id": "585b5210-9b51-4d99-bb5c-9c0c2439d74a",
   "metadata": {},
   "outputs": [],
   "source": [
    "agg_df['CV'] = agg_df['SE']/agg_df['Estimate']"
   ]
  },
  {
   "cell_type": "code",
   "execution_count": 33,
   "id": "d6060076-1607-4349-801a-cebffc3e2987",
   "metadata": {},
   "outputs": [
    {
     "data": {
      "text/html": [
       "<div>\n",
       "<style scoped>\n",
       "    .dataframe tbody tr th:only-of-type {\n",
       "        vertical-align: middle;\n",
       "    }\n",
       "\n",
       "    .dataframe tbody tr th {\n",
       "        vertical-align: top;\n",
       "    }\n",
       "\n",
       "    .dataframe thead th {\n",
       "        text-align: right;\n",
       "    }\n",
       "</style>\n",
       "<table border=\"1\" class=\"dataframe\">\n",
       "  <thead>\n",
       "    <tr style=\"text-align: right;\">\n",
       "      <th></th>\n",
       "      <th>census year</th>\n",
       "      <th>demographic</th>\n",
       "      <th>SE</th>\n",
       "      <th>Estimate</th>\n",
       "      <th>CV</th>\n",
       "    </tr>\n",
       "  </thead>\n",
       "  <tbody>\n",
       "    <tr>\n",
       "      <th>3</th>\n",
       "      <td>2010</td>\n",
       "      <td>Hispanic or Latino (of any race)</td>\n",
       "      <td>11629.458223</td>\n",
       "      <td>4331506</td>\n",
       "      <td>0.002685</td>\n",
       "    </tr>\n",
       "  </tbody>\n",
       "</table>\n",
       "</div>"
      ],
      "text/plain": [
       "  census year                       demographic            SE  Estimate  \\\n",
       "3        2010  Hispanic or Latino (of any race)  11629.458223   4331506   \n",
       "\n",
       "         CV  \n",
       "3  0.002685  "
      ]
     },
     "execution_count": 33,
     "metadata": {},
     "output_type": "execute_result"
    }
   ],
   "source": [
    "agg_df.iloc[3:4]"
   ]
  },
  {
   "cell_type": "markdown",
   "id": "0ed49c8a-019b-48ae-8082-24fa6eba7ecc",
   "metadata": {},
   "source": [
    "In this case, the coefficient of variation suggests the estimate is reliable, because the <span style=\"color:red\">error</span> is quite small compared to the <span style=\"color:blue\">estimate</span>:\n",
    "\n",
    "$\\mathrm{CV = \\frac{\\color{red} \\sim11629}{\\color{blue} 4331506}} = 0.27\\%$\n",
    "\n",
    "Stepping back, it should be no surprise that estimates of the `Hispanic or Latino (of any race)` population in census tracts amounting to >90% of the population of Los Angeles County would be reliable."
   ]
  },
  {
   "cell_type": "markdown",
   "id": "247a4b5d-e6d3-4ffb-bc30-a18804396f42",
   "metadata": {},
   "source": [
    "##### Least reliable\n",
    "\n",
    "We should check the values for which the coefficient of variation is highest:"
   ]
  },
  {
   "cell_type": "code",
   "execution_count": 34,
   "id": "c202dab7-b25e-4533-a937-a7a488074dca",
   "metadata": {},
   "outputs": [
    {
     "data": {
      "text/plain": [
       "census year                                          2010\n",
       "demographic    Native Hawaiian and Other Pacific Islander\n",
       "SE                                            3448.653007\n",
       "Estimate                                            36805\n",
       "CV                                               0.093701\n",
       "Name: 4, dtype: object"
      ]
     },
     "execution_count": 34,
     "metadata": {},
     "output_type": "execute_result"
    }
   ],
   "source": [
    "agg_df.iloc[agg_df['CV'].idxmax()]"
   ]
  },
  {
   "cell_type": "markdown",
   "id": "1c682bf0-0e7f-4484-b107-deae0aa7efb8",
   "metadata": {},
   "source": [
    "Here, the CV is ~9%. The `Native Hawaiian and Other Pacific Islander` population estimated to have lived in the census tracts within the Los Angeles County Continuum of Care in 2010 is much smaller than the `Hispanic or Latino (of any race)` population.\n",
    "\n",
    "Per p.16 of [Understanding and Using American Community Survey Data: What Journalists Need to Know](https://web.archive.org/web/2/https://www.census.gov/content/dam/Census/library/publications/2020/acs/acs_journalist_handbook_2020.pdf):\n",
    "> [J]ournalists often wonder “How big an error margin is too big?” Statistics teachers say, “It depends.” They are right, but that is less than helpful. Consider a simpler measure [...] called the coefficient of variation (CV) [. ...] A CV of 10 percent does not seem too wobbly, but one of 50 percent probably is for most purposes.\n",
    "\n",
    "$$\\ast\\ast\\ast$$"
   ]
  },
  {
   "cell_type": "markdown",
   "id": "c047acdf-0e26-4005-ac51-89d6c5d05b5c",
   "metadata": {},
   "source": [
    "# All other counties"
   ]
  },
  {
   "cell_type": "code",
   "execution_count": 35,
   "id": "81c27a45-d701-4a4f-8bee-f5ee91a4cf13",
   "metadata": {},
   "outputs": [],
   "source": [
    "files = glob.glob('../01_inputs/USCB/DP05/*.csv')"
   ]
  },
  {
   "cell_type": "code",
   "execution_count": 36,
   "id": "ee17f106-60ca-42be-9f28-d18df2007c56",
   "metadata": {},
   "outputs": [],
   "source": [
    "def reshape(df):\n",
    "    reshaped_df = df.melt(id_vars=['census'])\n",
    "    reshaped_df['geography'] = reshaped_df['variable'].str.split(\n",
    "        '!!', n=1, expand=True)[0]\n",
    "    reshaped_df[['geography', 'state']] = reshaped_df['geography'].str.split(\n",
    "        ', ', 1, expand=True)\n",
    "    reshaped_df['measure'] = reshaped_df['variable'].str.split(\n",
    "        '!!', n=1, expand=True)[1]\n",
    "    reshaped_df.drop(labels=['variable'], axis=1, inplace=True)\n",
    "    index_cols = ['geography', 'state', 'census']\n",
    "    final_df = reshaped_df.pivot(\n",
    "        index=index_cols, columns='measure', values='value').reset_index()\n",
    "    final_df.rename_axis(None, axis=1, inplace=True)\n",
    "    return final_df"
   ]
  },
  {
   "cell_type": "code",
   "execution_count": 37,
   "id": "0aeffb1f-31fa-46e0-b424-9369112fb1e0",
   "metadata": {},
   "outputs": [],
   "source": [
    "def read_dp05(file):\n",
    "    year = os.path.basename(file)[7:11]\n",
    "    df = pd.read_csv(file)\n",
    "    df.rename(columns={'Label (Grouping)': 'census'}, inplace=True)\n",
    "    if year == '2020':\n",
    "        ethnicity_df = pd.concat([df.iloc[74:75], df.iloc[79:80]])\n",
    "        race_df = df.iloc[65:72]\n",
    "    else:\n",
    "        ethnicity_df = pd.concat([df.iloc[69:70], df.iloc[74:75]])\n",
    "        race_df = df.iloc[60:67]\n",
    "    reshaped_ethnicity_df = reshape(ethnicity_df)\n",
    "    reshaped_ethnicity_df['variable'] = 'ethnicity'\n",
    "    reshaped_race_df = reshape(race_df)\n",
    "    reshaped_race_df['variable'] = 'race'\n",
    "    merged_df = pd.concat([reshaped_race_df, reshaped_ethnicity_df])\n",
    "    merged_df['census'] = merged_df['census'].str.replace(\n",
    "        '\\xa0', '')\n",
    "    merged_df['census year'] = year\n",
    "    return merged_df"
   ]
  },
  {
   "cell_type": "code",
   "execution_count": 38,
   "id": "70009f7d-13de-4f9e-93d8-ae548e276f99",
   "metadata": {},
   "outputs": [],
   "source": [
    "dp05 = pd.concat([read_dp05(file) for file in files])"
   ]
  },
  {
   "cell_type": "code",
   "execution_count": 39,
   "id": "e1a274b6-6527-4450-9911-cd09b49d7835",
   "metadata": {},
   "outputs": [
    {
     "data": {
      "text/html": [
       "<div>\n",
       "<style scoped>\n",
       "    .dataframe tbody tr th:only-of-type {\n",
       "        vertical-align: middle;\n",
       "    }\n",
       "\n",
       "    .dataframe tbody tr th {\n",
       "        vertical-align: top;\n",
       "    }\n",
       "\n",
       "    .dataframe thead th {\n",
       "        text-align: right;\n",
       "    }\n",
       "</style>\n",
       "<table border=\"1\" class=\"dataframe\">\n",
       "  <thead>\n",
       "    <tr style=\"text-align: right;\">\n",
       "      <th></th>\n",
       "      <th>geography</th>\n",
       "      <th>state</th>\n",
       "      <th>census</th>\n",
       "      <th>Estimate</th>\n",
       "      <th>Percent</th>\n",
       "      <th>variable</th>\n",
       "      <th>census year</th>\n",
       "    </tr>\n",
       "  </thead>\n",
       "  <tbody>\n",
       "    <tr>\n",
       "      <th>0</th>\n",
       "      <td>Alameda County</td>\n",
       "      <td>California</td>\n",
       "      <td>Total population</td>\n",
       "      <td>1,661,584</td>\n",
       "      <td>1,661,584</td>\n",
       "      <td>race</td>\n",
       "      <td>2020</td>\n",
       "    </tr>\n",
       "    <tr>\n",
       "      <th>1</th>\n",
       "      <td>Alameda County</td>\n",
       "      <td>California</td>\n",
       "      <td>American Indian and Alaska Native</td>\n",
       "      <td>28,833</td>\n",
       "      <td>1.7%</td>\n",
       "      <td>race</td>\n",
       "      <td>2020</td>\n",
       "    </tr>\n",
       "    <tr>\n",
       "      <th>2</th>\n",
       "      <td>Alameda County</td>\n",
       "      <td>California</td>\n",
       "      <td>Asian</td>\n",
       "      <td>578,885</td>\n",
       "      <td>34.8%</td>\n",
       "      <td>race</td>\n",
       "      <td>2020</td>\n",
       "    </tr>\n",
       "    <tr>\n",
       "      <th>3</th>\n",
       "      <td>Alameda County</td>\n",
       "      <td>California</td>\n",
       "      <td>Black or African American</td>\n",
       "      <td>204,606</td>\n",
       "      <td>12.3%</td>\n",
       "      <td>race</td>\n",
       "      <td>2020</td>\n",
       "    </tr>\n",
       "    <tr>\n",
       "      <th>4</th>\n",
       "      <td>Alameda County</td>\n",
       "      <td>California</td>\n",
       "      <td>Native Hawaiian and Other Pacific Islander</td>\n",
       "      <td>25,897</td>\n",
       "      <td>1.6%</td>\n",
       "      <td>race</td>\n",
       "      <td>2020</td>\n",
       "    </tr>\n",
       "  </tbody>\n",
       "</table>\n",
       "</div>"
      ],
      "text/plain": [
       "        geography       state                                      census  \\\n",
       "0  Alameda County  California                            Total population   \n",
       "1  Alameda County  California           American Indian and Alaska Native   \n",
       "2  Alameda County  California                                       Asian   \n",
       "3  Alameda County  California                   Black or African American   \n",
       "4  Alameda County  California  Native Hawaiian and Other Pacific Islander   \n",
       "\n",
       "    Estimate    Percent variable census year  \n",
       "0  1,661,584  1,661,584     race        2020  \n",
       "1     28,833       1.7%     race        2020  \n",
       "2    578,885      34.8%     race        2020  \n",
       "3    204,606      12.3%     race        2020  \n",
       "4     25,897       1.6%     race        2020  "
      ]
     },
     "execution_count": 39,
     "metadata": {},
     "output_type": "execute_result"
    }
   ],
   "source": [
    "dp05.head()"
   ]
  },
  {
   "cell_type": "code",
   "execution_count": 40,
   "id": "578617e0-d389-420a-bdd6-cdd03cccce6d",
   "metadata": {},
   "outputs": [],
   "source": [
    "dp05[['Percent', 'Estimate']] = dp05[['Percent', 'Estimate']\n",
    "                                     ].applymap(lambda x: re.sub('\\,|\\%', '', x))"
   ]
  },
  {
   "cell_type": "code",
   "execution_count": 41,
   "id": "36adaf82-c2a4-46fd-b36c-f35a87595c74",
   "metadata": {},
   "outputs": [],
   "source": [
    "dp05.loc[dp05['census'] == 'Total population', 'Percent'] = 100"
   ]
  },
  {
   "cell_type": "code",
   "execution_count": 42,
   "id": "99597ade-8deb-41c5-8167-3ba0ef4799c7",
   "metadata": {},
   "outputs": [],
   "source": [
    "dp05['Estimate'] = pd.to_numeric(dp05['Estimate'])"
   ]
  },
  {
   "cell_type": "code",
   "execution_count": 43,
   "id": "a5eaad55-8d10-4dfc-870e-4a08c085ac88",
   "metadata": {},
   "outputs": [],
   "source": [
    "dp05['Percent'] = pd.to_numeric(dp05['Percent'])/100"
   ]
  },
  {
   "cell_type": "code",
   "execution_count": 44,
   "id": "350d896a-e0c7-4a5c-9cc8-ffdfdacc8fa9",
   "metadata": {},
   "outputs": [],
   "source": [
    "dp05.rename(columns={'census': 'demographic'}, inplace=True)"
   ]
  },
  {
   "cell_type": "code",
   "execution_count": 45,
   "id": "3bd8d41f-f991-4a2b-b359-5d1ad4fa8523",
   "metadata": {},
   "outputs": [],
   "source": [
    "dp05_total = dp05[dp05['demographic'] == 'Total population'].copy()"
   ]
  },
  {
   "cell_type": "code",
   "execution_count": 46,
   "id": "4757cbb3-8fe4-4a7a-94c9-99e80ef947fc",
   "metadata": {},
   "outputs": [
    {
     "data": {
      "text/plain": [
       "Index(['geography', 'state', 'demographic', 'Estimate', 'Percent', 'variable',\n",
       "       'census year'],\n",
       "      dtype='object')"
      ]
     },
     "execution_count": 46,
     "metadata": {},
     "output_type": "execute_result"
    }
   ],
   "source": [
    "dp05_total.columns"
   ]
  },
  {
   "cell_type": "code",
   "execution_count": 47,
   "id": "7b0c3144-d068-4a90-a085-a24748cf3844",
   "metadata": {},
   "outputs": [],
   "source": [
    "dp05_total.rename(columns={'Estimate': 'total_population'}, inplace=True)"
   ]
  },
  {
   "cell_type": "code",
   "execution_count": 48,
   "id": "50761579-1f9f-454e-a327-32ad5cf1e473",
   "metadata": {},
   "outputs": [],
   "source": [
    "dp05 = dp05[dp05['demographic'] != 'Total population'].copy()"
   ]
  },
  {
   "cell_type": "code",
   "execution_count": 49,
   "id": "795f3705-53d8-4e80-ba8f-ba98eacc670d",
   "metadata": {},
   "outputs": [],
   "source": [
    "dp05_df = pd.merge(dp05, dp05_total[['geography', 'state',  'total_population',\n",
    "                                     'variable', 'census year']])"
   ]
  },
  {
   "cell_type": "code",
   "execution_count": 50,
   "id": "cbfeb299-93c2-4659-904c-4ab28a07deb5",
   "metadata": {},
   "outputs": [
    {
     "data": {
      "text/plain": [
       "Index(['geography', 'state', 'demographic', 'Estimate', 'Percent', 'variable',\n",
       "       'census year', 'total_population'],\n",
       "      dtype='object')"
      ]
     },
     "execution_count": 50,
     "metadata": {},
     "output_type": "execute_result"
    }
   ],
   "source": [
    "dp05_df.columns"
   ]
  },
  {
   "cell_type": "markdown",
   "id": "6f401008-191e-4c1e-89e1-dbb7f1540a9b",
   "metadata": {},
   "source": [
    "## Combine LA CoC and county data"
   ]
  },
  {
   "cell_type": "markdown",
   "id": "695856b4-5c95-4f62-9585-930edfae713c",
   "metadata": {},
   "source": [
    "### Percent calculation for LA CoC"
   ]
  },
  {
   "cell_type": "code",
   "execution_count": 51,
   "id": "a9a96457-3338-44ad-bf16-15a287c70be3",
   "metadata": {},
   "outputs": [],
   "source": [
    "agg_df.loc[agg_df['demographic'].str.contains(\n",
    "    'Hispanic'), 'variable'] = 'ethnicity'"
   ]
  },
  {
   "cell_type": "code",
   "execution_count": 52,
   "id": "020ed4e3-f144-4c55-8f44-6fdfaa768df2",
   "metadata": {},
   "outputs": [],
   "source": [
    "agg_df['variable'].fillna('race', inplace=True)"
   ]
  },
  {
   "cell_type": "code",
   "execution_count": 53,
   "id": "fe50805e-a68f-4872-baaa-28c56e3800bd",
   "metadata": {},
   "outputs": [
    {
     "data": {
      "text/html": [
       "<div>\n",
       "<style scoped>\n",
       "    .dataframe tbody tr th:only-of-type {\n",
       "        vertical-align: middle;\n",
       "    }\n",
       "\n",
       "    .dataframe tbody tr th {\n",
       "        vertical-align: top;\n",
       "    }\n",
       "\n",
       "    .dataframe thead th {\n",
       "        text-align: right;\n",
       "    }\n",
       "</style>\n",
       "<table border=\"1\" class=\"dataframe\">\n",
       "  <thead>\n",
       "    <tr style=\"text-align: right;\">\n",
       "      <th></th>\n",
       "      <th>census year</th>\n",
       "      <th>total_population</th>\n",
       "    </tr>\n",
       "  </thead>\n",
       "  <tbody>\n",
       "    <tr>\n",
       "      <th>0</th>\n",
       "      <td>2010</td>\n",
       "      <td>8963473</td>\n",
       "    </tr>\n",
       "    <tr>\n",
       "      <th>1</th>\n",
       "      <td>2015</td>\n",
       "      <td>9228489</td>\n",
       "    </tr>\n",
       "    <tr>\n",
       "      <th>2</th>\n",
       "      <td>2020</td>\n",
       "      <td>7659776</td>\n",
       "    </tr>\n",
       "  </tbody>\n",
       "</table>\n",
       "</div>"
      ],
      "text/plain": [
       "  census year  total_population\n",
       "0        2010           8963473\n",
       "1        2015           9228489\n",
       "2        2020           7659776"
      ]
     },
     "execution_count": 53,
     "metadata": {},
     "output_type": "execute_result"
    }
   ],
   "source": [
    "coc_totals"
   ]
  },
  {
   "cell_type": "code",
   "execution_count": 54,
   "id": "bc83ce8f-918a-4fb3-bf29-9a2e842ce3b2",
   "metadata": {},
   "outputs": [],
   "source": [
    "la_coc_df = pd.merge(\n",
    "    agg_df[['census year', 'demographic', 'Estimate',  'variable', ]], coc_totals)"
   ]
  },
  {
   "cell_type": "code",
   "execution_count": 55,
   "id": "fb84e1d1-fccc-440a-98fb-03c9b680e505",
   "metadata": {},
   "outputs": [],
   "source": [
    "la_coc_df['Percent'] = la_coc_df['Estimate']/la_coc_df['total_population']"
   ]
  },
  {
   "cell_type": "code",
   "execution_count": 56,
   "id": "678657e1-6908-489e-82d0-55c7838faecb",
   "metadata": {},
   "outputs": [],
   "source": [
    "la_coc_df['geography'] = 'Los Angeles County*'"
   ]
  },
  {
   "cell_type": "code",
   "execution_count": 57,
   "id": "81cddaaf-11be-4572-ae24-a0f12bac98b2",
   "metadata": {},
   "outputs": [],
   "source": [
    "la_coc_df['state'] = 'California'"
   ]
  },
  {
   "cell_type": "code",
   "execution_count": 58,
   "id": "edc87776-2a35-4f7c-8471-45d01bc731f4",
   "metadata": {},
   "outputs": [],
   "source": [
    "combined_dp05_df = pd.concat([la_coc_df, dp05_df], ignore_index=True)"
   ]
  },
  {
   "cell_type": "code",
   "execution_count": 59,
   "id": "e0910000-5f0a-4eae-80d7-a54fbf3df73d",
   "metadata": {},
   "outputs": [],
   "source": [
    "combined_dp05_df[\n",
    "    (combined_dp05_df['geography'].str.contains('County'))\n",
    "    & (combined_dp05_df['geography'] != 'Los Angeles County')\n",
    "].to_csv('../04_outputs/c01_USCB-ACS5Y-DP05-County.csv', index=False)"
   ]
  },
  {
   "cell_type": "code",
   "execution_count": 60,
   "id": "0d9a97f6-4722-4400-beac-96296ea92f53",
   "metadata": {},
   "outputs": [],
   "source": [
    "combined_dp05_df[~combined_dp05_df['geography'].str.contains('County')].to_csv(\n",
    "    '../04_outputs/c01_USCB-ACS5Y-DP05-City.csv', index=False\n",
    ")"
   ]
  }
 ],
 "metadata": {
  "kernelspec": {
   "display_name": "Python 3 (ipykernel)",
   "language": "python",
   "name": "python3"
  },
  "language_info": {
   "codemirror_mode": {
    "name": "ipython",
    "version": 3
   },
   "file_extension": ".py",
   "mimetype": "text/x-python",
   "name": "python",
   "nbconvert_exporter": "python",
   "pygments_lexer": "ipython3",
   "version": "3.8.5"
  },
  "toc-autonumbering": false,
  "toc-showmarkdowntxt": false
 },
 "nbformat": 4,
 "nbformat_minor": 5
}
