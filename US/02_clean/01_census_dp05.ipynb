{
 "cells": [
  {
   "cell_type": "code",
   "execution_count": 1,
   "id": "3f417235-cfa4-4d7a-81e5-b83be088dd95",
   "metadata": {},
   "outputs": [],
   "source": [
    "import glob\n",
    "import os\n",
    "\n",
    "import pandas as pd"
   ]
  },
  {
   "cell_type": "markdown",
   "id": "723b2565-6820-4b44-82ff-8cbc5dc13013",
   "metadata": {},
   "source": [
    "[Source](https://data.census.gov/cedsci/table?q=DP05%3A%20ACS%20DEMOGRAPHIC%20AND%20HOUSING%20ESTIMATES&g=0500000US06001,06037,06067,06073,41051,53033_1600000US0644000,0653000,0664000,0666000,4159000,5363000&tid=ACSDP5Y2010.DP05&moe=false)"
   ]
  },
  {
   "cell_type": "code",
   "execution_count": 2,
   "id": "81c27a45-d701-4a4f-8bee-f5ee91a4cf13",
   "metadata": {},
   "outputs": [],
   "source": [
    "files = glob.glob('../01_inputs/USCB/DP05/*.csv')"
   ]
  },
  {
   "cell_type": "code",
   "execution_count": 3,
   "id": "ee17f106-60ca-42be-9f28-d18df2007c56",
   "metadata": {},
   "outputs": [],
   "source": [
    "def reshape(df):\n",
    "    reshaped_df = df.melt(id_vars=['census'])\n",
    "    reshaped_df['geography'] = reshaped_df['variable'].str.split(\n",
    "        '!!', n=1, expand=True)[0]\n",
    "    reshaped_df[['geography', 'state']] = reshaped_df['geography'].str.split(\n",
    "        ', ', 1, expand=True)\n",
    "    reshaped_df['measure'] = reshaped_df['variable'].str.split(\n",
    "        '!!', n=1, expand=True)[1]\n",
    "    reshaped_df.drop(labels=['variable'], axis=1, inplace=True)\n",
    "    index_cols = ['geography', 'state', 'census']\n",
    "    final_df = reshaped_df.pivot(\n",
    "        index=index_cols, columns='measure', values='value').reset_index()\n",
    "    final_df.rename_axis(None, axis=1, inplace=True)\n",
    "    return final_df"
   ]
  },
  {
   "cell_type": "code",
   "execution_count": 4,
   "id": "0aeffb1f-31fa-46e0-b424-9369112fb1e0",
   "metadata": {},
   "outputs": [],
   "source": [
    "def read_dp05(file):\n",
    "    year = os.path.basename(file)[7:11]\n",
    "    df = pd.read_csv(file)\n",
    "    df.rename(columns={'Label (Grouping)': 'census'}, inplace=True)\n",
    "    if year == '2020':\n",
    "        ethnicity_df = pd.concat([df.iloc[74:75], df.iloc[79:80]])\n",
    "        race_df = pd.concat([df.iloc[65:72], df.iloc[80:81]])\n",
    "    else:\n",
    "        ethnicity_df = pd.concat([df.iloc[69:70], df.iloc[74:75]])\n",
    "        race_df = pd.concat([df.iloc[60:67], df.iloc[75:76]])        \n",
    "    reshaped_ethnicity_df = reshape(ethnicity_df)\n",
    "    reshaped_race_df = reshape(race_df)\n",
    "    merged_df = pd.merge(reshaped_race_df, reshaped_ethnicity_df, how='outer', on=[\n",
    "                         'geography', 'state'], suffixes=(' race ACS5Y', ' ethnicity ACS5Y'))\n",
    "    merged_df['census year'] = year\n",
    "    return merged_df"
   ]
  },
  {
   "cell_type": "code",
   "execution_count": 5,
   "id": "70009f7d-13de-4f9e-93d8-ae548e276f99",
   "metadata": {},
   "outputs": [],
   "source": [
    "dp05_df = pd.concat([read_dp05(file) for file in files])"
   ]
  },
  {
   "cell_type": "code",
   "execution_count": 6,
   "id": "e0910000-5f0a-4eae-80d7-a54fbf3df73d",
   "metadata": {},
   "outputs": [],
   "source": [
    "dp05_df[dp05_df['geography'].str.contains('County')].to_csv('../04_outputs/USCB-ACS5Y-DP05-County.csv')"
   ]
  },
  {
   "cell_type": "code",
   "execution_count": 7,
   "id": "0d9a97f6-4722-4400-beac-96296ea92f53",
   "metadata": {},
   "outputs": [],
   "source": [
    "dp05_df[~dp05_df['geography'].str.contains('County')].to_csv(\n",
    "    '../04_outputs/USCB-ACS5Y-DP05-City.csv', index=False)"
   ]
  },
  {
   "cell_type": "code",
   "execution_count": 8,
   "id": "78f8f896-5958-407f-a971-4c000664e437",
   "metadata": {},
   "outputs": [],
   "source": [
    "dp05_df.to_csv('../04_outputs/USCB-ACS5Y-DP05.csv', index=False)"
   ]
  }
 ],
 "metadata": {
  "kernelspec": {
   "display_name": "Python 3 (ipykernel)",
   "language": "python",
   "name": "python3"
  },
  "language_info": {
   "codemirror_mode": {
    "name": "ipython",
    "version": 3
   },
   "file_extension": ".py",
   "mimetype": "text/x-python",
   "name": "python",
   "nbconvert_exporter": "python",
   "pygments_lexer": "ipython3",
   "version": "3.8.5"
  }
 },
 "nbformat": 4,
 "nbformat_minor": 5
}
