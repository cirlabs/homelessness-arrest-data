{
 "cells": [
  {
   "cell_type": "markdown",
   "id": "7f258a44-a8d8-48be-b0a0-be2eac280b0a",
   "metadata": {},
   "source": [
    "# Demographic data by geography"
   ]
  },
  {
   "cell_type": "code",
   "execution_count": 1,
   "id": "48c0d3d7-0276-4348-82a9-5cba020dd742",
   "metadata": {},
   "outputs": [
    {
     "data": {
      "text/html": [
       "<style>\n",
       "table {float:left}\n",
       "</style>\n"
      ],
      "text/plain": [
       "<IPython.core.display.HTML object>"
      ]
     },
     "metadata": {},
     "output_type": "display_data"
    }
   ],
   "source": [
    "%%html\n",
    "<style>\n",
    "table {float:left}\n",
    "</style>"
   ]
  },
  {
   "cell_type": "code",
   "execution_count": 2,
   "id": "3f417235-cfa4-4d7a-81e5-b83be088dd95",
   "metadata": {},
   "outputs": [],
   "source": [
    "import glob\n",
    "import math\n",
    "import os\n",
    "import re\n",
    "\n",
    "import pandas as pd"
   ]
  },
  {
   "cell_type": "markdown",
   "id": "cbcb5339-64e2-4ac5-925f-df6cf67164e0",
   "metadata": {
    "tags": []
   },
   "source": [
    "# Los Angeles County Continuum of Care\n",
    "\n",
    "Los Angeles County comprises four CoCs. Thanks to [this crosswalk data](https://github.com/tomhbyrne/HUD-CoC-Geography-Crosswalk), I'm able to use demographic data for the subset of the county that exists within CoC ID CA-600."
   ]
  },
  {
   "cell_type": "markdown",
   "id": "a765739e-6a94-4929-a3d8-d97789fc0999",
   "metadata": {},
   "source": [
    "## Normalize\n",
    "\n",
    "These are slightly different for each of the ACS 5-Year datasets I plan to use. Based on previous experience, column IDs can also vary among years, so I'm going the inelegant route because the names are more immediately legible to me."
   ]
  },
  {
   "cell_type": "code",
   "execution_count": 3,
   "id": "53bcaf2b-e153-4ff9-9f02-436be8226aa1",
   "metadata": {},
   "outputs": [],
   "source": [
    "usecols_2019 = [\n",
    "    'id',\n",
    "    'Geographic Area Name',\n",
    "    'Estimate!!HISPANIC OR LATINO AND RACE!!Total population!!Not Hispanic or Latino',\n",
    "    'Margin of Error!!HISPANIC OR LATINO AND RACE!!Total population!!Not Hispanic or Latino',\n",
    "    'Estimate!!HISPANIC OR LATINO AND RACE!!Total population!!Hispanic or Latino (of any race)',\n",
    "    'Margin of Error!!HISPANIC OR LATINO AND RACE!!Total population!!Hispanic or Latino (of any race)',\n",
    "    'Estimate!!HISPANIC OR LATINO AND RACE!!Total population!!Not Hispanic or Latino!!White alone',\n",
    "    'Margin of Error!!HISPANIC OR LATINO AND RACE!!Total population!!Not Hispanic or Latino!!White alone',\n",
    "    'Estimate!!RACE!!Total population',\n",
    "    'Margin of Error!!RACE!!Total population',\n",
    "    'Estimate!!RACE!!Total population!!One race!!White',\n",
    "    'Margin of Error!!RACE!!Total population!!One race!!White',\n",
    "    'Estimate!!RACE!!Total population!!One race!!Black or African American',\n",
    "    'Margin of Error!!RACE!!Total population!!One race!!Black or African American',\n",
    "    'Estimate!!RACE!!Total population!!One race!!American Indian and Alaska Native',\n",
    "    'Margin of Error!!RACE!!Total population!!One race!!American Indian and Alaska Native',\n",
    "    'Estimate!!RACE!!Total population!!One race!!Asian',\n",
    "    'Margin of Error!!RACE!!Total population!!One race!!Asian',\n",
    "    'Estimate!!RACE!!Total population!!One race!!Native Hawaiian and Other Pacific Islander',\n",
    "    'Margin of Error!!RACE!!Total population!!One race!!Native Hawaiian and Other Pacific Islander',\n",
    "]"
   ]
  },
  {
   "cell_type": "code",
   "execution_count": 4,
   "id": "770c9043-fd3d-4624-b268-a2aeee179cda",
   "metadata": {},
   "outputs": [],
   "source": [
    "def read_la_dp05_2019(file):\n",
    "    year = os.path.basename(file)[7:11]\n",
    "    df = pd.read_csv(file, skiprows=1, usecols=usecols_2019)\n",
    "    df.columns = [\n",
    "        re.sub('RACE!!', '', col)\n",
    "        for col in df.columns\n",
    "    ]\n",
    "    df.columns = [\n",
    "        re.sub('One race!!', '', col)\n",
    "        for col in df.columns\n",
    "    ]\n",
    "    df.columns = [\n",
    "        re.sub('Total population!!', '', col)\n",
    "        for col in df.columns\n",
    "    ]\n",
    "    df.columns = [\n",
    "        re.sub('HISPANIC OR LATINO AND ', '', col)\n",
    "        for col in df.columns\n",
    "    ]\n",
    "    df.columns = [\n",
    "        re.sub('Estimate Margin', 'Margin', col)\n",
    "        for col in df.columns\n",
    "    ]\n",
    "    df['census year'] = year\n",
    "    return df"
   ]
  },
  {
   "cell_type": "code",
   "execution_count": 5,
   "id": "64e9ea99-6edb-4c6d-bc29-969967e74982",
   "metadata": {},
   "outputs": [],
   "source": [
    "la_dp05_2019 = read_la_dp05_2019(\n",
    "    '../01_inputs/USCB/DP05/LA_2019/ACSDP5Y2019.DP05_data_with_overlays_2021-12-02T194643.csv')"
   ]
  },
  {
   "cell_type": "code",
   "execution_count": 6,
   "id": "8d2fbad6-fa2b-4186-bbd6-15b0404f863b",
   "metadata": {},
   "outputs": [
    {
     "data": {
      "text/html": [
       "<div>\n",
       "<style scoped>\n",
       "    .dataframe tbody tr th:only-of-type {\n",
       "        vertical-align: middle;\n",
       "    }\n",
       "\n",
       "    .dataframe tbody tr th {\n",
       "        vertical-align: top;\n",
       "    }\n",
       "\n",
       "    .dataframe thead th {\n",
       "        text-align: right;\n",
       "    }\n",
       "</style>\n",
       "<table border=\"1\" class=\"dataframe\">\n",
       "  <thead>\n",
       "    <tr style=\"text-align: right;\">\n",
       "      <th></th>\n",
       "      <th>Estimate!!Total population</th>\n",
       "      <th>Margin of Error!!Total population</th>\n",
       "      <th>Estimate!!White</th>\n",
       "      <th>Margin of Error!!White</th>\n",
       "      <th>Estimate!!Black or African American</th>\n",
       "      <th>Margin of Error!!Black or African American</th>\n",
       "      <th>Estimate!!American Indian and Alaska Native</th>\n",
       "      <th>Margin of Error!!American Indian and Alaska Native</th>\n",
       "      <th>Estimate!!Asian</th>\n",
       "      <th>Margin of Error!!Asian</th>\n",
       "      <th>...</th>\n",
       "      <th>Margin of Error!!Native Hawaiian and Other Pacific Islander</th>\n",
       "      <th>Estimate!!Hispanic or Latino (of any race)</th>\n",
       "      <th>Margin of Error!!Hispanic or Latino (of any race)</th>\n",
       "      <th>Estimate!!Not Hispanic or Latino</th>\n",
       "      <th>Margin of Error!!Not Hispanic or Latino</th>\n",
       "      <th>Estimate!!Not Hispanic or Latino!!White alone</th>\n",
       "      <th>Margin of Error!!Not Hispanic or Latino!!White alone</th>\n",
       "      <th>id</th>\n",
       "      <th>Geographic Area Name</th>\n",
       "      <th>census year</th>\n",
       "    </tr>\n",
       "  </thead>\n",
       "  <tbody>\n",
       "    <tr>\n",
       "      <th>0</th>\n",
       "      <td>4283</td>\n",
       "      <td>443</td>\n",
       "      <td>3347</td>\n",
       "      <td>353</td>\n",
       "      <td>19</td>\n",
       "      <td>15</td>\n",
       "      <td>3</td>\n",
       "      <td>6</td>\n",
       "      <td>331</td>\n",
       "      <td>142</td>\n",
       "      <td>...</td>\n",
       "      <td>6</td>\n",
       "      <td>1188</td>\n",
       "      <td>414</td>\n",
       "      <td>3095</td>\n",
       "      <td>354</td>\n",
       "      <td>2616</td>\n",
       "      <td>306</td>\n",
       "      <td>1400000US06037101110</td>\n",
       "      <td>Census Tract 1011.10, Los Angeles County, Cali...</td>\n",
       "      <td>2019</td>\n",
       "    </tr>\n",
       "    <tr>\n",
       "      <th>1</th>\n",
       "      <td>3405</td>\n",
       "      <td>334</td>\n",
       "      <td>2981</td>\n",
       "      <td>343</td>\n",
       "      <td>74</td>\n",
       "      <td>102</td>\n",
       "      <td>15</td>\n",
       "      <td>24</td>\n",
       "      <td>220</td>\n",
       "      <td>156</td>\n",
       "      <td>...</td>\n",
       "      <td>12</td>\n",
       "      <td>147</td>\n",
       "      <td>86</td>\n",
       "      <td>3258</td>\n",
       "      <td>344</td>\n",
       "      <td>2882</td>\n",
       "      <td>358</td>\n",
       "      <td>1400000US06037101122</td>\n",
       "      <td>Census Tract 1011.22, Los Angeles County, Cali...</td>\n",
       "      <td>2019</td>\n",
       "    </tr>\n",
       "  </tbody>\n",
       "</table>\n",
       "<p>2 rows × 21 columns</p>\n",
       "</div>"
      ],
      "text/plain": [
       "   Estimate!!Total population  Margin of Error!!Total population  \\\n",
       "0                        4283                                443   \n",
       "1                        3405                                334   \n",
       "\n",
       "   Estimate!!White  Margin of Error!!White  \\\n",
       "0             3347                     353   \n",
       "1             2981                     343   \n",
       "\n",
       "   Estimate!!Black or African American  \\\n",
       "0                                   19   \n",
       "1                                   74   \n",
       "\n",
       "   Margin of Error!!Black or African American  \\\n",
       "0                                          15   \n",
       "1                                         102   \n",
       "\n",
       "   Estimate!!American Indian and Alaska Native  \\\n",
       "0                                            3   \n",
       "1                                           15   \n",
       "\n",
       "   Margin of Error!!American Indian and Alaska Native  Estimate!!Asian  \\\n",
       "0                                                  6               331   \n",
       "1                                                 24               220   \n",
       "\n",
       "   Margin of Error!!Asian  ...  \\\n",
       "0                     142  ...   \n",
       "1                     156  ...   \n",
       "\n",
       "   Margin of Error!!Native Hawaiian and Other Pacific Islander  \\\n",
       "0                                                  6             \n",
       "1                                                 12             \n",
       "\n",
       "   Estimate!!Hispanic or Latino (of any race)  \\\n",
       "0                                        1188   \n",
       "1                                         147   \n",
       "\n",
       "   Margin of Error!!Hispanic or Latino (of any race)  \\\n",
       "0                                                414   \n",
       "1                                                 86   \n",
       "\n",
       "   Estimate!!Not Hispanic or Latino  Margin of Error!!Not Hispanic or Latino  \\\n",
       "0                              3095                                      354   \n",
       "1                              3258                                      344   \n",
       "\n",
       "   Estimate!!Not Hispanic or Latino!!White alone  \\\n",
       "0                                           2616   \n",
       "1                                           2882   \n",
       "\n",
       "   Margin of Error!!Not Hispanic or Latino!!White alone                    id  \\\n",
       "0                                                306     1400000US06037101110   \n",
       "1                                                358     1400000US06037101122   \n",
       "\n",
       "                                Geographic Area Name census year  \n",
       "0  Census Tract 1011.10, Los Angeles County, Cali...        2019  \n",
       "1  Census Tract 1011.22, Los Angeles County, Cali...        2019  \n",
       "\n",
       "[2 rows x 21 columns]"
      ]
     },
     "execution_count": 6,
     "metadata": {},
     "output_type": "execute_result"
    }
   ],
   "source": [
    "la_dp05_2019.head(2)"
   ]
  },
  {
   "cell_type": "code",
   "execution_count": 7,
   "id": "5a1f7114-ae58-4030-82dc-70e390ce3abf",
   "metadata": {},
   "outputs": [],
   "source": [
    "reshaped_la_dp05_2019 = la_dp05_2019.melt(\n",
    "    id_vars=['census year', 'id', 'Geographic Area Name'])"
   ]
  },
  {
   "cell_type": "code",
   "execution_count": 8,
   "id": "e8f1898a-b785-4065-82d6-e6e7be2a2c15",
   "metadata": {},
   "outputs": [
    {
     "data": {
      "text/html": [
       "<div>\n",
       "<style scoped>\n",
       "    .dataframe tbody tr th:only-of-type {\n",
       "        vertical-align: middle;\n",
       "    }\n",
       "\n",
       "    .dataframe tbody tr th {\n",
       "        vertical-align: top;\n",
       "    }\n",
       "\n",
       "    .dataframe thead th {\n",
       "        text-align: right;\n",
       "    }\n",
       "</style>\n",
       "<table border=\"1\" class=\"dataframe\">\n",
       "  <thead>\n",
       "    <tr style=\"text-align: right;\">\n",
       "      <th></th>\n",
       "      <th>census year</th>\n",
       "      <th>id</th>\n",
       "      <th>Geographic Area Name</th>\n",
       "      <th>variable</th>\n",
       "      <th>value</th>\n",
       "    </tr>\n",
       "  </thead>\n",
       "  <tbody>\n",
       "    <tr>\n",
       "      <th>0</th>\n",
       "      <td>2019</td>\n",
       "      <td>1400000US06037101110</td>\n",
       "      <td>Census Tract 1011.10, Los Angeles County, Cali...</td>\n",
       "      <td>Estimate!!Total population</td>\n",
       "      <td>4283</td>\n",
       "    </tr>\n",
       "    <tr>\n",
       "      <th>1</th>\n",
       "      <td>2019</td>\n",
       "      <td>1400000US06037101122</td>\n",
       "      <td>Census Tract 1011.22, Los Angeles County, Cali...</td>\n",
       "      <td>Estimate!!Total population</td>\n",
       "      <td>3405</td>\n",
       "    </tr>\n",
       "  </tbody>\n",
       "</table>\n",
       "</div>"
      ],
      "text/plain": [
       "  census year                    id  \\\n",
       "0        2019  1400000US06037101110   \n",
       "1        2019  1400000US06037101122   \n",
       "\n",
       "                                Geographic Area Name  \\\n",
       "0  Census Tract 1011.10, Los Angeles County, Cali...   \n",
       "1  Census Tract 1011.22, Los Angeles County, Cali...   \n",
       "\n",
       "                     variable  value  \n",
       "0  Estimate!!Total population   4283  \n",
       "1  Estimate!!Total population   3405  "
      ]
     },
     "execution_count": 8,
     "metadata": {},
     "output_type": "execute_result"
    }
   ],
   "source": [
    "reshaped_la_dp05_2019.head(2)"
   ]
  },
  {
   "cell_type": "code",
   "execution_count": 9,
   "id": "31c9e9cd-aca5-4f2b-bb9f-8ed403b4cae3",
   "metadata": {},
   "outputs": [],
   "source": [
    "reshaped_la_dp05_2019[['measure', 'census demographic']] = reshaped_la_dp05_2019['variable'].str.split(\n",
    "    '!!', 1, expand=True)"
   ]
  },
  {
   "cell_type": "code",
   "execution_count": 10,
   "id": "46be49e4-201f-470e-ad49-4420ee28d091",
   "metadata": {},
   "outputs": [
    {
     "data": {
      "text/plain": [
       "array(['Total population', 'White', 'Black or African American',\n",
       "       'American Indian and Alaska Native', 'Asian',\n",
       "       'Native Hawaiian and Other Pacific Islander',\n",
       "       'Hispanic or Latino (of any race)', 'Not Hispanic or Latino',\n",
       "       'Not Hispanic or Latino!!White alone'], dtype=object)"
      ]
     },
     "execution_count": 10,
     "metadata": {},
     "output_type": "execute_result"
    }
   ],
   "source": [
    "reshaped_la_dp05_2019['census demographic'].unique()"
   ]
  },
  {
   "cell_type": "code",
   "execution_count": 11,
   "id": "6a464fec-740c-42a8-a3d3-b7630d3a5aa8",
   "metadata": {},
   "outputs": [],
   "source": [
    "reshaped_la_dp05_2019['census demographic'] = reshaped_la_dp05_2019['census demographic'].replace(\n",
    "    {'Not Hispanic or Latino!!White alone': 'White alone'})"
   ]
  },
  {
   "cell_type": "code",
   "execution_count": 12,
   "id": "2b203bef-ba06-4f97-86b7-cc8332a131e3",
   "metadata": {},
   "outputs": [
    {
     "data": {
      "text/plain": [
       "array(['Total population', 'White', 'Black or African American',\n",
       "       'American Indian and Alaska Native', 'Asian',\n",
       "       'Native Hawaiian and Other Pacific Islander',\n",
       "       'Hispanic or Latino (of any race)', 'Not Hispanic or Latino',\n",
       "       'White alone'], dtype=object)"
      ]
     },
     "execution_count": 12,
     "metadata": {},
     "output_type": "execute_result"
    }
   ],
   "source": [
    "reshaped_la_dp05_2019['census demographic'].unique()"
   ]
  },
  {
   "cell_type": "markdown",
   "id": "f2c5eb82-32d9-4f9a-82fb-80271367a3ef",
   "metadata": {},
   "source": [
    "## Tract/CoC Crosswalk\n",
    "\n",
    "[source](https://github.com/tomhbyrne/HUD-CoC-Geography-Crosswalk)"
   ]
  },
  {
   "cell_type": "code",
   "execution_count": 13,
   "id": "2586df57-15a0-4913-bce3-9167049a4233",
   "metadata": {},
   "outputs": [],
   "source": [
    "tract_crosswalk_df = pd.read_csv(\n",
    "    '../01_inputs/USCB/tract_coc_match.csv',\n",
    "    encoding='ISO-8859-1',\n",
    "    dtype={'tract_fips': str},\n",
    ")"
   ]
  },
  {
   "cell_type": "code",
   "execution_count": 14,
   "id": "da572486-bb72-45cc-bb4b-845b0cc24d31",
   "metadata": {},
   "outputs": [],
   "source": [
    "la_tracts = tract_crosswalk_df[tract_crosswalk_df['coc_number']\n",
    "                               == 'CA-600'].copy()"
   ]
  },
  {
   "cell_type": "code",
   "execution_count": 15,
   "id": "1cb934d8-e45c-4144-9e29-bd3960755cce",
   "metadata": {},
   "outputs": [],
   "source": [
    "la_tracts['tract_fips'] = '1400000US' + la_tracts['tract_fips']"
   ]
  },
  {
   "cell_type": "code",
   "execution_count": 16,
   "id": "272d2f4a-aec3-4dae-afe2-5b575e7a2dca",
   "metadata": {},
   "outputs": [],
   "source": [
    "la_coc_tracts = set(la_tracts['tract_fips'])"
   ]
  },
  {
   "cell_type": "code",
   "execution_count": 17,
   "id": "264d4563-cc10-4ff5-9fd3-84c30158c12c",
   "metadata": {},
   "outputs": [],
   "source": [
    "la_coc_df = reshaped_la_dp05_2019[(reshaped_la_dp05_2019['id'].isin(la_coc_tracts)) & (\n",
    "    reshaped_la_dp05_2019['census demographic'] != 'Total population')].copy()"
   ]
  },
  {
   "cell_type": "code",
   "execution_count": 18,
   "id": "a2f4a2e3-14e6-484d-855b-88a372a79dbd",
   "metadata": {},
   "outputs": [
    {
     "data": {
      "text/html": [
       "<div>\n",
       "<style scoped>\n",
       "    .dataframe tbody tr th:only-of-type {\n",
       "        vertical-align: middle;\n",
       "    }\n",
       "\n",
       "    .dataframe tbody tr th {\n",
       "        vertical-align: top;\n",
       "    }\n",
       "\n",
       "    .dataframe thead th {\n",
       "        text-align: right;\n",
       "    }\n",
       "</style>\n",
       "<table border=\"1\" class=\"dataframe\">\n",
       "  <thead>\n",
       "    <tr style=\"text-align: right;\">\n",
       "      <th></th>\n",
       "      <th>census year</th>\n",
       "      <th>id</th>\n",
       "      <th>Geographic Area Name</th>\n",
       "      <th>variable</th>\n",
       "      <th>value</th>\n",
       "      <th>measure</th>\n",
       "      <th>census demographic</th>\n",
       "    </tr>\n",
       "  </thead>\n",
       "  <tbody>\n",
       "    <tr>\n",
       "      <th>4692</th>\n",
       "      <td>2019</td>\n",
       "      <td>1400000US06037101110</td>\n",
       "      <td>Census Tract 1011.10, Los Angeles County, Cali...</td>\n",
       "      <td>Estimate!!White</td>\n",
       "      <td>3347</td>\n",
       "      <td>Estimate</td>\n",
       "      <td>White</td>\n",
       "    </tr>\n",
       "    <tr>\n",
       "      <th>4693</th>\n",
       "      <td>2019</td>\n",
       "      <td>1400000US06037101122</td>\n",
       "      <td>Census Tract 1011.22, Los Angeles County, Cali...</td>\n",
       "      <td>Estimate!!White</td>\n",
       "      <td>2981</td>\n",
       "      <td>Estimate</td>\n",
       "      <td>White</td>\n",
       "    </tr>\n",
       "  </tbody>\n",
       "</table>\n",
       "</div>"
      ],
      "text/plain": [
       "     census year                    id  \\\n",
       "4692        2019  1400000US06037101110   \n",
       "4693        2019  1400000US06037101122   \n",
       "\n",
       "                                   Geographic Area Name         variable  \\\n",
       "4692  Census Tract 1011.10, Los Angeles County, Cali...  Estimate!!White   \n",
       "4693  Census Tract 1011.22, Los Angeles County, Cali...  Estimate!!White   \n",
       "\n",
       "      value   measure census demographic  \n",
       "4692   3347  Estimate              White  \n",
       "4693   2981  Estimate              White  "
      ]
     },
     "execution_count": 18,
     "metadata": {},
     "output_type": "execute_result"
    }
   ],
   "source": [
    "la_coc_df.head(2)"
   ]
  },
  {
   "cell_type": "code",
   "execution_count": 19,
   "id": "4465e36a-a96a-4f17-b194-ddfb60e5cb8e",
   "metadata": {},
   "outputs": [],
   "source": [
    "la_coc_total_df = reshaped_la_dp05_2019[(reshaped_la_dp05_2019['id'].isin(la_coc_tracts)) & (\n",
    "    reshaped_la_dp05_2019['census demographic'] == 'Total population')].copy()"
   ]
  },
  {
   "cell_type": "markdown",
   "id": "ed3b9f7e-0d98-4b54-afdb-acd30eadc09c",
   "metadata": {},
   "source": [
    "Totals to be used in percent calculation [below](#Combine-LA-CoC-and-county-data)"
   ]
  },
  {
   "cell_type": "code",
   "execution_count": 20,
   "id": "86225491-5816-4600-bfd0-51fe6cc432e2",
   "metadata": {},
   "outputs": [
    {
     "data": {
      "text/html": [
       "<div>\n",
       "<style scoped>\n",
       "    .dataframe tbody tr th:only-of-type {\n",
       "        vertical-align: middle;\n",
       "    }\n",
       "\n",
       "    .dataframe tbody tr th {\n",
       "        vertical-align: top;\n",
       "    }\n",
       "\n",
       "    .dataframe thead th {\n",
       "        text-align: right;\n",
       "    }\n",
       "</style>\n",
       "<table border=\"1\" class=\"dataframe\">\n",
       "  <thead>\n",
       "    <tr style=\"text-align: right;\">\n",
       "      <th></th>\n",
       "      <th>census year</th>\n",
       "      <th>id</th>\n",
       "      <th>Geographic Area Name</th>\n",
       "      <th>variable</th>\n",
       "      <th>value</th>\n",
       "      <th>measure</th>\n",
       "      <th>census demographic</th>\n",
       "    </tr>\n",
       "  </thead>\n",
       "  <tbody>\n",
       "    <tr>\n",
       "      <th>0</th>\n",
       "      <td>2019</td>\n",
       "      <td>1400000US06037101110</td>\n",
       "      <td>Census Tract 1011.10, Los Angeles County, Cali...</td>\n",
       "      <td>Estimate!!Total population</td>\n",
       "      <td>4283</td>\n",
       "      <td>Estimate</td>\n",
       "      <td>Total population</td>\n",
       "    </tr>\n",
       "    <tr>\n",
       "      <th>1</th>\n",
       "      <td>2019</td>\n",
       "      <td>1400000US06037101122</td>\n",
       "      <td>Census Tract 1011.22, Los Angeles County, Cali...</td>\n",
       "      <td>Estimate!!Total population</td>\n",
       "      <td>3405</td>\n",
       "      <td>Estimate</td>\n",
       "      <td>Total population</td>\n",
       "    </tr>\n",
       "    <tr>\n",
       "      <th>2</th>\n",
       "      <td>2019</td>\n",
       "      <td>1400000US06037101210</td>\n",
       "      <td>Census Tract 1012.10, Los Angeles County, Cali...</td>\n",
       "      <td>Estimate!!Total population</td>\n",
       "      <td>6347</td>\n",
       "      <td>Estimate</td>\n",
       "      <td>Total population</td>\n",
       "    </tr>\n",
       "    <tr>\n",
       "      <th>3</th>\n",
       "      <td>2019</td>\n",
       "      <td>1400000US06037101220</td>\n",
       "      <td>Census Tract 1012.20, Los Angeles County, Cali...</td>\n",
       "      <td>Estimate!!Total population</td>\n",
       "      <td>3702</td>\n",
       "      <td>Estimate</td>\n",
       "      <td>Total population</td>\n",
       "    </tr>\n",
       "    <tr>\n",
       "      <th>4</th>\n",
       "      <td>2019</td>\n",
       "      <td>1400000US06037101300</td>\n",
       "      <td>Census Tract 1013, Los Angeles County, California</td>\n",
       "      <td>Estimate!!Total population</td>\n",
       "      <td>3884</td>\n",
       "      <td>Estimate</td>\n",
       "      <td>Total population</td>\n",
       "    </tr>\n",
       "    <tr>\n",
       "      <th>...</th>\n",
       "      <td>...</td>\n",
       "      <td>...</td>\n",
       "      <td>...</td>\n",
       "      <td>...</td>\n",
       "      <td>...</td>\n",
       "      <td>...</td>\n",
       "      <td>...</td>\n",
       "    </tr>\n",
       "    <tr>\n",
       "      <th>4683</th>\n",
       "      <td>2019</td>\n",
       "      <td>1400000US06037980025</td>\n",
       "      <td>Census Tract 9800.25, Los Angeles County, Cali...</td>\n",
       "      <td>Margin of Error!!Total population</td>\n",
       "      <td>12</td>\n",
       "      <td>Margin of Error</td>\n",
       "      <td>Total population</td>\n",
       "    </tr>\n",
       "    <tr>\n",
       "      <th>4684</th>\n",
       "      <td>2019</td>\n",
       "      <td>1400000US06037980026</td>\n",
       "      <td>Census Tract 9800.26, Los Angeles County, Cali...</td>\n",
       "      <td>Margin of Error!!Total population</td>\n",
       "      <td>18</td>\n",
       "      <td>Margin of Error</td>\n",
       "      <td>Total population</td>\n",
       "    </tr>\n",
       "    <tr>\n",
       "      <th>4685</th>\n",
       "      <td>2019</td>\n",
       "      <td>1400000US06037980028</td>\n",
       "      <td>Census Tract 9800.28, Los Angeles County, Cali...</td>\n",
       "      <td>Margin of Error!!Total population</td>\n",
       "      <td>12</td>\n",
       "      <td>Margin of Error</td>\n",
       "      <td>Total population</td>\n",
       "    </tr>\n",
       "    <tr>\n",
       "      <th>4686</th>\n",
       "      <td>2019</td>\n",
       "      <td>1400000US06037980030</td>\n",
       "      <td>Census Tract 9800.30, Los Angeles County, Cali...</td>\n",
       "      <td>Margin of Error!!Total population</td>\n",
       "      <td>12</td>\n",
       "      <td>Margin of Error</td>\n",
       "      <td>Total population</td>\n",
       "    </tr>\n",
       "    <tr>\n",
       "      <th>4687</th>\n",
       "      <td>2019</td>\n",
       "      <td>1400000US06037980031</td>\n",
       "      <td>Census Tract 9800.31, Los Angeles County, Cali...</td>\n",
       "      <td>Margin of Error!!Total population</td>\n",
       "      <td>178</td>\n",
       "      <td>Margin of Error</td>\n",
       "      <td>Total population</td>\n",
       "    </tr>\n",
       "  </tbody>\n",
       "</table>\n",
       "<p>4316 rows × 7 columns</p>\n",
       "</div>"
      ],
      "text/plain": [
       "     census year                    id  \\\n",
       "0           2019  1400000US06037101110   \n",
       "1           2019  1400000US06037101122   \n",
       "2           2019  1400000US06037101210   \n",
       "3           2019  1400000US06037101220   \n",
       "4           2019  1400000US06037101300   \n",
       "...          ...                   ...   \n",
       "4683        2019  1400000US06037980025   \n",
       "4684        2019  1400000US06037980026   \n",
       "4685        2019  1400000US06037980028   \n",
       "4686        2019  1400000US06037980030   \n",
       "4687        2019  1400000US06037980031   \n",
       "\n",
       "                                   Geographic Area Name  \\\n",
       "0     Census Tract 1011.10, Los Angeles County, Cali...   \n",
       "1     Census Tract 1011.22, Los Angeles County, Cali...   \n",
       "2     Census Tract 1012.10, Los Angeles County, Cali...   \n",
       "3     Census Tract 1012.20, Los Angeles County, Cali...   \n",
       "4     Census Tract 1013, Los Angeles County, California   \n",
       "...                                                 ...   \n",
       "4683  Census Tract 9800.25, Los Angeles County, Cali...   \n",
       "4684  Census Tract 9800.26, Los Angeles County, Cali...   \n",
       "4685  Census Tract 9800.28, Los Angeles County, Cali...   \n",
       "4686  Census Tract 9800.30, Los Angeles County, Cali...   \n",
       "4687  Census Tract 9800.31, Los Angeles County, Cali...   \n",
       "\n",
       "                               variable  value          measure  \\\n",
       "0            Estimate!!Total population   4283         Estimate   \n",
       "1            Estimate!!Total population   3405         Estimate   \n",
       "2            Estimate!!Total population   6347         Estimate   \n",
       "3            Estimate!!Total population   3702         Estimate   \n",
       "4            Estimate!!Total population   3884         Estimate   \n",
       "...                                 ...    ...              ...   \n",
       "4683  Margin of Error!!Total population     12  Margin of Error   \n",
       "4684  Margin of Error!!Total population     18  Margin of Error   \n",
       "4685  Margin of Error!!Total population     12  Margin of Error   \n",
       "4686  Margin of Error!!Total population     12  Margin of Error   \n",
       "4687  Margin of Error!!Total population    178  Margin of Error   \n",
       "\n",
       "     census demographic  \n",
       "0      Total population  \n",
       "1      Total population  \n",
       "2      Total population  \n",
       "3      Total population  \n",
       "4      Total population  \n",
       "...                 ...  \n",
       "4683   Total population  \n",
       "4684   Total population  \n",
       "4685   Total population  \n",
       "4686   Total population  \n",
       "4687   Total population  \n",
       "\n",
       "[4316 rows x 7 columns]"
      ]
     },
     "execution_count": 20,
     "metadata": {},
     "output_type": "execute_result"
    }
   ],
   "source": [
    "la_coc_total_df"
   ]
  },
  {
   "cell_type": "code",
   "execution_count": 21,
   "id": "c115be7c-c4a1-40db-9ee3-08cc93f74238",
   "metadata": {},
   "outputs": [],
   "source": [
    "la_coc_totals = la_coc_total_df.groupby(['census year']).agg(\n",
    "    total_population=('value', sum)).reset_index()"
   ]
  },
  {
   "cell_type": "markdown",
   "id": "adc1f7f0-7c88-42c8-90a2-26f32588dfe5",
   "metadata": {},
   "source": [
    "## Aggregate estimates"
   ]
  },
  {
   "cell_type": "code",
   "execution_count": 22,
   "id": "7512ae32-0e12-49d9-b6e3-11d34067b370",
   "metadata": {},
   "outputs": [],
   "source": [
    "la_coc_est_df = la_coc_df[la_coc_df['measure'] == 'Estimate'].copy()"
   ]
  },
  {
   "cell_type": "code",
   "execution_count": 23,
   "id": "12bbe7eb-5b79-4614-93ef-b6b261f064a2",
   "metadata": {},
   "outputs": [],
   "source": [
    "agg_la_est_df = la_coc_est_df.groupby(['census year', 'census demographic']).agg(\n",
    "    Estimate=('value', sum)).reset_index()"
   ]
  },
  {
   "cell_type": "code",
   "execution_count": 24,
   "id": "5c3a9188-0912-441e-b2a1-1781fb222525",
   "metadata": {},
   "outputs": [
    {
     "data": {
      "text/html": [
       "<div>\n",
       "<style scoped>\n",
       "    .dataframe tbody tr th:only-of-type {\n",
       "        vertical-align: middle;\n",
       "    }\n",
       "\n",
       "    .dataframe tbody tr th {\n",
       "        vertical-align: top;\n",
       "    }\n",
       "\n",
       "    .dataframe thead th {\n",
       "        text-align: right;\n",
       "    }\n",
       "</style>\n",
       "<table border=\"1\" class=\"dataframe\">\n",
       "  <thead>\n",
       "    <tr style=\"text-align: right;\">\n",
       "      <th></th>\n",
       "      <th>census year</th>\n",
       "      <th>census demographic</th>\n",
       "      <th>Estimate</th>\n",
       "    </tr>\n",
       "  </thead>\n",
       "  <tbody>\n",
       "    <tr>\n",
       "      <th>0</th>\n",
       "      <td>2019</td>\n",
       "      <td>American Indian and Alaska Native</td>\n",
       "      <td>67610</td>\n",
       "    </tr>\n",
       "    <tr>\n",
       "      <th>1</th>\n",
       "      <td>2019</td>\n",
       "      <td>Asian</td>\n",
       "      <td>1355587</td>\n",
       "    </tr>\n",
       "    <tr>\n",
       "      <th>2</th>\n",
       "      <td>2019</td>\n",
       "      <td>Black or African American</td>\n",
       "      <td>745050</td>\n",
       "    </tr>\n",
       "    <tr>\n",
       "      <th>3</th>\n",
       "      <td>2019</td>\n",
       "      <td>Hispanic or Latino (of any race)</td>\n",
       "      <td>4603241</td>\n",
       "    </tr>\n",
       "    <tr>\n",
       "      <th>4</th>\n",
       "      <td>2019</td>\n",
       "      <td>Native Hawaiian and Other Pacific Islander</td>\n",
       "      <td>23460</td>\n",
       "    </tr>\n",
       "    <tr>\n",
       "      <th>5</th>\n",
       "      <td>2019</td>\n",
       "      <td>Not Hispanic or Latino</td>\n",
       "      <td>4667500</td>\n",
       "    </tr>\n",
       "    <tr>\n",
       "      <th>6</th>\n",
       "      <td>2019</td>\n",
       "      <td>White</td>\n",
       "      <td>4707974</td>\n",
       "    </tr>\n",
       "    <tr>\n",
       "      <th>7</th>\n",
       "      <td>2019</td>\n",
       "      <td>White alone</td>\n",
       "      <td>2335886</td>\n",
       "    </tr>\n",
       "  </tbody>\n",
       "</table>\n",
       "</div>"
      ],
      "text/plain": [
       "  census year                          census demographic  Estimate\n",
       "0        2019           American Indian and Alaska Native     67610\n",
       "1        2019                                       Asian   1355587\n",
       "2        2019                   Black or African American    745050\n",
       "3        2019            Hispanic or Latino (of any race)   4603241\n",
       "4        2019  Native Hawaiian and Other Pacific Islander     23460\n",
       "5        2019                      Not Hispanic or Latino   4667500\n",
       "6        2019                                       White   4707974\n",
       "7        2019                                 White alone   2335886"
      ]
     },
     "execution_count": 24,
     "metadata": {},
     "output_type": "execute_result"
    }
   ],
   "source": [
    "agg_la_est_df.head(10)"
   ]
  },
  {
   "cell_type": "markdown",
   "id": "ab965b9d-f522-4f40-a27a-20af00b5d2c8",
   "metadata": {
    "tags": []
   },
   "source": [
    "## Calculate error for aggregation\n",
    "\n",
    "Because I'm deriving my own estimates (summing census tracts within CA-600), I want to confirm that the demographic data I'm using is still reliable by calculating coefficients of variance for these estimates as well. For this I consulted [\"Calculating Measures Of Error For Derived Estimates\"](https://web.archive.org/web/20220119121038/https://www.census.gov/content/dam/Census/library/publications/2020/acs/acs_general_handbook_2020_ch08.pdf) (specifically page 60) of the American Community Survey handbook."
   ]
  },
  {
   "cell_type": "code",
   "execution_count": 25,
   "id": "c928825a-8dd4-4ebf-8d1e-ee545cdda1f4",
   "metadata": {},
   "outputs": [],
   "source": [
    "la_coc_moe_df = la_coc_df[la_coc_df['measure'] == 'Margin of Error'].copy()"
   ]
  },
  {
   "cell_type": "code",
   "execution_count": 26,
   "id": "94bdf821-aa74-4907-b51e-d71f43f528c1",
   "metadata": {},
   "outputs": [],
   "source": [
    "la_coc_moe_df.rename(columns={'value': 'MOE'}, inplace=True)"
   ]
  },
  {
   "cell_type": "markdown",
   "id": "697896ab-ca10-4228-89c8-4338e424d152",
   "metadata": {},
   "source": [
    "The American Community Survey reports 90% confidence level margins of error (p.3, [Worked Examples for Approximating Standard Errors\n",
    "Using American Community Survey Data](https://web.archive.org/web/20220120042207/https://www2.census.gov/programs-surveys/acs/tech_docs/accuracy/2020_ACS_Accuracy_Document_Worked_Examples.pdf)).\n",
    "\n",
    "For each component estimate:\n",
    "\n",
    "$$\\mathrm{SE = \\frac{MOE}{1.645}}$$"
   ]
  },
  {
   "cell_type": "code",
   "execution_count": 27,
   "id": "f67a189a-d8c4-48bb-8997-66fac2108a57",
   "metadata": {},
   "outputs": [],
   "source": [
    "la_coc_moe_df['SE'] = la_coc_moe_df['MOE']/1.645"
   ]
  },
  {
   "cell_type": "markdown",
   "id": "da8ab72d-d803-400d-a19d-1107c8a3ce0c",
   "metadata": {
    "tags": []
   },
   "source": [
    "### Example\n",
    "\n",
    "#### Estimate\n",
    "\n",
    "For the aggregate estimate $\\mathrm{\\color{blue}{\\hat{A}}}$:\n",
    "\n",
    "$~~~~\\mathrm{\\color{blue}{\\hat{A}} = \\hat{A}_{1} + \\hat{A}_{2} + \\cdots + \\hat{A}_{n}}$"
   ]
  },
  {
   "cell_type": "markdown",
   "id": "55c26f4f-74b0-448a-a22a-730518bd7046",
   "metadata": {},
   "source": [
    "For `Hispanic or Latino (of any race)` in `2010`:\n"
   ]
  },
  {
   "cell_type": "code",
   "execution_count": 28,
   "id": "5e88f0ff-21e0-47e8-9f8d-72396764d70e",
   "metadata": {},
   "outputs": [
    {
     "data": {
      "text/html": [
       "<div>\n",
       "<style scoped>\n",
       "    .dataframe tbody tr th:only-of-type {\n",
       "        vertical-align: middle;\n",
       "    }\n",
       "\n",
       "    .dataframe tbody tr th {\n",
       "        vertical-align: top;\n",
       "    }\n",
       "\n",
       "    .dataframe thead th {\n",
       "        text-align: right;\n",
       "    }\n",
       "</style>\n",
       "<table border=\"1\" class=\"dataframe\">\n",
       "  <thead>\n",
       "    <tr style=\"text-align: right;\">\n",
       "      <th></th>\n",
       "      <th>census year</th>\n",
       "      <th>census demographic</th>\n",
       "      <th>Estimate</th>\n",
       "    </tr>\n",
       "  </thead>\n",
       "  <tbody>\n",
       "    <tr>\n",
       "      <th>3</th>\n",
       "      <td>2019</td>\n",
       "      <td>Hispanic or Latino (of any race)</td>\n",
       "      <td>4603241</td>\n",
       "    </tr>\n",
       "  </tbody>\n",
       "</table>\n",
       "</div>"
      ],
      "text/plain": [
       "  census year                census demographic  Estimate\n",
       "3        2019  Hispanic or Latino (of any race)   4603241"
      ]
     },
     "execution_count": 28,
     "metadata": {},
     "output_type": "execute_result"
    }
   ],
   "source": [
    "agg_la_est_df.iloc[3:4]"
   ]
  },
  {
   "cell_type": "markdown",
   "id": "e712ba9e-c67d-4c3a-82de-3c9a04d40527",
   "metadata": {},
   "source": [
    "#### Error\n",
    "\n",
    "So, for the standard error $\\mathrm{\\color{red}{SE}}$ of the aggregate estimate:\n",
    "    \n",
    "$~~~~\\mathrm{\\color{red}{SE}(\\color{blue}{\\hat{A}}) = \\sqrt{\\color{red}{SE}(\\hat{A}_{1})]^{2} + [\\color{red}{SE}(\\hat{A}_{2})]^{2} + \\cdots + [\\color{red}{SE}(\\hat{A}_{n})]^{2}}}$"
   ]
  },
  {
   "cell_type": "markdown",
   "id": "49e40f9f-a61c-4af5-be13-9798347151de",
   "metadata": {},
   "source": [
    "For `Hispanic or Latino (of any race)` in `2010`:\n",
    "\n",
    "\n",
    "| census year | demographic                      | Census Tract | SE  |\n",
    "|-------------|----------------------------------|--------------|-----|\n",
    "| 2010        | Hispanic or Latino (of any race) | 1            | 237 |\n",
    "| 2010        | Hispanic or Latino (of any race) | 2            | 102 |\n",
    "| ...         | ...                              | ...          | ... |\n",
    "| 2010        | Hispanic or Latino (of any race) | 2158         | 310 |"
   ]
  },
  {
   "cell_type": "markdown",
   "id": "ec49a9c0-6c4e-4f64-8779-67521924454c",
   "metadata": {},
   "source": [
    "$~~~~\\mathrm{\\color{red}{SE}(\\color{blue}{4331506}) = \\sqrt{(237)^{2} + (102)^{2} + \\cdots + (310)^{2}}}$"
   ]
  },
  {
   "cell_type": "code",
   "execution_count": 29,
   "id": "595eaf7f-f399-499e-b045-a7714538d224",
   "metadata": {
    "tags": []
   },
   "outputs": [],
   "source": [
    "def aggregate_error(values):\n",
    "    squared_values = [x**2 for x in values]\n",
    "    summed_sq = sum(squared_values)\n",
    "    return math.sqrt(summed_sq)"
   ]
  },
  {
   "cell_type": "code",
   "execution_count": 30,
   "id": "2e6db0d4-42b2-4696-925d-e78937414fe6",
   "metadata": {},
   "outputs": [],
   "source": [
    "agg_la_error_df = (\n",
    "    la_coc_moe_df.groupby(['census year', 'census demographic'])\n",
    "    .agg({'SE': aggregate_error}\n",
    "         )\n",
    "    .reset_index()\n",
    ")"
   ]
  },
  {
   "cell_type": "code",
   "execution_count": 31,
   "id": "636d1d11-e515-45e6-8d88-239d5004ec68",
   "metadata": {},
   "outputs": [
    {
     "data": {
      "text/html": [
       "<div>\n",
       "<style scoped>\n",
       "    .dataframe tbody tr th:only-of-type {\n",
       "        vertical-align: middle;\n",
       "    }\n",
       "\n",
       "    .dataframe tbody tr th {\n",
       "        vertical-align: top;\n",
       "    }\n",
       "\n",
       "    .dataframe thead th {\n",
       "        text-align: right;\n",
       "    }\n",
       "</style>\n",
       "<table border=\"1\" class=\"dataframe\">\n",
       "  <thead>\n",
       "    <tr style=\"text-align: right;\">\n",
       "      <th></th>\n",
       "      <th>census year</th>\n",
       "      <th>census demographic</th>\n",
       "      <th>SE</th>\n",
       "    </tr>\n",
       "  </thead>\n",
       "  <tbody>\n",
       "    <tr>\n",
       "      <th>3</th>\n",
       "      <td>2019</td>\n",
       "      <td>Hispanic or Latino (of any race)</td>\n",
       "      <td>10661.009798</td>\n",
       "    </tr>\n",
       "  </tbody>\n",
       "</table>\n",
       "</div>"
      ],
      "text/plain": [
       "  census year                census demographic            SE\n",
       "3        2019  Hispanic or Latino (of any race)  10661.009798"
      ]
     },
     "execution_count": 31,
     "metadata": {},
     "output_type": "execute_result"
    }
   ],
   "source": [
    "agg_la_error_df.iloc[3:4]"
   ]
  },
  {
   "cell_type": "markdown",
   "id": "aa1355a6-552c-4a45-9395-acbda8503031",
   "metadata": {},
   "source": [
    "$~~~~\\mathrm{\\color{red}{SE} = 11629}$"
   ]
  },
  {
   "cell_type": "markdown",
   "id": "3f6e1f23-02f9-46ee-9e58-7b5dff31f3af",
   "metadata": {},
   "source": [
    "#### Reliability\n",
    "\n",
    "$\\mathrm{CV = \\frac{\\color{red}{SE}}{\\color{blue}{Estimate}}}$"
   ]
  },
  {
   "cell_type": "code",
   "execution_count": 32,
   "id": "a1c27e31-63e8-4f6d-b38f-bfec1ac2a726",
   "metadata": {},
   "outputs": [],
   "source": [
    "agg_la_df = pd.merge(agg_la_error_df, agg_la_est_df)"
   ]
  },
  {
   "cell_type": "code",
   "execution_count": 33,
   "id": "585b5210-9b51-4d99-bb5c-9c0c2439d74a",
   "metadata": {},
   "outputs": [],
   "source": [
    "agg_la_df['CV'] = agg_la_df['SE']/agg_la_df['Estimate']"
   ]
  },
  {
   "cell_type": "code",
   "execution_count": 34,
   "id": "d6060076-1607-4349-801a-cebffc3e2987",
   "metadata": {},
   "outputs": [
    {
     "data": {
      "text/html": [
       "<div>\n",
       "<style scoped>\n",
       "    .dataframe tbody tr th:only-of-type {\n",
       "        vertical-align: middle;\n",
       "    }\n",
       "\n",
       "    .dataframe tbody tr th {\n",
       "        vertical-align: top;\n",
       "    }\n",
       "\n",
       "    .dataframe thead th {\n",
       "        text-align: right;\n",
       "    }\n",
       "</style>\n",
       "<table border=\"1\" class=\"dataframe\">\n",
       "  <thead>\n",
       "    <tr style=\"text-align: right;\">\n",
       "      <th></th>\n",
       "      <th>census year</th>\n",
       "      <th>census demographic</th>\n",
       "      <th>SE</th>\n",
       "      <th>Estimate</th>\n",
       "      <th>CV</th>\n",
       "    </tr>\n",
       "  </thead>\n",
       "  <tbody>\n",
       "    <tr>\n",
       "      <th>3</th>\n",
       "      <td>2019</td>\n",
       "      <td>Hispanic or Latino (of any race)</td>\n",
       "      <td>10661.009798</td>\n",
       "      <td>4603241</td>\n",
       "      <td>0.002316</td>\n",
       "    </tr>\n",
       "  </tbody>\n",
       "</table>\n",
       "</div>"
      ],
      "text/plain": [
       "  census year                census demographic            SE  Estimate  \\\n",
       "3        2019  Hispanic or Latino (of any race)  10661.009798   4603241   \n",
       "\n",
       "         CV  \n",
       "3  0.002316  "
      ]
     },
     "execution_count": 34,
     "metadata": {},
     "output_type": "execute_result"
    }
   ],
   "source": [
    "agg_la_df.iloc[3:4]"
   ]
  },
  {
   "cell_type": "markdown",
   "id": "0ed49c8a-019b-48ae-8082-24fa6eba7ecc",
   "metadata": {},
   "source": [
    "In this case, the coefficient of variation suggests the estimate is reliable, because the <span style=\"color:red\">error</span> is quite small compared to the <span style=\"color:blue\">estimate</span>:\n",
    "\n",
    "$\\mathrm{CV = \\frac{\\color{red}{\\sim11629}}{\\color{blue}{4331506}}} = 0.27\\%$\n",
    "\n",
    "Stepping back, it should be no surprise that estimates of the `Hispanic or Latino (of any race)` population in census tracts amounting to >90% of the population of Los Angeles County would be reliable."
   ]
  },
  {
   "cell_type": "markdown",
   "id": "247a4b5d-e6d3-4ffb-bc30-a18804396f42",
   "metadata": {},
   "source": [
    "##### Least reliable\n",
    "\n",
    "We should check the values for which the coefficient of variation is highest:"
   ]
  },
  {
   "cell_type": "code",
   "execution_count": 35,
   "id": "c202dab7-b25e-4533-a937-a7a488074dca",
   "metadata": {},
   "outputs": [
    {
     "data": {
      "text/plain": [
       "census year                                                 2019\n",
       "census demographic    Native Hawaiian and Other Pacific Islander\n",
       "SE                                                   1372.606551\n",
       "Estimate                                                   23460\n",
       "CV                                                      0.058508\n",
       "Name: 4, dtype: object"
      ]
     },
     "execution_count": 35,
     "metadata": {},
     "output_type": "execute_result"
    }
   ],
   "source": [
    "agg_la_df.iloc[agg_la_df['CV'].idxmax()]"
   ]
  },
  {
   "cell_type": "markdown",
   "id": "1c682bf0-0e7f-4484-b107-deae0aa7efb8",
   "metadata": {},
   "source": [
    "Here, the CV is ~5.9%. The `Native Hawaiian and Other Pacific Islander` population estimated to have lived in the census tracts within the Los Angeles County Continuum of Care in 2010 is much smaller than the `Hispanic or Latino (of any race)` population.\n",
    "\n",
    "Per p.16 of [Understanding and Using American Community Survey Data: What Journalists Need to Know](https://web.archive.org/web/2/https://www.census.gov/content/dam/Census/library/publications/2020/acs/acs_journalist_handbook_2020.pdf):\n",
    "> [J]ournalists often wonder “How big an error margin is too big?” Statistics teachers say, “It depends.” They are right, but that is less than helpful. Consider a simpler measure [...] called the coefficient of variation (CV) [. ...] A CV of 10 percent does not seem too wobbly, but one of 50 percent probably is for most purposes.\n",
    "\n",
    "$$\\ast\\ast\\ast$$"
   ]
  },
  {
   "cell_type": "code",
   "execution_count": 36,
   "id": "b8fb2059-9b4e-4c36-8395-79e48fb6dd4e",
   "metadata": {},
   "outputs": [],
   "source": [
    "agg_la_df.rename(columns={'Estimate': 'census estimate'},inplace=True)"
   ]
  },
  {
   "cell_type": "code",
   "execution_count": 37,
   "id": "d8872f46-68c9-43d8-9117-bcd816a091d1",
   "metadata": {},
   "outputs": [
    {
     "data": {
      "text/html": [
       "<div>\n",
       "<style scoped>\n",
       "    .dataframe tbody tr th:only-of-type {\n",
       "        vertical-align: middle;\n",
       "    }\n",
       "\n",
       "    .dataframe tbody tr th {\n",
       "        vertical-align: top;\n",
       "    }\n",
       "\n",
       "    .dataframe thead th {\n",
       "        text-align: right;\n",
       "    }\n",
       "</style>\n",
       "<table border=\"1\" class=\"dataframe\">\n",
       "  <thead>\n",
       "    <tr style=\"text-align: right;\">\n",
       "      <th></th>\n",
       "      <th>census year</th>\n",
       "      <th>census demographic</th>\n",
       "      <th>SE</th>\n",
       "      <th>census estimate</th>\n",
       "      <th>CV</th>\n",
       "    </tr>\n",
       "  </thead>\n",
       "  <tbody>\n",
       "    <tr>\n",
       "      <th>0</th>\n",
       "      <td>2019</td>\n",
       "      <td>American Indian and Alaska Native</td>\n",
       "      <td>2075.865101</td>\n",
       "      <td>67610</td>\n",
       "      <td>0.030704</td>\n",
       "    </tr>\n",
       "    <tr>\n",
       "      <th>1</th>\n",
       "      <td>2019</td>\n",
       "      <td>Asian</td>\n",
       "      <td>5667.295052</td>\n",
       "      <td>1355587</td>\n",
       "      <td>0.004181</td>\n",
       "    </tr>\n",
       "    <tr>\n",
       "      <th>2</th>\n",
       "      <td>2019</td>\n",
       "      <td>Black or African American</td>\n",
       "      <td>5305.995965</td>\n",
       "      <td>745050</td>\n",
       "      <td>0.007122</td>\n",
       "    </tr>\n",
       "    <tr>\n",
       "      <th>3</th>\n",
       "      <td>2019</td>\n",
       "      <td>Hispanic or Latino (of any race)</td>\n",
       "      <td>10661.009798</td>\n",
       "      <td>4603241</td>\n",
       "      <td>0.002316</td>\n",
       "    </tr>\n",
       "    <tr>\n",
       "      <th>4</th>\n",
       "      <td>2019</td>\n",
       "      <td>Native Hawaiian and Other Pacific Islander</td>\n",
       "      <td>1372.606551</td>\n",
       "      <td>23460</td>\n",
       "      <td>0.058508</td>\n",
       "    </tr>\n",
       "    <tr>\n",
       "      <th>5</th>\n",
       "      <td>2019</td>\n",
       "      <td>Not Hispanic or Latino</td>\n",
       "      <td>9002.888563</td>\n",
       "      <td>4667500</td>\n",
       "      <td>0.001929</td>\n",
       "    </tr>\n",
       "    <tr>\n",
       "      <th>6</th>\n",
       "      <td>2019</td>\n",
       "      <td>White</td>\n",
       "      <td>11845.108800</td>\n",
       "      <td>4707974</td>\n",
       "      <td>0.002516</td>\n",
       "    </tr>\n",
       "    <tr>\n",
       "      <th>7</th>\n",
       "      <td>2019</td>\n",
       "      <td>White alone</td>\n",
       "      <td>6608.626223</td>\n",
       "      <td>2335886</td>\n",
       "      <td>0.002829</td>\n",
       "    </tr>\n",
       "  </tbody>\n",
       "</table>\n",
       "</div>"
      ],
      "text/plain": [
       "  census year                          census demographic            SE  \\\n",
       "0        2019           American Indian and Alaska Native   2075.865101   \n",
       "1        2019                                       Asian   5667.295052   \n",
       "2        2019                   Black or African American   5305.995965   \n",
       "3        2019            Hispanic or Latino (of any race)  10661.009798   \n",
       "4        2019  Native Hawaiian and Other Pacific Islander   1372.606551   \n",
       "5        2019                      Not Hispanic or Latino   9002.888563   \n",
       "6        2019                                       White  11845.108800   \n",
       "7        2019                                 White alone   6608.626223   \n",
       "\n",
       "   census estimate        CV  \n",
       "0            67610  0.030704  \n",
       "1          1355587  0.004181  \n",
       "2           745050  0.007122  \n",
       "3          4603241  0.002316  \n",
       "4            23460  0.058508  \n",
       "5          4667500  0.001929  \n",
       "6          4707974  0.002516  \n",
       "7          2335886  0.002829  "
      ]
     },
     "execution_count": 37,
     "metadata": {},
     "output_type": "execute_result"
    }
   ],
   "source": [
    "agg_la_df"
   ]
  },
  {
   "cell_type": "markdown",
   "id": "c047acdf-0e26-4005-ac51-89d6c5d05b5c",
   "metadata": {},
   "source": [
    "# All other counties"
   ]
  },
  {
   "cell_type": "code",
   "execution_count": 38,
   "id": "9dfd5dd7-9b92-4178-bba9-ac2e62aa47b3",
   "metadata": {},
   "outputs": [],
   "source": [
    "# def track_fields(file):\n",
    "#     year = os.path.basename(file)[7:11]\n",
    "#     df = pd.read_csv(file)\n",
    "#     fields = [{'year': year,'position': index, 'field': key} for index, key in enumerate(df.iloc[:,0])]\n",
    "#     return pd.DataFrame(fields)"
   ]
  },
  {
   "cell_type": "code",
   "execution_count": 39,
   "id": "ee17f106-60ca-42be-9f28-d18df2007c56",
   "metadata": {},
   "outputs": [],
   "source": [
    "def reshape(df):\n",
    "    reshaped_df = df.melt(id_vars=['census demographic'])\n",
    "    reshaped_df['geography'] = reshaped_df['variable'].str.split(\n",
    "        '!!', n=1, expand=True)[0]\n",
    "    reshaped_df[['geography', 'state']] = reshaped_df['geography'].str.split(\n",
    "        ', ', 1, expand=True)\n",
    "    reshaped_df['measure'] = reshaped_df['variable'].str.split(\n",
    "        '!!', n=1, expand=True)[1]\n",
    "    reshaped_df.drop(labels=['variable'], axis=1, inplace=True)\n",
    "    index_cols = ['geography', 'state', 'census demographic']\n",
    "    final_df = reshaped_df.pivot(\n",
    "        index=index_cols, columns='measure', values='value').reset_index()\n",
    "    final_df.rename_axis(None, axis=1, inplace=True)\n",
    "    return final_df"
   ]
  },
  {
   "cell_type": "code",
   "execution_count": 40,
   "id": "0aeffb1f-31fa-46e0-b424-9369112fb1e0",
   "metadata": {
    "tags": []
   },
   "outputs": [],
   "source": [
    "def read_dp05(file):\n",
    "    year = os.path.basename(file)[7:11]\n",
    "    df = pd.read_csv(file)\n",
    "    df.rename(columns={'Label (Grouping)': 'census demographic'}, inplace=True)\n",
    "    # if year == '2020':\n",
    "    #     ethnicity_df = pd.concat([df.iloc[74:75], df.iloc[79:80]])\n",
    "    #     combination_race_df = pd.concat([df.iloc[65:66], df.iloc[80:81], df.iloc[67:72]])\n",
    "    #     one_race_df = pd.concat([df.iloc[39:41],df.iloc[45:46],df.iloc[53:54], df.iloc[58:59],df.iloc[80:81]])\n",
    "    # else:\n",
    "    #     ethnicity_df = pd.concat([df.iloc[69:70], df.iloc[74:75]])\n",
    "    #     combination_race_df = pd.concat([df.iloc[60:61],df.iloc[75:76],df.iloc[62:67]])\n",
    "    #     one_race_df = pd.concat([df.iloc[34:36],df.iloc[40:41],df.iloc[48:49],df.iloc[75:76]])\n",
    "    if year == '2019' or year == '2020':\n",
    "        df.drop([4, 20, 21, 28, 32, 90, 91, 92, 93], axis=0, inplace=True)\n",
    "    ethnicity_df = pd.concat([df.iloc[69:70], df.iloc[74:75]])\n",
    "    combination_race_df = pd.concat(\n",
    "        [df.iloc[75:76], df.iloc[60:67]])\n",
    "    one_race_df = pd.concat(\n",
    "        [df.iloc[33:36], df.iloc[40:41], df.iloc[48:49], df.iloc[75:76]])\n",
    "    reshaped_ethnicity_df = reshape(ethnicity_df)\n",
    "    reshaped_ethnicity_df['variable'] = 'ethnicity'\n",
    "    reshaped_combination_race_df = reshape(combination_race_df)\n",
    "    reshaped_combination_race_df['variable'] = 'race alone or in combination'\n",
    "    reshaped_one_race_df = reshape(one_race_df)\n",
    "    reshaped_one_race_df['variable'] = 'one race'\n",
    "    merged_df = pd.concat(\n",
    "        [reshaped_ethnicity_df, reshaped_combination_race_df, reshaped_one_race_df], ignore_index=True)\n",
    "    merged_df['census demographic'] = merged_df['census demographic'].str.replace(\n",
    "        '\\xa0', '')\n",
    "    merged_df['census year'] = year\n",
    "    merged_df.rename(columns={'Estimate': 'census estimate', 'Percent': 'census percent'},inplace=True)\n",
    "    # return reshaped_ethnicity_df, reshaped_combination_race_df, reshaped_one_race_df\n",
    "    return merged_df"
   ]
  },
  {
   "cell_type": "code",
   "execution_count": 41,
   "id": "9c858e2e-aa3f-416e-9c2a-c1e04e54076b",
   "metadata": {},
   "outputs": [
    {
     "ename": "NameError",
     "evalue": "name 'files' is not defined",
     "output_type": "error",
     "traceback": [
      "\u001b[0;31m---------------------------------------------------------------------------\u001b[0m",
      "\u001b[0;31mNameError\u001b[0m                                 Traceback (most recent call last)",
      "Input \u001b[0;32mIn [41]\u001b[0m, in \u001b[0;36m<cell line: 1>\u001b[0;34m()\u001b[0m\n\u001b[0;32m----> 1\u001b[0m dp05 \u001b[38;5;241m=\u001b[39m pd\u001b[38;5;241m.\u001b[39mconcat([read_dp05(file) \u001b[38;5;28;01mfor\u001b[39;00m file \u001b[38;5;129;01min\u001b[39;00m \u001b[43mfiles\u001b[49m], ignore_index\u001b[38;5;241m=\u001b[39m\u001b[38;5;28;01mTrue\u001b[39;00m)\n",
      "\u001b[0;31mNameError\u001b[0m: name 'files' is not defined"
     ]
    }
   ],
   "source": [
    "dp05 = pd.concat([read_dp05(file) for file in files], ignore_index=True)"
   ]
  },
  {
   "cell_type": "code",
   "execution_count": null,
   "id": "681ac142-6232-4b15-81e7-1eb0b4bc07a9",
   "metadata": {},
   "outputs": [],
   "source": [
    "# dp05 = read_dp05('../01_inputs/USCB/DP05/ACSDP5Y2019.DP05-2022-04-01T073326.csv')"
   ]
  },
  {
   "cell_type": "code",
   "execution_count": null,
   "id": "90d31b52-eaef-466e-a1ec-00b5e085dd1e",
   "metadata": {},
   "outputs": [],
   "source": [
    "dp05[dp05['variable'].isin(['ethnicity','one race'])].groupby('census demographic')[['geography','census year']].nunique()"
   ]
  },
  {
   "cell_type": "code",
   "execution_count": null,
   "id": "75abed15-e063-4b74-b174-d83db6e55a1f",
   "metadata": {},
   "outputs": [],
   "source": [
    "# dp05 = read_dp05_2019('../01_inputs/USCB/DP05/ACSDP5Y2019.DP05-2022-04-01T073326.csv')"
   ]
  },
  {
   "cell_type": "code",
   "execution_count": null,
   "id": "47f3b365-8797-4108-acbe-a99523608a7c",
   "metadata": {},
   "outputs": [],
   "source": [
    "dp05.head(2)"
   ]
  },
  {
   "cell_type": "code",
   "execution_count": null,
   "id": "578617e0-d389-420a-bdd6-cdd03cccce6d",
   "metadata": {},
   "outputs": [],
   "source": [
    "dp05[['census percent', 'census estimate']] = dp05[['census percent', 'census estimate']\n",
    "                                     ].applymap(lambda x: re.sub('\\,|\\%', '', x))"
   ]
  },
  {
   "cell_type": "code",
   "execution_count": null,
   "id": "a5eaad55-8d10-4dfc-870e-4a08c085ac88",
   "metadata": {},
   "outputs": [],
   "source": [
    "dp05['census percent'] = pd.to_numeric(dp05['census percent'])/100"
   ]
  },
  {
   "cell_type": "code",
   "execution_count": null,
   "id": "446159f0-7bcb-46bc-add3-3b1495e8f4bc",
   "metadata": {},
   "outputs": [],
   "source": [
    "dp05.head(2)"
   ]
  },
  {
   "cell_type": "code",
   "execution_count": null,
   "id": "36adaf82-c2a4-46fd-b36c-f35a87595c74",
   "metadata": {},
   "outputs": [],
   "source": [
    "dp05.loc[dp05['census demographic'] == 'Total population', 'census percent'] = 100"
   ]
  },
  {
   "cell_type": "code",
   "execution_count": null,
   "id": "99597ade-8deb-41c5-8167-3ba0ef4799c7",
   "metadata": {},
   "outputs": [],
   "source": [
    "dp05['census estimate'] = pd.to_numeric(dp05['census estimate'])"
   ]
  },
  {
   "cell_type": "code",
   "execution_count": null,
   "id": "3bd8d41f-f991-4a2b-b359-5d1ad4fa8523",
   "metadata": {},
   "outputs": [],
   "source": [
    "dp05_total = dp05[dp05['census demographic'] == 'Total population'].copy()"
   ]
  },
  {
   "cell_type": "code",
   "execution_count": null,
   "id": "7b0c3144-d068-4a90-a085-a24748cf3844",
   "metadata": {},
   "outputs": [],
   "source": [
    "dp05_total.rename(columns={'census estimate': 'total_population'}, inplace=True)"
   ]
  },
  {
   "cell_type": "code",
   "execution_count": null,
   "id": "50761579-1f9f-454e-a327-32ad5cf1e473",
   "metadata": {},
   "outputs": [],
   "source": [
    "dp05 = dp05[dp05['census demographic'] != 'Total population'].copy()"
   ]
  },
  {
   "cell_type": "code",
   "execution_count": null,
   "id": "795f3705-53d8-4e80-ba8f-ba98eacc670d",
   "metadata": {},
   "outputs": [],
   "source": [
    "dp05_df = pd.merge(dp05, dp05_total[['geography', 'state', 'total_population',\n",
    "                                     'census year']])"
   ]
  },
  {
   "cell_type": "code",
   "execution_count": null,
   "id": "a0b6646c-ad9c-47c1-a08f-2840d5df79ad",
   "metadata": {},
   "outputs": [],
   "source": [
    "dp05_df[dp05_df['variable'].isin(['ethnicity','one race'])].groupby('census demographic')[['geography','census year']].nunique()"
   ]
  },
  {
   "cell_type": "code",
   "execution_count": null,
   "id": "8746200e-9fbd-4293-9a83-85223a0427c5",
   "metadata": {},
   "outputs": [],
   "source": [
    "pitc_county_dp05_df = dp05_df[\n",
    "    (dp05_df['variable'].isin(['ethnicity', 'one race']))\n",
    "    & (dp05_df['census year']=='2019')\n",
    "    & (\n",
    "        dp05_df['geography'].isin(\n",
    "            [\n",
    "                'Los Angeles County*',\n",
    "                'Alameda County',\n",
    "                'King County',\n",
    "                'Multnomah County',\n",
    "                'Sacramento County',\n",
    "                'San Diego County',\n",
    "            ]\n",
    "        )\n",
    "    )\n",
    "].copy()"
   ]
  },
  {
   "cell_type": "code",
   "execution_count": null,
   "id": "fc656f56-ea43-4b50-b1da-501d9d8deb2b",
   "metadata": {},
   "outputs": [],
   "source": [
    "pitc_county_dp05_df.groupby('census demographic')[['geography','census year']].nunique()"
   ]
  },
  {
   "cell_type": "markdown",
   "id": "6f401008-191e-4c1e-89e1-dbb7f1540a9b",
   "metadata": {},
   "source": [
    "## Combine LA CoC and county data"
   ]
  },
  {
   "cell_type": "markdown",
   "id": "695856b4-5c95-4f62-9585-930edfae713c",
   "metadata": {},
   "source": [
    "### Percent calculation for LA CoC"
   ]
  },
  {
   "cell_type": "code",
   "execution_count": null,
   "id": "a9a96457-3338-44ad-bf16-15a287c70be3",
   "metadata": {},
   "outputs": [],
   "source": [
    "agg_la_df.loc[agg_la_df['census demographic'].str.contains(\n",
    "    'Hispanic'), 'variable'] = 'ethnicity'"
   ]
  },
  {
   "cell_type": "code",
   "execution_count": null,
   "id": "250700d7-82b1-40ba-bc69-dd4ccb1463ff",
   "metadata": {},
   "outputs": [],
   "source": [
    "agg_la_df"
   ]
  },
  {
   "cell_type": "code",
   "execution_count": null,
   "id": "020ed4e3-f144-4c55-8f44-6fdfaa768df2",
   "metadata": {},
   "outputs": [],
   "source": [
    "agg_la_df['variable'].fillna('one race', inplace=True)"
   ]
  },
  {
   "cell_type": "code",
   "execution_count": null,
   "id": "49334f6e-e1b1-44da-8f72-5b4232f8714d",
   "metadata": {},
   "outputs": [],
   "source": [
    "agg_la_df"
   ]
  },
  {
   "cell_type": "code",
   "execution_count": null,
   "id": "91762755-2faa-4149-a598-50d3058993e2",
   "metadata": {},
   "outputs": [],
   "source": [
    "la_coc_totals"
   ]
  },
  {
   "cell_type": "code",
   "execution_count": null,
   "id": "bc83ce8f-918a-4fb3-bf29-9a2e842ce3b2",
   "metadata": {},
   "outputs": [],
   "source": [
    "la_df = pd.merge(\n",
    "    agg_la_df[['census year', 'census demographic', 'census estimate',  'variable']], la_coc_totals)"
   ]
  },
  {
   "cell_type": "code",
   "execution_count": null,
   "id": "778fface-c279-4c53-9b7f-6ff8956ff0f3",
   "metadata": {},
   "outputs": [],
   "source": [
    "la_df"
   ]
  },
  {
   "cell_type": "code",
   "execution_count": null,
   "id": "fb84e1d1-fccc-440a-98fb-03c9b680e505",
   "metadata": {},
   "outputs": [],
   "source": [
    "la_df['census percent'] = la_df['census estimate']/la_df['total_population']"
   ]
  },
  {
   "cell_type": "code",
   "execution_count": null,
   "id": "3ef9d764-f283-4cee-af0f-78355fd313f2",
   "metadata": {},
   "outputs": [],
   "source": [
    "la_df"
   ]
  },
  {
   "cell_type": "code",
   "execution_count": null,
   "id": "678657e1-6908-489e-82d0-55c7838faecb",
   "metadata": {},
   "outputs": [],
   "source": [
    "la_df['geography'] = 'Los Angeles County*'"
   ]
  },
  {
   "cell_type": "code",
   "execution_count": null,
   "id": "81cddaaf-11be-4572-ae24-a0f12bac98b2",
   "metadata": {},
   "outputs": [],
   "source": [
    "la_df['state'] = 'California'"
   ]
  },
  {
   "cell_type": "code",
   "execution_count": null,
   "id": "afde09eb-fdb0-46b9-91ca-0ad16f672ea9",
   "metadata": {},
   "outputs": [],
   "source": [
    "la_df"
   ]
  },
  {
   "cell_type": "code",
   "execution_count": null,
   "id": "7605891e-ecd0-468d-9c2b-e8b58da4a6de",
   "metadata": {},
   "outputs": [],
   "source": [
    "la_df.info()"
   ]
  },
  {
   "cell_type": "code",
   "execution_count": null,
   "id": "f770df1b-4d62-4c6a-9745-e988eb157c94",
   "metadata": {},
   "outputs": [],
   "source": [
    "pitc_dp05_df"
   ]
  },
  {
   "cell_type": "code",
   "execution_count": null,
   "id": "edc87776-2a35-4f7c-8471-45d01bc731f4",
   "metadata": {},
   "outputs": [],
   "source": [
    "combined_dp05_df_county = pd.concat([la_df, pitc_county_dp05_df], ignore_index=True)"
   ]
  },
  {
   "cell_type": "code",
   "execution_count": null,
   "id": "8128a613-35f9-4bb3-a513-4fd5ad0977aa",
   "metadata": {},
   "outputs": [],
   "source": [
    "combined_dp05_df_county.groupby('census demographic')[['geography','census year']].nunique()"
   ]
  },
  {
   "cell_type": "code",
   "execution_count": null,
   "id": "76afdf8c-02c2-45b7-b609-5b1bd6ba2891",
   "metadata": {},
   "outputs": [],
   "source": [
    "combined_dp05_df_county['geography'].unique()"
   ]
  },
  {
   "cell_type": "code",
   "execution_count": null,
   "id": "43548491-5fd9-4dcf-9a97-aff405f418ef",
   "metadata": {},
   "outputs": [],
   "source": [
    "county_fips_dict = {\n",
    "    'Alameda County': '06001',\n",
    "    'Los Angeles County*': '06037',\n",
    "    'Sacramento County': '06067',\n",
    "    'San Diego County': '06073',\n",
    "    'Multnomah County': '41051',\n",
    "    'King County': '53033',\n",
    "}"
   ]
  },
  {
   "cell_type": "code",
   "execution_count": null,
   "id": "ba6761ff-d880-48da-bf6b-d0ee4815e170",
   "metadata": {},
   "outputs": [],
   "source": [
    "combined_dp05_df_county['county_fips'] = combined_dp05_df_county['geography'].replace(\n",
    "    county_fips_dict\n",
    ")"
   ]
  },
  {
   "cell_type": "code",
   "execution_count": null,
   "id": "d5e26459-36fc-4901-b361-d358d6249fd0",
   "metadata": {},
   "outputs": [],
   "source": [
    "combined_dp05_df_county.groupby('census demographic')[['geography','census year']].nunique()"
   ]
  },
  {
   "cell_type": "code",
   "execution_count": null,
   "id": "e0910000-5f0a-4eae-80d7-a54fbf3df73d",
   "metadata": {},
   "outputs": [],
   "source": [
    "combined_dp05_df_county.to_csv(\n",
    "    '../04_outputs/c01_USCB-ACS5Y-DP05-County.csv', index=False)"
   ]
  },
  {
   "cell_type": "code",
   "execution_count": null,
   "id": "1f1fd0fe-3ce9-4ea8-9f2f-d8e1d8f47010",
   "metadata": {},
   "outputs": [],
   "source": [
    "city_dp05_df = dp05_df[(dp05_df['variable'].isin(\n",
    "    ['ethnicity', 'race alone or in combination'])) & (dp05_df['geography'].str.contains('city'))].copy()"
   ]
  },
  {
   "cell_type": "code",
   "execution_count": null,
   "id": "1795f35a-0ad8-43c8-82b3-1db28aab930c",
   "metadata": {},
   "outputs": [],
   "source": [
    "geo_to_coc_dict = {\n",
    "    'Los Angeles city': 'CA-600',\n",
    "    'Oakland city': 'CA-502',\n",
    "    'Portland city': 'OR-501',\n",
    "    'Sacramento city': 'CA-503',\n",
    "    'San Diego city': 'CA-601',\n",
    "    'Seattle city': 'WA-500',\n",
    "}"
   ]
  },
  {
   "cell_type": "code",
   "execution_count": null,
   "id": "f6fb741d-5fe9-40e6-832f-3dcdf578ae70",
   "metadata": {},
   "outputs": [],
   "source": [
    "city_dp05_df['coc_number'] = city_dp05_df['geography'].replace(geo_to_coc_dict)"
   ]
  },
  {
   "cell_type": "code",
   "execution_count": null,
   "id": "b2ca752d-33fd-4b30-a1ff-b28d71ef2439",
   "metadata": {},
   "outputs": [],
   "source": [
    "city_dp05_df['geography'] = city_dp05_df['geography'].str.replace(' city','')"
   ]
  },
  {
   "cell_type": "code",
   "execution_count": null,
   "id": "c6e40e12-0081-4880-aacc-c7b33929a06b",
   "metadata": {},
   "outputs": [],
   "source": [
    "city_dp05_df.groupby('census demographic')[['geography','census year']].nunique()"
   ]
  },
  {
   "cell_type": "code",
   "execution_count": null,
   "id": "f403be44-2a4d-4df2-9988-2336c432a787",
   "metadata": {},
   "outputs": [],
   "source": [
    "city_dp05_df.rename(\n",
    "    columns={'demographic': 'census demographic'}, inplace=True)"
   ]
  },
  {
   "cell_type": "code",
   "execution_count": null,
   "id": "289e9664-fcb1-4865-9f8b-db9dfa489189",
   "metadata": {},
   "outputs": [],
   "source": [
    "city_dp05_df.to_csv(\n",
    "    '../04_outputs/c01_USCB-ACS5Y-DP05-City.csv', index=False)"
   ]
  }
 ],
 "metadata": {
  "kernelspec": {
   "display_name": "Python 3 (ipykernel)",
   "language": "python",
   "name": "python3"
  },
  "language_info": {
   "codemirror_mode": {
    "name": "ipython",
    "version": 3
   },
   "file_extension": ".py",
   "mimetype": "text/x-python",
   "name": "python",
   "nbconvert_exporter": "python",
   "pygments_lexer": "ipython3",
   "version": "3.8.5"
  },
  "toc-autonumbering": false,
  "toc-showmarkdowntxt": false
 },
 "nbformat": 4,
 "nbformat_minor": 5
}
