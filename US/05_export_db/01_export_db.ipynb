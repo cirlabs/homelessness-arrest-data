{
 "cells": [
  {
   "cell_type": "markdown",
   "id": "7bd6f100-0442-4713-8b51-67d1cd190c18",
   "metadata": {},
   "source": [
    "# Export to Database\n",
    "\n",
    "- Template notebook for exporting to database format \n",
    "- Exporting to database format enables publishing data internally to Orca\n",
    "    - Database file is exporting to current working directory \n",
    "- Feel free to modify code as you see fit, current template is optimized for setting constants and exporting a single database file\n",
    "- Notebook assumes you have ran `pip install jupyterlab pandas`"
   ]
  },
  {
   "cell_type": "code",
   "execution_count": null,
   "id": "1e8d8267-b905-475d-b2c5-23549324b4f5",
   "metadata": {},
   "outputs": [],
   "source": [
    "import pandas as pd\n",
    "import sqlite3"
   ]
  },
  {
   "cell_type": "markdown",
   "id": "2e24e80c-53aa-4233-9019-2ded911041e7",
   "metadata": {},
   "source": [
    "# 1.0 Setup Parameters\n",
    "\n",
    "- Set output database name\n",
    "- List of tuples where each entry defines a (file path for imported CSV, outputted table name, and any data types that need to be explicitly defined) tuple\n",
    "    - dtype dict is an optional parameter and can be left empty"
   ]
  },
  {
   "cell_type": "code",
   "execution_count": null,
   "id": "3bcdc87d-a0fb-46f9-a7a4-8c52787914eb",
   "metadata": {},
   "outputs": [],
   "source": [
    "DATABASE_NAME = 'DATABASE_NAME'\n",
    "\n",
    "FP_DTYPE_TABLENAME_TUPLES = [\n",
    "    ('csv_fp', 'table_name',\n",
    "     {'column': str}),\n",
    "]"
   ]
  },
  {
   "cell_type": "markdown",
   "id": "89c0db31-f9ea-433a-b31e-f6ea45297c59",
   "metadata": {},
   "source": [
    "# 2.0 Read and Export\n",
    "\n",
    "- Setup database engine for exporting to sqlite\n",
    "- Read in each CSV filed defined in FP_DTYPE_TABLENAME_TUPLES"
   ]
  },
  {
   "cell_type": "code",
   "execution_count": null,
   "id": "63682c34-0bb5-4204-bf47-fe1046988038",
   "metadata": {},
   "outputs": [],
   "source": [
    "conn = sqlite3.connect(f'./{DATABASE_NAME}.db')\n",
    "for csv_fp, table_name, dtype in FP_DTYPE_TABLENAME_TUPLES:\n",
    "    df_table = pd.read_csv(csv_fp, dtype=dtype)\n",
    "    df_table.to_sql(table_name,\n",
    "                    conn,\n",
    "                    index=False)"
   ]
  },
  {
   "cell_type": "code",
   "execution_count": null,
   "id": "ffbafbd1-8abf-4cac-ba4f-94f452e274b6",
   "metadata": {},
   "outputs": [],
   "source": []
  }
 ],
 "metadata": {
  "kernelspec": {
   "display_name": "Python 3 (ipykernel)",
   "language": "python",
   "name": "python3"
  },
  "language_info": {
   "codemirror_mode": {
    "name": "ipython",
    "version": 3
   },
   "file_extension": ".py",
   "mimetype": "text/x-python",
   "name": "python",
   "nbconvert_exporter": "python",
   "pygments_lexer": "ipython3",
   "version": "3.8.5"
  }
 },
 "nbformat": 4,
 "nbformat_minor": 5
}
