{
 "cells": [
  {
   "cell_type": "markdown",
   "id": "annoying-machinery",
   "metadata": {},
   "source": [
    "# Oakland Police Department Charges"
   ]
  },
  {
   "cell_type": "code",
   "execution_count": 1,
   "id": "b877b20f-7b4e-4ed8-a85a-c64f61b7e786",
   "metadata": {},
   "outputs": [],
   "source": [
    "import sys\n",
    "\n",
    "# append the directory of law module to sys.path list\n",
    "sys.path.append('../../../modules')"
   ]
  },
  {
   "cell_type": "code",
   "execution_count": 2,
   "id": "proprietary-brisbane",
   "metadata": {},
   "outputs": [],
   "source": [
    "import random\n",
    "import re\n",
    "\n",
    "import arrest\n",
    "import law\n",
    "import numpy as np\n",
    "import pandas as pd\n",
    "import requests"
   ]
  },
  {
   "cell_type": "code",
   "execution_count": 3,
   "id": "brown-luxury",
   "metadata": {},
   "outputs": [],
   "source": [
    "df = pd.read_csv('../04_outputs/c00_arrest_data.csv',\n",
    "                 dtype=str,\n",
    "                 keep_default_na=False)"
   ]
  },
  {
   "cell_type": "code",
   "execution_count": 4,
   "id": "88a1a9f7-65df-47e4-a870-216cfa0975d1",
   "metadata": {},
   "outputs": [],
   "source": [
    "df.rename(\n",
    "    columns={\n",
    "        'PerSta_Statute_Desc': '_original_charge_description',\n",
    "        'PerSta_Statute_Cd': '_original_charge_code'\n",
    "    },\n",
    "    inplace=True,\n",
    ")"
   ]
  },
  {
   "cell_type": "code",
   "execution_count": 5,
   "id": "8b34b621-14c2-40a8-9ff1-8458659ac33a",
   "metadata": {},
   "outputs": [],
   "source": [
    "df['Arr_DateTime'] = pd.to_datetime(df['Arr_DateTime'])"
   ]
  },
  {
   "cell_type": "markdown",
   "id": "5cb2a20f-0e54-4fdc-88bf-2c41b8d1f5d7",
   "metadata": {},
   "source": [
    "## Parse charge code field"
   ]
  },
  {
   "cell_type": "code",
   "execution_count": 6,
   "id": "b2036037-511a-4c37-a31f-888b9eda70f8",
   "metadata": {},
   "outputs": [],
   "source": [
    "df[['_code_type', '_code']] = df.apply(lambda x: arrest.Charge.parse_code_type(\n",
    "    x['_original_charge_code'], other_codes=['OM', 'B/W', 'O/W']), axis=1, result_type='expand')"
   ]
  },
  {
   "cell_type": "markdown",
   "id": "4a885102-97b0-4849-a9e4-4053228cf359",
   "metadata": {},
   "source": [
    "### Code Type and Code"
   ]
  },
  {
   "cell_type": "code",
   "execution_count": 7,
   "id": "ab58c321-4236-431f-9e9d-aba7fa7800a7",
   "metadata": {},
   "outputs": [
    {
     "data": {
      "text/plain": [
       "_code      _original_charge_description               \n",
       "ATTSUI     ATTEMPT SUICIDE                                11\n",
       "CP1209     CONTEMPT OF COURT                               1\n",
       "DD         DOMESTIC DISPUTE                                8\n",
       "GC8634     CURFEW/ETC VIOLATION DURING LOCAL EMERGENCY     1\n",
       "HN305      SINK/ETC VESSEL/ETC                             1\n",
       "HN655 (B)  USE WATERCRAFT WHILE UNDER INFLUENCE            1\n",
       "OAR        ASSIST OUTSIDE AGENCY                           8\n",
       "OP         OPERTATIONS PLAN                                1\n",
       "PROB       PROBATION HOLD                                  1\n",
       "SC207      SC KIDNAPPING                                   1\n",
       "SC211      SC ROBBERY - OTHER DANGEROUS WEAPON             1\n",
       "ZZ65000    LOCAL ORDINANCE VIOL                            1\n",
       "Name: _arrest_id, dtype: int64"
      ]
     },
     "execution_count": 7,
     "metadata": {},
     "output_type": "execute_result"
    }
   ],
   "source": [
    "df[df['_code_type'] == ''].groupby(\n",
    "    ['_code', '_original_charge_description', ])['_arrest_id'].nunique()"
   ]
  },
  {
   "cell_type": "markdown",
   "id": "8f016bf9-d76f-4e35-8b51-08128462b73c",
   "metadata": {},
   "source": [
    "### Code and 'meta,' e.g. 'attempted'"
   ]
  },
  {
   "cell_type": "code",
   "execution_count": 8,
   "id": "344882d4-2f88-4cb6-b072-aea5031b7b16",
   "metadata": {},
   "outputs": [],
   "source": [
    "df[['_code', '_meta_code']] = df.apply(lambda x: arrest.Charge.parse_meta(\n",
    "    x['_code'], x['_code_type']), axis=1, result_type='expand')"
   ]
  },
  {
   "cell_type": "code",
   "execution_count": 9,
   "id": "76350da1-3903-437a-87a9-37e3e587ce78",
   "metadata": {},
   "outputs": [
    {
     "data": {
      "text/html": [
       "<div>\n",
       "<style scoped>\n",
       "    .dataframe tbody tr th:only-of-type {\n",
       "        vertical-align: middle;\n",
       "    }\n",
       "\n",
       "    .dataframe tbody tr th {\n",
       "        vertical-align: top;\n",
       "    }\n",
       "\n",
       "    .dataframe thead th {\n",
       "        text-align: right;\n",
       "    }\n",
       "</style>\n",
       "<table border=\"1\" class=\"dataframe\">\n",
       "  <thead>\n",
       "    <tr style=\"text-align: right;\">\n",
       "      <th></th>\n",
       "      <th>_original_charge_code</th>\n",
       "      <th>_original_charge_description</th>\n",
       "      <th>_code</th>\n",
       "      <th>_meta_code</th>\n",
       "    </tr>\n",
       "  </thead>\n",
       "  <tbody>\n",
       "    <tr>\n",
       "      <th>351</th>\n",
       "      <td>PC666</td>\n",
       "      <td>PETTY THEFT W/PRIOR JAIL TERM FOR SPECIFIC OFF...</td>\n",
       "      <td></td>\n",
       "      <td>666</td>\n",
       "    </tr>\n",
       "    <tr>\n",
       "      <th>362</th>\n",
       "      <td>PC484 (A)/666</td>\n",
       "      <td>THEFT/PETTY THEFT W/PRIOR</td>\n",
       "      <td>484 (A)</td>\n",
       "      <td>666</td>\n",
       "    </tr>\n",
       "    <tr>\n",
       "      <th>434</th>\n",
       "      <td>PC666</td>\n",
       "      <td>PETTY THEFT W/PRIOR JAIL TERM FOR SPECIFIC OFF...</td>\n",
       "      <td></td>\n",
       "      <td>666</td>\n",
       "    </tr>\n",
       "    <tr>\n",
       "      <th>559</th>\n",
       "      <td>PC664 /484</td>\n",
       "      <td>ATTEMPT THEFT</td>\n",
       "      <td>484</td>\n",
       "      <td>664</td>\n",
       "    </tr>\n",
       "    <tr>\n",
       "      <th>671</th>\n",
       "      <td>PC484 (A)/666</td>\n",
       "      <td>THEFT/PETTY THEFT W/PRIOR</td>\n",
       "      <td>484 (A)</td>\n",
       "      <td>666</td>\n",
       "    </tr>\n",
       "  </tbody>\n",
       "</table>\n",
       "</div>"
      ],
      "text/plain": [
       "    _original_charge_code                       _original_charge_description  \\\n",
       "351                 PC666  PETTY THEFT W/PRIOR JAIL TERM FOR SPECIFIC OFF...   \n",
       "362         PC484 (A)/666                          THEFT/PETTY THEFT W/PRIOR   \n",
       "434                 PC666  PETTY THEFT W/PRIOR JAIL TERM FOR SPECIFIC OFF...   \n",
       "559            PC664 /484                                      ATTEMPT THEFT   \n",
       "671         PC484 (A)/666                          THEFT/PETTY THEFT W/PRIOR   \n",
       "\n",
       "       _code _meta_code  \n",
       "351                 666  \n",
       "362  484 (A)        666  \n",
       "434                 666  \n",
       "559      484        664  \n",
       "671  484 (A)        666  "
      ]
     },
     "execution_count": 9,
     "metadata": {},
     "output_type": "execute_result"
    }
   ],
   "source": [
    "df[df['_meta_code'] != ''][['_original_charge_code',\n",
    "                            '_original_charge_description', '_code', '_meta_code']].head()"
   ]
  },
  {
   "cell_type": "markdown",
   "id": "88df3521-5384-4de0-98cc-b7d6a66ca081",
   "metadata": {},
   "source": [
    "### Idiosyncratic modification"
   ]
  },
  {
   "cell_type": "markdown",
   "id": "18f501cd-e8a7-4977-854d-a2bf3a750b0b",
   "metadata": {},
   "source": [
    "#### `PC` transposed"
   ]
  },
  {
   "cell_type": "code",
   "execution_count": 10,
   "id": "13ce51cd-d72e-4a29-abfa-5fa1716111dd",
   "metadata": {},
   "outputs": [],
   "source": [
    "df.loc[df['_original_charge_code'] == 'CP1209', '_code_type'] = 'PC'\n",
    "df.loc[df['_original_charge_code'] == 'CP1209', '_section'] = '1209'"
   ]
  },
  {
   "cell_type": "markdown",
   "id": "ba93a733-406b-47d5-9918-a8ae7a1486c5",
   "metadata": {},
   "source": [
    "### Section and subparts"
   ]
  },
  {
   "cell_type": "markdown",
   "id": "ccc7a663-f50c-4e15-a6a0-df1c20060d15",
   "metadata": {},
   "source": [
    "Reference for determining section subpart nomenclature: https://leginfo.legislature.ca.gov/faces/codes_displaySection.xhtml?lawCode=PEN&sectionNum=667 and https://leginfo.legislature.ca.gov/faces/codes_displaySection.xhtml?lawCode=PEN&sectionNum=490.2.&highlight=true&keyword=clause+subparagraph\n",
    "\n",
    "Unfortunately, this is sometimes inaccurate, but it's the best system I could come up with!\n",
    "\n",
    "PC 490.2:\n",
    "\n",
    "> Notwithstanding Section 487 or any other provision of law defining grand theft, obtaining any property by theft where the value [...] does not exceed nine hundred fifty dollars ($950) shall be considered petty theft and shall be punished as a misdemeanor, except that such person may instead be punished pursuant to subdivision (h) of Section 1170 if that person has one or more prior convictions for an offense specified in **clause (iv) of subparagraph (C) of paragraph (2) of subdivision (e) of Section 667** or for an offense requiring registration pursuant to subdivision (c) of Section 290.\n",
    "\n",
    "> clause (iv) of subparagraph (C) of paragraph (2) of subdivision (e) of Section 667 translates to:\n",
    "\n",
    "| section | subdivision | paragraph | subparagraph | clause |\n",
    "|---------|-------------|-----------|--------------|--------|\n",
    "| 667     | (e)         | (2)       | (C)          | (iv)   |\n",
    "\n",
    "From California Style Manual 4e, p. 50:\n",
    "\n",
    "> A potential for citational imprecision results from the various styles used over the years in numbering or designating code sections and subdivisions. Subdivisions are generally designated alphabetically by lowercase letters in parentheses, but numerical designations are sometimes used, and some designations may use words rather than figures for numbers. Likewise, the Legislature has not always used parentheses in designating subdivisions. And not all alphabetically or numerically designated enumerations within sections are characterized as subdivisions. For example, enumerations of material encompassing only a portion of the substantive content are not subdivisions (see, e.g., Civ. Code, § 47, subd. (b))."
   ]
  },
  {
   "cell_type": "code",
   "execution_count": 11,
   "id": "ba7c489f-a13c-4346-9093-e7e8b9900d4a",
   "metadata": {},
   "outputs": [],
   "source": [
    "df['_code'] = df['_code'].str.replace('\\s', '', regex=True)"
   ]
  },
  {
   "cell_type": "code",
   "execution_count": null,
   "id": "c7ea382a-c833-4339-b01e-f246a8c86bcc",
   "metadata": {},
   "outputs": [],
   "source": [
    "df[['_section', '_subdivision', '_paragraph', '_subparagraph', '_clause']] = df.apply(\n",
    "    lambda x: arrest.Charge.parse_section_and_subparts(\n",
    "        x['_code'], arrests=True),\n",
    "    axis=1,\n",
    "    result_type='expand',\n",
    ")"
   ]
  },
  {
   "cell_type": "markdown",
   "id": "27b45529-98af-4a30-a500-e24524301f57",
   "metadata": {},
   "source": [
    "#### Reconstruct charge code from normalized data"
   ]
  },
  {
   "cell_type": "code",
   "execution_count": null,
   "id": "285cae81-2073-4dc3-86ee-ae0f1631b50b",
   "metadata": {},
   "outputs": [],
   "source": [
    "df['_charge_reconstructed'] = df['_code_type'].str.cat(\n",
    "    df[['_section', '_subdivision', '_paragraph', '_subparagraph', '_clause']], sep='', na_rep='')"
   ]
  },
  {
   "cell_type": "markdown",
   "id": "bc0c7cfa-5770-4f5a-b6ca-35e031f8d3d5",
   "metadata": {},
   "source": [
    "#### Normalize offense level (`_level`) data"
   ]
  },
  {
   "cell_type": "code",
   "execution_count": null,
   "id": "fa7a29ed-eac8-4ad7-a875-633a0ba70203",
   "metadata": {},
   "outputs": [],
   "source": [
    "df['_offense_level'] = df['PerSta_Severity'].replace(\n",
    "    {'FELONY': 'F', 'MISDEMEANOR': 'M', 'INFRACTION': 'I'})"
   ]
  },
  {
   "cell_type": "markdown",
   "id": "5961eb10-5c74-4a38-bf80-2ff4a5ffd71f",
   "metadata": {},
   "source": [
    "## Separate charges by `_code_type` for processing"
   ]
  },
  {
   "cell_type": "code",
   "execution_count": null,
   "id": "2214c620-bb98-4d28-a582-1f1666e659e9",
   "metadata": {
    "tags": []
   },
   "outputs": [
    {
     "data": {
      "text/plain": [
       "{'B/W', 'BP', 'FG', 'HS', 'O/W', 'OM', 'PC', 'PU', 'US', 'VC', 'WI'}"
      ]
     },
     "execution_count": 15,
     "metadata": {},
     "output_type": "execute_result"
    }
   ],
   "source": [
    "municipal_codes = set(['OM'])\n",
    "statute_codes = set(['HS', 'PC', 'BP', 'VC', 'WI', 'PU', 'FG', 'US'])\n",
    "warrant_codes = set(['O/W', 'B/W'])\n",
    "\n",
    "expected_codes = municipal_codes | statute_codes | warrant_codes\n",
    "expected_codes"
   ]
  },
  {
   "cell_type": "markdown",
   "id": "550a6bc0-d1e1-4081-a404-59538294e885",
   "metadata": {},
   "source": [
    "### Warrant charges without codes\n"
   ]
  },
  {
   "cell_type": "code",
   "execution_count": null,
   "id": "b693505d-ac3d-4ea3-b0dd-24a3d5667cc7",
   "metadata": {},
   "outputs": [],
   "source": [
    "warrant_charge_df = df[df['_code_type'].isin(warrant_codes)].copy()"
   ]
  },
  {
   "cell_type": "code",
   "execution_count": null,
   "id": "090ab14c-f1a3-490d-bf3c-d2dfb6e6f6b2",
   "metadata": {},
   "outputs": [],
   "source": [
    "warrant_charge_df['_code'] = warrant_charge_df['_code_type'] + \\\n",
    "    warrant_charge_df['_code']"
   ]
  },
  {
   "cell_type": "code",
   "execution_count": null,
   "id": "457f7a66-a9b6-4f20-b251-e15168a4678d",
   "metadata": {},
   "outputs": [
    {
     "data": {
      "text/html": [
       "<div>\n",
       "<style scoped>\n",
       "    .dataframe tbody tr th:only-of-type {\n",
       "        vertical-align: middle;\n",
       "    }\n",
       "\n",
       "    .dataframe tbody tr th {\n",
       "        vertical-align: top;\n",
       "    }\n",
       "\n",
       "    .dataframe thead th {\n",
       "        text-align: right;\n",
       "    }\n",
       "</style>\n",
       "<table border=\"1\" class=\"dataframe\">\n",
       "  <thead>\n",
       "    <tr style=\"text-align: right;\">\n",
       "      <th></th>\n",
       "      <th>_code_type</th>\n",
       "      <th>_code</th>\n",
       "      <th>PerSta_Severity</th>\n",
       "    </tr>\n",
       "  </thead>\n",
       "  <tbody>\n",
       "    <tr>\n",
       "      <th>0</th>\n",
       "      <td>B/W</td>\n",
       "      <td>B/W-FEL</td>\n",
       "      <td>FELONY</td>\n",
       "    </tr>\n",
       "    <tr>\n",
       "      <th>1</th>\n",
       "      <td>B/W</td>\n",
       "      <td>B/W-MISD</td>\n",
       "      <td>MISDEMEANOR</td>\n",
       "    </tr>\n",
       "    <tr>\n",
       "      <th>280</th>\n",
       "      <td>O/W</td>\n",
       "      <td>O/W-FEL</td>\n",
       "      <td>FELONY</td>\n",
       "    </tr>\n",
       "    <tr>\n",
       "      <th>543</th>\n",
       "      <td>O/W</td>\n",
       "      <td>O/W-MISD</td>\n",
       "      <td>MISDEMEANOR</td>\n",
       "    </tr>\n",
       "    <tr>\n",
       "      <th>18225</th>\n",
       "      <td>B/W</td>\n",
       "      <td>B/W-FEL</td>\n",
       "      <td>MISDEMEANOR</td>\n",
       "    </tr>\n",
       "    <tr>\n",
       "      <th>61593</th>\n",
       "      <td>B/W</td>\n",
       "      <td>B/W-MISD</td>\n",
       "      <td>FELONY</td>\n",
       "    </tr>\n",
       "    <tr>\n",
       "      <th>70058</th>\n",
       "      <td>B/W</td>\n",
       "      <td>B/W-MISD</td>\n",
       "      <td>INFRACTION</td>\n",
       "    </tr>\n",
       "    <tr>\n",
       "      <th>82313</th>\n",
       "      <td>O/W</td>\n",
       "      <td>O/W-MISD</td>\n",
       "      <td>FELONY</td>\n",
       "    </tr>\n",
       "    <tr>\n",
       "      <th>87382</th>\n",
       "      <td>O/W</td>\n",
       "      <td>O/W-MISD</td>\n",
       "      <td>INFRACTION</td>\n",
       "    </tr>\n",
       "  </tbody>\n",
       "</table>\n",
       "</div>"
      ],
      "text/plain": [
       "      _code_type     _code PerSta_Severity\n",
       "0            B/W   B/W-FEL          FELONY\n",
       "1            B/W  B/W-MISD     MISDEMEANOR\n",
       "280          O/W   O/W-FEL          FELONY\n",
       "543          O/W  O/W-MISD     MISDEMEANOR\n",
       "18225        B/W   B/W-FEL     MISDEMEANOR\n",
       "61593        B/W  B/W-MISD          FELONY\n",
       "70058        B/W  B/W-MISD      INFRACTION\n",
       "82313        O/W  O/W-MISD          FELONY\n",
       "87382        O/W  O/W-MISD      INFRACTION"
      ]
     },
     "execution_count": 18,
     "metadata": {},
     "output_type": "execute_result"
    }
   ],
   "source": [
    "warrant_charge_df[['_code_type', '_code', 'PerSta_Severity']].drop_duplicates()"
   ]
  },
  {
   "cell_type": "markdown",
   "id": "06e1bdcc-66fe-4642-9fcd-33f2d2c26a1f",
   "metadata": {},
   "source": [
    "### Municipal charges"
   ]
  },
  {
   "cell_type": "code",
   "execution_count": null,
   "id": "3e78a856-f5b8-4bc3-a681-057a88424993",
   "metadata": {},
   "outputs": [],
   "source": [
    "municipal_charge_df = df[df['_code_type'].isin(municipal_codes)].copy()"
   ]
  },
  {
   "cell_type": "markdown",
   "id": "e4a32ee4-3c58-4241-9ee6-12daa47a8c27",
   "metadata": {},
   "source": [
    "### State and federal charges"
   ]
  },
  {
   "cell_type": "code",
   "execution_count": null,
   "id": "5d1febaa-09e8-4e9b-b727-b855b9f11674",
   "metadata": {},
   "outputs": [],
   "source": [
    "statute_charge_df = df[df['_code_type'].isin(statute_codes)].copy()"
   ]
  },
  {
   "cell_type": "markdown",
   "id": "1945403f-fb1b-4565-9ea4-08c9362e1b2a",
   "metadata": {
    "tags": []
   },
   "source": [
    "### Charges without `_code_type`\n",
    "\n",
    "See [Ambiguous](#Ambiguous)"
   ]
  },
  {
   "cell_type": "code",
   "execution_count": null,
   "id": "505b9592-6b23-4bc7-b52c-9685cc228b29",
   "metadata": {},
   "outputs": [],
   "source": [
    "ambiguous_charge_df = df[~df['_code_type'].isin(expected_codes)].copy()"
   ]
  },
  {
   "cell_type": "markdown",
   "id": "497be71e-39e2-4976-a1b2-6601257201df",
   "metadata": {},
   "source": [
    "### Check length of individual charge `df`s against length of original df"
   ]
  },
  {
   "cell_type": "code",
   "execution_count": null,
   "id": "e86f6eac-75a5-40b1-a8e8-56d20a7b4ea0",
   "metadata": {},
   "outputs": [
    {
     "data": {
      "text/plain": [
       "0"
      ]
     },
     "execution_count": 22,
     "metadata": {},
     "output_type": "execute_result"
    }
   ],
   "source": [
    "(len(statute_charge_df)+len(ambiguous_charge_df) +\n",
    " len(municipal_charge_df)+len(warrant_charge_df))-len(df)"
   ]
  },
  {
   "cell_type": "markdown",
   "id": "4f1b97d6-8dec-45fc-800d-b94d33458fda",
   "metadata": {},
   "source": [
    "## Process charges"
   ]
  },
  {
   "cell_type": "markdown",
   "id": "49427417-6bdb-4289-9135-8ba13798e60e",
   "metadata": {},
   "source": [
    "### Municipal"
   ]
  },
  {
   "cell_type": "markdown",
   "id": "fd02e814-51f9-4a36-a443-939b79414992",
   "metadata": {},
   "source": [
    "Are `PerSta_Statute_Desc` values unique to `_charge_reconstructed` values?"
   ]
  },
  {
   "cell_type": "code",
   "execution_count": null,
   "id": "1b3d6252-f317-4e04-96bb-fc8cd2041445",
   "metadata": {},
   "outputs": [
    {
     "data": {
      "text/html": [
       "<div>\n",
       "<style scoped>\n",
       "    .dataframe tbody tr th:only-of-type {\n",
       "        vertical-align: middle;\n",
       "    }\n",
       "\n",
       "    .dataframe tbody tr th {\n",
       "        vertical-align: top;\n",
       "    }\n",
       "\n",
       "    .dataframe thead th {\n",
       "        text-align: right;\n",
       "    }\n",
       "</style>\n",
       "<table border=\"1\" class=\"dataframe\">\n",
       "  <thead>\n",
       "    <tr style=\"text-align: right;\">\n",
       "      <th></th>\n",
       "      <th>_person_id</th>\n",
       "      <th>_arrest_id</th>\n",
       "      <th>Arr_DateTime</th>\n",
       "      <th>Arr_Event_Nbr</th>\n",
       "      <th>Arr_Beat</th>\n",
       "      <th>EvnPer_Assoc</th>\n",
       "      <th>PerSta_Severity</th>\n",
       "      <th>_original_charge_code</th>\n",
       "      <th>_original_charge_description</th>\n",
       "      <th>_code_type</th>\n",
       "      <th>_code</th>\n",
       "      <th>_meta_code</th>\n",
       "      <th>_section</th>\n",
       "      <th>_subdivision</th>\n",
       "      <th>_paragraph</th>\n",
       "      <th>_subparagraph</th>\n",
       "      <th>_clause</th>\n",
       "      <th>_charge_reconstructed</th>\n",
       "      <th>_offense_level</th>\n",
       "    </tr>\n",
       "  </thead>\n",
       "  <tbody>\n",
       "  </tbody>\n",
       "</table>\n",
       "</div>"
      ],
      "text/plain": [
       "Empty DataFrame\n",
       "Columns: [_person_id, _arrest_id, Arr_DateTime, Arr_Event_Nbr, Arr_Beat, EvnPer_Assoc, PerSta_Severity, _original_charge_code, _original_charge_description, _code_type, _code, _meta_code, _section, _subdivision, _paragraph, _subparagraph, _clause, _charge_reconstructed, _offense_level]\n",
       "Index: []"
      ]
     },
     "execution_count": 23,
     "metadata": {},
     "output_type": "execute_result"
    }
   ],
   "source": [
    "municipal_charge_df[municipal_charge_df.groupby('_charge_reconstructed', dropna=False)[\n",
    "    '_original_charge_description'].transform('nunique') > 1]"
   ]
  },
  {
   "cell_type": "markdown",
   "id": "a8035e5f-0b42-46e4-b29c-8a3defe7d33a",
   "metadata": {},
   "source": [
    "Because they are, I don't need to retrieve descriptions for the charges."
   ]
  },
  {
   "cell_type": "code",
   "execution_count": null,
   "id": "3ff758a2-4bcb-423d-8c77-120bac42fabe",
   "metadata": {},
   "outputs": [],
   "source": [
    "municipal_charge_df['_municipal'] = True"
   ]
  },
  {
   "cell_type": "markdown",
   "id": "4efd6a64-f16c-435c-82a5-c98ee48b1ce4",
   "metadata": {
    "tags": []
   },
   "source": [
    "### State and federal statute"
   ]
  },
  {
   "cell_type": "code",
   "execution_count": null,
   "id": "41d6e1cb-b254-4d0f-85f6-79e98e7699c5",
   "metadata": {},
   "outputs": [],
   "source": [
    "statute_data = pd.read_json(\n",
    "    '../../01_inputs/processed/c01_chsoff.json')"
   ]
  },
  {
   "cell_type": "code",
   "execution_count": null,
   "id": "d9dc69c2-a8e2-4290-a726-5474d17ff721",
   "metadata": {},
   "outputs": [
    {
     "data": {
      "text/html": [
       "<div>\n",
       "<style scoped>\n",
       "    .dataframe tbody tr th:only-of-type {\n",
       "        vertical-align: middle;\n",
       "    }\n",
       "\n",
       "    .dataframe tbody tr th {\n",
       "        vertical-align: top;\n",
       "    }\n",
       "\n",
       "    .dataframe thead th {\n",
       "        text-align: right;\n",
       "    }\n",
       "</style>\n",
       "<table border=\"1\" class=\"dataframe\">\n",
       "  <thead>\n",
       "    <tr style=\"text-align: right;\">\n",
       "      <th></th>\n",
       "      <th>_original_code</th>\n",
       "      <th>_code_type</th>\n",
       "      <th>_offense_level</th>\n",
       "      <th>_section</th>\n",
       "      <th>_charge_reconstructed</th>\n",
       "      <th>_chsoff_violent</th>\n",
       "      <th>_enactment_data</th>\n",
       "      <th>StatuteLiteral</th>\n",
       "      <th>EnactDate</th>\n",
       "      <th>RepealAmendDate</th>\n",
       "    </tr>\n",
       "  </thead>\n",
       "  <tbody>\n",
       "    <tr>\n",
       "      <th>0</th>\n",
       "      <td>104495(D)</td>\n",
       "      <td>HS</td>\n",
       "      <td>I</td>\n",
       "      <td>104495</td>\n",
       "      <td>HS104495(D)</td>\n",
       "      <td>False</td>\n",
       "      <td>[{'EnactDate': '2017-01-01T00:00:00Z', 'Repeal...</td>\n",
       "      <td>NO TOBACCO:250FT YTH SPRT, RETALIATE:FOR COMPL...</td>\n",
       "      <td>None</td>\n",
       "      <td>None</td>\n",
       "    </tr>\n",
       "    <tr>\n",
       "      <th>1</th>\n",
       "      <td>11175</td>\n",
       "      <td>HS</td>\n",
       "      <td>M</td>\n",
       "      <td>11175</td>\n",
       "      <td>HS11175</td>\n",
       "      <td>False</td>\n",
       "      <td>[{'EnactDate': '1977-01-01T00:00:00Z', 'Repeal...</td>\n",
       "      <td>POSS/ETC NONCONFOR PRESC, ILL C/SUB PRESC:OBT ...</td>\n",
       "      <td>None</td>\n",
       "      <td>None</td>\n",
       "    </tr>\n",
       "  </tbody>\n",
       "</table>\n",
       "</div>"
      ],
      "text/plain": [
       "  _original_code _code_type _offense_level _section _charge_reconstructed  \\\n",
       "0      104495(D)         HS              I   104495           HS104495(D)   \n",
       "1          11175         HS              M    11175               HS11175   \n",
       "\n",
       "   _chsoff_violent                                    _enactment_data  \\\n",
       "0            False  [{'EnactDate': '2017-01-01T00:00:00Z', 'Repeal...   \n",
       "1            False  [{'EnactDate': '1977-01-01T00:00:00Z', 'Repeal...   \n",
       "\n",
       "                                      StatuteLiteral EnactDate RepealAmendDate  \n",
       "0  NO TOBACCO:250FT YTH SPRT, RETALIATE:FOR COMPL...      None            None  \n",
       "1  POSS/ETC NONCONFOR PRESC, ILL C/SUB PRESC:OBT ...      None            None  "
      ]
     },
     "execution_count": 26,
     "metadata": {},
     "output_type": "execute_result"
    }
   ],
   "source": [
    "statute_data.head(2)"
   ]
  },
  {
   "cell_type": "code",
   "execution_count": null,
   "id": "f238cf7c-8547-4cb5-a28d-e1f7fb683e11",
   "metadata": {},
   "outputs": [],
   "source": [
    "df_with_statute = pd.merge(\n",
    "    statute_charge_df,\n",
    "    statute_data,\n",
    "    how='left',\n",
    "    on=[\n",
    "        '_code_type',\n",
    "        '_section',\n",
    "        '_charge_reconstructed',\n",
    "        '_offense_level',\n",
    "    ],\n",
    "    validate='m:1',\n",
    ")"
   ]
  },
  {
   "cell_type": "code",
   "execution_count": null,
   "id": "b5536de6-2a4f-4122-9a54-eb7c83fe3ac4",
   "metadata": {},
   "outputs": [],
   "source": [
    "matched_df_with_statute = df_with_statute[df_with_statute['StatuteLiteral'].notnull(\n",
    ")].copy()"
   ]
  },
  {
   "cell_type": "markdown",
   "id": "214ab4b7-6293-4d23-b614-5054b515c319",
   "metadata": {
    "tags": []
   },
   "source": [
    "#### Separate unmatched for joining irrespective of `_offense_level`\n",
    "\n",
    "Sometimes a person is charged with e.g. a felony per a code that is only chargeable as a misdemeanor. I want to match the charge code on the descriptions per the Office of the Attorney General regardless, and keep track of incongruities between the recorded offense level and the offense levels chargeable."
   ]
  },
  {
   "cell_type": "code",
   "execution_count": null,
   "id": "3229d8ff-e052-4b89-b5de-6f37940061fa",
   "metadata": {},
   "outputs": [],
   "source": [
    "unmatched_df_with_statute = df_with_statute[\n",
    "    df_with_statute['StatuteLiteral'].isnull()\n",
    "][statute_charge_df.columns].copy()"
   ]
  },
  {
   "cell_type": "code",
   "execution_count": null,
   "id": "1b534d92-484d-4925-b561-ebe3633011c2",
   "metadata": {},
   "outputs": [
    {
     "data": {
      "text/html": [
       "<div>\n",
       "<style scoped>\n",
       "    .dataframe tbody tr th:only-of-type {\n",
       "        vertical-align: middle;\n",
       "    }\n",
       "\n",
       "    .dataframe tbody tr th {\n",
       "        vertical-align: top;\n",
       "    }\n",
       "\n",
       "    .dataframe thead th {\n",
       "        text-align: right;\n",
       "    }\n",
       "</style>\n",
       "<table border=\"1\" class=\"dataframe\">\n",
       "  <thead>\n",
       "    <tr style=\"text-align: right;\">\n",
       "      <th></th>\n",
       "      <th>_code_type</th>\n",
       "      <th>_section</th>\n",
       "      <th>_charge_reconstructed</th>\n",
       "      <th>_arrest_id</th>\n",
       "    </tr>\n",
       "  </thead>\n",
       "  <tbody>\n",
       "    <tr>\n",
       "      <th>0</th>\n",
       "      <td>BP</td>\n",
       "      <td>4326</td>\n",
       "      <td>BP4326(A)</td>\n",
       "      <td>1</td>\n",
       "    </tr>\n",
       "    <tr>\n",
       "      <th>1</th>\n",
       "      <td>PC</td>\n",
       "      <td>667.5</td>\n",
       "      <td>PC667.5(A)</td>\n",
       "      <td>1</td>\n",
       "    </tr>\n",
       "    <tr>\n",
       "      <th>2</th>\n",
       "      <td>PC</td>\n",
       "      <td>241</td>\n",
       "      <td>PC241(243)</td>\n",
       "      <td>1</td>\n",
       "    </tr>\n",
       "    <tr>\n",
       "      <th>3</th>\n",
       "      <td>PC</td>\n",
       "      <td>22610</td>\n",
       "      <td>PC22610(A)</td>\n",
       "      <td>1</td>\n",
       "    </tr>\n",
       "    <tr>\n",
       "      <th>4</th>\n",
       "      <td>PC</td>\n",
       "      <td>853.8</td>\n",
       "      <td>PC853.8</td>\n",
       "      <td>1</td>\n",
       "    </tr>\n",
       "    <tr>\n",
       "      <th>...</th>\n",
       "      <td>...</td>\n",
       "      <td>...</td>\n",
       "      <td>...</td>\n",
       "      <td>...</td>\n",
       "    </tr>\n",
       "    <tr>\n",
       "      <th>215</th>\n",
       "      <td>PC</td>\n",
       "      <td>602</td>\n",
       "      <td>PC602(L)</td>\n",
       "      <td>292</td>\n",
       "    </tr>\n",
       "    <tr>\n",
       "      <th>216</th>\n",
       "      <td>PC</td>\n",
       "      <td>484</td>\n",
       "      <td>PC484(A)</td>\n",
       "      <td>392</td>\n",
       "    </tr>\n",
       "    <tr>\n",
       "      <th>217</th>\n",
       "      <td>PC</td>\n",
       "      <td>148</td>\n",
       "      <td>PC148(A)</td>\n",
       "      <td>813</td>\n",
       "    </tr>\n",
       "    <tr>\n",
       "      <th>218</th>\n",
       "      <td>PC</td>\n",
       "      <td>1203.2</td>\n",
       "      <td>PC1203.2(A)</td>\n",
       "      <td>2623</td>\n",
       "    </tr>\n",
       "    <tr>\n",
       "      <th>219</th>\n",
       "      <td>PC</td>\n",
       "      <td>1203.2</td>\n",
       "      <td>PC1203.2</td>\n",
       "      <td>7545</td>\n",
       "    </tr>\n",
       "  </tbody>\n",
       "</table>\n",
       "<p>220 rows × 4 columns</p>\n",
       "</div>"
      ],
      "text/plain": [
       "    _code_type _section _charge_reconstructed  _arrest_id\n",
       "0           BP     4326             BP4326(A)           1\n",
       "1           PC    667.5            PC667.5(A)           1\n",
       "2           PC      241            PC241(243)           1\n",
       "3           PC    22610            PC22610(A)           1\n",
       "4           PC    853.8               PC853.8           1\n",
       "..         ...      ...                   ...         ...\n",
       "215         PC      602              PC602(L)         292\n",
       "216         PC      484              PC484(A)         392\n",
       "217         PC      148              PC148(A)         813\n",
       "218         PC   1203.2           PC1203.2(A)        2623\n",
       "219         PC   1203.2              PC1203.2        7545\n",
       "\n",
       "[220 rows x 4 columns]"
      ]
     },
     "execution_count": 30,
     "metadata": {},
     "output_type": "execute_result"
    }
   ],
   "source": [
    "unmatched_df_with_statute.groupby(['_code_type', '_section', '_charge_reconstructed'], dropna=False)[\n",
    "    '_arrest_id'].count().sort_values().reset_index()"
   ]
  },
  {
   "cell_type": "code",
   "execution_count": null,
   "id": "6a792a63-a85d-4ebb-b497-ded16eab6f5f",
   "metadata": {},
   "outputs": [],
   "source": [
    "statute_data_ignoring_level = pd.read_json(\n",
    "    '../../01_inputs/processed/c01_chsoff_ignoring_level.json')"
   ]
  },
  {
   "cell_type": "code",
   "execution_count": null,
   "id": "4867ec44-8cb1-414c-b1ad-90beb81fde3c",
   "metadata": {},
   "outputs": [
    {
     "data": {
      "text/plain": [
       "Index(['_code_type', '_section', '_charge_reconstructed'], dtype='object')"
      ]
     },
     "execution_count": 32,
     "metadata": {},
     "output_type": "execute_result"
    }
   ],
   "source": [
    "unmatched_df_with_statute.columns.intersection(\n",
    "    statute_data_ignoring_level.columns)"
   ]
  },
  {
   "cell_type": "code",
   "execution_count": null,
   "id": "54ae8a4d-71fa-493b-8b25-e352fdd586e7",
   "metadata": {},
   "outputs": [],
   "source": [
    "df_with_statute_without_level = pd.merge(\n",
    "    unmatched_df_with_statute, statute_data_ignoring_level, how='left', validate='m:1')"
   ]
  },
  {
   "cell_type": "code",
   "execution_count": null,
   "id": "b963ca8d-6eb9-491f-94c8-8693073176aa",
   "metadata": {},
   "outputs": [],
   "source": [
    "matched_df_with_statute_without_level = df_with_statute_without_level[\n",
    "    df_with_statute_without_level['StatuteLiteral'].notnull()\n",
    "].copy()"
   ]
  },
  {
   "cell_type": "code",
   "execution_count": null,
   "id": "d9fa43b3-3cff-4318-93e5-6cf93f845adf",
   "metadata": {},
   "outputs": [],
   "source": [
    "matched_df_with_statute_without_level['_incongruity'] = 'offense level'"
   ]
  },
  {
   "cell_type": "markdown",
   "id": "31ecfe6f-ff5f-49e3-94c1-b7084b5b8f6b",
   "metadata": {
    "tags": []
   },
   "source": [
    "#### Separate unmatched for joining irrespective of both level and subparts"
   ]
  },
  {
   "cell_type": "code",
   "execution_count": null,
   "id": "aff8bb88-ff58-4648-9866-8e8563269a6a",
   "metadata": {},
   "outputs": [],
   "source": [
    "unmatched_df_with_statute_without_level = df_with_statute_without_level[\n",
    "    df_with_statute_without_level['StatuteLiteral'].isnull()\n",
    "][statute_charge_df.columns].copy()"
   ]
  },
  {
   "cell_type": "markdown",
   "id": "6404c60d-b230-4c84-b073-607fecc2c015",
   "metadata": {},
   "source": [
    "There are also sometimes typos or absences of subparts for some charge codes. In the latter case, it's often because a charge corresponds to the first subpart of a particular section. Here are the most common examples:"
   ]
  },
  {
   "cell_type": "code",
   "execution_count": null,
   "id": "48742292-4272-44fd-9f49-6c0788d2c962",
   "metadata": {},
   "outputs": [
    {
     "data": {
      "text/plain": [
       "_code_type  _code      \n",
       "BP          4326(A)          1\n",
       "PC          12031.5(A)       1\n",
       "            12101(A)         1\n",
       "            12552            1\n",
       "            12553(A)(1)      1\n",
       "                          ... \n",
       "            594(B)(4)      120\n",
       "                           147\n",
       "            166.4          192\n",
       "            602(L)         289\n",
       "            148(A)         793\n",
       "Name: _arrest_id, Length: 137, dtype: int64"
      ]
     },
     "execution_count": 37,
     "metadata": {},
     "output_type": "execute_result"
    }
   ],
   "source": [
    "unmatched_df_with_statute_without_level.groupby(['_code_type', '_code'])[\n",
    "    '_arrest_id'].nunique().sort_values()"
   ]
  },
  {
   "cell_type": "markdown",
   "id": "a28ac4ce-6f90-4154-af31-a6684fef8309",
   "metadata": {},
   "source": [
    "***\n",
    "PC 148 is the most common charge that didn't match on subparts.\n",
    "\n",
    "Directly from [https://leginfo.legislature.ca.gov](https://leginfo.legislature.ca.gov/faces/codes_displaySection.xhtml?lawCode=PEN&sectionNum=148):\n",
    "\n",
    "> **148.**\n",
    ">\n",
    "> (a) (1) Every person who willfully resists, delays, or obstructs any public officer, peace officer, or an emergency medical technician, as defined in Division 2.5 (commencing with Section 1797) of the Health and Safety Code, in the discharge or attempt to discharge any duty of his or her office or employment, when no other punishment is prescribed, shall be punished by a fine not exceeding one thousand dollars ($1,000), or by imprisonment in a county jail not to exceed one year, or by both that fine and imprisonment.\n",
    "\n",
    "In this case, the subdivision was present, but the code itself has no \"148(A)\" alone; it also always has a paragraph code (\"(1)\" or \"(2)\" according to the OAG data):"
   ]
  },
  {
   "cell_type": "code",
   "execution_count": null,
   "id": "30c4747a-10dc-4c50-83b3-cc31adb439d6",
   "metadata": {},
   "outputs": [
    {
     "data": {
      "text/html": [
       "<div>\n",
       "<style scoped>\n",
       "    .dataframe tbody tr th:only-of-type {\n",
       "        vertical-align: middle;\n",
       "    }\n",
       "\n",
       "    .dataframe tbody tr th {\n",
       "        vertical-align: top;\n",
       "    }\n",
       "\n",
       "    .dataframe thead th {\n",
       "        text-align: right;\n",
       "    }\n",
       "</style>\n",
       "<table border=\"1\" class=\"dataframe\">\n",
       "  <thead>\n",
       "    <tr style=\"text-align: right;\">\n",
       "      <th></th>\n",
       "      <th>_original_code</th>\n",
       "      <th>_code_type</th>\n",
       "      <th>_offense_level</th>\n",
       "      <th>_section</th>\n",
       "      <th>StatuteLiteral</th>\n",
       "    </tr>\n",
       "  </thead>\n",
       "  <tbody>\n",
       "    <tr>\n",
       "      <th>1991</th>\n",
       "      <td>148(A)(1)</td>\n",
       "      <td>PC</td>\n",
       "      <td>M</td>\n",
       "      <td>148</td>\n",
       "      <td>OBSTRUCT/ETC PUB OFCR/ETC</td>\n",
       "    </tr>\n",
       "    <tr>\n",
       "      <th>1992</th>\n",
       "      <td>148(A)(2)</td>\n",
       "      <td>PC</td>\n",
       "      <td>M</td>\n",
       "      <td>148</td>\n",
       "      <td>OBSTR/ETC PUB OFC:RADIO</td>\n",
       "    </tr>\n",
       "  </tbody>\n",
       "</table>\n",
       "</div>"
      ],
      "text/plain": [
       "     _original_code _code_type _offense_level _section  \\\n",
       "1991      148(A)(1)         PC              M      148   \n",
       "1992      148(A)(2)         PC              M      148   \n",
       "\n",
       "                 StatuteLiteral  \n",
       "1991  OBSTRUCT/ETC PUB OFCR/ETC  \n",
       "1992    OBSTR/ETC PUB OFC:RADIO  "
      ]
     },
     "execution_count": 38,
     "metadata": {},
     "output_type": "execute_result"
    }
   ],
   "source": [
    "statute_data[\n",
    "    (statute_data['_original_code'].str.contains('148(A)', regex=False))\n",
    "    & (statute_data['_code_type'] == 'PC')\n",
    "][\n",
    "    [\n",
    "        '_original_code',\n",
    "        '_code_type',\n",
    "        '_offense_level',\n",
    "        '_section',\n",
    "        'StatuteLiteral',\n",
    "    ]\n",
    "]"
   ]
  },
  {
   "cell_type": "code",
   "execution_count": null,
   "id": "ee3d0c56-1dd2-418c-aa0a-38ee6c983fd1",
   "metadata": {},
   "outputs": [],
   "source": [
    "statute_data_ignoring_subparts = pd.read_json(\n",
    "    '../../01_inputs/processed/c01_chsoff_ignoring_subparts.json')"
   ]
  },
  {
   "cell_type": "code",
   "execution_count": null,
   "id": "5f52eee7-2e70-4cdf-9488-78ce42d9c578",
   "metadata": {},
   "outputs": [],
   "source": [
    "df_with_statute_without_subparts = pd.merge(\n",
    "    unmatched_df_with_statute_without_level,\n",
    "    statute_data_ignoring_subparts,\n",
    "    how='left',\n",
    "    on=['_code_type', '_section', '_offense_level'],\n",
    "    suffixes=('', '_chsoff'),\n",
    "    validate='m:1',\n",
    ")"
   ]
  },
  {
   "cell_type": "code",
   "execution_count": null,
   "id": "c3a8f315-e412-409b-9c77-978d7581660a",
   "metadata": {},
   "outputs": [
    {
     "data": {
      "text/plain": [
       "Index(['_person_id', '_arrest_id', 'Arr_DateTime', 'Arr_Event_Nbr', 'Arr_Beat',\n",
       "       'EvnPer_Assoc', 'PerSta_Severity', '_original_charge_code',\n",
       "       '_original_charge_description', '_code_type', '_code', '_meta_code',\n",
       "       '_section', '_subdivision', '_paragraph', '_subparagraph', '_clause',\n",
       "       '_charge_reconstructed', '_offense_level', '_original_code',\n",
       "       '_subdivision_chsoff', '_paragraph_chsoff', '_subparagraph_chsoff',\n",
       "       '_clause_chsoff', '_charge_reconstructed_chsoff', '_chsoff_violent',\n",
       "       '_enactment_data', 'StatuteLiteral', 'EnactDate', 'RepealAmendDate',\n",
       "       'statute_object', '_level_data', '_level_and_subpart_data',\n",
       "       '_level_quantified'],\n",
       "      dtype='object')"
      ]
     },
     "execution_count": 41,
     "metadata": {},
     "output_type": "execute_result"
    }
   ],
   "source": [
    "df_with_statute_without_subparts.columns"
   ]
  },
  {
   "cell_type": "code",
   "execution_count": null,
   "id": "75ee6dae-219b-43f0-8573-6c35e4c68ce6",
   "metadata": {},
   "outputs": [],
   "source": [
    "df_with_statute_without_subparts.loc[df_with_statute_without_subparts['StatuteLiteral'].notnull(\n",
    "), '_incongruity'] = 'subparts'"
   ]
  },
  {
   "cell_type": "code",
   "execution_count": null,
   "id": "c88fab1c-305a-4d04-8f62-3da859a4e0d0",
   "metadata": {},
   "outputs": [],
   "source": [
    "df_with_statute_without_subparts.loc[(df_with_statute_without_subparts['StatuteLiteral'].notnull(\n",
    ")) & (df_with_statute_without_subparts['_offense_level'] == ''), '_incongruity'] = 'subparts and offennse level'"
   ]
  },
  {
   "cell_type": "code",
   "execution_count": null,
   "id": "5ddc33fe-f223-4ddb-a412-f12231e6ae08",
   "metadata": {},
   "outputs": [],
   "source": [
    "processed_statute_charge_df = pd.concat([matched_df_with_statute_without_level, matched_df_with_statute,\n",
    "                                        df_with_statute_without_subparts], ignore_index=True)"
   ]
  },
  {
   "cell_type": "code",
   "execution_count": null,
   "id": "a1a89167-79ba-4707-8aef-a17a2978bf22",
   "metadata": {},
   "outputs": [
    {
     "data": {
      "text/plain": [
       "True"
      ]
     },
     "execution_count": 45,
     "metadata": {},
     "output_type": "execute_result"
    }
   ],
   "source": [
    "set(processed_statute_charge_df['_arrest_id']) == set(\n",
    "    statute_charge_df['_arrest_id'])"
   ]
  },
  {
   "cell_type": "code",
   "execution_count": null,
   "id": "2c9cf791-c7ae-4fa0-9e51-8ff039be57b0",
   "metadata": {},
   "outputs": [
    {
     "data": {
      "text/plain": [
       "True"
      ]
     },
     "execution_count": 46,
     "metadata": {},
     "output_type": "execute_result"
    }
   ],
   "source": [
    "len(processed_statute_charge_df['_arrest_id']) == len(\n",
    "    statute_charge_df['_arrest_id'])"
   ]
  },
  {
   "cell_type": "markdown",
   "id": "57b3ffb5-3d0c-42d1-9efc-010971bd7243",
   "metadata": {
    "tags": []
   },
   "source": [
    "### Ambiguous"
   ]
  },
  {
   "cell_type": "code",
   "execution_count": null,
   "id": "df398413-db0d-4d2f-aac8-ae261a270cc3",
   "metadata": {},
   "outputs": [
    {
     "data": {
      "text/plain": [
       "_code_type  _section  _original_charge_description               \n",
       "                      CURFEW/ETC VIOLATION DURING LOCAL EMERGENCY     1\n",
       "                      LOCAL ORDINANCE VIOL                            1\n",
       "                      OPERTATIONS PLAN                                1\n",
       "                      PROBATION HOLD                                  1\n",
       "                      SC KIDNAPPING                                   1\n",
       "                      SC ROBBERY - OTHER DANGEROUS WEAPON             1\n",
       "                      SINK/ETC VESSEL/ETC                             1\n",
       "                      USE WATERCRAFT WHILE UNDER INFLUENCE            1\n",
       "                      ASSIST OUTSIDE AGENCY                           8\n",
       "                      DOMESTIC DISPUTE                                8\n",
       "                      ATTEMPT SUICIDE                                11\n",
       "Name: _arrest_id, dtype: int64"
      ]
     },
     "execution_count": 47,
     "metadata": {},
     "output_type": "execute_result"
    }
   ],
   "source": [
    "ambiguous_charge_df.groupby(['_code_type', '_section', '_original_charge_description'], dropna=False)[\n",
    "    '_arrest_id'].nunique().sort_values()"
   ]
  },
  {
   "cell_type": "markdown",
   "id": "6d26c122-149a-48e4-a0fb-847484045688",
   "metadata": {},
   "source": [
    "## Combine processed `df`s"
   ]
  },
  {
   "cell_type": "code",
   "execution_count": 48,
   "id": "773435fa-300c-4303-8548-d16fb7c6894e",
   "metadata": {},
   "outputs": [],
   "source": [
    "processed_df = pd.concat(\n",
    "    [municipal_charge_df, processed_statute_charge_df,\n",
    "        warrant_charge_df, ambiguous_charge_df],\n",
    "    ignore_index=True,\n",
    ")"
   ]
  },
  {
   "cell_type": "code",
   "execution_count": 49,
   "id": "e1785a2e-28a2-4eac-bec3-2c83054df953",
   "metadata": {},
   "outputs": [
    {
     "data": {
      "text/plain": [
       "True"
      ]
     },
     "execution_count": 49,
     "metadata": {},
     "output_type": "execute_result"
    }
   ],
   "source": [
    "set(processed_df['_arrest_id']) == set(df['_arrest_id'])"
   ]
  },
  {
   "cell_type": "code",
   "execution_count": 50,
   "id": "579d8fe3-dfa4-4144-a2ae-7ad1f428fd0d",
   "metadata": {},
   "outputs": [
    {
     "data": {
      "text/plain": [
       "True"
      ]
     },
     "execution_count": 50,
     "metadata": {},
     "output_type": "execute_result"
    }
   ],
   "source": [
    "len(processed_df) == len(df)"
   ]
  },
  {
   "cell_type": "code",
   "execution_count": 51,
   "id": "90b4e421-1923-4276-8f9a-c1cb4a4625ca",
   "metadata": {},
   "outputs": [],
   "source": [
    "processed_df['_municipal'].fillna(False, inplace=True)"
   ]
  },
  {
   "cell_type": "code",
   "execution_count": 52,
   "id": "ef28b4fa-d948-44d5-a4c0-f37b4db7baff",
   "metadata": {},
   "outputs": [],
   "source": [
    "processed_df['_charge_description'] = processed_df['StatuteLiteral'].fillna(\n",
    "    processed_df['_original_charge_description'])"
   ]
  },
  {
   "cell_type": "code",
   "execution_count": 53,
   "id": "c2fc2fbb-5d90-4fd4-a8ed-731a71b92ca3",
   "metadata": {},
   "outputs": [],
   "source": [
    "processed_df['_charge_description'] = processed_df['_charge_description'].apply(\n",
    "    lambda x: x.upper() if type(x) is str else x)"
   ]
  },
  {
   "cell_type": "code",
   "execution_count": 54,
   "id": "92f67f52-438e-400b-82b3-365f43a71ee8",
   "metadata": {},
   "outputs": [],
   "source": [
    "processed_df['_charge_reconstructed'].fillna('', inplace=True)"
   ]
  },
  {
   "cell_type": "markdown",
   "id": "178055b6-df67-4338-9570-28592221aa35",
   "metadata": {},
   "source": [
    "## Violent"
   ]
  },
  {
   "cell_type": "code",
   "execution_count": 55,
   "id": "17738afb-9ddc-4a37-a595-c3cc762e5f56",
   "metadata": {},
   "outputs": [],
   "source": [
    "def generate_expression(code):\n",
    "    look_behind = '(?<!\\d|\\.)'\n",
    "    look_ahead = '(?!\\d)'\n",
    "    escaped = re.sub('\\.', '\\.', code)\n",
    "    group = look_behind + escaped + look_ahead\n",
    "    return group"
   ]
  },
  {
   "cell_type": "code",
   "execution_count": 56,
   "id": "724d13e1-5d42-4259-b01a-36696ee8fc82",
   "metadata": {},
   "outputs": [],
   "source": [
    "expression_list = [generate_expression(\n",
    "    x) for x in law.California.person_crime_sections]"
   ]
  },
  {
   "cell_type": "code",
   "execution_count": 57,
   "id": "466033e8-7476-4a26-8a4e-338c3c95befd",
   "metadata": {},
   "outputs": [],
   "source": [
    "expression = '|'.join(expression_list)"
   ]
  },
  {
   "cell_type": "code",
   "execution_count": 58,
   "id": "82aea6f4-7ebe-46b1-b8c5-d783d6d1d8ec",
   "metadata": {},
   "outputs": [],
   "source": [
    "def detect_violent_crime(offense, pattern):\n",
    "    check = re.findall(pattern, offense)\n",
    "    if len(check) > 0:\n",
    "        return check[0]\n",
    "    else:\n",
    "        return ''"
   ]
  },
  {
   "cell_type": "code",
   "execution_count": 59,
   "id": "5d8c886e-bea1-44e1-a787-8f7c8ab1f30d",
   "metadata": {},
   "outputs": [],
   "source": [
    "processed_df['check'] = processed_df['_original_charge_code'].apply(\n",
    "    lambda x: detect_violent_crime(x, expression))"
   ]
  },
  {
   "cell_type": "code",
   "execution_count": 60,
   "id": "1d350e0d-d7d6-4d32-9062-b69efd4b4085",
   "metadata": {},
   "outputs": [
    {
     "data": {
      "text/plain": [
       "_original_charge_code\n",
       "SC211                1\n",
       "PC289 (D)(3)         1\n",
       "PC243.1              1\n",
       "PC243.2(A)(1)        1\n",
       "PC243.6              1\n",
       "                 ...  \n",
       "PC273.5           1510\n",
       "PC211             1938\n",
       "PC242             2131\n",
       "PC245 (A)(1)      2967\n",
       "PC243 (E)(1)     12039\n",
       "Name: _arrest_id, Length: 203, dtype: int64"
      ]
     },
     "execution_count": 60,
     "metadata": {},
     "output_type": "execute_result"
    }
   ],
   "source": [
    "processed_df[processed_df['check'] != ''].groupby(['_original_charge_code'], dropna=False)[\n",
    "    '_arrest_id'].nunique().sort_values()"
   ]
  },
  {
   "cell_type": "code",
   "execution_count": 61,
   "id": "c3b18cc5-e7cb-4596-aadb-509b0a7e988f",
   "metadata": {},
   "outputs": [],
   "source": [
    "processed_df[processed_df['check'] != ''].groupby(\n",
    "    [\n",
    "        '_charge_reconstructed',\n",
    "        '_original_charge_code',\n",
    "        '_charge_description',\n",
    "        '_original_charge_description',\n",
    "    ]\n",
    ").agg(oakland_arrests=('_arrest_id', 'nunique')).to_clipboard()"
   ]
  },
  {
   "cell_type": "code",
   "execution_count": 62,
   "id": "b45774db-09c6-4a8b-b9ba-8e908c3d83d0",
   "metadata": {},
   "outputs": [],
   "source": [
    "processed_df['_violent'] = (processed_df['check'] != '') | (\n",
    "    processed_df['_chsoff_violent'] == True)"
   ]
  },
  {
   "cell_type": "code",
   "execution_count": 63,
   "id": "5dddcc60-5733-4bfe-ab0c-7a5327ff206e",
   "metadata": {
    "tags": []
   },
   "outputs": [
    {
     "data": {
      "text/plain": [
       "array([nan, True], dtype=object)"
      ]
     },
     "execution_count": 63,
     "metadata": {},
     "output_type": "execute_result"
    }
   ],
   "source": [
    "processed_df[processed_df['_violent'] == True]['_chsoff_violent'].unique()"
   ]
  },
  {
   "cell_type": "code",
   "execution_count": 64,
   "id": "43f78e47-5449-4957-8c06-9b50e65f0e03",
   "metadata": {},
   "outputs": [
    {
     "data": {
      "text/html": [
       "<div>\n",
       "<style scoped>\n",
       "    .dataframe tbody tr th:only-of-type {\n",
       "        vertical-align: middle;\n",
       "    }\n",
       "\n",
       "    .dataframe tbody tr th {\n",
       "        vertical-align: top;\n",
       "    }\n",
       "\n",
       "    .dataframe thead th {\n",
       "        text-align: right;\n",
       "    }\n",
       "</style>\n",
       "<table border=\"1\" class=\"dataframe\">\n",
       "  <thead>\n",
       "    <tr style=\"text-align: right;\">\n",
       "      <th></th>\n",
       "      <th>_person_id</th>\n",
       "      <th>_arrest_id</th>\n",
       "      <th>Arr_DateTime</th>\n",
       "      <th>Arr_Event_Nbr</th>\n",
       "      <th>Arr_Beat</th>\n",
       "      <th>EvnPer_Assoc</th>\n",
       "      <th>PerSta_Severity</th>\n",
       "      <th>_original_charge_code</th>\n",
       "      <th>_original_charge_description</th>\n",
       "      <th>_code_type</th>\n",
       "      <th>...</th>\n",
       "      <th>_subparagraph_chsoff</th>\n",
       "      <th>_clause_chsoff</th>\n",
       "      <th>_charge_reconstructed_chsoff</th>\n",
       "      <th>statute_object</th>\n",
       "      <th>_level_data</th>\n",
       "      <th>_level_and_subpart_data</th>\n",
       "      <th>_level_quantified</th>\n",
       "      <th>_charge_description</th>\n",
       "      <th>check</th>\n",
       "      <th>_violent</th>\n",
       "    </tr>\n",
       "  </thead>\n",
       "  <tbody>\n",
       "  </tbody>\n",
       "</table>\n",
       "<p>0 rows × 41 columns</p>\n",
       "</div>"
      ],
      "text/plain": [
       "Empty DataFrame\n",
       "Columns: [_person_id, _arrest_id, Arr_DateTime, Arr_Event_Nbr, Arr_Beat, EvnPer_Assoc, PerSta_Severity, _original_charge_code, _original_charge_description, _code_type, _code, _meta_code, _section, _subdivision, _paragraph, _subparagraph, _clause, _charge_reconstructed, _offense_level, _municipal, _data_per_charge_level, _potential_offense_levels, StatuteLiteral, _incongruity, _original_code, _chsoff_violent, _enactment_data, EnactDate, RepealAmendDate, _subdivision_chsoff, _paragraph_chsoff, _subparagraph_chsoff, _clause_chsoff, _charge_reconstructed_chsoff, statute_object, _level_data, _level_and_subpart_data, _level_quantified, _charge_description, check, _violent]\n",
       "Index: []\n",
       "\n",
       "[0 rows x 41 columns]"
      ]
     },
     "execution_count": 64,
     "metadata": {},
     "output_type": "execute_result"
    }
   ],
   "source": [
    "processed_df[(processed_df['_chsoff_violent'] == False)\n",
    "             & (processed_df['_violent'] == True)]"
   ]
  },
  {
   "cell_type": "code",
   "execution_count": 65,
   "id": "7e95b8c9-65ec-4dd2-8069-63e197810b2f",
   "metadata": {},
   "outputs": [
    {
     "data": {
      "text/plain": [
       "array([], dtype=object)"
      ]
     },
     "execution_count": 65,
     "metadata": {},
     "output_type": "execute_result"
    }
   ],
   "source": [
    "processed_df[(processed_df['_chsoff_violent'] == True) & (\n",
    "    processed_df['_violent'] == False)]['_charge_reconstructed'].unique()"
   ]
  },
  {
   "cell_type": "markdown",
   "id": "a12d6118-ad92-4ea5-bde2-102eb413339f",
   "metadata": {
    "tags": []
   },
   "source": [
    "### Check for false negatives via `_descriptions` field"
   ]
  },
  {
   "cell_type": "code",
   "execution_count": 66,
   "id": "b6bcb9b1-833e-457e-804b-bb20a34b31eb",
   "metadata": {},
   "outputs": [
    {
     "data": {
      "text/html": [
       "<div>\n",
       "<style scoped>\n",
       "    .dataframe tbody tr th:only-of-type {\n",
       "        vertical-align: middle;\n",
       "    }\n",
       "\n",
       "    .dataframe tbody tr th {\n",
       "        vertical-align: top;\n",
       "    }\n",
       "\n",
       "    .dataframe thead th {\n",
       "        text-align: right;\n",
       "    }\n",
       "</style>\n",
       "<table border=\"1\" class=\"dataframe\">\n",
       "  <thead>\n",
       "    <tr style=\"text-align: right;\">\n",
       "      <th></th>\n",
       "      <th>_code_type</th>\n",
       "      <th>_original_charge_code</th>\n",
       "      <th>_charge_reconstructed</th>\n",
       "      <th>_charge_description</th>\n",
       "      <th>_arrest_id</th>\n",
       "    </tr>\n",
       "  </thead>\n",
       "  <tbody>\n",
       "    <tr>\n",
       "      <th>0</th>\n",
       "      <td>PC</td>\n",
       "      <td>PC12280 (A)(1)</td>\n",
       "      <td>PC12280(A)(1)</td>\n",
       "      <td>MAKE ANY ASSAULT WEAPON</td>\n",
       "      <td>22</td>\n",
       "    </tr>\n",
       "    <tr>\n",
       "      <th>1</th>\n",
       "      <td>PC</td>\n",
       "      <td>PC12280 (B)</td>\n",
       "      <td>PC12280(B)</td>\n",
       "      <td>ILLEGAL POSS ASSAULT WPN</td>\n",
       "      <td>47</td>\n",
       "    </tr>\n",
       "    <tr>\n",
       "      <th>2</th>\n",
       "      <td>PC</td>\n",
       "      <td>PC30600 (A)</td>\n",
       "      <td>PC30600(A)</td>\n",
       "      <td>MFG/SELL/ETC ASSAULT WPN</td>\n",
       "      <td>75</td>\n",
       "    </tr>\n",
       "    <tr>\n",
       "      <th>3</th>\n",
       "      <td>PC</td>\n",
       "      <td>PC30605 (A)</td>\n",
       "      <td>PC30605(A)</td>\n",
       "      <td>ILL POSS ASSAULT WPN</td>\n",
       "      <td>232</td>\n",
       "    </tr>\n",
       "  </tbody>\n",
       "</table>\n",
       "</div>"
      ],
      "text/plain": [
       "  _code_type _original_charge_code _charge_reconstructed  \\\n",
       "0         PC        PC12280 (A)(1)         PC12280(A)(1)   \n",
       "1         PC           PC12280 (B)            PC12280(B)   \n",
       "2         PC           PC30600 (A)            PC30600(A)   \n",
       "3         PC           PC30605 (A)            PC30605(A)   \n",
       "\n",
       "        _charge_description  _arrest_id  \n",
       "0   MAKE ANY ASSAULT WEAPON          22  \n",
       "1  ILLEGAL POSS ASSAULT WPN          47  \n",
       "2  MFG/SELL/ETC ASSAULT WPN          75  \n",
       "3      ILL POSS ASSAULT WPN         232  "
      ]
     },
     "execution_count": 66,
     "metadata": {},
     "output_type": "execute_result"
    }
   ],
   "source": [
    "processed_df[\n",
    "    (processed_df['_violent'] == False)\n",
    "    & (processed_df['_charge_description'].str.contains('ASSAULT'))\n",
    "].groupby(\n",
    "    [\n",
    "        '_code_type',\n",
    "        '_original_charge_code',\n",
    "        '_charge_reconstructed',\n",
    "        '_charge_description',\n",
    "    ]\n",
    ")[\n",
    "    '_arrest_id'\n",
    "].nunique().sort_values().reset_index()"
   ]
  },
  {
   "cell_type": "markdown",
   "id": "e17e206d-97b9-4448-b4f5-5dac7981bcec",
   "metadata": {
    "tags": []
   },
   "source": [
    "### Check for false positives via `_descriptions` field"
   ]
  },
  {
   "cell_type": "code",
   "execution_count": 67,
   "id": "a3b8146a-6042-41bf-a266-ac42fa1128e0",
   "metadata": {},
   "outputs": [
    {
     "data": {
      "text/html": [
       "<div>\n",
       "<style scoped>\n",
       "    .dataframe tbody tr th:only-of-type {\n",
       "        vertical-align: middle;\n",
       "    }\n",
       "\n",
       "    .dataframe tbody tr th {\n",
       "        vertical-align: top;\n",
       "    }\n",
       "\n",
       "    .dataframe thead th {\n",
       "        text-align: right;\n",
       "    }\n",
       "</style>\n",
       "<table border=\"1\" class=\"dataframe\">\n",
       "  <thead>\n",
       "    <tr style=\"text-align: right;\">\n",
       "      <th></th>\n",
       "      <th>_code_type</th>\n",
       "      <th>_original_charge_code</th>\n",
       "      <th>_charge_reconstructed</th>\n",
       "      <th>_charge_description</th>\n",
       "      <th>_arrest_id</th>\n",
       "    </tr>\n",
       "  </thead>\n",
       "  <tbody>\n",
       "    <tr>\n",
       "      <th>0</th>\n",
       "      <td></td>\n",
       "      <td>SC207</td>\n",
       "      <td></td>\n",
       "      <td>SC KIDNAPPING</td>\n",
       "      <td>1</td>\n",
       "    </tr>\n",
       "    <tr>\n",
       "      <th>1</th>\n",
       "      <td>PC</td>\n",
       "      <td>PC26100 (D)</td>\n",
       "      <td>PC26100(D)</td>\n",
       "      <td>DISCHARGE F/A FROM VEH</td>\n",
       "      <td>1</td>\n",
       "    </tr>\n",
       "    <tr>\n",
       "      <th>2</th>\n",
       "      <td>PC</td>\n",
       "      <td>PC261.5(D)</td>\n",
       "      <td>PC261.5(D)</td>\n",
       "      <td>SEX W/MINOR -16:PERP 21+</td>\n",
       "      <td>1</td>\n",
       "    </tr>\n",
       "    <tr>\n",
       "      <th>3</th>\n",
       "      <td>PC</td>\n",
       "      <td>PC261 (A)(5)</td>\n",
       "      <td>PC261(A)(5)</td>\n",
       "      <td>RAPE:VICT KNOWS PERSON</td>\n",
       "      <td>1</td>\n",
       "    </tr>\n",
       "    <tr>\n",
       "      <th>4</th>\n",
       "      <td>PC</td>\n",
       "      <td>PC261 (A)(4)(A)</td>\n",
       "      <td>PC261(A)(4)(A)</td>\n",
       "      <td>RAPE:VICT UNCONSCIOUS</td>\n",
       "      <td>1</td>\n",
       "    </tr>\n",
       "    <tr>\n",
       "      <th>...</th>\n",
       "      <td>...</td>\n",
       "      <td>...</td>\n",
       "      <td>...</td>\n",
       "      <td>...</td>\n",
       "      <td>...</td>\n",
       "    </tr>\n",
       "    <tr>\n",
       "      <th>236</th>\n",
       "      <td>PC</td>\n",
       "      <td>PC273.5</td>\n",
       "      <td>PC273.5</td>\n",
       "      <td>INFLICT CRPL INJ SP/COHAB</td>\n",
       "      <td>1510</td>\n",
       "    </tr>\n",
       "    <tr>\n",
       "      <th>237</th>\n",
       "      <td>PC</td>\n",
       "      <td>PC211</td>\n",
       "      <td>PC211</td>\n",
       "      <td>ROBBERY:SECOND DEGREE, ROBBERY:FIRST DEGREE, R...</td>\n",
       "      <td>1938</td>\n",
       "    </tr>\n",
       "    <tr>\n",
       "      <th>238</th>\n",
       "      <td>PC</td>\n",
       "      <td>PC242</td>\n",
       "      <td>PC242</td>\n",
       "      <td>BATTERY ON PERSON, BAT:SPOUSE/EX SP/DATE/ETC, ...</td>\n",
       "      <td>2072</td>\n",
       "    </tr>\n",
       "    <tr>\n",
       "      <th>239</th>\n",
       "      <td>PC</td>\n",
       "      <td>PC245 (A)(1)</td>\n",
       "      <td>PC245(A)(1)</td>\n",
       "      <td>FORCE/ADW NOT FIREARM:GBI, ADW NOT FIREARM</td>\n",
       "      <td>2750</td>\n",
       "    </tr>\n",
       "    <tr>\n",
       "      <th>240</th>\n",
       "      <td>PC</td>\n",
       "      <td>PC243 (E)(1)</td>\n",
       "      <td>PC243(E)(1)</td>\n",
       "      <td>BAT:SPOUSE/EX SP/DATE/ETC</td>\n",
       "      <td>12039</td>\n",
       "    </tr>\n",
       "  </tbody>\n",
       "</table>\n",
       "<p>241 rows × 5 columns</p>\n",
       "</div>"
      ],
      "text/plain": [
       "    _code_type _original_charge_code _charge_reconstructed  \\\n",
       "0                              SC207                         \n",
       "1           PC           PC26100 (D)            PC26100(D)   \n",
       "2           PC            PC261.5(D)            PC261.5(D)   \n",
       "3           PC          PC261 (A)(5)           PC261(A)(5)   \n",
       "4           PC       PC261 (A)(4)(A)        PC261(A)(4)(A)   \n",
       "..         ...                   ...                   ...   \n",
       "236         PC               PC273.5               PC273.5   \n",
       "237         PC                 PC211                 PC211   \n",
       "238         PC                 PC242                 PC242   \n",
       "239         PC          PC245 (A)(1)           PC245(A)(1)   \n",
       "240         PC          PC243 (E)(1)           PC243(E)(1)   \n",
       "\n",
       "                                   _charge_description  _arrest_id  \n",
       "0                                        SC KIDNAPPING           1  \n",
       "1                               DISCHARGE F/A FROM VEH           1  \n",
       "2                             SEX W/MINOR -16:PERP 21+           1  \n",
       "3                               RAPE:VICT KNOWS PERSON           1  \n",
       "4                                RAPE:VICT UNCONSCIOUS           1  \n",
       "..                                                 ...         ...  \n",
       "236                          INFLICT CRPL INJ SP/COHAB        1510  \n",
       "237  ROBBERY:SECOND DEGREE, ROBBERY:FIRST DEGREE, R...        1938  \n",
       "238  BATTERY ON PERSON, BAT:SPOUSE/EX SP/DATE/ETC, ...        2072  \n",
       "239         FORCE/ADW NOT FIREARM:GBI, ADW NOT FIREARM        2750  \n",
       "240                          BAT:SPOUSE/EX SP/DATE/ETC       12039  \n",
       "\n",
       "[241 rows x 5 columns]"
      ]
     },
     "execution_count": 67,
     "metadata": {},
     "output_type": "execute_result"
    }
   ],
   "source": [
    "processed_df[processed_df['_violent'] == True].groupby(\n",
    "    [\n",
    "        '_code_type',\n",
    "        '_original_charge_code',\n",
    "        '_charge_reconstructed',\n",
    "        '_charge_description',\n",
    "    ]\n",
    ")[\n",
    "    '_arrest_id'\n",
    "].nunique().sort_values().reset_index()"
   ]
  },
  {
   "cell_type": "code",
   "execution_count": 68,
   "id": "34697bfc-38ea-4c7d-bb2f-fed5cc69684b",
   "metadata": {},
   "outputs": [
    {
     "data": {
      "text/html": [
       "<div>\n",
       "<style scoped>\n",
       "    .dataframe tbody tr th:only-of-type {\n",
       "        vertical-align: middle;\n",
       "    }\n",
       "\n",
       "    .dataframe tbody tr th {\n",
       "        vertical-align: top;\n",
       "    }\n",
       "\n",
       "    .dataframe thead th {\n",
       "        text-align: right;\n",
       "    }\n",
       "</style>\n",
       "<table border=\"1\" class=\"dataframe\">\n",
       "  <thead>\n",
       "    <tr style=\"text-align: right;\">\n",
       "      <th></th>\n",
       "      <th>_code_type</th>\n",
       "      <th>_original_charge_code</th>\n",
       "      <th>_charge_reconstructed</th>\n",
       "      <th>_charge_description</th>\n",
       "      <th>_violent</th>\n",
       "      <th>check</th>\n",
       "      <th>_arrest_id</th>\n",
       "    </tr>\n",
       "  </thead>\n",
       "  <tbody>\n",
       "    <tr>\n",
       "      <th>0</th>\n",
       "      <td>PC</td>\n",
       "      <td>PC460(B)</td>\n",
       "      <td>PC460(B)</td>\n",
       "      <td>BURGLARY:SECOND DEGREE</td>\n",
       "      <td>False</td>\n",
       "      <td></td>\n",
       "      <td>1</td>\n",
       "    </tr>\n",
       "    <tr>\n",
       "      <th>1</th>\n",
       "      <td>PC</td>\n",
       "      <td>PC460 (B)</td>\n",
       "      <td>PC460(B)</td>\n",
       "      <td>BURGLARY:SECOND DEGREE</td>\n",
       "      <td>False</td>\n",
       "      <td></td>\n",
       "      <td>7</td>\n",
       "    </tr>\n",
       "    <tr>\n",
       "      <th>2</th>\n",
       "      <td>PC</td>\n",
       "      <td>PC460 (A)</td>\n",
       "      <td>PC460(A)</td>\n",
       "      <td>BURGLARY:FIRST DEGREE</td>\n",
       "      <td>True</td>\n",
       "      <td></td>\n",
       "      <td>8</td>\n",
       "    </tr>\n",
       "  </tbody>\n",
       "</table>\n",
       "</div>"
      ],
      "text/plain": [
       "  _code_type _original_charge_code _charge_reconstructed  \\\n",
       "0         PC              PC460(B)              PC460(B)   \n",
       "1         PC             PC460 (B)              PC460(B)   \n",
       "2         PC             PC460 (A)              PC460(A)   \n",
       "\n",
       "      _charge_description  _violent check  _arrest_id  \n",
       "0  BURGLARY:SECOND DEGREE     False                 1  \n",
       "1  BURGLARY:SECOND DEGREE     False                 7  \n",
       "2   BURGLARY:FIRST DEGREE      True                 8  "
      ]
     },
     "execution_count": 68,
     "metadata": {},
     "output_type": "execute_result"
    }
   ],
   "source": [
    "processed_df[processed_df['_charge_reconstructed'].str.contains('^PC460', regex=True)].groupby(\n",
    "    [\n",
    "        '_code_type',\n",
    "        '_original_charge_code',\n",
    "        '_charge_reconstructed',\n",
    "        '_charge_description',\n",
    "        '_violent', 'check'\n",
    "    ]\n",
    ")[\n",
    "    '_arrest_id'\n",
    "].nunique().sort_values().reset_index()"
   ]
  },
  {
   "cell_type": "markdown",
   "id": "d894c438-1c7b-4b22-8663-e8c2fd9bf758",
   "metadata": {},
   "source": [
    "## Warrants"
   ]
  },
  {
   "cell_type": "markdown",
   "id": "cb9e5e5d-4705-4d91-b2cf-b10b21176a85",
   "metadata": {},
   "source": [
    "'PC1551', 'WI663', 'PC853.8', 'PC978.5',"
   ]
  },
  {
   "cell_type": "code",
   "execution_count": 69,
   "id": "4cbd9baf-9a61-4076-8d0d-0d152dbfa8dd",
   "metadata": {},
   "outputs": [],
   "source": [
    "warrant_codes = law.California.warrant_codes + \\\n",
    "    ['B/W', 'O/W']"
   ]
  },
  {
   "cell_type": "code",
   "execution_count": 70,
   "id": "249ccddc-14ce-4421-8fb3-0eab164f5e53",
   "metadata": {},
   "outputs": [],
   "source": [
    "processed_df['_warrant'] = (\n",
    "    processed_df['_charge_reconstructed'].isin(warrant_codes))"
   ]
  },
  {
   "cell_type": "code",
   "execution_count": 71,
   "id": "229c6f4d-c8ba-475a-b2be-bcf7f39a30bb",
   "metadata": {},
   "outputs": [
    {
     "data": {
      "text/plain": [
       "array(['PC', 'B/W', 'O/W'], dtype=object)"
      ]
     },
     "execution_count": 71,
     "metadata": {},
     "output_type": "execute_result"
    }
   ],
   "source": [
    "processed_df[processed_df['_warrant'] == True]['_code_type'].unique()"
   ]
  },
  {
   "cell_type": "markdown",
   "id": "19190ad9-31ff-47bf-84ab-8cbd1da9200e",
   "metadata": {
    "tags": []
   },
   "source": [
    "### Check for false negatives"
   ]
  },
  {
   "cell_type": "code",
   "execution_count": 72,
   "id": "f6c317b9-95d5-4567-9289-8e18b8fef3fe",
   "metadata": {},
   "outputs": [
    {
     "data": {
      "text/plain": [
       "_charge_reconstructed  _charge_description    \n",
       "WI663                  WARRANT OF ARREST:MINOR    2\n",
       "Name: _arrest_id, dtype: int64"
      ]
     },
     "execution_count": 72,
     "metadata": {},
     "output_type": "execute_result"
    }
   ],
   "source": [
    "processed_df[(processed_df['_warrant'] == False) & (\n",
    "    processed_df['_original_charge_description'].str.contains('WARRANT'))].groupby(\n",
    "    ['_charge_reconstructed', '_charge_description'], dropna=False)['_arrest_id'].count()"
   ]
  },
  {
   "cell_type": "markdown",
   "id": "c42374a0-0423-46a5-a689-118013c91721",
   "metadata": {
    "tags": []
   },
   "source": [
    "### Check for false positives via `_descriptions` field"
   ]
  },
  {
   "cell_type": "code",
   "execution_count": 73,
   "id": "4b3cd888-acc7-4512-b71f-e945dbc8cebe",
   "metadata": {},
   "outputs": [
    {
     "data": {
      "text/plain": [
       "_charge_reconstructed  _charge_description              \n",
       "B/W                    FELONY BENCH WARRANT - LOCAL          8852\n",
       "                       MISDEMEANOR BENCH WARRANT - LOCAL    13469\n",
       "O/W                    OUTSIDE WARRANT - FELONY              7147\n",
       "                       OUTSIDE WARRANT - MISDEMEANOR         4674\n",
       "PC1551                 FUG JUST:WARRANT ARREST                 14\n",
       "PC853.8                FAILURE TO APPEAR WARRANT                1\n",
       "PC978.5                BENCH WARRANT:FTA:FELONY                 1\n",
       "                       BENCH WARRANT:FTA:MISD                  30\n",
       "Name: _arrest_id, dtype: int64"
      ]
     },
     "execution_count": 73,
     "metadata": {},
     "output_type": "execute_result"
    }
   ],
   "source": [
    "processed_df[processed_df['_warrant'] == True].groupby(\n",
    "    ['_charge_reconstructed', '_charge_description'], dropna=False)['_arrest_id'].count()"
   ]
  },
  {
   "cell_type": "markdown",
   "id": "73e3f446-4797-4006-a5ea-0c062abf91eb",
   "metadata": {
    "tags": []
   },
   "source": [
    "## FTA"
   ]
  },
  {
   "cell_type": "code",
   "execution_count": 74,
   "id": "c655e41f-d3ec-4d64-be24-6108fb9ae7aa",
   "metadata": {},
   "outputs": [],
   "source": [
    "processed_df['_fta'] = processed_df['_charge_reconstructed'].isin(\n",
    "    law.California.fta_codes)"
   ]
  },
  {
   "cell_type": "markdown",
   "id": "a1dd23ba-9d45-4a8b-967f-d11f07d43fb2",
   "metadata": {
    "tags": []
   },
   "source": [
    "### Check for false negatives"
   ]
  },
  {
   "cell_type": "code",
   "execution_count": 75,
   "id": "9a66b5cc-a2ac-4415-8173-9a7be13f38c8",
   "metadata": {},
   "outputs": [
    {
     "data": {
      "text/plain": [
       "Series([], Name: _arrest_id, dtype: int64)"
      ]
     },
     "execution_count": 75,
     "metadata": {},
     "output_type": "execute_result"
    }
   ],
   "source": [
    "processed_df[(processed_df['_fta'] == False) & (\n",
    "    processed_df['_original_charge_description'].str.contains('FTA|APPEAR', regex=True))].groupby(\n",
    "    ['_charge_reconstructed', '_charge_description', ], dropna=False)['_arrest_id'].count()"
   ]
  },
  {
   "cell_type": "markdown",
   "id": "e7f31944-f883-4135-83db-4d3a1d09ab5e",
   "metadata": {},
   "source": [
    "Note that `40302(B)` is not a failure to appear after written promise (`VEH 40508(A)`. Per [leginfo.legislature.ca.gov](https://leginfo.legislature.ca.gov/faces/codes_displaySection.xhtml?lawCode=VEH&sectionNum=40302):\n",
    ">**40302.**\n",
    ">\n",
    ">Whenever any person is arrested for any violation of this code, not declared to be a felony, the arrested person shall be taken without unnecessary delay before a magistrate within the county in which the offense charged is alleged to have been committed and who has jurisdiction of the offense and is nearest or most accessible with reference to the place where the arrest is made in any of the following cases:\n",
    ">\n",
    ">[...]\n",
    ">\n",
    ">(b) When the person arrested refuses to give his or her written promise to appear in court."
   ]
  },
  {
   "cell_type": "markdown",
   "id": "7e0c62a4-8c86-4aef-b20b-ca27d544108f",
   "metadata": {
    "tags": []
   },
   "source": [
    "### Check for false positives"
   ]
  },
  {
   "cell_type": "code",
   "execution_count": 76,
   "id": "a735f59c-104d-4376-80e9-f21aa0034e3a",
   "metadata": {},
   "outputs": [
    {
     "data": {
      "text/plain": [
       "_charge_reconstructed  _charge_description      \n",
       "PC1320(A)              FTA:MISDEMEANOR CHARGE          1\n",
       "PC1331                 FTA AS WITNESS                  1\n",
       "PC166(A)(4)            CONTEMPT:DISOBEY CRT ORDR    1722\n",
       "PC853.7                FTA AFTER WRITTEN PROMISE      89\n",
       "PC853.8                FAILURE TO APPEAR WARRANT       1\n",
       "PC978.5                BENCH WARRANT:FTA:FELONY        1\n",
       "                       BENCH WARRANT:FTA:MISD         30\n",
       "VC40508(A)             FAIL T/APPEAR:WRIT PROMIS     113\n",
       "Name: _arrest_id, dtype: int64"
      ]
     },
     "execution_count": 76,
     "metadata": {},
     "output_type": "execute_result"
    }
   ],
   "source": [
    "processed_df[processed_df['_fta'] == True].groupby(\n",
    "    ['_charge_reconstructed', '_charge_description'], dropna=False)['_arrest_id'].count()"
   ]
  },
  {
   "cell_type": "markdown",
   "id": "eb426e0d-f4c7-4f06-b988-a4480631d64e",
   "metadata": {},
   "source": [
    "## Supervision"
   ]
  },
  {
   "cell_type": "code",
   "execution_count": 77,
   "id": "371906c0-25fe-48d2-8756-04cc228f2b6c",
   "metadata": {},
   "outputs": [],
   "source": [
    "processed_df['_supervision'] = (processed_df['_charge_reconstructed'].isin(\n",
    "    law.California.supervision_codes)) & (processed_df['_code_type'] == 'PC')"
   ]
  },
  {
   "cell_type": "markdown",
   "id": "1a582f31-4d52-4e3b-a8cf-26e3c287ee88",
   "metadata": {
    "tags": []
   },
   "source": [
    "### Check for false negatives"
   ]
  },
  {
   "cell_type": "code",
   "execution_count": 78,
   "id": "0145f5e3-b7bd-4886-9243-95bf6f930126",
   "metadata": {},
   "outputs": [
    {
     "data": {
      "text/html": [
       "<div>\n",
       "<style scoped>\n",
       "    .dataframe tbody tr th:only-of-type {\n",
       "        vertical-align: middle;\n",
       "    }\n",
       "\n",
       "    .dataframe tbody tr th {\n",
       "        vertical-align: top;\n",
       "    }\n",
       "\n",
       "    .dataframe thead th {\n",
       "        text-align: right;\n",
       "    }\n",
       "</style>\n",
       "<table border=\"1\" class=\"dataframe\">\n",
       "  <thead>\n",
       "    <tr style=\"text-align: right;\">\n",
       "      <th></th>\n",
       "      <th>_charge_reconstructed</th>\n",
       "      <th>_charge_description</th>\n",
       "      <th>_arrest_id</th>\n",
       "    </tr>\n",
       "  </thead>\n",
       "  <tbody>\n",
       "    <tr>\n",
       "      <th>0</th>\n",
       "      <td></td>\n",
       "      <td>PROBATION HOLD</td>\n",
       "      <td>1</td>\n",
       "    </tr>\n",
       "    <tr>\n",
       "      <th>1</th>\n",
       "      <td>PC3060</td>\n",
       "      <td>SUSPEND/REVOKE PAROLE</td>\n",
       "      <td>2</td>\n",
       "    </tr>\n",
       "    <tr>\n",
       "      <th>2</th>\n",
       "      <td>PC12021(D)</td>\n",
       "      <td>FELN/ADD/ETC POSS FIREARM</td>\n",
       "      <td>3</td>\n",
       "    </tr>\n",
       "    <tr>\n",
       "      <th>3</th>\n",
       "      <td>PC1203.073</td>\n",
       "      <td>A PERSON CONVICTED OF A FELONY SPECIFIED IN SU...</td>\n",
       "      <td>5</td>\n",
       "    </tr>\n",
       "    <tr>\n",
       "      <th>4</th>\n",
       "      <td>WI1767.3</td>\n",
       "      <td>ESCAPE CUSTDY JUV FACILTY, REVOKE/ETC PAROLE:CYA</td>\n",
       "      <td>5</td>\n",
       "    </tr>\n",
       "    <tr>\n",
       "      <th>5</th>\n",
       "      <td>PC1203.016(C)</td>\n",
       "      <td>REAREST:ELEC MONITOR PROB</td>\n",
       "      <td>6</td>\n",
       "    </tr>\n",
       "    <tr>\n",
       "      <th>6</th>\n",
       "      <td>WI777</td>\n",
       "      <td>MOD COURT ORD:COMMIT/PROB</td>\n",
       "      <td>7</td>\n",
       "    </tr>\n",
       "    <tr>\n",
       "      <th>7</th>\n",
       "      <td>PC29815(A)</td>\n",
       "      <td>CONV PRSN POSS/ETC F/ARM</td>\n",
       "      <td>82</td>\n",
       "    </tr>\n",
       "    <tr>\n",
       "      <th>8</th>\n",
       "      <td>PC1203.3</td>\n",
       "      <td>PROBATION REVOKED/ETC</td>\n",
       "      <td>243</td>\n",
       "    </tr>\n",
       "  </tbody>\n",
       "</table>\n",
       "</div>"
      ],
      "text/plain": [
       "  _charge_reconstructed                                _charge_description  \\\n",
       "0                                                           PROBATION HOLD   \n",
       "1                PC3060                              SUSPEND/REVOKE PAROLE   \n",
       "2            PC12021(D)                          FELN/ADD/ETC POSS FIREARM   \n",
       "3            PC1203.073  A PERSON CONVICTED OF A FELONY SPECIFIED IN SU...   \n",
       "4              WI1767.3   ESCAPE CUSTDY JUV FACILTY, REVOKE/ETC PAROLE:CYA   \n",
       "5         PC1203.016(C)                          REAREST:ELEC MONITOR PROB   \n",
       "6                 WI777                          MOD COURT ORD:COMMIT/PROB   \n",
       "7            PC29815(A)                           CONV PRSN POSS/ETC F/ARM   \n",
       "8              PC1203.3                              PROBATION REVOKED/ETC   \n",
       "\n",
       "   _arrest_id  \n",
       "0           1  \n",
       "1           2  \n",
       "2           3  \n",
       "3           5  \n",
       "4           5  \n",
       "5           6  \n",
       "6           7  \n",
       "7          82  \n",
       "8         243  "
      ]
     },
     "execution_count": 78,
     "metadata": {},
     "output_type": "execute_result"
    }
   ],
   "source": [
    "processed_df[(processed_df['_supervision'] == False) & (\n",
    "    processed_df['_original_charge_description'].str.contains('PAROLE|PROB|PRCS|FLASH'))].groupby(\n",
    "    ['_charge_reconstructed', '_charge_description', ], dropna=False)['_arrest_id'].nunique().sort_values().reset_index()"
   ]
  },
  {
   "cell_type": "markdown",
   "id": "c5f6d6ca-22bc-4164-8508-c4dd79d15ca5",
   "metadata": {
    "tags": []
   },
   "source": [
    "### Check for false positives"
   ]
  },
  {
   "cell_type": "code",
   "execution_count": 79,
   "id": "d549f1da-d27a-45f4-b724-f429abc90bf3",
   "metadata": {},
   "outputs": [
    {
     "data": {
      "text/plain": [
       "_charge_reconstructed  _charge_description                      \n",
       "PC1203.2               PROB VIOL:REARREST/REVOKE                    7545\n",
       "PC1203.2(A)            PROB VIOL:REAREST/REVOKE                     2623\n",
       "PC3000.08              FLASH INCARCERATION, VIOLATION OF PAROLE       25\n",
       "PC3056                 VIOLATION OF PAROLE:FEL                      2333\n",
       "PC3455                 PRCS VIOLATION                                103\n",
       "PC3455(A)              REVOKE/TERMINATE POST-RELEASE SUPERVISION      33\n",
       "Name: _arrest_id, dtype: int64"
      ]
     },
     "execution_count": 79,
     "metadata": {},
     "output_type": "execute_result"
    }
   ],
   "source": [
    "processed_df[processed_df['_supervision'] == True].groupby(\n",
    "    ['_charge_reconstructed', '_charge_description'], dropna=False)['_arrest_id'].count()"
   ]
  },
  {
   "cell_type": "markdown",
   "id": "a29b1078-24bd-486f-88bc-4e0405fbb8e3",
   "metadata": {},
   "source": [
    "## Felony"
   ]
  },
  {
   "cell_type": "code",
   "execution_count": 80,
   "id": "e56a377c-b1a1-4942-8efd-75b2f852cb59",
   "metadata": {},
   "outputs": [],
   "source": [
    "processed_df['_felony'] = processed_df['_offense_level'] == 'F'"
   ]
  },
  {
   "cell_type": "code",
   "execution_count": 81,
   "id": "679c0ba0-afb7-41a6-8433-346d9359f6d7",
   "metadata": {},
   "outputs": [
    {
     "data": {
      "text/plain": [
       "Index(['_person_id', '_arrest_id', 'Arr_DateTime', 'Arr_Event_Nbr', 'Arr_Beat',\n",
       "       'EvnPer_Assoc', 'PerSta_Severity', '_original_charge_code',\n",
       "       '_original_charge_description', '_code_type', '_code', '_meta_code',\n",
       "       '_section', '_subdivision', '_paragraph', '_subparagraph', '_clause',\n",
       "       '_charge_reconstructed', '_offense_level', '_municipal',\n",
       "       '_data_per_charge_level', '_potential_offense_levels', 'StatuteLiteral',\n",
       "       '_incongruity', '_original_code', '_chsoff_violent', '_enactment_data',\n",
       "       'EnactDate', 'RepealAmendDate', '_subdivision_chsoff',\n",
       "       '_paragraph_chsoff', '_subparagraph_chsoff', '_clause_chsoff',\n",
       "       '_charge_reconstructed_chsoff', 'statute_object', '_level_data',\n",
       "       '_level_and_subpart_data', '_level_quantified', '_charge_description',\n",
       "       'check', '_violent', '_warrant', '_fta', '_supervision', '_felony'],\n",
       "      dtype='object')"
      ]
     },
     "execution_count": 81,
     "metadata": {},
     "output_type": "execute_result"
    }
   ],
   "source": [
    "processed_df.columns"
   ]
  },
  {
   "cell_type": "code",
   "execution_count": 82,
   "id": "cf58a72c-ac82-44d8-903c-0395c4227662",
   "metadata": {},
   "outputs": [],
   "source": [
    "def flag_level_incongruity(row):\n",
    "    if type(row['_potential_offense_levels']) is str:\n",
    "        if re.search(row['_offense_level'], row['_potential_offense_levels']):\n",
    "            return True\n",
    "        else:\n",
    "            return False\n",
    "    else:\n",
    "        return np.nan"
   ]
  },
  {
   "cell_type": "code",
   "execution_count": 83,
   "id": "1bd2081d-37f9-4e20-9e0d-a65109086802",
   "metadata": {},
   "outputs": [],
   "source": [
    "processed_df['_levels_congruent'] = processed_df.apply(\n",
    "    lambda x: flag_level_incongruity(x), axis=1)"
   ]
  },
  {
   "cell_type": "code",
   "execution_count": 84,
   "id": "9a1c3323-c6d6-4c9a-a095-b705ffe6d553",
   "metadata": {},
   "outputs": [],
   "source": [
    "processed_df.loc[processed_df['_felony'] == True,\n",
    "                 '_code_type_of_felony'] = processed_df['_code_type']"
   ]
  },
  {
   "cell_type": "markdown",
   "id": "eb97e0e4-35b2-4ef2-a455-791ea60a780f",
   "metadata": {},
   "source": [
    "## Federal"
   ]
  },
  {
   "cell_type": "code",
   "execution_count": 85,
   "id": "c6566f37-f056-468c-98cb-a5ab81edcd8e",
   "metadata": {},
   "outputs": [],
   "source": [
    "processed_df['_federal'] = processed_df['_code_type'] == 'US'"
   ]
  },
  {
   "cell_type": "code",
   "execution_count": 86,
   "id": "ed3bf061-87f2-47cc-af39-98b9433ff009",
   "metadata": {},
   "outputs": [
    {
     "data": {
      "text/html": [
       "<div>\n",
       "<style scoped>\n",
       "    .dataframe tbody tr th:only-of-type {\n",
       "        vertical-align: middle;\n",
       "    }\n",
       "\n",
       "    .dataframe tbody tr th {\n",
       "        vertical-align: top;\n",
       "    }\n",
       "\n",
       "    .dataframe thead th {\n",
       "        text-align: right;\n",
       "    }\n",
       "</style>\n",
       "<table border=\"1\" class=\"dataframe\">\n",
       "  <thead>\n",
       "    <tr style=\"text-align: right;\">\n",
       "      <th></th>\n",
       "      <th>_person_id</th>\n",
       "      <th>_arrest_id</th>\n",
       "      <th>Arr_DateTime</th>\n",
       "      <th>Arr_Event_Nbr</th>\n",
       "      <th>Arr_Beat</th>\n",
       "      <th>EvnPer_Assoc</th>\n",
       "      <th>PerSta_Severity</th>\n",
       "      <th>_original_charge_code</th>\n",
       "      <th>_original_charge_description</th>\n",
       "      <th>_code_type</th>\n",
       "      <th>...</th>\n",
       "      <th>_charge_description</th>\n",
       "      <th>check</th>\n",
       "      <th>_violent</th>\n",
       "      <th>_warrant</th>\n",
       "      <th>_fta</th>\n",
       "      <th>_supervision</th>\n",
       "      <th>_felony</th>\n",
       "      <th>_levels_congruent</th>\n",
       "      <th>_code_type_of_felony</th>\n",
       "      <th>_federal</th>\n",
       "    </tr>\n",
       "  </thead>\n",
       "  <tbody>\n",
       "    <tr>\n",
       "      <th>119176</th>\n",
       "      <td>5Z2H</td>\n",
       "      <td>5Z2H_2012-03-13 13:30:00</td>\n",
       "      <td>2012-03-13 13:30:00</td>\n",
       "      <td>ARR12-002591</td>\n",
       "      <td></td>\n",
       "      <td>ARRESTEE</td>\n",
       "      <td>FELONY</td>\n",
       "      <td>US21 841(A)(1)</td>\n",
       "      <td>MANUFACTURE/DISTRIBUTE/ETC CONTROL SUBSTANCE</td>\n",
       "      <td>US</td>\n",
       "      <td>...</td>\n",
       "      <td>MANUFACTURE/DISTRIBUTE/ETC CONTROL SUBSTANCE</td>\n",
       "      <td></td>\n",
       "      <td>False</td>\n",
       "      <td>False</td>\n",
       "      <td>False</td>\n",
       "      <td>False</td>\n",
       "      <td>True</td>\n",
       "      <td>NaN</td>\n",
       "      <td>US</td>\n",
       "      <td>True</td>\n",
       "    </tr>\n",
       "    <tr>\n",
       "      <th>119177</th>\n",
       "      <td>5Z2H</td>\n",
       "      <td>5Z2H_2012-03-13 13:30:00</td>\n",
       "      <td>2012-03-13 13:30:00</td>\n",
       "      <td>ARR12-002591</td>\n",
       "      <td></td>\n",
       "      <td>ARRESTEE</td>\n",
       "      <td>FELONY</td>\n",
       "      <td>US21 846</td>\n",
       "      <td>ATTEMPT/CONSPIRACY:DRUGS</td>\n",
       "      <td>US</td>\n",
       "      <td>...</td>\n",
       "      <td>ATTEMPT/CONSPIRACY:DRUGS</td>\n",
       "      <td></td>\n",
       "      <td>False</td>\n",
       "      <td>False</td>\n",
       "      <td>False</td>\n",
       "      <td>False</td>\n",
       "      <td>True</td>\n",
       "      <td>NaN</td>\n",
       "      <td>US</td>\n",
       "      <td>True</td>\n",
       "    </tr>\n",
       "    <tr>\n",
       "      <th>119206</th>\n",
       "      <td>5HNU</td>\n",
       "      <td>5HNU_2012-03-30 12:30:00</td>\n",
       "      <td>2012-03-30 12:30:00</td>\n",
       "      <td>ARR12-013325</td>\n",
       "      <td>11X</td>\n",
       "      <td>ARRESTEE</td>\n",
       "      <td>FELONY</td>\n",
       "      <td>US18 922 (G)</td>\n",
       "      <td>FELON/ETC REC/ETC FIREARM/AMMO</td>\n",
       "      <td>US</td>\n",
       "      <td>...</td>\n",
       "      <td>FELON/ETC REC/ETC FIREARM/AMMO</td>\n",
       "      <td></td>\n",
       "      <td>False</td>\n",
       "      <td>False</td>\n",
       "      <td>False</td>\n",
       "      <td>False</td>\n",
       "      <td>True</td>\n",
       "      <td>NaN</td>\n",
       "      <td>US</td>\n",
       "      <td>True</td>\n",
       "    </tr>\n",
       "    <tr>\n",
       "      <th>119207</th>\n",
       "      <td>5HNU</td>\n",
       "      <td>5HNU_2012-03-30 12:30:00</td>\n",
       "      <td>2012-03-30 12:30:00</td>\n",
       "      <td>ARR12-013325</td>\n",
       "      <td>11X</td>\n",
       "      <td>ARRESTEE</td>\n",
       "      <td>FELONY</td>\n",
       "      <td>US18 924(C)</td>\n",
       "      <td>KNOWINGLY IMPORT/BRING IN FIREARM/AMMUN IN US</td>\n",
       "      <td>US</td>\n",
       "      <td>...</td>\n",
       "      <td>KNOWINGLY IMPORT/BRING IN FIREARM/AMMUN IN US</td>\n",
       "      <td></td>\n",
       "      <td>False</td>\n",
       "      <td>False</td>\n",
       "      <td>False</td>\n",
       "      <td>False</td>\n",
       "      <td>True</td>\n",
       "      <td>NaN</td>\n",
       "      <td>US</td>\n",
       "      <td>True</td>\n",
       "    </tr>\n",
       "    <tr>\n",
       "      <th>119298</th>\n",
       "      <td>592D</td>\n",
       "      <td>592D_2012-07-08 17:33:00</td>\n",
       "      <td>2012-07-08 17:33:00</td>\n",
       "      <td>ARR12-124743</td>\n",
       "      <td>26X</td>\n",
       "      <td>ARRESTEE</td>\n",
       "      <td>FELONY</td>\n",
       "      <td>US18 472</td>\n",
       "      <td>ILLEGAL POSSESSION/ETC FALSE U S DOCUMENT</td>\n",
       "      <td>US</td>\n",
       "      <td>...</td>\n",
       "      <td>ILLEGAL POSSESSION/ETC FALSE U S DOCUMENT</td>\n",
       "      <td></td>\n",
       "      <td>False</td>\n",
       "      <td>False</td>\n",
       "      <td>False</td>\n",
       "      <td>False</td>\n",
       "      <td>True</td>\n",
       "      <td>NaN</td>\n",
       "      <td>US</td>\n",
       "      <td>True</td>\n",
       "    </tr>\n",
       "    <tr>\n",
       "      <th>119882</th>\n",
       "      <td>385J</td>\n",
       "      <td>385J_2015-08-27 11:05:00</td>\n",
       "      <td>2015-08-27 11:05:00</td>\n",
       "      <td>ARR15-043869</td>\n",
       "      <td>30X</td>\n",
       "      <td>ARRESTEE</td>\n",
       "      <td>FELONY</td>\n",
       "      <td>US21 841(A)(1)</td>\n",
       "      <td>MANUFACTURE/DISTRIBUTE/ETC CONTROL SUBSTANCE</td>\n",
       "      <td>US</td>\n",
       "      <td>...</td>\n",
       "      <td>MANUFACTURE/DISTRIBUTE/ETC CONTROL SUBSTANCE</td>\n",
       "      <td></td>\n",
       "      <td>False</td>\n",
       "      <td>False</td>\n",
       "      <td>False</td>\n",
       "      <td>False</td>\n",
       "      <td>True</td>\n",
       "      <td>NaN</td>\n",
       "      <td>US</td>\n",
       "      <td>True</td>\n",
       "    </tr>\n",
       "    <tr>\n",
       "      <th>120237</th>\n",
       "      <td>5DRJ</td>\n",
       "      <td>5DRJ_2018-01-23 10:45:00</td>\n",
       "      <td>2018-01-23 10:45:00</td>\n",
       "      <td>ARR18-000894</td>\n",
       "      <td>99X</td>\n",
       "      <td>ARRESTEE</td>\n",
       "      <td>FELONY</td>\n",
       "      <td>US21 841(A)(1)</td>\n",
       "      <td>MANUFACTURE/DISTRIBUTE/ETC CONTROL SUBSTANCE</td>\n",
       "      <td>US</td>\n",
       "      <td>...</td>\n",
       "      <td>MANUFACTURE/DISTRIBUTE/ETC CONTROL SUBSTANCE</td>\n",
       "      <td></td>\n",
       "      <td>False</td>\n",
       "      <td>False</td>\n",
       "      <td>False</td>\n",
       "      <td>False</td>\n",
       "      <td>True</td>\n",
       "      <td>NaN</td>\n",
       "      <td>US</td>\n",
       "      <td>True</td>\n",
       "    </tr>\n",
       "    <tr>\n",
       "      <th>120447</th>\n",
       "      <td>5U2W</td>\n",
       "      <td>5U2W_2019-08-08 15:00:00</td>\n",
       "      <td>2019-08-08 15:00:00</td>\n",
       "      <td>ARR19-005896</td>\n",
       "      <td>77X</td>\n",
       "      <td>ARRESTEE</td>\n",
       "      <td>FELONY</td>\n",
       "      <td>US21 841(A)(1)</td>\n",
       "      <td>MANUFACTURE/DISTRIBUTE/ETC CONTROL SUBSTANCE</td>\n",
       "      <td>US</td>\n",
       "      <td>...</td>\n",
       "      <td>MANUFACTURE/DISTRIBUTE/ETC CONTROL SUBSTANCE</td>\n",
       "      <td></td>\n",
       "      <td>False</td>\n",
       "      <td>False</td>\n",
       "      <td>False</td>\n",
       "      <td>False</td>\n",
       "      <td>True</td>\n",
       "      <td>NaN</td>\n",
       "      <td>US</td>\n",
       "      <td>True</td>\n",
       "    </tr>\n",
       "    <tr>\n",
       "      <th>120448</th>\n",
       "      <td>5U2W</td>\n",
       "      <td>5U2W_2019-08-08 15:00:00</td>\n",
       "      <td>2019-08-08 15:00:00</td>\n",
       "      <td>ARR19-005903</td>\n",
       "      <td>77X</td>\n",
       "      <td>ARRESTEE</td>\n",
       "      <td>FELONY</td>\n",
       "      <td>US21 841(A)(1)</td>\n",
       "      <td>MANUFACTURE/DISTRIBUTE/ETC CONTROL SUBSTANCE</td>\n",
       "      <td>US</td>\n",
       "      <td>...</td>\n",
       "      <td>MANUFACTURE/DISTRIBUTE/ETC CONTROL SUBSTANCE</td>\n",
       "      <td></td>\n",
       "      <td>False</td>\n",
       "      <td>False</td>\n",
       "      <td>False</td>\n",
       "      <td>False</td>\n",
       "      <td>True</td>\n",
       "      <td>NaN</td>\n",
       "      <td>US</td>\n",
       "      <td>True</td>\n",
       "    </tr>\n",
       "  </tbody>\n",
       "</table>\n",
       "<p>9 rows × 48 columns</p>\n",
       "</div>"
      ],
      "text/plain": [
       "       _person_id                _arrest_id        Arr_DateTime Arr_Event_Nbr  \\\n",
       "119176       5Z2H  5Z2H_2012-03-13 13:30:00 2012-03-13 13:30:00  ARR12-002591   \n",
       "119177       5Z2H  5Z2H_2012-03-13 13:30:00 2012-03-13 13:30:00  ARR12-002591   \n",
       "119206       5HNU  5HNU_2012-03-30 12:30:00 2012-03-30 12:30:00  ARR12-013325   \n",
       "119207       5HNU  5HNU_2012-03-30 12:30:00 2012-03-30 12:30:00  ARR12-013325   \n",
       "119298       592D  592D_2012-07-08 17:33:00 2012-07-08 17:33:00  ARR12-124743   \n",
       "119882       385J  385J_2015-08-27 11:05:00 2015-08-27 11:05:00  ARR15-043869   \n",
       "120237       5DRJ  5DRJ_2018-01-23 10:45:00 2018-01-23 10:45:00  ARR18-000894   \n",
       "120447       5U2W  5U2W_2019-08-08 15:00:00 2019-08-08 15:00:00  ARR19-005896   \n",
       "120448       5U2W  5U2W_2019-08-08 15:00:00 2019-08-08 15:00:00  ARR19-005903   \n",
       "\n",
       "       Arr_Beat EvnPer_Assoc PerSta_Severity _original_charge_code  \\\n",
       "119176              ARRESTEE          FELONY        US21 841(A)(1)   \n",
       "119177              ARRESTEE          FELONY              US21 846   \n",
       "119206      11X     ARRESTEE          FELONY          US18 922 (G)   \n",
       "119207      11X     ARRESTEE          FELONY           US18 924(C)   \n",
       "119298      26X     ARRESTEE          FELONY              US18 472   \n",
       "119882      30X     ARRESTEE          FELONY        US21 841(A)(1)   \n",
       "120237      99X     ARRESTEE          FELONY        US21 841(A)(1)   \n",
       "120447      77X     ARRESTEE          FELONY        US21 841(A)(1)   \n",
       "120448      77X     ARRESTEE          FELONY        US21 841(A)(1)   \n",
       "\n",
       "                         _original_charge_description _code_type  ...  \\\n",
       "119176   MANUFACTURE/DISTRIBUTE/ETC CONTROL SUBSTANCE         US  ...   \n",
       "119177                       ATTEMPT/CONSPIRACY:DRUGS         US  ...   \n",
       "119206                 FELON/ETC REC/ETC FIREARM/AMMO         US  ...   \n",
       "119207  KNOWINGLY IMPORT/BRING IN FIREARM/AMMUN IN US         US  ...   \n",
       "119298      ILLEGAL POSSESSION/ETC FALSE U S DOCUMENT         US  ...   \n",
       "119882   MANUFACTURE/DISTRIBUTE/ETC CONTROL SUBSTANCE         US  ...   \n",
       "120237   MANUFACTURE/DISTRIBUTE/ETC CONTROL SUBSTANCE         US  ...   \n",
       "120447   MANUFACTURE/DISTRIBUTE/ETC CONTROL SUBSTANCE         US  ...   \n",
       "120448   MANUFACTURE/DISTRIBUTE/ETC CONTROL SUBSTANCE         US  ...   \n",
       "\n",
       "                                  _charge_description check _violent _warrant  \\\n",
       "119176   MANUFACTURE/DISTRIBUTE/ETC CONTROL SUBSTANCE          False    False   \n",
       "119177                       ATTEMPT/CONSPIRACY:DRUGS          False    False   \n",
       "119206                 FELON/ETC REC/ETC FIREARM/AMMO          False    False   \n",
       "119207  KNOWINGLY IMPORT/BRING IN FIREARM/AMMUN IN US          False    False   \n",
       "119298      ILLEGAL POSSESSION/ETC FALSE U S DOCUMENT          False    False   \n",
       "119882   MANUFACTURE/DISTRIBUTE/ETC CONTROL SUBSTANCE          False    False   \n",
       "120237   MANUFACTURE/DISTRIBUTE/ETC CONTROL SUBSTANCE          False    False   \n",
       "120447   MANUFACTURE/DISTRIBUTE/ETC CONTROL SUBSTANCE          False    False   \n",
       "120448   MANUFACTURE/DISTRIBUTE/ETC CONTROL SUBSTANCE          False    False   \n",
       "\n",
       "         _fta _supervision _felony _levels_congruent _code_type_of_felony  \\\n",
       "119176  False        False    True               NaN                   US   \n",
       "119177  False        False    True               NaN                   US   \n",
       "119206  False        False    True               NaN                   US   \n",
       "119207  False        False    True               NaN                   US   \n",
       "119298  False        False    True               NaN                   US   \n",
       "119882  False        False    True               NaN                   US   \n",
       "120237  False        False    True               NaN                   US   \n",
       "120447  False        False    True               NaN                   US   \n",
       "120448  False        False    True               NaN                   US   \n",
       "\n",
       "        _federal  \n",
       "119176      True  \n",
       "119177      True  \n",
       "119206      True  \n",
       "119207      True  \n",
       "119298      True  \n",
       "119882      True  \n",
       "120237      True  \n",
       "120447      True  \n",
       "120448      True  \n",
       "\n",
       "[9 rows x 48 columns]"
      ]
     },
     "execution_count": 86,
     "metadata": {},
     "output_type": "execute_result"
    }
   ],
   "source": [
    "processed_df[processed_df['_federal'] == True]"
   ]
  },
  {
   "cell_type": "markdown",
   "id": "76ad30de-29dd-49e7-970d-0f7199089de1",
   "metadata": {},
   "source": [
    "## PCS"
   ]
  },
  {
   "cell_type": "code",
   "execution_count": 87,
   "id": "4edca8f0-92e1-431a-a055-d248f2aeb29d",
   "metadata": {},
   "outputs": [],
   "source": [
    "processed_df['_pcs'] = (processed_df['_code_type'] == 'HS') & (\n",
    "    processed_df['_charge_reconstructed'].isin(law.California.pcs_codes))"
   ]
  },
  {
   "cell_type": "markdown",
   "id": "ba9dfe5f-c89c-409b-aafe-64efe66ab16b",
   "metadata": {
    "tags": []
   },
   "source": [
    "### Check for false negatives"
   ]
  },
  {
   "cell_type": "code",
   "execution_count": 88,
   "id": "bc95c492-0cad-4dcf-ac45-3f16043c5b47",
   "metadata": {},
   "outputs": [
    {
     "data": {
      "text/html": [
       "<div>\n",
       "<style scoped>\n",
       "    .dataframe tbody tr th:only-of-type {\n",
       "        vertical-align: middle;\n",
       "    }\n",
       "\n",
       "    .dataframe tbody tr th {\n",
       "        vertical-align: top;\n",
       "    }\n",
       "\n",
       "    .dataframe thead th {\n",
       "        text-align: right;\n",
       "    }\n",
       "</style>\n",
       "<table border=\"1\" class=\"dataframe\">\n",
       "  <thead>\n",
       "    <tr style=\"text-align: right;\">\n",
       "      <th></th>\n",
       "      <th>_section</th>\n",
       "      <th>_charge_reconstructed</th>\n",
       "      <th>_charge_description</th>\n",
       "      <th>_arrest_id</th>\n",
       "    </tr>\n",
       "  </thead>\n",
       "  <tbody>\n",
       "    <tr>\n",
       "      <th>58</th>\n",
       "      <td>11366</td>\n",
       "      <td>HS11366</td>\n",
       "      <td>KEP PLACE:SEL/ETC N/C/SUB</td>\n",
       "      <td>41</td>\n",
       "    </tr>\n",
       "    <tr>\n",
       "      <th>59</th>\n",
       "      <td>11379</td>\n",
       "      <td>HS11379</td>\n",
       "      <td>TRANSP/ETC CNTL SUB</td>\n",
       "      <td>67</td>\n",
       "    </tr>\n",
       "    <tr>\n",
       "      <th>60</th>\n",
       "      <td>11359</td>\n",
       "      <td>HS11359(B)</td>\n",
       "      <td>POSS MARIJUANA FOR SALE</td>\n",
       "      <td>114</td>\n",
       "    </tr>\n",
       "    <tr>\n",
       "      <th>61</th>\n",
       "      <td>11360</td>\n",
       "      <td>HS11360(A)</td>\n",
       "      <td>SELL MARIJUANA, SELL/TRNSP/ETC MARIJUANA</td>\n",
       "      <td>490</td>\n",
       "    </tr>\n",
       "    <tr>\n",
       "      <th>62</th>\n",
       "      <td>11370.1</td>\n",
       "      <td>HS11370.1(A)</td>\n",
       "      <td>POSS CNTL SUB WHILE ARMED</td>\n",
       "      <td>537</td>\n",
       "    </tr>\n",
       "    <tr>\n",
       "      <th>63</th>\n",
       "      <td>11378</td>\n",
       "      <td>HS11378</td>\n",
       "      <td>POSS CNTL SUB FOR SALE</td>\n",
       "      <td>680</td>\n",
       "    </tr>\n",
       "    <tr>\n",
       "      <th>64</th>\n",
       "      <td>11352</td>\n",
       "      <td>HS11352(A)</td>\n",
       "      <td>TRANSP/SELL NARC/CNTL SUB</td>\n",
       "      <td>775</td>\n",
       "    </tr>\n",
       "    <tr>\n",
       "      <th>65</th>\n",
       "      <td>11351</td>\n",
       "      <td>HS11351</td>\n",
       "      <td>POS/PUR F/SALE NARC/C/SUB</td>\n",
       "      <td>1091</td>\n",
       "    </tr>\n",
       "    <tr>\n",
       "      <th>66</th>\n",
       "      <td>11351.5</td>\n",
       "      <td>HS11351.5</td>\n",
       "      <td>POSS/PUR COKE BASE F/SALE</td>\n",
       "      <td>1188</td>\n",
       "    </tr>\n",
       "    <tr>\n",
       "      <th>67</th>\n",
       "      <td>11359</td>\n",
       "      <td>HS11359</td>\n",
       "      <td>POSS MARIJUANA FOR SALE</td>\n",
       "      <td>1889</td>\n",
       "    </tr>\n",
       "  </tbody>\n",
       "</table>\n",
       "</div>"
      ],
      "text/plain": [
       "   _section _charge_reconstructed                       _charge_description  \\\n",
       "58    11366               HS11366                 KEP PLACE:SEL/ETC N/C/SUB   \n",
       "59    11379               HS11379                       TRANSP/ETC CNTL SUB   \n",
       "60    11359            HS11359(B)                   POSS MARIJUANA FOR SALE   \n",
       "61    11360            HS11360(A)  SELL MARIJUANA, SELL/TRNSP/ETC MARIJUANA   \n",
       "62  11370.1          HS11370.1(A)                 POSS CNTL SUB WHILE ARMED   \n",
       "63    11378               HS11378                    POSS CNTL SUB FOR SALE   \n",
       "64    11352            HS11352(A)                 TRANSP/SELL NARC/CNTL SUB   \n",
       "65    11351               HS11351                 POS/PUR F/SALE NARC/C/SUB   \n",
       "66  11351.5             HS11351.5                 POSS/PUR COKE BASE F/SALE   \n",
       "67    11359               HS11359                   POSS MARIJUANA FOR SALE   \n",
       "\n",
       "    _arrest_id  \n",
       "58          41  \n",
       "59          67  \n",
       "60         114  \n",
       "61         490  \n",
       "62         537  \n",
       "63         680  \n",
       "64         775  \n",
       "65        1091  \n",
       "66        1188  \n",
       "67        1889  "
      ]
     },
     "execution_count": 88,
     "metadata": {},
     "output_type": "execute_result"
    }
   ],
   "source": [
    "processed_df[(processed_df['_pcs'] == False) & (processed_df['_code_type'] == 'HS')].groupby(\n",
    "    ['_section', '_charge_reconstructed', '_charge_description'])['_arrest_id'].nunique().sort_values().reset_index().tail(10)"
   ]
  },
  {
   "cell_type": "code",
   "execution_count": 89,
   "id": "2924748b-834d-4d39-9687-510988ee0530",
   "metadata": {},
   "outputs": [
    {
     "data": {
      "text/html": [
       "<div>\n",
       "<style scoped>\n",
       "    .dataframe tbody tr th:only-of-type {\n",
       "        vertical-align: middle;\n",
       "    }\n",
       "\n",
       "    .dataframe tbody tr th {\n",
       "        vertical-align: top;\n",
       "    }\n",
       "\n",
       "    .dataframe thead th {\n",
       "        text-align: right;\n",
       "    }\n",
       "</style>\n",
       "<table border=\"1\" class=\"dataframe\">\n",
       "  <thead>\n",
       "    <tr style=\"text-align: right;\">\n",
       "      <th></th>\n",
       "      <th>_code_type</th>\n",
       "      <th>_section</th>\n",
       "      <th>_charge_reconstructed</th>\n",
       "      <th>_charge_description</th>\n",
       "      <th>_arrest_id</th>\n",
       "    </tr>\n",
       "  </thead>\n",
       "  <tbody>\n",
       "    <tr>\n",
       "      <th>69</th>\n",
       "      <td>PC</td>\n",
       "      <td>31360</td>\n",
       "      <td>PC31360(A)</td>\n",
       "      <td>VIOL FEL POSS BODY ARMOR</td>\n",
       "      <td>19</td>\n",
       "    </tr>\n",
       "    <tr>\n",
       "      <th>70</th>\n",
       "      <td>PC</td>\n",
       "      <td>22810</td>\n",
       "      <td>PC22810(A)</td>\n",
       "      <td>UNLAWFL POSS/USE TEAR GAS</td>\n",
       "      <td>20</td>\n",
       "    </tr>\n",
       "    <tr>\n",
       "      <th>71</th>\n",
       "      <td>PC</td>\n",
       "      <td>311.11</td>\n",
       "      <td>PC311.11(A)</td>\n",
       "      <td>POSS/ETC OBS MTR:MNR:SEX</td>\n",
       "      <td>21</td>\n",
       "    </tr>\n",
       "    <tr>\n",
       "      <th>72</th>\n",
       "      <td>BP</td>\n",
       "      <td>25620</td>\n",
       "      <td>BP25620</td>\n",
       "      <td>POSS OPEN ALCOHOL:PUBLIC</td>\n",
       "      <td>24</td>\n",
       "    </tr>\n",
       "    <tr>\n",
       "      <th>73</th>\n",
       "      <td>PC</td>\n",
       "      <td>22610</td>\n",
       "      <td>PC22610(A)</td>\n",
       "      <td>FELON POSS/ETC STUN GUN</td>\n",
       "      <td>30</td>\n",
       "    </tr>\n",
       "    <tr>\n",
       "      <th>74</th>\n",
       "      <td>PC</td>\n",
       "      <td>32625</td>\n",
       "      <td>PC32625(A)</td>\n",
       "      <td>POSSESS/ETC MACHINEGUN</td>\n",
       "      <td>42</td>\n",
       "    </tr>\n",
       "    <tr>\n",
       "      <th>75</th>\n",
       "      <td>PC</td>\n",
       "      <td>23920</td>\n",
       "      <td>PC23920</td>\n",
       "      <td>POSS/ETC F/ARM W/O ID MRK</td>\n",
       "      <td>47</td>\n",
       "    </tr>\n",
       "    <tr>\n",
       "      <th>76</th>\n",
       "      <td>PC</td>\n",
       "      <td>12280</td>\n",
       "      <td>PC12280(B)</td>\n",
       "      <td>ILLEGAL POSS ASSAULT WPN</td>\n",
       "      <td>47</td>\n",
       "    </tr>\n",
       "    <tr>\n",
       "      <th>77</th>\n",
       "      <td>PC</td>\n",
       "      <td>245</td>\n",
       "      <td>PC245(A)(4)</td>\n",
       "      <td>ADW/FORCE:POSSIBLE GBI</td>\n",
       "      <td>59</td>\n",
       "    </tr>\n",
       "    <tr>\n",
       "      <th>78</th>\n",
       "      <td>PC</td>\n",
       "      <td>29805</td>\n",
       "      <td>PC29805(A)</td>\n",
       "      <td>POSS F/ARM BY CONV MISD</td>\n",
       "      <td>64</td>\n",
       "    </tr>\n",
       "    <tr>\n",
       "      <th>79</th>\n",
       "      <td>PC</td>\n",
       "      <td>29815</td>\n",
       "      <td>PC29815(A)</td>\n",
       "      <td>CONV PRSN POSS/ETC F/ARM</td>\n",
       "      <td>82</td>\n",
       "    </tr>\n",
       "    <tr>\n",
       "      <th>80</th>\n",
       "      <td>PC</td>\n",
       "      <td>29820</td>\n",
       "      <td>PC29820(B)</td>\n",
       "      <td>CONV PRSN POSS F/ARM:U/30</td>\n",
       "      <td>93</td>\n",
       "    </tr>\n",
       "    <tr>\n",
       "      <th>81</th>\n",
       "      <td>PC</td>\n",
       "      <td>4573.6</td>\n",
       "      <td>PC4573.6</td>\n",
       "      <td>POSS CNTL SUB IN PRISON</td>\n",
       "      <td>106</td>\n",
       "    </tr>\n",
       "    <tr>\n",
       "      <th>82</th>\n",
       "      <td>PC</td>\n",
       "      <td>12025</td>\n",
       "      <td>PC12025(B)(4)</td>\n",
       "      <td>CCW:PROHIB/UNLAWFUL POSS</td>\n",
       "      <td>177</td>\n",
       "    </tr>\n",
       "    <tr>\n",
       "      <th>83</th>\n",
       "      <td>PC</td>\n",
       "      <td>30605</td>\n",
       "      <td>PC30605(A)</td>\n",
       "      <td>ILL POSS ASSAULT WPN</td>\n",
       "      <td>232</td>\n",
       "    </tr>\n",
       "    <tr>\n",
       "      <th>84</th>\n",
       "      <td>PC</td>\n",
       "      <td>12021</td>\n",
       "      <td>PC12021(A)(1)</td>\n",
       "      <td>FELON/ETC POSS FIREARM</td>\n",
       "      <td>293</td>\n",
       "    </tr>\n",
       "    <tr>\n",
       "      <th>85</th>\n",
       "      <td>PC</td>\n",
       "      <td>25400</td>\n",
       "      <td>PC25400(C)(4)</td>\n",
       "      <td>CCW PROHIB/UNLAWFUL POSS</td>\n",
       "      <td>360</td>\n",
       "    </tr>\n",
       "    <tr>\n",
       "      <th>86</th>\n",
       "      <td>PC</td>\n",
       "      <td>466</td>\n",
       "      <td>PC466</td>\n",
       "      <td>POSSESS BURGLARY TOOLS</td>\n",
       "      <td>1099</td>\n",
       "    </tr>\n",
       "    <tr>\n",
       "      <th>87</th>\n",
       "      <td>PC</td>\n",
       "      <td>496D</td>\n",
       "      <td>PC496D(A)</td>\n",
       "      <td>POSS STOLEN VEH/VES/ETC</td>\n",
       "      <td>1873</td>\n",
       "    </tr>\n",
       "    <tr>\n",
       "      <th>88</th>\n",
       "      <td>PC</td>\n",
       "      <td>29800</td>\n",
       "      <td>PC29800(A)(1)</td>\n",
       "      <td>FELON/ETC POSS/ETC F/ARM</td>\n",
       "      <td>1882</td>\n",
       "    </tr>\n",
       "  </tbody>\n",
       "</table>\n",
       "</div>"
      ],
      "text/plain": [
       "   _code_type _section _charge_reconstructed        _charge_description  \\\n",
       "69         PC    31360            PC31360(A)   VIOL FEL POSS BODY ARMOR   \n",
       "70         PC    22810            PC22810(A)  UNLAWFL POSS/USE TEAR GAS   \n",
       "71         PC   311.11           PC311.11(A)   POSS/ETC OBS MTR:MNR:SEX   \n",
       "72         BP    25620               BP25620   POSS OPEN ALCOHOL:PUBLIC   \n",
       "73         PC    22610            PC22610(A)    FELON POSS/ETC STUN GUN   \n",
       "74         PC    32625            PC32625(A)     POSSESS/ETC MACHINEGUN   \n",
       "75         PC    23920               PC23920  POSS/ETC F/ARM W/O ID MRK   \n",
       "76         PC    12280            PC12280(B)   ILLEGAL POSS ASSAULT WPN   \n",
       "77         PC      245           PC245(A)(4)     ADW/FORCE:POSSIBLE GBI   \n",
       "78         PC    29805            PC29805(A)    POSS F/ARM BY CONV MISD   \n",
       "79         PC    29815            PC29815(A)   CONV PRSN POSS/ETC F/ARM   \n",
       "80         PC    29820            PC29820(B)  CONV PRSN POSS F/ARM:U/30   \n",
       "81         PC   4573.6              PC4573.6    POSS CNTL SUB IN PRISON   \n",
       "82         PC    12025         PC12025(B)(4)   CCW:PROHIB/UNLAWFUL POSS   \n",
       "83         PC    30605            PC30605(A)       ILL POSS ASSAULT WPN   \n",
       "84         PC    12021         PC12021(A)(1)     FELON/ETC POSS FIREARM   \n",
       "85         PC    25400         PC25400(C)(4)   CCW PROHIB/UNLAWFUL POSS   \n",
       "86         PC      466                 PC466     POSSESS BURGLARY TOOLS   \n",
       "87         PC     496D             PC496D(A)    POSS STOLEN VEH/VES/ETC   \n",
       "88         PC    29800         PC29800(A)(1)   FELON/ETC POSS/ETC F/ARM   \n",
       "\n",
       "    _arrest_id  \n",
       "69          19  \n",
       "70          20  \n",
       "71          21  \n",
       "72          24  \n",
       "73          30  \n",
       "74          42  \n",
       "75          47  \n",
       "76          47  \n",
       "77          59  \n",
       "78          64  \n",
       "79          82  \n",
       "80          93  \n",
       "81         106  \n",
       "82         177  \n",
       "83         232  \n",
       "84         293  \n",
       "85         360  \n",
       "86        1099  \n",
       "87        1873  \n",
       "88        1882  "
      ]
     },
     "execution_count": 89,
     "metadata": {},
     "output_type": "execute_result"
    }
   ],
   "source": [
    "processed_df[(processed_df['_pcs'] == False) & (processed_df['_code_type'] != 'HS') & (processed_df['_charge_description'].str.contains('POSS'))].groupby(\n",
    "    ['_code_type', '_section', '_charge_reconstructed', '_charge_description'])['_arrest_id'].nunique().sort_values().reset_index().tail(20)"
   ]
  },
  {
   "cell_type": "markdown",
   "id": "eb82a275-a869-46f7-8f5b-e5b4ed519ff6",
   "metadata": {
    "tags": []
   },
   "source": [
    "### Check for false positives"
   ]
  },
  {
   "cell_type": "code",
   "execution_count": 90,
   "id": "c8dd2c86-2297-46a2-bf98-87ed3adf1c47",
   "metadata": {},
   "outputs": [
    {
     "data": {
      "text/plain": [
       "_charge_reconstructed  _charge_description                                               \n",
       "HS11350                POSSESS NARCOTIC CNTL SUB                                                2\n",
       "                       SIMPLE POSSESSION OF HEROIN, COCAINE, LISTED CONTROLLED SUBSTANCES       1\n",
       "HS11350(A)             POSSESS NARCOTIC CNTL SUB                                             3922\n",
       "HS11357(A)             POS CONCENTRATED CANNABIS                                               92\n",
       "                       POSS CONCENTRATE CANNABIS                                               54\n",
       "                       POSS MARIJUANA 28.5- GRMS                                                1\n",
       "HS11357(B)             POSS MARIJ OVER 28.5 GRAM                                              262\n",
       "HS11358                PLANT/ETC MARIJUANA                                                    128\n",
       "HS11362.4(B)           SMOKE MARIJ TOBACO PROHIB                                                1\n",
       "HS11364                CNTL SUB PARAPHERNALIA                                                2283\n",
       "HS11364(A)             POSS UNLAW PARAPHERNALIA                                               243\n",
       "HS11364.1(A)           POSS UNLAW PARAPHERNALIA                                               275\n",
       "HS11365(A)             VISIT WHERE CNTL SUB USED                                               16\n",
       "HS11375(B)(2)          POSS CNTL SUB W/O PRESCRP                                               10\n",
       "HS11377                POSS CONTROLLED SUBSTANCE                                                5\n",
       "                       POSSESS CNTL SUB                                                        41\n",
       "HS11377(A)             POSS CONTROLLED SUBSTANCE                                              743\n",
       "                       POSSESS CNTL SUB                                                       691\n",
       "HS11377(B)             POSSESS CNTL SUB                                                         5\n",
       "HS11532(A)             LOITR PUBLIC:ILL DRUG ACT                                              136\n",
       "HS11550                UNDER INFLUENCE CNTL SUB                                                29\n",
       "HS11550(A)             UNDER INFLUENCE CNTL SUB                                                75\n",
       "Name: _arrest_id, dtype: int64"
      ]
     },
     "execution_count": 90,
     "metadata": {},
     "output_type": "execute_result"
    }
   ],
   "source": [
    "processed_df[processed_df['_pcs'] == True].groupby(\n",
    "    ['_charge_reconstructed', '_charge_description'], dropna=False)['_arrest_id'].count()"
   ]
  },
  {
   "cell_type": "markdown",
   "id": "4de303af-86d5-4bc6-b76d-366a60ad599c",
   "metadata": {},
   "source": [
    "## Disorder"
   ]
  },
  {
   "cell_type": "code",
   "execution_count": 91,
   "id": "65674cae-7b24-4adb-8e55-04776a036c2e",
   "metadata": {},
   "outputs": [],
   "source": [
    "processed_df['_disorder'] = (\n",
    "    processed_df['_charge_reconstructed'].isin(\n",
    "        ['PC647', 'PC647(E)', 'PC647(F)', 'PC647(C)', 'PC647C', 'PC647(G)',\n",
    "         'PC647(H)', 'PC647(I)', 'PC647(J)']\n",
    "    )\n",
    ") & (~processed_df['_original_charge_description'].isin(['DISORDERLY CONDUCT:PEEK INTO INHABITED BUILDING (AMENDED)',\n",
    "                                                         'INVADE PRIVACY:PEEK THROUGH HOLE IN BATHROOM (AMENDED)', 'FELONY PROSTITUTION']))"
   ]
  },
  {
   "cell_type": "markdown",
   "id": "94a53409-a8b8-4186-a6fc-9fbb68d0c186",
   "metadata": {
    "tags": []
   },
   "source": [
    "### Check for false negatives"
   ]
  },
  {
   "cell_type": "code",
   "execution_count": 92,
   "id": "57a5ea4a-8973-488e-8370-76f2b0e4f2c8",
   "metadata": {},
   "outputs": [
    {
     "data": {
      "text/html": [
       "<div>\n",
       "<style scoped>\n",
       "    .dataframe tbody tr th:only-of-type {\n",
       "        vertical-align: middle;\n",
       "    }\n",
       "\n",
       "    .dataframe tbody tr th {\n",
       "        vertical-align: top;\n",
       "    }\n",
       "\n",
       "    .dataframe thead th {\n",
       "        text-align: right;\n",
       "    }\n",
       "</style>\n",
       "<table border=\"1\" class=\"dataframe\">\n",
       "  <thead>\n",
       "    <tr style=\"text-align: right;\">\n",
       "      <th></th>\n",
       "      <th>_section</th>\n",
       "      <th>_charge_reconstructed</th>\n",
       "      <th>_original_charge_code</th>\n",
       "      <th>_original_charge_description</th>\n",
       "      <th>_arrest_id</th>\n",
       "    </tr>\n",
       "  </thead>\n",
       "  <tbody>\n",
       "    <tr>\n",
       "      <th>0</th>\n",
       "      <td>647</td>\n",
       "      <td>PC647(J)</td>\n",
       "      <td>PC647 (J)</td>\n",
       "      <td>INVADE PRIVACY:PEEK THROUGH HOLE IN BATHROOM (...</td>\n",
       "      <td>1</td>\n",
       "    </tr>\n",
       "    <tr>\n",
       "      <th>1</th>\n",
       "      <td>647.6</td>\n",
       "      <td>PC647.6</td>\n",
       "      <td>PC647.6</td>\n",
       "      <td>ANNOY/ETC CHILDREN WITH SPECIFIC PRIOR FELONY ...</td>\n",
       "      <td>1</td>\n",
       "    </tr>\n",
       "    <tr>\n",
       "      <th>2</th>\n",
       "      <td>647.6</td>\n",
       "      <td>PC647.6</td>\n",
       "      <td>PC647.6</td>\n",
       "      <td>ANNOY/MOLESTS VIC UNDER 18</td>\n",
       "      <td>1</td>\n",
       "    </tr>\n",
       "    <tr>\n",
       "      <th>3</th>\n",
       "      <td>647.6</td>\n",
       "      <td>PC647.6(A)(2)</td>\n",
       "      <td>PC647.6 (A)(2)</td>\n",
       "      <td>ANNOY/MOLEST VICTIM BELIEVED TO BE UNDER 18 YE...</td>\n",
       "      <td>1</td>\n",
       "    </tr>\n",
       "    <tr>\n",
       "      <th>4</th>\n",
       "      <td>647</td>\n",
       "      <td>PC647(F)</td>\n",
       "      <td>PC647 F</td>\n",
       "      <td>FELONY PROSTITUTION</td>\n",
       "      <td>2</td>\n",
       "    </tr>\n",
       "    <tr>\n",
       "      <th>5</th>\n",
       "      <td>647</td>\n",
       "      <td>PC647(H)</td>\n",
       "      <td>PC647 (H)</td>\n",
       "      <td>DISORDERLY CONDUCT:PEEK INTO INHABITED BUILDIN...</td>\n",
       "      <td>2</td>\n",
       "    </tr>\n",
       "    <tr>\n",
       "      <th>6</th>\n",
       "      <td>647</td>\n",
       "      <td>PC647(D)</td>\n",
       "      <td>PC647 (D)</td>\n",
       "      <td>DISORDERLY CONDUCT:LOITER IN OR ABOUT TOILET</td>\n",
       "      <td>3</td>\n",
       "    </tr>\n",
       "    <tr>\n",
       "      <th>7</th>\n",
       "      <td>647</td>\n",
       "      <td>PC647(K)</td>\n",
       "      <td>PC647 (K)</td>\n",
       "      <td>INVADE PRIVACY:PEEK THROUGH HOLE IN BATHROOM (...</td>\n",
       "      <td>3</td>\n",
       "    </tr>\n",
       "    <tr>\n",
       "      <th>8</th>\n",
       "      <td>647.6</td>\n",
       "      <td>PC647.6</td>\n",
       "      <td>PC647.6</td>\n",
       "      <td>ANNOY/MOLEST CHILDREN UNDER 18 (AMENDED)</td>\n",
       "      <td>4</td>\n",
       "    </tr>\n",
       "    <tr>\n",
       "      <th>9</th>\n",
       "      <td>647.6</td>\n",
       "      <td>PC647.6(A)</td>\n",
       "      <td>PC647.6(A)</td>\n",
       "      <td>ANNOY/ETC CHILD UNDER 18</td>\n",
       "      <td>4</td>\n",
       "    </tr>\n",
       "    <tr>\n",
       "      <th>10</th>\n",
       "      <td>647.6</td>\n",
       "      <td>PC647.6</td>\n",
       "      <td>PC647.6</td>\n",
       "      <td>ANNOY/MOLEST CHILDREN W/PRIOR CONVICTION (AMEN...</td>\n",
       "      <td>6</td>\n",
       "    </tr>\n",
       "    <tr>\n",
       "      <th>11</th>\n",
       "      <td>647B</td>\n",
       "      <td>PC647B</td>\n",
       "      <td>PC647 B</td>\n",
       "      <td>LOITER AT ADULT SCHOOL:MODEST PUPILS</td>\n",
       "      <td>13</td>\n",
       "    </tr>\n",
       "    <tr>\n",
       "      <th>12</th>\n",
       "      <td>647.6</td>\n",
       "      <td>PC647.6(A)(1)</td>\n",
       "      <td>PC647.6 (A)(1)</td>\n",
       "      <td>ANNOY/MOLESTS VIC UNDER 18</td>\n",
       "      <td>17</td>\n",
       "    </tr>\n",
       "    <tr>\n",
       "      <th>13</th>\n",
       "      <td>647</td>\n",
       "      <td>PC647(A)</td>\n",
       "      <td>PC647 (A)</td>\n",
       "      <td>DISORDERLY CONDUCT:SOLICIT LEWD ACT</td>\n",
       "      <td>998</td>\n",
       "    </tr>\n",
       "    <tr>\n",
       "      <th>14</th>\n",
       "      <td>647</td>\n",
       "      <td>PC647(B)</td>\n",
       "      <td>PC647 (B)</td>\n",
       "      <td>DISORDERLY CONDUCT:PROSTITUTION</td>\n",
       "      <td>2546</td>\n",
       "    </tr>\n",
       "  </tbody>\n",
       "</table>\n",
       "</div>"
      ],
      "text/plain": [
       "   _section _charge_reconstructed _original_charge_code  \\\n",
       "0       647              PC647(J)             PC647 (J)   \n",
       "1     647.6               PC647.6               PC647.6   \n",
       "2     647.6               PC647.6               PC647.6   \n",
       "3     647.6         PC647.6(A)(2)        PC647.6 (A)(2)   \n",
       "4       647              PC647(F)               PC647 F   \n",
       "5       647              PC647(H)             PC647 (H)   \n",
       "6       647              PC647(D)             PC647 (D)   \n",
       "7       647              PC647(K)             PC647 (K)   \n",
       "8     647.6               PC647.6               PC647.6   \n",
       "9     647.6            PC647.6(A)            PC647.6(A)   \n",
       "10    647.6               PC647.6               PC647.6   \n",
       "11     647B                PC647B               PC647 B   \n",
       "12    647.6         PC647.6(A)(1)        PC647.6 (A)(1)   \n",
       "13      647              PC647(A)             PC647 (A)   \n",
       "14      647              PC647(B)             PC647 (B)   \n",
       "\n",
       "                         _original_charge_description  _arrest_id  \n",
       "0   INVADE PRIVACY:PEEK THROUGH HOLE IN BATHROOM (...           1  \n",
       "1   ANNOY/ETC CHILDREN WITH SPECIFIC PRIOR FELONY ...           1  \n",
       "2                          ANNOY/MOLESTS VIC UNDER 18           1  \n",
       "3   ANNOY/MOLEST VICTIM BELIEVED TO BE UNDER 18 YE...           1  \n",
       "4                                 FELONY PROSTITUTION           2  \n",
       "5   DISORDERLY CONDUCT:PEEK INTO INHABITED BUILDIN...           2  \n",
       "6        DISORDERLY CONDUCT:LOITER IN OR ABOUT TOILET           3  \n",
       "7   INVADE PRIVACY:PEEK THROUGH HOLE IN BATHROOM (...           3  \n",
       "8            ANNOY/MOLEST CHILDREN UNDER 18 (AMENDED)           4  \n",
       "9                            ANNOY/ETC CHILD UNDER 18           4  \n",
       "10  ANNOY/MOLEST CHILDREN W/PRIOR CONVICTION (AMEN...           6  \n",
       "11               LOITER AT ADULT SCHOOL:MODEST PUPILS          13  \n",
       "12                         ANNOY/MOLESTS VIC UNDER 18          17  \n",
       "13                DISORDERLY CONDUCT:SOLICIT LEWD ACT         998  \n",
       "14                    DISORDERLY CONDUCT:PROSTITUTION        2546  "
      ]
     },
     "execution_count": 92,
     "metadata": {},
     "output_type": "execute_result"
    }
   ],
   "source": [
    "processed_df[(processed_df['_section'].str.contains('^647', regex=True)) & (processed_df['_disorder'] == False)].groupby(\n",
    "    ['_section', '_charge_reconstructed', '_original_charge_code', '_original_charge_description'])['_arrest_id'].nunique().sort_values().reset_index()"
   ]
  },
  {
   "cell_type": "markdown",
   "id": "0dc0beb2-5fcd-43e4-86a6-018725a6fd63",
   "metadata": {
    "tags": []
   },
   "source": [
    "### Check for false positives"
   ]
  },
  {
   "cell_type": "code",
   "execution_count": 93,
   "id": "57a5fbbb-d34f-491b-b2bc-0c22d790a4a5",
   "metadata": {},
   "outputs": [
    {
     "data": {
      "text/html": [
       "<div>\n",
       "<style scoped>\n",
       "    .dataframe tbody tr th:only-of-type {\n",
       "        vertical-align: middle;\n",
       "    }\n",
       "\n",
       "    .dataframe tbody tr th {\n",
       "        vertical-align: top;\n",
       "    }\n",
       "\n",
       "    .dataframe thead th {\n",
       "        text-align: right;\n",
       "    }\n",
       "</style>\n",
       "<table border=\"1\" class=\"dataframe\">\n",
       "  <thead>\n",
       "    <tr style=\"text-align: right;\">\n",
       "      <th></th>\n",
       "      <th>_section</th>\n",
       "      <th>_charge_reconstructed</th>\n",
       "      <th>_original_charge_description</th>\n",
       "      <th>_arrest_id</th>\n",
       "    </tr>\n",
       "  </thead>\n",
       "  <tbody>\n",
       "    <tr>\n",
       "      <th>0</th>\n",
       "      <td>647</td>\n",
       "      <td>PC647(G)</td>\n",
       "      <td>DISORDERLY CONDUCT:LOITER ON PRIVATE PROPERTY ...</td>\n",
       "      <td>1</td>\n",
       "    </tr>\n",
       "    <tr>\n",
       "      <th>1</th>\n",
       "      <td>647</td>\n",
       "      <td>PC647(J)</td>\n",
       "      <td>DISORDERLY CONDUCT:LODGE WITHOUT CONSENT</td>\n",
       "      <td>2</td>\n",
       "    </tr>\n",
       "    <tr>\n",
       "      <th>2</th>\n",
       "      <td>647</td>\n",
       "      <td>PC647</td>\n",
       "      <td>DISORDERLY CONDUCT:UNDER INFLUENCE OF DRUG</td>\n",
       "      <td>3</td>\n",
       "    </tr>\n",
       "    <tr>\n",
       "      <th>3</th>\n",
       "      <td>647</td>\n",
       "      <td>PC647(I)</td>\n",
       "      <td>DISORDERLY CONDUCT:LODGE W/O CONSENT (AMENDED)</td>\n",
       "      <td>4</td>\n",
       "    </tr>\n",
       "    <tr>\n",
       "      <th>4</th>\n",
       "      <td>647</td>\n",
       "      <td>PC647(E)</td>\n",
       "      <td>DISORDERLY CONDUCT: LODGING IN PUBLIC OR PRIVA...</td>\n",
       "      <td>5</td>\n",
       "    </tr>\n",
       "    <tr>\n",
       "      <th>5</th>\n",
       "      <td>647</td>\n",
       "      <td>PC647(H)</td>\n",
       "      <td>DISORDERLY CONDUCT:LOITER/ETC PRIVATE PROPERTY</td>\n",
       "      <td>15</td>\n",
       "    </tr>\n",
       "    <tr>\n",
       "      <th>6</th>\n",
       "      <td>647C</td>\n",
       "      <td>PC647C</td>\n",
       "      <td>OBSTRUCT PERSON'S MOVEMENT:PUBLIC PLACE</td>\n",
       "      <td>23</td>\n",
       "    </tr>\n",
       "    <tr>\n",
       "      <th>7</th>\n",
       "      <td>647</td>\n",
       "      <td>PC647(C)</td>\n",
       "      <td>DISORDERLY CONDUCT:BEGGING</td>\n",
       "      <td>52</td>\n",
       "    </tr>\n",
       "    <tr>\n",
       "      <th>8</th>\n",
       "      <td>647</td>\n",
       "      <td>PC647(E)</td>\n",
       "      <td>DISORDERLY CONDUCT:LOITER/REFUSE TO IDENTIFY SELF</td>\n",
       "      <td>104</td>\n",
       "    </tr>\n",
       "    <tr>\n",
       "      <th>9</th>\n",
       "      <td>647</td>\n",
       "      <td>PC647(F)</td>\n",
       "      <td>DISORDERLY CONDUCT:INTOX DRUG WITH ALCOHOL</td>\n",
       "      <td>254</td>\n",
       "    </tr>\n",
       "    <tr>\n",
       "      <th>10</th>\n",
       "      <td>647</td>\n",
       "      <td>PC647(F)</td>\n",
       "      <td>DISORDERLY CONDUCT:TOLUENE</td>\n",
       "      <td>1483</td>\n",
       "    </tr>\n",
       "    <tr>\n",
       "      <th>11</th>\n",
       "      <td>647</td>\n",
       "      <td>PC647(F)</td>\n",
       "      <td>DISORDERLY CONDUCT - ALCOHOL</td>\n",
       "      <td>3195</td>\n",
       "    </tr>\n",
       "  </tbody>\n",
       "</table>\n",
       "</div>"
      ],
      "text/plain": [
       "   _section _charge_reconstructed  \\\n",
       "0       647              PC647(G)   \n",
       "1       647              PC647(J)   \n",
       "2       647                 PC647   \n",
       "3       647              PC647(I)   \n",
       "4       647              PC647(E)   \n",
       "5       647              PC647(H)   \n",
       "6      647C                PC647C   \n",
       "7       647              PC647(C)   \n",
       "8       647              PC647(E)   \n",
       "9       647              PC647(F)   \n",
       "10      647              PC647(F)   \n",
       "11      647              PC647(F)   \n",
       "\n",
       "                         _original_charge_description  _arrest_id  \n",
       "0   DISORDERLY CONDUCT:LOITER ON PRIVATE PROPERTY ...           1  \n",
       "1            DISORDERLY CONDUCT:LODGE WITHOUT CONSENT           2  \n",
       "2          DISORDERLY CONDUCT:UNDER INFLUENCE OF DRUG           3  \n",
       "3      DISORDERLY CONDUCT:LODGE W/O CONSENT (AMENDED)           4  \n",
       "4   DISORDERLY CONDUCT: LODGING IN PUBLIC OR PRIVA...           5  \n",
       "5      DISORDERLY CONDUCT:LOITER/ETC PRIVATE PROPERTY          15  \n",
       "6             OBSTRUCT PERSON'S MOVEMENT:PUBLIC PLACE          23  \n",
       "7                          DISORDERLY CONDUCT:BEGGING          52  \n",
       "8   DISORDERLY CONDUCT:LOITER/REFUSE TO IDENTIFY SELF         104  \n",
       "9          DISORDERLY CONDUCT:INTOX DRUG WITH ALCOHOL         254  \n",
       "10                         DISORDERLY CONDUCT:TOLUENE        1483  \n",
       "11                       DISORDERLY CONDUCT - ALCOHOL        3195  "
      ]
     },
     "execution_count": 93,
     "metadata": {},
     "output_type": "execute_result"
    }
   ],
   "source": [
    "processed_df[processed_df['_disorder'] == True].groupby(\n",
    "    ['_section', '_charge_reconstructed', '_original_charge_description']\n",
    ")['_arrest_id'].nunique().sort_values().reset_index()"
   ]
  },
  {
   "cell_type": "markdown",
   "id": "5e54997b-dd1a-46fa-a551-80aecf543382",
   "metadata": {
    "tags": []
   },
   "source": [
    "## Housing status"
   ]
  },
  {
   "cell_type": "code",
   "execution_count": 94,
   "id": "610557fb-d695-4c2f-a8c4-d704eea8a15a",
   "metadata": {},
   "outputs": [],
   "source": [
    "person_data = pd.read_csv(\n",
    "    '../04_outputs/c00_person_data.csv', dtype=str,parse_dates=['Arr_DateTime'], keep_default_na=False)"
   ]
  },
  {
   "cell_type": "code",
   "execution_count": 95,
   "id": "82e74a82-76a2-4f61-9bcd-df3c0dc6f1d3",
   "metadata": {},
   "outputs": [],
   "source": [
    "person_data.loc[person_data['_category'].isin(\n",
    "    ['unhoused', 'unhoused; unknown']), '_housing_status'] = 'unhoused'"
   ]
  },
  {
   "cell_type": "code",
   "execution_count": 96,
   "id": "4136da4b-a2a5-4353-a2e0-f7be4479597e",
   "metadata": {},
   "outputs": [],
   "source": [
    "person_data.loc[person_data['_subcategory'] ==\n",
    "                'no address information', '_housing_status'] = 'no information'"
   ]
  },
  {
   "cell_type": "code",
   "execution_count": 97,
   "id": "a75a50fe-b490-4af9-88c1-fbde8afc6bf5",
   "metadata": {},
   "outputs": [],
   "source": [
    "person_data.loc[person_data['_subcategory'].isin(\n",
    "    ['no address information; unknown', 'unknown', 'po box']), '_housing_status'] = 'unknown'"
   ]
  },
  {
   "cell_type": "code",
   "execution_count": 98,
   "id": "13f01128-4461-43bc-bacf-615c48c31f45",
   "metadata": {},
   "outputs": [],
   "source": [
    "person_data['_housing_status'].fillna('housed', inplace=True)"
   ]
  },
  {
   "cell_type": "markdown",
   "id": "a69ca346-f7cf-4280-8c37-4cabe046026d",
   "metadata": {
    "tags": []
   },
   "source": [
    "## Race"
   ]
  },
  {
   "cell_type": "code",
   "execution_count": 99,
   "id": "38c73c9a-e14f-4d57-b9a3-963b48b41c3f",
   "metadata": {},
   "outputs": [
    {
     "data": {
      "text/html": [
       "<div>\n",
       "<style scoped>\n",
       "    .dataframe tbody tr th:only-of-type {\n",
       "        vertical-align: middle;\n",
       "    }\n",
       "\n",
       "    .dataframe tbody tr th {\n",
       "        vertical-align: top;\n",
       "    }\n",
       "\n",
       "    .dataframe thead th {\n",
       "        text-align: right;\n",
       "    }\n",
       "</style>\n",
       "<table border=\"1\" class=\"dataframe\">\n",
       "  <thead>\n",
       "    <tr style=\"text-align: right;\">\n",
       "      <th></th>\n",
       "      <th>_race</th>\n",
       "      <th>_ethnicity</th>\n",
       "    </tr>\n",
       "  </thead>\n",
       "  <tbody>\n",
       "    <tr>\n",
       "      <th>0</th>\n",
       "      <td>BLACK</td>\n",
       "      <td>NOT OF HISPANIC ORIGIN</td>\n",
       "    </tr>\n",
       "    <tr>\n",
       "      <th>1</th>\n",
       "      <td>HISPANIC</td>\n",
       "      <td>HISPANIC ORIGIN</td>\n",
       "    </tr>\n",
       "    <tr>\n",
       "      <th>14</th>\n",
       "      <td>OTHER</td>\n",
       "      <td>NOT OF HISPANIC ORIGIN</td>\n",
       "    </tr>\n",
       "    <tr>\n",
       "      <th>15</th>\n",
       "      <td>WHITE</td>\n",
       "      <td>NOT OF HISPANIC ORIGIN</td>\n",
       "    </tr>\n",
       "    <tr>\n",
       "      <th>27</th>\n",
       "      <td>JAPANESE</td>\n",
       "      <td>NOT OF HISPANIC ORIGIN</td>\n",
       "    </tr>\n",
       "    <tr>\n",
       "      <th>...</th>\n",
       "      <td>...</td>\n",
       "      <td>...</td>\n",
       "    </tr>\n",
       "    <tr>\n",
       "      <th>48694</th>\n",
       "      <td>HAWAIIAN</td>\n",
       "      <td></td>\n",
       "    </tr>\n",
       "    <tr>\n",
       "      <th>51157</th>\n",
       "      <td>LAOTIAN</td>\n",
       "      <td></td>\n",
       "    </tr>\n",
       "    <tr>\n",
       "      <th>69903</th>\n",
       "      <td>CAMBODIAN</td>\n",
       "      <td>HISPANIC ORIGIN</td>\n",
       "    </tr>\n",
       "    <tr>\n",
       "      <th>73880</th>\n",
       "      <td>GUAMANIAN</td>\n",
       "      <td>nan</td>\n",
       "    </tr>\n",
       "    <tr>\n",
       "      <th>84205</th>\n",
       "      <td>HISPANIC</td>\n",
       "      <td>NOT OF HISPANIC ORIGIN; HISPANIC ORIGIN</td>\n",
       "    </tr>\n",
       "  </tbody>\n",
       "</table>\n",
       "<p>78 rows × 2 columns</p>\n",
       "</div>"
      ],
      "text/plain": [
       "           _race                               _ethnicity\n",
       "0          BLACK                   NOT OF HISPANIC ORIGIN\n",
       "1       HISPANIC                          HISPANIC ORIGIN\n",
       "14         OTHER                   NOT OF HISPANIC ORIGIN\n",
       "15         WHITE                   NOT OF HISPANIC ORIGIN\n",
       "27      JAPANESE                   NOT OF HISPANIC ORIGIN\n",
       "...          ...                                      ...\n",
       "48694   HAWAIIAN                                         \n",
       "51157    LAOTIAN                                         \n",
       "69903  CAMBODIAN                          HISPANIC ORIGIN\n",
       "73880  GUAMANIAN                                      nan\n",
       "84205   HISPANIC  NOT OF HISPANIC ORIGIN; HISPANIC ORIGIN\n",
       "\n",
       "[78 rows x 2 columns]"
      ]
     },
     "execution_count": 99,
     "metadata": {},
     "output_type": "execute_result"
    }
   ],
   "source": [
    "person_data[['_race', '_ethnicity']].drop_duplicates()"
   ]
  },
  {
   "cell_type": "code",
   "execution_count": 100,
   "id": "a23a82d8-e84d-42cc-9bf2-83ae538300b5",
   "metadata": {},
   "outputs": [
    {
     "data": {
      "text/plain": [
       "array(['HISPANIC ORIGIN', 'nan', 'NOT OF HISPANIC ORIGIN', '',\n",
       "       'NOT OF HISPANIC ORIGIN; HISPANIC ORIGIN'], dtype=object)"
      ]
     },
     "execution_count": 100,
     "metadata": {},
     "output_type": "execute_result"
    }
   ],
   "source": [
    "person_data[person_data['_race'] == 'HISPANIC']['_ethnicity'].unique()"
   ]
  },
  {
   "cell_type": "code",
   "execution_count": 101,
   "id": "e2816d3c-99aa-4e05-8ad1-d484a3f98fa5",
   "metadata": {},
   "outputs": [],
   "source": [
    "census_race_dict = {\n",
    "    'BLACK': 'Black or African American',\n",
    "    'HISPANIC': 'Other/Unknown',\n",
    "    'OTHER': 'Other/Unknown',\n",
    "    'WHITE': 'White',\n",
    "    'JAPANESE': 'Asian',\n",
    "    'OTHER ASIAN': 'Asian',\n",
    "    'CAMBODIAN': 'Asian',\n",
    "    'LAOTIAN': 'Asian',\n",
    "    'SAMOAN': 'Native Hawaiian and Other Pacific Islander',\n",
    "    'VIETNAMESE': 'Asian',\n",
    "    'PACIFIC ISLANDER': 'Native Hawaiian and Other Pacific Islander',\n",
    "    'CHINESE': 'Asian',\n",
    "    'KOREAN': 'Asian',\n",
    "    'ASIAN INDIAN': 'Asian',\n",
    "    'FILIPINO': 'Asian',\n",
    "    'AMERICAN INDIAN': 'American Indian and Alaska Native',\n",
    "    'nan': 'Other/Unknown',\n",
    "    '': 'Other/Unknown',\n",
    "    'GUAMANIAN': 'Native Hawaiian and Other Pacific Islander',\n",
    "    'HAWAIIAN': 'Native Hawaiian and Other Pacific Islander',\n",
    "}"
   ]
  },
  {
   "cell_type": "code",
   "execution_count": 102,
   "id": "847c6b34-8f47-4a71-b8ab-c3aba05ec4ff",
   "metadata": {},
   "outputs": [],
   "source": [
    "person_data['_census_race'] = person_data['_race'].replace(census_race_dict)"
   ]
  },
  {
   "cell_type": "code",
   "execution_count": 103,
   "id": "b7ed9758-246b-4e23-a3ea-1dd1a22c1b02",
   "metadata": {},
   "outputs": [],
   "source": [
    "person_data.loc[person_data['_race'] == 'HISPANIC',\n",
    "            '_census_ethnicity'] = 'Hispanic or Latino (of any race)'"
   ]
  },
  {
   "cell_type": "code",
   "execution_count": 104,
   "id": "001aa31a-8743-4207-86d4-41f9955fda14",
   "metadata": {},
   "outputs": [
    {
     "data": {
      "text/plain": [
       "array(['NOT OF HISPANIC ORIGIN', 'HISPANIC ORIGIN', 'nan', '',\n",
       "       'NOT OF HISPANIC ORIGIN; nan',\n",
       "       'NOT OF HISPANIC ORIGIN; HISPANIC ORIGIN'], dtype=object)"
      ]
     },
     "execution_count": 104,
     "metadata": {},
     "output_type": "execute_result"
    }
   ],
   "source": [
    "person_data['_ethnicity'].unique()"
   ]
  },
  {
   "cell_type": "code",
   "execution_count": 105,
   "id": "6c60d3de-aa41-4feb-854b-aae56f7fd571",
   "metadata": {},
   "outputs": [],
   "source": [
    "census_ethnicity_dict = {\n",
    "    'NOT OF HISPANIC ORIGIN': 'Not Hispanic or Latino',\n",
    "    'HISPANIC ORIGIN': 'Hispanic or Latino (of any race)',\n",
    "    'nan': '',\n",
    "    '': '',\n",
    "    'NOT OF HISPANIC ORIGIN; nan': 'Not Hispanic or Latino',\n",
    "    'HISPANIC ORIGIN; NOT OF HISPANIC ORIGIN': 'Unknown',\n",
    "}"
   ]
  },
  {
   "cell_type": "code",
   "execution_count": 106,
   "id": "2b8df0ed-ee6e-4001-935c-de8666390799",
   "metadata": {},
   "outputs": [],
   "source": [
    "person_data['_census_ethnicity'] = person_data['_ethnicity'].replace(\n",
    "    census_ethnicity_dict\n",
    ")"
   ]
  },
  {
   "cell_type": "code",
   "execution_count": 107,
   "id": "dc375cdf-ece2-48dc-9d90-012bcc28b17f",
   "metadata": {},
   "outputs": [],
   "source": [
    "final_df = pd.merge(processed_df, person_data, validate='m:1', how='left')"
   ]
  },
  {
   "cell_type": "code",
   "execution_count": 108,
   "id": "7c821312-05a2-4d86-95b5-5ce33810e221",
   "metadata": {},
   "outputs": [],
   "source": [
    "final_df.rename(columns={'Arr_DateTime': '_arrest_date'},inplace=True)"
   ]
  },
  {
   "cell_type": "code",
   "execution_count": 110,
   "id": "735e3f4b-0b82-4ff4-9ce0-ac980544b27b",
   "metadata": {},
   "outputs": [],
   "source": [
    "final_df[['_person_id', '_census_race', '_census_ethnicity',\n",
    "          '_gender', '_arrest_age', '_housing_status', '_arrest_id', '_arrest_date',\n",
    "          '_original_charge_code', '_original_charge_description', '_code_type',\n",
    "          '_section', '_meta_code', '_charge_reconstructed', '_municipal',\n",
    "          '_offense_level', '_charge_description', '_incongruity', '_violent',\n",
    "          '_warrant', '_fta', '_supervision', '_felony', '_federal',\n",
    "          '_potential_offense_levels', '_levels_congruent', '_code_type_of_felony',\n",
    "          '_pcs', '_disorder', ]].to_csv('../04_outputs/c01_final_df.csv', index=False)"
   ]
  }
 ],
 "metadata": {
  "kernelspec": {
   "display_name": "Python 3 (ipykernel)",
   "language": "python",
   "name": "python3"
  },
  "language_info": {
   "codemirror_mode": {
    "name": "ipython",
    "version": 3
   },
   "file_extension": ".py",
   "mimetype": "text/x-python",
   "name": "python",
   "nbconvert_exporter": "python",
   "pygments_lexer": "ipython3",
   "version": "3.8.5"
  },
  "toc-showmarkdowntxt": false
 },
 "nbformat": 4,
 "nbformat_minor": 5
}
