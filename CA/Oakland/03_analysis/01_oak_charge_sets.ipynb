{
 "cells": [
  {
   "cell_type": "code",
   "execution_count": 1,
   "id": "1055d693-6848-4d0a-901e-7073b0470951",
   "metadata": {},
   "outputs": [],
   "source": [
    "import sys\n",
    "\n",
    "# append the directory of law module to sys.path list\n",
    "sys.path.append('../../../modules/')"
   ]
  },
  {
   "cell_type": "code",
   "execution_count": 2,
   "id": "1f19f70e-32c3-48b8-8a9a-3affafae3c7d",
   "metadata": {},
   "outputs": [],
   "source": [
    "import random\n",
    "import re\n",
    "\n",
    "import charge\n",
    "import law\n",
    "import numpy as np\n",
    "import pandas as pd\n",
    "import requests"
   ]
  },
  {
   "cell_type": "code",
   "execution_count": 3,
   "id": "3914a461-f4d9-4b5e-b982-184a5328e035",
   "metadata": {},
   "outputs": [],
   "source": [
    "df = pd.read_csv('../04_outputs/c01_final_df.csv',\n",
    "                 parse_dates=['_arrest_date'], keep_default_na=False)"
   ]
  },
  {
   "cell_type": "code",
   "execution_count": 4,
   "id": "7a96539a-cfb0-4a90-ba1f-d7080454f974",
   "metadata": {},
   "outputs": [],
   "source": [
    "arrestee_df = df[['_arrest_id', '_arrest_date', '_gender', '_census_race',\n",
    "                  '_census_ethnicity', '_housing_status']].copy().drop_duplicates()"
   ]
  },
  {
   "cell_type": "code",
   "execution_count": 5,
   "id": "cc09f67e-a13e-4573-a4ed-45d669b13e49",
   "metadata": {},
   "outputs": [
    {
     "data": {
      "text/plain": [
       "Index(['_person_id', '_census_race', '_census_ethnicity', '_gender',\n",
       "       '_arrest_age', '_housing_status', '_arrest_id', '_arrest_date',\n",
       "       '_original_charge_code', '_original_charge_description', '_code_type',\n",
       "       '_section', '_meta_code', '_charge_reconstructed', '_municipal',\n",
       "       '_offense_level', '_charge_description', '_incongruity', '_violent',\n",
       "       '_warrant', '_fta', '_supervision', '_felony', '_federal',\n",
       "       '_potential_offense_levels', '_levels_congruent',\n",
       "       '_code_type_of_felony', '_pcs', '_disorder'],\n",
       "      dtype='object')"
      ]
     },
     "execution_count": 5,
     "metadata": {},
     "output_type": "execute_result"
    }
   ],
   "source": [
    "df.columns"
   ]
  },
  {
   "cell_type": "code",
   "execution_count": 6,
   "id": "05d2f994-0bd0-4caa-be37-3acecc46d648",
   "metadata": {},
   "outputs": [
    {
     "name": "stdout",
     "output_type": "stream",
     "text": [
      "Help on function transform_to_sets in module charge:\n",
      "\n",
      "transform_to_sets(df, offense_level_available=True)\n",
      "    Produce sets of unique values for charges such that each row in the\n",
      "    resultant dataframe represents a single arrest.\n",
      "    \n",
      "    Parameters\n",
      "    ----------\n",
      "    df : pd.DataFrame\n",
      "        DataFrame that should be read in from 04_outputs/ and begin with c01.\n",
      "    \n",
      "    offense_level_available : bool\n",
      "        Whether charge offense level information is available (default True)\n",
      "    \n",
      "    Returns\n",
      "    -------\n",
      "    pd.DataFrame\n",
      "\n"
     ]
    }
   ],
   "source": [
    "help(charge.transform_to_sets)"
   ]
  },
  {
   "cell_type": "markdown",
   "id": "f7ea2cf6-6c8b-4e54-b418-0b2fd3c04e35",
   "metadata": {},
   "source": [
    "Example:\n",
    "\n",
    "Input\n",
    "\n",
    "| _arrest_id | _code_type | _section | _charge_description       | _municipal | _offense_level | _felony | _violent |\n",
    "|------------|------------|----------|---------------------------|------------|----------------|---------|----------|\n",
    "| A1         | OM         | 9.08.180 | ALCOHOL BEV. ON PUBLIC ST | True       | Infraction     | False   | False    |\n",
    "| A1         | PC         | 647(F)   | DISORDERLY CONDUCT        | False      | Misdemeanor    | False   | False    |\n",
    "\n",
    "Output\n",
    "\n",
    "| _arrest_id | _code_types | _sections        | _charge_descriptions                          | _arrest_type   | _felony           | _violent            |\n",
    "|------------|-------------|------------------|-----------------------------------------------|----------------|-------------------|---------------------|\n",
    "| A1         | OM, PC      | 9.08.180, 647(F) | ALCOHOL BEV. ON PUBLIC ST, DISORDERLY CONDUCT | low-level only | no felony charges |  no violent charges |"
   ]
  },
  {
   "cell_type": "code",
   "execution_count": 7,
   "id": "e311471f-5267-475e-8c06-d229d836340c",
   "metadata": {},
   "outputs": [
    {
     "name": "stdout",
     "output_type": "stream",
     "text": [
      "Charge sets produced. Now working on non-procedural charge sets.\n",
      "Now merging procedural and non-procedural charge sets.\n",
      "Now categorizing serious charges.\n",
      "Done!\n"
     ]
    }
   ],
   "source": [
    "set_df = charge.transform_to_sets(df, offense_level_available=True)"
   ]
  },
  {
   "cell_type": "code",
   "execution_count": 8,
   "id": "65e00f13-16e3-4603-9c24-e6b21c54c8dc",
   "metadata": {},
   "outputs": [
    {
     "name": "stdout",
     "output_type": "stream",
     "text": [
      "Charge counts produced. Now assessing procedural and low-level charges.\n",
      "Charges assessed. Now transforming dataframe.\n",
      "Done!\n"
     ]
    }
   ],
   "source": [
    "count_df = charge.transform_to_counts(df)"
   ]
  },
  {
   "cell_type": "code",
   "execution_count": 9,
   "id": "a64bfeb9-e4c0-47fe-86dc-64b069deb8e6",
   "metadata": {},
   "outputs": [],
   "source": [
    "charge_df = pd.merge(count_df, set_df)"
   ]
  },
  {
   "cell_type": "code",
   "execution_count": 10,
   "id": "e110726e-d2ae-4228-aede-e2175854b071",
   "metadata": {},
   "outputs": [],
   "source": [
    "arrestee_df = df[['_arrest_id', '_arrest_date', '_gender', '_census_race',\n",
    "                  '_census_ethnicity', '_housing_status']].copy().drop_duplicates()"
   ]
  },
  {
   "cell_type": "code",
   "execution_count": 11,
   "id": "fda9f6f0-3433-4dd2-96a1-e6763eab05cc",
   "metadata": {},
   "outputs": [
    {
     "data": {
      "text/html": [
       "<div>\n",
       "<style scoped>\n",
       "    .dataframe tbody tr th:only-of-type {\n",
       "        vertical-align: middle;\n",
       "    }\n",
       "\n",
       "    .dataframe tbody tr th {\n",
       "        vertical-align: top;\n",
       "    }\n",
       "\n",
       "    .dataframe thead th {\n",
       "        text-align: right;\n",
       "    }\n",
       "</style>\n",
       "<table border=\"1\" class=\"dataframe\">\n",
       "  <thead>\n",
       "    <tr style=\"text-align: right;\">\n",
       "      <th></th>\n",
       "      <th>_arrest_id</th>\n",
       "      <th>_arrest_date</th>\n",
       "      <th>_gender</th>\n",
       "      <th>_census_race</th>\n",
       "      <th>_census_ethnicity</th>\n",
       "      <th>_housing_status</th>\n",
       "    </tr>\n",
       "  </thead>\n",
       "  <tbody>\n",
       "  </tbody>\n",
       "</table>\n",
       "</div>"
      ],
      "text/plain": [
       "Empty DataFrame\n",
       "Columns: [_arrest_id, _arrest_date, _gender, _census_race, _census_ethnicity, _housing_status]\n",
       "Index: []"
      ]
     },
     "execution_count": 11,
     "metadata": {},
     "output_type": "execute_result"
    }
   ],
   "source": [
    "arrestee_df[arrestee_df.duplicated(subset=['_arrest_id'])]"
   ]
  },
  {
   "cell_type": "code",
   "execution_count": 12,
   "id": "4138b071-9800-44db-8cc1-c029b3862a06",
   "metadata": {},
   "outputs": [],
   "source": [
    "arrestee_df['_arrest_date'] = pd.to_datetime(arrestee_df['_arrest_date'])"
   ]
  },
  {
   "cell_type": "code",
   "execution_count": 13,
   "id": "f20fb999-9c82-4a83-9877-8bcc1fec715f",
   "metadata": {},
   "outputs": [],
   "source": [
    "arrestee_df['_arrest_year'] = arrestee_df['_arrest_date'].dt.year"
   ]
  },
  {
   "cell_type": "code",
   "execution_count": 14,
   "id": "d0aecaea-61b9-4cac-8f83-6689ab4e1797",
   "metadata": {},
   "outputs": [],
   "source": [
    "final_df = pd.merge(arrestee_df, charge_df)"
   ]
  },
  {
   "cell_type": "code",
   "execution_count": 16,
   "id": "c3bd9fd2-f776-4e91-9007-b5258f792a23",
   "metadata": {},
   "outputs": [],
   "source": [
    "final_df.to_csv(\n",
    "    '../04_outputs/a01_oak_charge_sets.csv', index=False)"
   ]
  }
 ],
 "metadata": {
  "kernelspec": {
   "display_name": "Python 3 (ipykernel)",
   "language": "python",
   "name": "python3"
  },
  "language_info": {
   "codemirror_mode": {
    "name": "ipython",
    "version": 3
   },
   "file_extension": ".py",
   "mimetype": "text/x-python",
   "name": "python",
   "nbconvert_exporter": "python",
   "pygments_lexer": "ipython3",
   "version": "3.8.5"
  }
 },
 "nbformat": 4,
 "nbformat_minor": 5
}
