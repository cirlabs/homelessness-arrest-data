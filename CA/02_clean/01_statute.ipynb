{
 "cells": [
  {
   "cell_type": "markdown",
   "metadata": {},
   "source": [
    "# Law"
   ]
  },
  {
   "cell_type": "code",
   "execution_count": null,
   "metadata": {},
   "outputs": [],
   "source": [
    "import sys\n",
    "\n",
    "# append the directory of law module to sys.path list\n",
    "sys.path.append('../../modules/')"
   ]
  },
  {
   "cell_type": "code",
   "execution_count": null,
   "metadata": {},
   "outputs": [],
   "source": [
    "import datetime as dt\n",
    "import glob\n",
    "import math\n",
    "import os\n",
    "import re\n",
    "\n",
    "import arrest\n",
    "import numpy as np\n",
    "import pandas as pd\n",
    "import requests\n",
    "from bs4 import BeautifulSoup"
   ]
  },
  {
   "cell_type": "markdown",
   "metadata": {},
   "source": [
    "## NIBRS"
   ]
  },
  {
   "cell_type": "code",
   "execution_count": null,
   "metadata": {},
   "outputs": [],
   "source": [
    "nibrs_file = '../../US/01_inputs/FBI/N-DEx-IEPD-4.0/documentation/nibrs/N-DEx_4.0_CodeTables_NIBRS.xlsx'"
   ]
  },
  {
   "cell_type": "code",
   "execution_count": null,
   "metadata": {},
   "outputs": [],
   "source": [
    "nibrs = pd.ExcelFile(nibrs_file)"
   ]
  },
  {
   "cell_type": "code",
   "execution_count": null,
   "metadata": {},
   "outputs": [],
   "source": [
    "nibrs_df = pd.read_excel(\n",
    "    nibrs_file, sheet_name='OffenseCode', dtype=str, skiprows=2)"
   ]
  },
  {
   "cell_type": "code",
   "execution_count": null,
   "metadata": {},
   "outputs": [],
   "source": [
    "nibrs_df.dropna(axis=1, how='all', inplace=True)"
   ]
  },
  {
   "cell_type": "code",
   "execution_count": null,
   "metadata": {},
   "outputs": [],
   "source": [
    "nibrs_df['NCIC Code'].fillna('', inplace=True)"
   ]
  },
  {
   "cell_type": "code",
   "execution_count": null,
   "metadata": {},
   "outputs": [],
   "source": [
    "fbi_offense_categories = pd.read_csv(\n",
    "    '../../US/01_inputs/processed/fbi_offense_categories.csv',\n",
    "    dtype=str,\n",
    "    # usecols=['_offense_category_code', '_offense_category', '_crime_against'],\n",
    "    keep_default_na=False,\n",
    ")"
   ]
  },
  {
   "cell_type": "markdown",
   "metadata": {},
   "source": [
    "## CIBRS"
   ]
  },
  {
   "cell_type": "code",
   "execution_count": null,
   "metadata": {},
   "outputs": [],
   "source": [
    "cibrs_file = pd.ExcelFile('../01_inputs/CIBRS Offense Listing.xlsx')"
   ]
  },
  {
   "cell_type": "code",
   "execution_count": null,
   "metadata": {},
   "outputs": [],
   "source": [
    "cibrs_file.sheet_names"
   ]
  },
  {
   "cell_type": "code",
   "execution_count": null,
   "metadata": {},
   "outputs": [],
   "source": [
    "cibrs_df = pd.read_excel(\n",
    "    '../01_inputs/CIBRS Offense Listing.xlsx', sheet_name='Offense Codes', dtype=str)"
   ]
  },
  {
   "cell_type": "code",
   "execution_count": null,
   "metadata": {},
   "outputs": [],
   "source": [
    "cibrs_subset = cibrs_df[['CJIS CODE', 'NIBRS CODES']].copy()"
   ]
  },
  {
   "cell_type": "code",
   "execution_count": null,
   "metadata": {},
   "outputs": [],
   "source": [
    "cibrs_subset['NIBRS Offense Code'] = cibrs_subset['NIBRS CODES'].str.split(',')"
   ]
  },
  {
   "cell_type": "code",
   "execution_count": null,
   "metadata": {},
   "outputs": [],
   "source": [
    "cibrs_subset = cibrs_subset.explode('NIBRS Offense Code')"
   ]
  },
  {
   "cell_type": "code",
   "execution_count": null,
   "metadata": {},
   "outputs": [],
   "source": [
    "cibrs_subset[['CJIS CODE', 'NIBRS Offense Code']].drop_duplicates()"
   ]
  },
  {
   "cell_type": "code",
   "execution_count": null,
   "metadata": {},
   "outputs": [],
   "source": [
    "nibrs_categories = pd.read_csv(\n",
    "    '../../US/01_inputs/processed/nibrs_categories.csv', dtype=str)"
   ]
  },
  {
   "cell_type": "code",
   "execution_count": null,
   "metadata": {},
   "outputs": [],
   "source": [
    "nibrs_df = pd.merge(\n",
    "    cibrs_subset[['CJIS CODE', 'NIBRS Offense Code']].drop_duplicates(), nibrs_categories)"
   ]
  },
  {
   "cell_type": "code",
   "execution_count": null,
   "metadata": {},
   "outputs": [],
   "source": [
    "cjis_nibrs_df = nibrs_df.groupby('CJIS CODE').agg(\n",
    "    {'Crime Against': arrest.format_unique, 'NIBRS Offense Description': arrest.format_unique, 'NIBRS Offense Category': arrest.format_unique}).reset_index()"
   ]
  },
  {
   "cell_type": "code",
   "execution_count": null,
   "metadata": {},
   "outputs": [],
   "source": [
    "cjis_nibrs_df.rename(columns={'CJIS CODE': 'CJISCode'}, inplace=True)"
   ]
  },
  {
   "cell_type": "markdown",
   "metadata": {
    "tags": []
   },
   "source": [
    "## `CHSOFF`\n",
    "\n",
    "- [Data source](https://oag.ca.gov/law/code-tables) (specifically [Offense Codes (with LEI codes)](https://oag.ca.gov/sites/all/files/agweb/law-enforcement/code-tables/chsoff.csv?041820220129))\n",
    "- [Names Source (XML)](https://oag.ca.gov/sites/all/files/agweb/law-enforcement/code-tables/chsoff.xml)"
   ]
  },
  {
   "cell_type": "code",
   "execution_count": null,
   "metadata": {},
   "outputs": [],
   "source": [
    "chsoff_xml = pd.read_xml('../01_inputs/chsoff_20220415.xml')"
   ]
  },
  {
   "cell_type": "code",
   "execution_count": null,
   "metadata": {},
   "outputs": [],
   "source": [
    "chsoff_xml.columns"
   ]
  },
  {
   "cell_type": "code",
   "execution_count": null,
   "metadata": {},
   "outputs": [],
   "source": [
    "chsoff_original = pd.read_csv(\n",
    "    '../01_inputs/chsoff_20220204.csv',\n",
    "    header=None,\n",
    "    names=chsoff_xml.columns,\n",
    "    dtype=str,\n",
    ")"
   ]
  },
  {
   "cell_type": "code",
   "execution_count": null,
   "metadata": {},
   "outputs": [],
   "source": [
    "chsoff = chsoff_original.drop(\n",
    "    labels=[\n",
    "        'ValidationCode',\n",
    "        'TransactionTypeCode',\n",
    "        'DefaultTypeofCharge',\n",
    "        'LiteralIndentifierCode',\n",
    "        'ChargeDegree',\n",
    "        'BCSCodesLEI',\n",
    "        'BCSHierarchyCodes',\n",
    "        'ALPSCognizantCode',\n",
    "    ],\n",
    "    axis=1,\n",
    ").copy()"
   ]
  },
  {
   "cell_type": "code",
   "execution_count": null,
   "metadata": {},
   "outputs": [],
   "source": [
    "chsoff['EnactDate'] = pd.to_datetime(chsoff['EnactDate'])"
   ]
  },
  {
   "cell_type": "code",
   "execution_count": null,
   "metadata": {},
   "outputs": [],
   "source": [
    "chsoff['RepealAmendDate'] = pd.to_datetime(\n",
    "    chsoff['RepealAmendDate'], errors='coerce')"
   ]
  },
  {
   "cell_type": "markdown",
   "metadata": {},
   "source": [
    "### Subset data to applicable time periods"
   ]
  },
  {
   "cell_type": "code",
   "execution_count": null,
   "metadata": {},
   "outputs": [],
   "source": [
    "chsoff[chsoff['TypeOfStatCode'] == 'ZZ']"
   ]
  },
  {
   "cell_type": "code",
   "execution_count": null,
   "metadata": {},
   "outputs": [],
   "source": [
    "chsoff = (\n",
    "    chsoff[\n",
    "        (chsoff['EnactDate'] < '2021')\n",
    "        & (\n",
    "            (chsoff['RepealAmendDate'] < '2020-12-31')\n",
    "            | chsoff['RepealAmendDate'].isnull()\n",
    "        )\n",
    "        & (~chsoff['TypeOfStatCode'].isin(['ZZ']))\n",
    "    ]\n",
    "    .copy()\n",
    "    .reset_index(drop=True)\n",
    ")"
   ]
  },
  {
   "cell_type": "markdown",
   "metadata": {
    "tags": []
   },
   "source": [
    "### Split `StatutoryNumericCodes` into section and subparts"
   ]
  },
  {
   "cell_type": "code",
   "execution_count": null,
   "metadata": {},
   "outputs": [],
   "source": [
    "chsoff[\n",
    "    ['_section', '_subdivision', '_paragraph', '_subparagraph', '_clause']\n",
    "] = chsoff.apply(\n",
    "    lambda x: arrest.Charge.parse_code(\n",
    "        x['StatutoryNumericCodes'], state='CA', arrests=False),\n",
    "    axis=1,\n",
    "    result_type='expand',\n",
    ")"
   ]
  },
  {
   "cell_type": "markdown",
   "metadata": {},
   "source": [
    "### Reassemble into _charge_reconstructed for joining on arrest data"
   ]
  },
  {
   "cell_type": "code",
   "execution_count": null,
   "metadata": {},
   "outputs": [],
   "source": [
    "chsoff['_charge_reconstructed'] = chsoff['TypeOfStatCode'].str.cat(\n",
    "    chsoff[['_section', '_subdivision', '_paragraph', '_subparagraph', '_clause']],\n",
    "    sep='',\n",
    "    na_rep='',\n",
    ")"
   ]
  },
  {
   "cell_type": "markdown",
   "metadata": {},
   "source": [
    "### Join on NIBRS data for later comparison"
   ]
  },
  {
   "cell_type": "code",
   "execution_count": null,
   "metadata": {},
   "outputs": [],
   "source": [
    "chsoff_nibrs_df = pd.merge(chsoff, cjis_nibrs_df, how='inner')"
   ]
  },
  {
   "cell_type": "code",
   "execution_count": null,
   "metadata": {},
   "outputs": [],
   "source": [
    "chsoff_nibrs_df.to_csv('../01_inputs/processed/c01_nibrs_chsoff.csv',index=False)"
   ]
  },
  {
   "cell_type": "markdown",
   "metadata": {
    "tags": []
   },
   "source": [
    "### Prepare for joining on arrest data"
   ]
  },
  {
   "cell_type": "code",
   "execution_count": null,
   "metadata": {},
   "outputs": [],
   "source": [
    "chsoff.rename(\n",
    "    columns={\n",
    "        'StatutoryNumericCodes': '_original_code',\n",
    "        'TypeOfStatCode': '_code_type',\n",
    "        'TypeOfCharge': '_offense_level',\n",
    "        'StatuteLiteral': '_charge_description'\n",
    "    },\n",
    "    inplace=True,\n",
    ")"
   ]
  },
  {
   "cell_type": "code",
   "execution_count": null,
   "metadata": {},
   "outputs": [],
   "source": [
    "chsoff.sort_values(\n",
    "    by=[\n",
    "        '_code_type',\n",
    "        '_original_code',\n",
    "        '_offense_level',\n",
    "        'EnactDate',\n",
    "        'RepealAmendDate',\n",
    "    ],\n",
    "    ascending=[True, True, True, False, False],\n",
    "    inplace=True,\n",
    "    na_position='first',\n",
    ")"
   ]
  },
  {
   "cell_type": "markdown",
   "metadata": {},
   "source": [
    "### Handle amendments"
   ]
  },
  {
   "cell_type": "code",
   "execution_count": null,
   "metadata": {},
   "outputs": [],
   "source": [
    "repealed_amended = set(\n",
    "    chsoff[chsoff['RepealAmendDate'].notnull()]['_charge_reconstructed'])"
   ]
  },
  {
   "cell_type": "code",
   "execution_count": null,
   "metadata": {},
   "outputs": [],
   "source": [
    "not_repealed_amended = set(\n",
    "    chsoff[chsoff['RepealAmendDate'].isnull()]['_charge_reconstructed'])"
   ]
  },
  {
   "cell_type": "code",
   "execution_count": null,
   "metadata": {},
   "outputs": [],
   "source": [
    "amended = chsoff[chsoff['_charge_reconstructed'].isin(\n",
    "    repealed_amended & not_repealed_amended)].copy()"
   ]
  },
  {
   "cell_type": "markdown",
   "metadata": {},
   "source": [
    "#### Subset those amended in 2020 because I'll use the descriptions therein"
   ]
  },
  {
   "cell_type": "code",
   "execution_count": null,
   "metadata": {},
   "outputs": [],
   "source": [
    "amended_late = amended[amended['RepealAmendDate'] >= '2020'].copy()"
   ]
  },
  {
   "cell_type": "code",
   "execution_count": null,
   "metadata": {},
   "outputs": [],
   "source": [
    "not_replaced = chsoff[(chsoff['_charge_reconstructed'].isin(\n",
    "    repealed_amended - not_repealed_amended))].copy()"
   ]
  },
  {
   "cell_type": "code",
   "execution_count": null,
   "metadata": {},
   "outputs": [],
   "source": [
    "not_amended = chsoff[(chsoff['_charge_reconstructed'].isin(\n",
    "    not_repealed_amended - repealed_amended))].copy()"
   ]
  },
  {
   "cell_type": "markdown",
   "metadata": {},
   "source": [
    "#### Combine DataFrames"
   ]
  },
  {
   "cell_type": "code",
   "execution_count": null,
   "metadata": {},
   "outputs": [],
   "source": [
    "processed = pd.concat(\n",
    "    [amended_late, not_replaced, not_amended], ignore_index=True)"
   ]
  },
  {
   "cell_type": "code",
   "execution_count": null,
   "metadata": {},
   "outputs": [],
   "source": [
    "processed.columns"
   ]
  },
  {
   "cell_type": "markdown",
   "metadata": {
    "tags": []
   },
   "source": [
    "### Identify duplicates in processed data"
   ]
  },
  {
   "cell_type": "code",
   "execution_count": null,
   "metadata": {},
   "outputs": [],
   "source": [
    "processed_to_dedupe = processed[\n",
    "    processed.duplicated(\n",
    "        subset=['_charge_reconstructed', '_offense_level'], keep=False)\n",
    "].copy()"
   ]
  },
  {
   "cell_type": "code",
   "execution_count": null,
   "metadata": {},
   "outputs": [],
   "source": [
    "processed_charges = set(processed['_charge_reconstructed'])"
   ]
  },
  {
   "cell_type": "code",
   "execution_count": null,
   "metadata": {},
   "outputs": [],
   "source": [
    "unique_processed = processed[~processed['_charge_reconstructed'].isin(\n",
    "    set(processed_to_dedupe['_charge_reconstructed']))].copy()"
   ]
  },
  {
   "cell_type": "code",
   "execution_count": null,
   "metadata": {},
   "outputs": [],
   "source": [
    "unique_processed[unique_processed.duplicated(\n",
    "    subset=['_charge_reconstructed', '_offense_level'], keep=False)]"
   ]
  },
  {
   "cell_type": "code",
   "execution_count": null,
   "metadata": {},
   "outputs": [],
   "source": [
    "unique_processed['statute_object'] = unique_processed.apply(\n",
    "    lambda x: {\n",
    "        'EnactDate': x['EnactDate'],\n",
    "        'RepealAmendDate': x['RepealAmendDate'],\n",
    "        '_charge_description': x['_charge_description'],\n",
    "    },\n",
    "    axis=1,\n",
    ")"
   ]
  },
  {
   "cell_type": "code",
   "execution_count": null,
   "metadata": {},
   "outputs": [],
   "source": [
    "unique_processed.columns"
   ]
  },
  {
   "cell_type": "markdown",
   "metadata": {},
   "source": [
    "#### Combine duplicates in processed data with unprocessed data"
   ]
  },
  {
   "cell_type": "code",
   "execution_count": null,
   "metadata": {},
   "outputs": [],
   "source": [
    "unprocessed_to_dedupe = chsoff[~chsoff['_charge_reconstructed'].isin(\n",
    "    processed_charges)].copy()"
   ]
  },
  {
   "cell_type": "code",
   "execution_count": null,
   "metadata": {},
   "outputs": [],
   "source": [
    "unprocessed_to_dedupe.columns"
   ]
  },
  {
   "cell_type": "code",
   "execution_count": null,
   "metadata": {},
   "outputs": [],
   "source": [
    "to_dedupe = pd.concat(\n",
    "    [processed_to_dedupe, unprocessed_to_dedupe], ignore_index=True)"
   ]
  },
  {
   "cell_type": "code",
   "execution_count": null,
   "metadata": {},
   "outputs": [],
   "source": [
    "to_dedupe.columns"
   ]
  },
  {
   "cell_type": "markdown",
   "metadata": {},
   "source": [
    "### Prepare for joinng on arrest data with missing or incorrect levels, subparts"
   ]
  },
  {
   "cell_type": "markdown",
   "metadata": {
    "tags": []
   },
   "source": [
    "#### Create objects with date and description data\n",
    "\n",
    "I want to use unique charge codes while keeping this data for retrieval later."
   ]
  },
  {
   "cell_type": "code",
   "execution_count": null,
   "metadata": {},
   "outputs": [],
   "source": [
    "to_dedupe.sort_values(\n",
    "    by=['_charge_reconstructed', 'EnactDate', 'RepealAmendDate'],\n",
    "    ascending=False,\n",
    "    inplace=True,\n",
    ")"
   ]
  },
  {
   "cell_type": "code",
   "execution_count": null,
   "metadata": {},
   "outputs": [],
   "source": [
    "to_dedupe['statute_object'] = to_dedupe.apply(\n",
    "    lambda x: {\n",
    "        'EnactDate': x['EnactDate'],\n",
    "        'RepealAmendDate': x['RepealAmendDate'],\n",
    "        '_charge_description': x['_charge_description'],\n",
    "    },\n",
    "    axis=1,\n",
    ")"
   ]
  },
  {
   "cell_type": "code",
   "execution_count": null,
   "metadata": {},
   "outputs": [],
   "source": [
    "to_dedupe.columns"
   ]
  },
  {
   "cell_type": "code",
   "execution_count": null,
   "metadata": {},
   "outputs": [],
   "source": [
    "deduped = (\n",
    "    to_dedupe.groupby(\n",
    "        ['_original_code', '_code_type', '_offense_level', '_section', '_subdivision',\n",
    "         '_paragraph', '_subparagraph', '_clause', '_charge_reconstructed']\n",
    "    )\n",
    "    .agg(_enactment_data=('statute_object', list),\n",
    "         _charge_description=('_charge_description', arrest.format_unique))\n",
    "    .reset_index()\n",
    ")"
   ]
  },
  {
   "cell_type": "code",
   "execution_count": null,
   "metadata": {},
   "outputs": [],
   "source": [
    "deduped[\n",
    "    deduped.duplicated(\n",
    "        subset=['_charge_reconstructed', '_offense_level'], keep=False)\n",
    "].sort_values(by='_charge_reconstructed')"
   ]
  },
  {
   "cell_type": "code",
   "execution_count": null,
   "metadata": {},
   "outputs": [],
   "source": [
    "chsoff_dedupe = pd.concat([deduped, unique_processed], ignore_index=True)"
   ]
  },
  {
   "cell_type": "code",
   "execution_count": null,
   "metadata": {},
   "outputs": [],
   "source": [
    "deduped.columns"
   ]
  },
  {
   "cell_type": "code",
   "execution_count": null,
   "metadata": {},
   "outputs": [],
   "source": [
    "chsoff_dedupe.columns"
   ]
  },
  {
   "cell_type": "code",
   "execution_count": null,
   "metadata": {},
   "outputs": [],
   "source": [
    "chsoff_dedupe[\n",
    "    [\n",
    "        '_original_code',\n",
    "        '_code_type',\n",
    "        '_offense_level',\n",
    "        '_section',\n",
    "        '_charge_reconstructed',\n",
    "        '_enactment_data',\n",
    "        '_charge_description',\n",
    "        'EnactDate',\n",
    "        'RepealAmendDate',\n",
    "    ]\n",
    "].to_json('../01_inputs/processed/c01_chsoff.json', date_format='iso', date_unit='s')"
   ]
  },
  {
   "cell_type": "code",
   "execution_count": null,
   "metadata": {},
   "outputs": [],
   "source": [
    "chsoff_dedupe['_level_data'] = chsoff_dedupe.apply(\n",
    "    lambda x: {x['_offense_level']: x['statute_object']}, axis=1)"
   ]
  },
  {
   "cell_type": "code",
   "execution_count": null,
   "metadata": {},
   "outputs": [],
   "source": [
    "chsoff_dedupe_without_level = (\n",
    "    chsoff_dedupe.groupby(\n",
    "        ['_code_type', '_section', '_charge_reconstructed'])\n",
    "    .agg(_data_per_charge_level=('_level_data', list),\n",
    "         _potential_offense_levels=('_offense_level', arrest.format_unique),\n",
    "         _charge_description=('_charge_description', arrest.format_unique),\n",
    "         )\n",
    "    .reset_index()\n",
    ")"
   ]
  },
  {
   "cell_type": "code",
   "execution_count": null,
   "metadata": {},
   "outputs": [],
   "source": [
    "chsoff_dedupe_without_level[chsoff_dedupe_without_level.duplicated(\n",
    "    subset=['_charge_reconstructed'], keep=False)]"
   ]
  },
  {
   "cell_type": "code",
   "execution_count": null,
   "metadata": {},
   "outputs": [],
   "source": [
    "chsoff_dedupe_without_level.columns"
   ]
  },
  {
   "cell_type": "code",
   "execution_count": null,
   "metadata": {},
   "outputs": [],
   "source": [
    "chsoff_dedupe_without_level[['_code_type', '_section', '_charge_reconstructed',\n",
    "                             '_data_per_charge_level', '_potential_offense_levels',\n",
    "                             '_charge_description']].to_json(\n",
    "    '../01_inputs/processed/c01_chsoff_ignoring_level.json', date_format='iso', date_unit='s')"
   ]
  },
  {
   "cell_type": "code",
   "execution_count": null,
   "metadata": {},
   "outputs": [],
   "source": [
    "chsoff_dedupe['_level_and_subpart_data'] = chsoff_dedupe.apply(\n",
    "    lambda x: {x['_section']+x['_subdivision']: x['_level_data']}, axis=1\n",
    ")"
   ]
  },
  {
   "cell_type": "markdown",
   "metadata": {},
   "source": [
    "The most common issue with data entry is the omission of subdivision data altogether where the charge actually corresponds to the first subdivision of the statute."
   ]
  },
  {
   "cell_type": "code",
   "execution_count": null,
   "metadata": {},
   "outputs": [],
   "source": [
    "first_subdivision = chsoff_dedupe[chsoff_dedupe['_subdivision'].isin(\n",
    "    ['', '(A)', '(1)'])].copy()"
   ]
  },
  {
   "cell_type": "code",
   "execution_count": null,
   "metadata": {},
   "outputs": [],
   "source": [
    "first_subdivision['_level_quantified'] = first_subdivision['_offense_level'].replace(\n",
    "    {'X': 0, 'I': 1, 'M': 2, 'F': 3})"
   ]
  },
  {
   "cell_type": "code",
   "execution_count": null,
   "metadata": {},
   "outputs": [],
   "source": [
    "first_subdivision.sort_values(\n",
    "    by=['_charge_reconstructed', '_level_quantified'], inplace=True)"
   ]
  },
  {
   "cell_type": "markdown",
   "metadata": {},
   "source": [
    "#### Account for charges missing subparts, but including charge level"
   ]
  },
  {
   "cell_type": "code",
   "execution_count": null,
   "metadata": {},
   "outputs": [],
   "source": [
    "first_subdivision_with_level = first_subdivision.drop_duplicates(\n",
    "    subset=['_code_type', '_section', '_offense_level'], keep='first'\n",
    ").copy()"
   ]
  },
  {
   "cell_type": "code",
   "execution_count": null,
   "metadata": {},
   "outputs": [],
   "source": [
    "first_subdivision_with_level['_match_on_level'] = True"
   ]
  },
  {
   "cell_type": "markdown",
   "metadata": {},
   "source": [
    "#### Account for charges missing both subparts and charge level"
   ]
  },
  {
   "cell_type": "code",
   "execution_count": null,
   "metadata": {},
   "outputs": [],
   "source": [
    "first_subdivision_without_level = first_subdivision.drop_duplicates(\n",
    "    subset=['_code_type', '_section'], keep='first'\n",
    ")[['_original_code', '_code_type', '_section', '_charge_reconstructed',\n",
    "   '_charge_description', 'statute_object', '_level_data']].copy()"
   ]
  },
  {
   "cell_type": "code",
   "execution_count": null,
   "metadata": {},
   "outputs": [],
   "source": [
    "first_subdivision_without_level['_match_on_level'] = False"
   ]
  },
  {
   "cell_type": "code",
   "execution_count": null,
   "metadata": {},
   "outputs": [],
   "source": [
    "ignoring_subparts = pd.concat(\n",
    "    [first_subdivision_with_level, first_subdivision_without_level], ignore_index=True)"
   ]
  },
  {
   "cell_type": "code",
   "execution_count": null,
   "metadata": {},
   "outputs": [],
   "source": [
    "ignoring_subparts[ignoring_subparts.duplicated(\n",
    "    subset=['_code_type', '_section', '_offense_level'], keep=False)]"
   ]
  },
  {
   "cell_type": "code",
   "execution_count": null,
   "metadata": {},
   "outputs": [],
   "source": [
    "ignoring_subparts.columns"
   ]
  },
  {
   "cell_type": "code",
   "execution_count": null,
   "metadata": {},
   "outputs": [],
   "source": [
    "ignoring_subparts.drop(labels=['_subdivision', '_paragraph', '_subparagraph',\n",
    "                       '_clause', '_level_quantified'], axis=1, inplace=True)"
   ]
  },
  {
   "cell_type": "code",
   "execution_count": null,
   "metadata": {
    "tags": []
   },
   "outputs": [],
   "source": [
    "ignoring_subparts[['_original_code', '_code_type', '_offense_level', '_section',\n",
    "                   '_charge_reconstructed', '_enactment_data', '_charge_description', 'EnactDate', 'RepealAmendDate', 'statute_object',\n",
    "                   '_level_data', '_level_and_subpart_data', '_match_on_level']].to_json(\n",
    "    '../01_inputs/processed/c01_chsoff_ignoring_subparts.json',\n",
    "    date_format='iso',\n",
    "    date_unit='s',\n",
    ")"
   ]
  }
 ],
 "metadata": {
  "kernelspec": {
   "display_name": "Python 3 (ipykernel)",
   "language": "python",
   "name": "python3"
  },
  "language_info": {
   "codemirror_mode": {
    "name": "ipython",
    "version": 3
   },
   "file_extension": ".py",
   "mimetype": "text/x-python",
   "name": "python",
   "nbconvert_exporter": "python",
   "pygments_lexer": "ipython3",
   "version": "3.8.5"
  }
 },
 "nbformat": 4,
 "nbformat_minor": 4
}
