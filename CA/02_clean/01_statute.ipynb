{
 "cells": [
  {
   "cell_type": "code",
   "execution_count": 1,
   "metadata": {},
   "outputs": [],
   "source": [
    "import sys\n",
    "\n",
    "# append the directory of law module to sys.path list\n",
    "sys.path.append('../../modules/')"
   ]
  },
  {
   "cell_type": "code",
   "execution_count": 2,
   "metadata": {},
   "outputs": [],
   "source": [
    "import datetime as dt\n",
    "import glob\n",
    "import math\n",
    "import os\n",
    "import re\n",
    "\n",
    "import arrest\n",
    "import numpy as np\n",
    "import pandas as pd"
   ]
  },
  {
   "cell_type": "markdown",
   "metadata": {},
   "source": [
    "## `CHSOFF`\n",
    "\n",
    "- [Data source](https://oag.ca.gov/law/code-tables) (specifically [Offense Codes (with LEI codes)](https://oag.ca.gov/sites/all/files/agweb/law-enforcement/code-tables/chsoff.csv?041820220129))\n",
    "- [Names Source (XML)](https://oag.ca.gov/sites/all/files/agweb/law-enforcement/code-tables/chsoff.xml)"
   ]
  },
  {
   "cell_type": "code",
   "execution_count": 3,
   "metadata": {},
   "outputs": [],
   "source": [
    "chsoff_xml = pd.read_xml('../01_inputs/chsoff_20220415.xml')"
   ]
  },
  {
   "cell_type": "code",
   "execution_count": 4,
   "metadata": {},
   "outputs": [
    {
     "data": {
      "text/plain": [
       "Index(['ValidationCode', 'CJISCode', 'TransactionTypeCode',\n",
       "       'StatutoryNumericCodes', 'TypeOfStatCode', 'StatuteLiteral',\n",
       "       'DefaultTypeofCharge', 'TypeOfCharge', 'LiteralIndentifierCode',\n",
       "       'ChargeDegree', 'BCSCodesLEI', 'BCSHierarchyCodes', 'EnactDate',\n",
       "       'RepealAmendDate', 'ALPSCognizantCode'],\n",
       "      dtype='object')"
      ]
     },
     "execution_count": 4,
     "metadata": {},
     "output_type": "execute_result"
    }
   ],
   "source": [
    "chsoff_xml.columns"
   ]
  },
  {
   "cell_type": "code",
   "execution_count": 5,
   "metadata": {},
   "outputs": [],
   "source": [
    "chsoff_original = pd.read_csv(\n",
    "    '../01_inputs/chsoff_20220204.csv',\n",
    "    header=None,\n",
    "    names=chsoff_xml.columns,\n",
    "    dtype=str,\n",
    ")"
   ]
  },
  {
   "cell_type": "code",
   "execution_count": 6,
   "metadata": {},
   "outputs": [],
   "source": [
    "chsoff = chsoff_original.drop(labels=['ValidationCode', 'CJISCode', 'TransactionTypeCode', 'DefaultTypeofCharge',\n",
    "                                      'LiteralIndentifierCode', 'ChargeDegree', 'BCSCodesLEI', 'BCSHierarchyCodes',\n",
    "                                      'ALPSCognizantCode'], axis=1).copy()"
   ]
  },
  {
   "cell_type": "code",
   "execution_count": 7,
   "metadata": {},
   "outputs": [],
   "source": [
    "chsoff['EnactDate'] = pd.to_datetime(chsoff['EnactDate'])"
   ]
  },
  {
   "cell_type": "code",
   "execution_count": 8,
   "metadata": {},
   "outputs": [],
   "source": [
    "chsoff['RepealAmendDate'] = pd.to_datetime(\n",
    "    chsoff['RepealAmendDate'], errors='coerce')"
   ]
  },
  {
   "cell_type": "markdown",
   "metadata": {},
   "source": [
    "## Subset data to applicable time periods"
   ]
  },
  {
   "cell_type": "code",
   "execution_count": 9,
   "metadata": {},
   "outputs": [],
   "source": [
    "chsoff = (\n",
    "    chsoff[\n",
    "        (chsoff['EnactDate'] < '2021')\n",
    "        & (\n",
    "            (chsoff['RepealAmendDate'] < '2020-12-31')\n",
    "            | chsoff['RepealAmendDate'].isnull()\n",
    "        )\n",
    "        & (~chsoff['TypeOfStatCode'].isin(['ZZ']))\n",
    "    ]\n",
    "    .copy()\n",
    "    .reset_index(drop=True)\n",
    ")"
   ]
  },
  {
   "cell_type": "markdown",
   "metadata": {
    "tags": []
   },
   "source": [
    "## Split `StatutoryNumericCodes` into section and subparts"
   ]
  },
  {
   "cell_type": "code",
   "execution_count": 10,
   "metadata": {},
   "outputs": [],
   "source": [
    "chsoff[\n",
    "    ['_section', '_subdivision', '_paragraph', '_subparagraph', '_clause']\n",
    "] = chsoff.apply(\n",
    "    lambda x: arrest.Charge.parse_section_and_subparts(\n",
    "        x['StatutoryNumericCodes'], arrests=False),\n",
    "    axis=1,\n",
    "    result_type='expand',\n",
    ")"
   ]
  },
  {
   "cell_type": "markdown",
   "metadata": {},
   "source": [
    "### Reassemble into _charge_reconstructed for joining on arrest data"
   ]
  },
  {
   "cell_type": "code",
   "execution_count": 11,
   "metadata": {},
   "outputs": [],
   "source": [
    "chsoff['_charge_reconstructed'] = chsoff['TypeOfStatCode'].str.cat(\n",
    "    chsoff[['_section', '_subdivision', '_paragraph', '_subparagraph', '_clause']],\n",
    "    sep='',\n",
    "    na_rep='',\n",
    ")"
   ]
  },
  {
   "cell_type": "markdown",
   "metadata": {},
   "source": [
    "## Violent"
   ]
  },
  {
   "cell_type": "code",
   "execution_count": 12,
   "metadata": {},
   "outputs": [],
   "source": [
    "chsoff_violent = pd.read_csv(\n",
    "    '../01_inputs/processed/c01_chsoff_violent.csv',\n",
    "    usecols=['_charge_reconstructed'],\n",
    "    dtype=str,\n",
    ")"
   ]
  },
  {
   "cell_type": "code",
   "execution_count": 13,
   "metadata": {},
   "outputs": [
    {
     "data": {
      "text/html": [
       "<div>\n",
       "<style scoped>\n",
       "    .dataframe tbody tr th:only-of-type {\n",
       "        vertical-align: middle;\n",
       "    }\n",
       "\n",
       "    .dataframe tbody tr th {\n",
       "        vertical-align: top;\n",
       "    }\n",
       "\n",
       "    .dataframe thead th {\n",
       "        text-align: right;\n",
       "    }\n",
       "</style>\n",
       "<table border=\"1\" class=\"dataframe\">\n",
       "  <thead>\n",
       "    <tr style=\"text-align: right;\">\n",
       "      <th></th>\n",
       "      <th>StatutoryNumericCodes</th>\n",
       "      <th>TypeOfStatCode</th>\n",
       "      <th>StatuteLiteral</th>\n",
       "      <th>TypeOfCharge</th>\n",
       "      <th>EnactDate</th>\n",
       "      <th>RepealAmendDate</th>\n",
       "      <th>_section</th>\n",
       "      <th>_subdivision</th>\n",
       "      <th>_paragraph</th>\n",
       "      <th>_subparagraph</th>\n",
       "      <th>_clause</th>\n",
       "      <th>_charge_reconstructed</th>\n",
       "    </tr>\n",
       "  </thead>\n",
       "  <tbody>\n",
       "    <tr>\n",
       "      <th>1502</th>\n",
       "      <td>460(A)</td>\n",
       "      <td>PC</td>\n",
       "      <td>BURGLARY:FIRST DEGREE</td>\n",
       "      <td>F</td>\n",
       "      <td>1992-01-01</td>\n",
       "      <td>NaT</td>\n",
       "      <td>460</td>\n",
       "      <td>(A)</td>\n",
       "      <td></td>\n",
       "      <td></td>\n",
       "      <td></td>\n",
       "      <td>PC460(A)</td>\n",
       "    </tr>\n",
       "    <tr>\n",
       "      <th>1503</th>\n",
       "      <td>460(B)</td>\n",
       "      <td>PC</td>\n",
       "      <td>BURGLARY:SECOND DEGREE</td>\n",
       "      <td>F</td>\n",
       "      <td>1992-01-01</td>\n",
       "      <td>NaT</td>\n",
       "      <td>460</td>\n",
       "      <td>(B)</td>\n",
       "      <td></td>\n",
       "      <td></td>\n",
       "      <td></td>\n",
       "      <td>PC460(B)</td>\n",
       "    </tr>\n",
       "    <tr>\n",
       "      <th>1504</th>\n",
       "      <td>460(B)</td>\n",
       "      <td>PC</td>\n",
       "      <td>BURGLARY:SECOND DEGREE</td>\n",
       "      <td>M</td>\n",
       "      <td>1992-01-01</td>\n",
       "      <td>NaT</td>\n",
       "      <td>460</td>\n",
       "      <td>(B)</td>\n",
       "      <td></td>\n",
       "      <td></td>\n",
       "      <td></td>\n",
       "      <td>PC460(B)</td>\n",
       "    </tr>\n",
       "    <tr>\n",
       "      <th>3249</th>\n",
       "      <td>4600(A)</td>\n",
       "      <td>PC</td>\n",
       "      <td>DAMAGE JAIL/PRISON/ETC</td>\n",
       "      <td>M</td>\n",
       "      <td>1997-01-01</td>\n",
       "      <td>NaT</td>\n",
       "      <td>4600</td>\n",
       "      <td>(A)</td>\n",
       "      <td></td>\n",
       "      <td></td>\n",
       "      <td></td>\n",
       "      <td>PC4600(A)</td>\n",
       "    </tr>\n",
       "    <tr>\n",
       "      <th>3250</th>\n",
       "      <td>4600(A)</td>\n",
       "      <td>PC</td>\n",
       "      <td>DAMAGE JAIL/PRISON/ETC</td>\n",
       "      <td>F</td>\n",
       "      <td>1997-01-01</td>\n",
       "      <td>2020-11-02</td>\n",
       "      <td>4600</td>\n",
       "      <td>(A)</td>\n",
       "      <td></td>\n",
       "      <td></td>\n",
       "      <td></td>\n",
       "      <td>PC4600(A)</td>\n",
       "    </tr>\n",
       "    <tr>\n",
       "      <th>3251</th>\n",
       "      <td>4600(A)</td>\n",
       "      <td>PC</td>\n",
       "      <td>DAMAGE JAIL/PRISON $950+</td>\n",
       "      <td>F</td>\n",
       "      <td>2020-11-03</td>\n",
       "      <td>NaT</td>\n",
       "      <td>4600</td>\n",
       "      <td>(A)</td>\n",
       "      <td></td>\n",
       "      <td></td>\n",
       "      <td></td>\n",
       "      <td>PC4600(A)</td>\n",
       "    </tr>\n",
       "  </tbody>\n",
       "</table>\n",
       "</div>"
      ],
      "text/plain": [
       "     StatutoryNumericCodes TypeOfStatCode            StatuteLiteral  \\\n",
       "1502                460(A)             PC     BURGLARY:FIRST DEGREE   \n",
       "1503                460(B)             PC    BURGLARY:SECOND DEGREE   \n",
       "1504                460(B)             PC    BURGLARY:SECOND DEGREE   \n",
       "3249               4600(A)             PC    DAMAGE JAIL/PRISON/ETC   \n",
       "3250               4600(A)             PC    DAMAGE JAIL/PRISON/ETC   \n",
       "3251               4600(A)             PC  DAMAGE JAIL/PRISON $950+   \n",
       "\n",
       "     TypeOfCharge  EnactDate RepealAmendDate _section _subdivision _paragraph  \\\n",
       "1502            F 1992-01-01             NaT      460          (A)              \n",
       "1503            F 1992-01-01             NaT      460          (B)              \n",
       "1504            M 1992-01-01             NaT      460          (B)              \n",
       "3249            M 1997-01-01             NaT     4600          (A)              \n",
       "3250            F 1997-01-01      2020-11-02     4600          (A)              \n",
       "3251            F 2020-11-03             NaT     4600          (A)              \n",
       "\n",
       "     _subparagraph _clause _charge_reconstructed  \n",
       "1502                                    PC460(A)  \n",
       "1503                                    PC460(B)  \n",
       "1504                                    PC460(B)  \n",
       "3249                                   PC4600(A)  \n",
       "3250                                   PC4600(A)  \n",
       "3251                                   PC4600(A)  "
      ]
     },
     "execution_count": 13,
     "metadata": {},
     "output_type": "execute_result"
    }
   ],
   "source": [
    "chsoff.loc[chsoff['_charge_reconstructed'].str.contains('^PC460',regex=True)]"
   ]
  },
  {
   "cell_type": "code",
   "execution_count": 14,
   "metadata": {},
   "outputs": [],
   "source": [
    "chsoff.loc[chsoff['_charge_reconstructed'].str.contains('^PC460',regex=True), '_chsoff_violent'] = True"
   ]
  },
  {
   "cell_type": "code",
   "execution_count": 15,
   "metadata": {},
   "outputs": [],
   "source": [
    "chsoff['_chsoff_violent'] = chsoff['_charge_reconstructed'].isin(\n",
    "    set(chsoff_violent['_charge_reconstructed']))"
   ]
  },
  {
   "cell_type": "code",
   "execution_count": 16,
   "metadata": {},
   "outputs": [
    {
     "data": {
      "text/html": [
       "<div>\n",
       "<style scoped>\n",
       "    .dataframe tbody tr th:only-of-type {\n",
       "        vertical-align: middle;\n",
       "    }\n",
       "\n",
       "    .dataframe tbody tr th {\n",
       "        vertical-align: top;\n",
       "    }\n",
       "\n",
       "    .dataframe thead th {\n",
       "        text-align: right;\n",
       "    }\n",
       "</style>\n",
       "<table border=\"1\" class=\"dataframe\">\n",
       "  <thead>\n",
       "    <tr style=\"text-align: right;\">\n",
       "      <th></th>\n",
       "      <th>StatutoryNumericCodes</th>\n",
       "      <th>TypeOfStatCode</th>\n",
       "      <th>StatuteLiteral</th>\n",
       "      <th>TypeOfCharge</th>\n",
       "      <th>EnactDate</th>\n",
       "      <th>RepealAmendDate</th>\n",
       "      <th>_section</th>\n",
       "      <th>_subdivision</th>\n",
       "      <th>_paragraph</th>\n",
       "      <th>_subparagraph</th>\n",
       "      <th>_clause</th>\n",
       "      <th>_charge_reconstructed</th>\n",
       "      <th>_chsoff_violent</th>\n",
       "    </tr>\n",
       "  </thead>\n",
       "  <tbody>\n",
       "    <tr>\n",
       "      <th>5463</th>\n",
       "      <td>241/243</td>\n",
       "      <td>PC</td>\n",
       "      <td>ASLT/BATT PEACE OFR/ETC</td>\n",
       "      <td>M</td>\n",
       "      <td>1982-01-01</td>\n",
       "      <td>NaT</td>\n",
       "      <td>241/243</td>\n",
       "      <td></td>\n",
       "      <td></td>\n",
       "      <td></td>\n",
       "      <td></td>\n",
       "      <td>PC241/243</td>\n",
       "      <td>True</td>\n",
       "    </tr>\n",
       "  </tbody>\n",
       "</table>\n",
       "</div>"
      ],
      "text/plain": [
       "     StatutoryNumericCodes TypeOfStatCode           StatuteLiteral  \\\n",
       "5463               241/243             PC  ASLT/BATT PEACE OFR/ETC   \n",
       "\n",
       "     TypeOfCharge  EnactDate RepealAmendDate _section _subdivision _paragraph  \\\n",
       "5463            M 1982-01-01             NaT  241/243                           \n",
       "\n",
       "     _subparagraph _clause _charge_reconstructed  _chsoff_violent  \n",
       "5463                                   PC241/243             True  "
      ]
     },
     "execution_count": 16,
     "metadata": {},
     "output_type": "execute_result"
    }
   ],
   "source": [
    "chsoff.loc[chsoff['_charge_reconstructed'].str.contains('241/243')]"
   ]
  },
  {
   "cell_type": "markdown",
   "metadata": {},
   "source": [
    "## Prepare for joining on arrest data"
   ]
  },
  {
   "cell_type": "code",
   "execution_count": 17,
   "metadata": {},
   "outputs": [],
   "source": [
    "chsoff.rename(\n",
    "    columns={\n",
    "        'StatutoryNumericCodes': '_original_code',\n",
    "        'TypeOfStatCode': '_code_type',\n",
    "        'TypeOfCharge': '_offense_level',\n",
    "    },\n",
    "    inplace=True,\n",
    ")"
   ]
  },
  {
   "cell_type": "code",
   "execution_count": 18,
   "metadata": {},
   "outputs": [],
   "source": [
    "chsoff.sort_values(by=['_code_type', '_original_code',\n",
    "                   '_offense_level', 'EnactDate', 'RepealAmendDate'], ascending=[True, True, True, False, False], inplace=True, na_position='first')"
   ]
  },
  {
   "cell_type": "markdown",
   "metadata": {},
   "source": [
    "### Handle amendments"
   ]
  },
  {
   "cell_type": "code",
   "execution_count": 19,
   "metadata": {},
   "outputs": [],
   "source": [
    "repealed_amended = set(\n",
    "    chsoff[chsoff['RepealAmendDate'].notnull()]['_charge_reconstructed'])"
   ]
  },
  {
   "cell_type": "code",
   "execution_count": 20,
   "metadata": {},
   "outputs": [],
   "source": [
    "not_repealed_amended = set(\n",
    "    chsoff[chsoff['RepealAmendDate'].isnull()]['_charge_reconstructed'])"
   ]
  },
  {
   "cell_type": "code",
   "execution_count": 21,
   "metadata": {},
   "outputs": [],
   "source": [
    "amended = chsoff[chsoff['_charge_reconstructed'].isin(\n",
    "    repealed_amended & not_repealed_amended)].copy()"
   ]
  },
  {
   "cell_type": "markdown",
   "metadata": {},
   "source": [
    "#### Subset those amended in 2020 because I'll use the descriptions therein"
   ]
  },
  {
   "cell_type": "code",
   "execution_count": 22,
   "metadata": {},
   "outputs": [],
   "source": [
    "amended_late = amended[amended['RepealAmendDate'] >= '2020'].copy()"
   ]
  },
  {
   "cell_type": "code",
   "execution_count": 23,
   "metadata": {},
   "outputs": [],
   "source": [
    "not_replaced = chsoff[(chsoff['_charge_reconstructed'].isin(\n",
    "    repealed_amended - not_repealed_amended))].copy()"
   ]
  },
  {
   "cell_type": "code",
   "execution_count": 24,
   "metadata": {},
   "outputs": [],
   "source": [
    "not_amended = chsoff[(chsoff['_charge_reconstructed'].isin(\n",
    "    not_repealed_amended - repealed_amended))].copy()"
   ]
  },
  {
   "cell_type": "markdown",
   "metadata": {},
   "source": [
    "#### Combine DataFrames"
   ]
  },
  {
   "cell_type": "code",
   "execution_count": 25,
   "metadata": {},
   "outputs": [],
   "source": [
    "processed = pd.concat(\n",
    "    [amended_late, not_replaced, not_amended], ignore_index=True)"
   ]
  },
  {
   "cell_type": "markdown",
   "metadata": {},
   "source": [
    "### Identify duplicates in processed data"
   ]
  },
  {
   "cell_type": "code",
   "execution_count": 26,
   "metadata": {},
   "outputs": [],
   "source": [
    "processed_to_dedupe = processed[processed.duplicated(subset=['_charge_reconstructed', '_offense_level'],\n",
    "                                                     keep=False)].copy()"
   ]
  },
  {
   "cell_type": "code",
   "execution_count": 27,
   "metadata": {},
   "outputs": [],
   "source": [
    "processed_charges = set(processed['_charge_reconstructed'])"
   ]
  },
  {
   "cell_type": "code",
   "execution_count": 28,
   "metadata": {},
   "outputs": [],
   "source": [
    "unique_processed = processed[~processed['_charge_reconstructed'].isin(\n",
    "    set(processed_to_dedupe['_charge_reconstructed']))].copy()"
   ]
  },
  {
   "cell_type": "code",
   "execution_count": 29,
   "metadata": {},
   "outputs": [
    {
     "data": {
      "text/html": [
       "<div>\n",
       "<style scoped>\n",
       "    .dataframe tbody tr th:only-of-type {\n",
       "        vertical-align: middle;\n",
       "    }\n",
       "\n",
       "    .dataframe tbody tr th {\n",
       "        vertical-align: top;\n",
       "    }\n",
       "\n",
       "    .dataframe thead th {\n",
       "        text-align: right;\n",
       "    }\n",
       "</style>\n",
       "<table border=\"1\" class=\"dataframe\">\n",
       "  <thead>\n",
       "    <tr style=\"text-align: right;\">\n",
       "      <th></th>\n",
       "      <th>_original_code</th>\n",
       "      <th>_code_type</th>\n",
       "      <th>StatuteLiteral</th>\n",
       "      <th>_offense_level</th>\n",
       "      <th>EnactDate</th>\n",
       "      <th>RepealAmendDate</th>\n",
       "      <th>_section</th>\n",
       "      <th>_subdivision</th>\n",
       "      <th>_paragraph</th>\n",
       "      <th>_subparagraph</th>\n",
       "      <th>_clause</th>\n",
       "      <th>_charge_reconstructed</th>\n",
       "      <th>_chsoff_violent</th>\n",
       "    </tr>\n",
       "  </thead>\n",
       "  <tbody>\n",
       "  </tbody>\n",
       "</table>\n",
       "</div>"
      ],
      "text/plain": [
       "Empty DataFrame\n",
       "Columns: [_original_code, _code_type, StatuteLiteral, _offense_level, EnactDate, RepealAmendDate, _section, _subdivision, _paragraph, _subparagraph, _clause, _charge_reconstructed, _chsoff_violent]\n",
       "Index: []"
      ]
     },
     "execution_count": 29,
     "metadata": {},
     "output_type": "execute_result"
    }
   ],
   "source": [
    "unique_processed[unique_processed.duplicated(\n",
    "    subset=['_charge_reconstructed', '_offense_level'], keep=False)]"
   ]
  },
  {
   "cell_type": "code",
   "execution_count": 30,
   "metadata": {},
   "outputs": [],
   "source": [
    "unique_processed['statute_object'] = unique_processed.apply(\n",
    "    lambda x: {\n",
    "        'EnactDate': x['EnactDate'],\n",
    "        'RepealAmendDate': x['RepealAmendDate'],\n",
    "        'StatuteLiteral': x['StatuteLiteral'],\n",
    "    },\n",
    "    axis=1,\n",
    ")"
   ]
  },
  {
   "cell_type": "markdown",
   "metadata": {},
   "source": [
    "#### Combine duplicates in processed data with unprocessed data"
   ]
  },
  {
   "cell_type": "code",
   "execution_count": 31,
   "metadata": {},
   "outputs": [],
   "source": [
    "unprocessed_to_dedupe = chsoff[~chsoff['_charge_reconstructed'].isin(\n",
    "    processed_charges)].copy()"
   ]
  },
  {
   "cell_type": "code",
   "execution_count": 32,
   "metadata": {},
   "outputs": [],
   "source": [
    "to_dedupe = pd.concat(\n",
    "    [processed_to_dedupe, unprocessed_to_dedupe], ignore_index=True)"
   ]
  },
  {
   "cell_type": "markdown",
   "metadata": {},
   "source": [
    "### Prepare for joinng on arrest data with missing or incorrect levels, subparts"
   ]
  },
  {
   "cell_type": "markdown",
   "metadata": {
    "tags": []
   },
   "source": [
    "#### Create objects with date and description data\n",
    "\n",
    "I want to use unique charge codes while keeping this data for retrieval later."
   ]
  },
  {
   "cell_type": "code",
   "execution_count": 33,
   "metadata": {},
   "outputs": [],
   "source": [
    "to_dedupe.sort_values(by=['_charge_reconstructed', 'EnactDate',\n",
    "                      'RepealAmendDate'], ascending=False, inplace=True)"
   ]
  },
  {
   "cell_type": "code",
   "execution_count": 34,
   "metadata": {},
   "outputs": [],
   "source": [
    "to_dedupe['statute_object'] = to_dedupe.apply(\n",
    "    lambda x: {\n",
    "        'EnactDate': x['EnactDate'],\n",
    "        'RepealAmendDate': x['RepealAmendDate'],\n",
    "        'StatuteLiteral': x['StatuteLiteral'],\n",
    "    },\n",
    "    axis=1,\n",
    ")"
   ]
  },
  {
   "cell_type": "code",
   "execution_count": 35,
   "metadata": {},
   "outputs": [],
   "source": [
    "deduped = (\n",
    "    to_dedupe.groupby(\n",
    "        ['_original_code', '_code_type', '_offense_level', '_section', '_subdivision',\n",
    "         '_paragraph', '_subparagraph', '_clause', '_charge_reconstructed',\n",
    "         '_chsoff_violent']\n",
    "    )\n",
    "    .agg(enactment_data=('statute_object', list),\n",
    "         StatuteLiteral=('StatuteLiteral', arrest.format_unique))\n",
    "    .reset_index()\n",
    ")"
   ]
  },
  {
   "cell_type": "code",
   "execution_count": 36,
   "metadata": {},
   "outputs": [
    {
     "data": {
      "text/html": [
       "<div>\n",
       "<style scoped>\n",
       "    .dataframe tbody tr th:only-of-type {\n",
       "        vertical-align: middle;\n",
       "    }\n",
       "\n",
       "    .dataframe tbody tr th {\n",
       "        vertical-align: top;\n",
       "    }\n",
       "\n",
       "    .dataframe thead th {\n",
       "        text-align: right;\n",
       "    }\n",
       "</style>\n",
       "<table border=\"1\" class=\"dataframe\">\n",
       "  <thead>\n",
       "    <tr style=\"text-align: right;\">\n",
       "      <th></th>\n",
       "      <th>_original_code</th>\n",
       "      <th>_code_type</th>\n",
       "      <th>_offense_level</th>\n",
       "      <th>_section</th>\n",
       "      <th>_subdivision</th>\n",
       "      <th>_paragraph</th>\n",
       "      <th>_subparagraph</th>\n",
       "      <th>_clause</th>\n",
       "      <th>_charge_reconstructed</th>\n",
       "      <th>_chsoff_violent</th>\n",
       "      <th>enactment_data</th>\n",
       "      <th>StatuteLiteral</th>\n",
       "    </tr>\n",
       "  </thead>\n",
       "  <tbody>\n",
       "  </tbody>\n",
       "</table>\n",
       "</div>"
      ],
      "text/plain": [
       "Empty DataFrame\n",
       "Columns: [_original_code, _code_type, _offense_level, _section, _subdivision, _paragraph, _subparagraph, _clause, _charge_reconstructed, _chsoff_violent, enactment_data, StatuteLiteral]\n",
       "Index: []"
      ]
     },
     "execution_count": 36,
     "metadata": {},
     "output_type": "execute_result"
    }
   ],
   "source": [
    "deduped[deduped.duplicated(\n",
    "    subset=['_charge_reconstructed', '_offense_level'], keep=False)].sort_values(by='_charge_reconstructed')"
   ]
  },
  {
   "cell_type": "code",
   "execution_count": 37,
   "metadata": {},
   "outputs": [],
   "source": [
    "chsoff_dedupe = pd.concat([deduped, unique_processed], ignore_index=True)"
   ]
  },
  {
   "cell_type": "code",
   "execution_count": 38,
   "metadata": {},
   "outputs": [
    {
     "data": {
      "text/plain": [
       "Index(['_original_code', '_code_type', '_offense_level', '_section',\n",
       "       '_subdivision', '_paragraph', '_subparagraph', '_clause',\n",
       "       '_charge_reconstructed', '_chsoff_violent', 'enactment_data',\n",
       "       'StatuteLiteral', 'EnactDate', 'RepealAmendDate', 'statute_object'],\n",
       "      dtype='object')"
      ]
     },
     "execution_count": 38,
     "metadata": {},
     "output_type": "execute_result"
    }
   ],
   "source": [
    "chsoff_dedupe.columns"
   ]
  },
  {
   "cell_type": "code",
   "execution_count": 39,
   "metadata": {},
   "outputs": [],
   "source": [
    "chsoff_dedupe[chsoff_dedupe['_chsoff_violent']==True][['_original_code', '_code_type', '_offense_level', '_section',\n",
    "               '_charge_reconstructed', '_chsoff_violent', 'StatuteLiteral', 'EnactDate',\n",
    "               'RepealAmendDate']].to_clipboard()"
   ]
  },
  {
   "cell_type": "code",
   "execution_count": 40,
   "metadata": {},
   "outputs": [],
   "source": [
    "chsoff_dedupe[['_original_code', '_code_type', '_offense_level', '_section', '_subdivision',\n",
    "               '_charge_reconstructed', '_chsoff_violent', 'enactment_data', 'StatuteLiteral', 'EnactDate',\n",
    "               'RepealAmendDate', ]].to_json('../01_inputs/processed/c01_chsoff.json',\n",
    "                                             date_format='iso', date_unit='s')"
   ]
  },
  {
   "cell_type": "code",
   "execution_count": 41,
   "metadata": {},
   "outputs": [],
   "source": [
    "# chsoff_dedupe.to_csv('../01_inputs/processed/c01_chsoff.csv', index=False)"
   ]
  },
  {
   "cell_type": "code",
   "execution_count": 42,
   "metadata": {},
   "outputs": [],
   "source": [
    "chsoff_dedupe['_level_data'] = chsoff_dedupe.apply(\n",
    "    lambda x: {x['_offense_level']: x['statute_object']}, axis=1)"
   ]
  },
  {
   "cell_type": "code",
   "execution_count": 43,
   "metadata": {},
   "outputs": [],
   "source": [
    "chsoff_dedupe_without_level = (\n",
    "    chsoff_dedupe.groupby(['_code_type', '_section', '_charge_reconstructed'])\n",
    "    .agg(data_per_charge_level=('_level_data', list),\n",
    "         potential_offense_levels=('_offense_level', arrest.format_unique),\n",
    "         StatuteLiteral=('StatuteLiteral', arrest.format_unique))\n",
    "    .reset_index()\n",
    ")"
   ]
  },
  {
   "cell_type": "code",
   "execution_count": 44,
   "metadata": {},
   "outputs": [
    {
     "data": {
      "text/html": [
       "<div>\n",
       "<style scoped>\n",
       "    .dataframe tbody tr th:only-of-type {\n",
       "        vertical-align: middle;\n",
       "    }\n",
       "\n",
       "    .dataframe tbody tr th {\n",
       "        vertical-align: top;\n",
       "    }\n",
       "\n",
       "    .dataframe thead th {\n",
       "        text-align: right;\n",
       "    }\n",
       "</style>\n",
       "<table border=\"1\" class=\"dataframe\">\n",
       "  <thead>\n",
       "    <tr style=\"text-align: right;\">\n",
       "      <th></th>\n",
       "      <th>_code_type</th>\n",
       "      <th>_section</th>\n",
       "      <th>_charge_reconstructed</th>\n",
       "      <th>data_per_charge_level</th>\n",
       "      <th>potential_offense_levels</th>\n",
       "      <th>StatuteLiteral</th>\n",
       "    </tr>\n",
       "  </thead>\n",
       "  <tbody>\n",
       "  </tbody>\n",
       "</table>\n",
       "</div>"
      ],
      "text/plain": [
       "Empty DataFrame\n",
       "Columns: [_code_type, _section, _charge_reconstructed, data_per_charge_level, potential_offense_levels, StatuteLiteral]\n",
       "Index: []"
      ]
     },
     "execution_count": 44,
     "metadata": {},
     "output_type": "execute_result"
    }
   ],
   "source": [
    "chsoff_dedupe_without_level[chsoff_dedupe_without_level.duplicated(\n",
    "    subset=['_charge_reconstructed'], keep=False)]"
   ]
  },
  {
   "cell_type": "code",
   "execution_count": 45,
   "metadata": {},
   "outputs": [],
   "source": [
    "chsoff_dedupe_without_level.to_json(\n",
    "    '../01_inputs/processed/c01_chsoff_ignoring_level.json', date_format='iso', date_unit='s')"
   ]
  },
  {
   "cell_type": "code",
   "execution_count": 46,
   "metadata": {},
   "outputs": [],
   "source": [
    "chsoff_dedupe['_level_and_subpart_data'] = chsoff_dedupe.apply(\n",
    "    lambda x: {x['_section']+x['_subdivision']: x['_level_data']}, axis=1\n",
    ")"
   ]
  },
  {
   "cell_type": "code",
   "execution_count": 47,
   "metadata": {},
   "outputs": [],
   "source": [
    "chsoff_dedupe_without_level_or_subparts = chsoff_dedupe.groupby(['_code_type', '_section']).agg(\n",
    "    data_per_subdivision_and_level=('_level_and_subpart_data', list),\n",
    "    subdivisions=('_subdivision', arrest.format_unique)).reset_index()"
   ]
  },
  {
   "cell_type": "code",
   "execution_count": 48,
   "metadata": {},
   "outputs": [
    {
     "data": {
      "text/html": [
       "<div>\n",
       "<style scoped>\n",
       "    .dataframe tbody tr th:only-of-type {\n",
       "        vertical-align: middle;\n",
       "    }\n",
       "\n",
       "    .dataframe tbody tr th {\n",
       "        vertical-align: top;\n",
       "    }\n",
       "\n",
       "    .dataframe thead th {\n",
       "        text-align: right;\n",
       "    }\n",
       "</style>\n",
       "<table border=\"1\" class=\"dataframe\">\n",
       "  <thead>\n",
       "    <tr style=\"text-align: right;\">\n",
       "      <th></th>\n",
       "      <th>_code_type</th>\n",
       "      <th>_section</th>\n",
       "      <th>data_per_subdivision_and_level</th>\n",
       "      <th>subdivisions</th>\n",
       "    </tr>\n",
       "  </thead>\n",
       "  <tbody>\n",
       "    <tr>\n",
       "      <th>0</th>\n",
       "      <td>BP</td>\n",
       "      <td>10085.5</td>\n",
       "      <td>[{'10085.5': {'M': {'EnactDate': Timestamp('19...</td>\n",
       "      <td></td>\n",
       "    </tr>\n",
       "    <tr>\n",
       "      <th>1</th>\n",
       "      <td>BP</td>\n",
       "      <td>10139</td>\n",
       "      <td>[{'10139': {'M': {'EnactDate': Timestamp('1943...</td>\n",
       "      <td></td>\n",
       "    </tr>\n",
       "    <tr>\n",
       "      <th>2</th>\n",
       "      <td>BP</td>\n",
       "      <td>10153.1</td>\n",
       "      <td>[{'10153.1': {'M': {'EnactDate': Timestamp('19...</td>\n",
       "      <td></td>\n",
       "    </tr>\n",
       "    <tr>\n",
       "      <th>3</th>\n",
       "      <td>BP</td>\n",
       "      <td>10167.11</td>\n",
       "      <td>[{'10167.11(A)': {'M': {'EnactDate': Timestamp...</td>\n",
       "      <td>(B), (A)</td>\n",
       "    </tr>\n",
       "    <tr>\n",
       "      <th>4</th>\n",
       "      <td>BP</td>\n",
       "      <td>10167.2</td>\n",
       "      <td>[{'10167.2': {'M': {'EnactDate': Timestamp('19...</td>\n",
       "      <td></td>\n",
       "    </tr>\n",
       "    <tr>\n",
       "      <th>...</th>\n",
       "      <td>...</td>\n",
       "      <td>...</td>\n",
       "      <td>...</td>\n",
       "      <td>...</td>\n",
       "    </tr>\n",
       "    <tr>\n",
       "      <th>2655</th>\n",
       "      <td>WI</td>\n",
       "      <td>777</td>\n",
       "      <td>[{'777': {'X': {'EnactDate': Timestamp('1961-0...</td>\n",
       "      <td>(A)</td>\n",
       "    </tr>\n",
       "    <tr>\n",
       "      <th>2656</th>\n",
       "      <td>WI</td>\n",
       "      <td>8101</td>\n",
       "      <td>[{'8101(A)': {'F': {'EnactDate': Timestamp('19...</td>\n",
       "      <td>(B), (A)</td>\n",
       "    </tr>\n",
       "    <tr>\n",
       "      <th>2657</th>\n",
       "      <td>WI</td>\n",
       "      <td>8103</td>\n",
       "      <td>[{'8103(A)': {'F': {'EnactDate': Timestamp('19...</td>\n",
       "      <td>(F), (A), (I)</td>\n",
       "    </tr>\n",
       "    <tr>\n",
       "      <th>2658</th>\n",
       "      <td>WI</td>\n",
       "      <td>871</td>\n",
       "      <td>[{'871(A)': {'M': {'EnactDate': Timestamp('198...</td>\n",
       "      <td>(B), (A), (C), (D)</td>\n",
       "    </tr>\n",
       "    <tr>\n",
       "      <th>2659</th>\n",
       "      <td>WI</td>\n",
       "      <td>871.5</td>\n",
       "      <td>[{'871.5(A)': {'F': {'EnactDate': Timestamp('1...</td>\n",
       "      <td>(B), (A), (D)</td>\n",
       "    </tr>\n",
       "  </tbody>\n",
       "</table>\n",
       "<p>2660 rows × 4 columns</p>\n",
       "</div>"
      ],
      "text/plain": [
       "     _code_type  _section                     data_per_subdivision_and_level  \\\n",
       "0            BP   10085.5  [{'10085.5': {'M': {'EnactDate': Timestamp('19...   \n",
       "1            BP     10139  [{'10139': {'M': {'EnactDate': Timestamp('1943...   \n",
       "2            BP   10153.1  [{'10153.1': {'M': {'EnactDate': Timestamp('19...   \n",
       "3            BP  10167.11  [{'10167.11(A)': {'M': {'EnactDate': Timestamp...   \n",
       "4            BP   10167.2  [{'10167.2': {'M': {'EnactDate': Timestamp('19...   \n",
       "...         ...       ...                                                ...   \n",
       "2655         WI       777  [{'777': {'X': {'EnactDate': Timestamp('1961-0...   \n",
       "2656         WI      8101  [{'8101(A)': {'F': {'EnactDate': Timestamp('19...   \n",
       "2657         WI      8103  [{'8103(A)': {'F': {'EnactDate': Timestamp('19...   \n",
       "2658         WI       871  [{'871(A)': {'M': {'EnactDate': Timestamp('198...   \n",
       "2659         WI     871.5  [{'871.5(A)': {'F': {'EnactDate': Timestamp('1...   \n",
       "\n",
       "            subdivisions  \n",
       "0                         \n",
       "1                         \n",
       "2                         \n",
       "3               (B), (A)  \n",
       "4                         \n",
       "...                  ...  \n",
       "2655                 (A)  \n",
       "2656            (B), (A)  \n",
       "2657       (F), (A), (I)  \n",
       "2658  (B), (A), (C), (D)  \n",
       "2659       (B), (A), (D)  \n",
       "\n",
       "[2660 rows x 4 columns]"
      ]
     },
     "execution_count": 48,
     "metadata": {},
     "output_type": "execute_result"
    }
   ],
   "source": [
    "chsoff_dedupe_without_level_or_subparts"
   ]
  },
  {
   "cell_type": "markdown",
   "metadata": {},
   "source": [
    "The most common issue with data entry is the omission of subdivision data altogether where the charge actually corresponds to the first subdivision of the statute."
   ]
  },
  {
   "cell_type": "code",
   "execution_count": 49,
   "metadata": {},
   "outputs": [],
   "source": [
    "first_subdivision = chsoff_dedupe[chsoff_dedupe['_subdivision'].isin(\n",
    "    ['', '(A)', '(1)'])].copy()"
   ]
  },
  {
   "cell_type": "code",
   "execution_count": 50,
   "metadata": {},
   "outputs": [],
   "source": [
    "first_subdivision['_level_quantified'] = first_subdivision['_offense_level'].replace(\n",
    "    {'X': 0, 'I': 1, 'M': 2, 'F': 3})"
   ]
  },
  {
   "cell_type": "code",
   "execution_count": 51,
   "metadata": {},
   "outputs": [],
   "source": [
    "first_subdivision.sort_values(\n",
    "    by=['_charge_reconstructed', '_level_quantified'], inplace=True)"
   ]
  },
  {
   "cell_type": "markdown",
   "metadata": {},
   "source": [
    "#### Account for charges missing subparts, but including charge level"
   ]
  },
  {
   "cell_type": "code",
   "execution_count": 52,
   "metadata": {},
   "outputs": [],
   "source": [
    "first_subdivision_with_level = first_subdivision.drop_duplicates(\n",
    "    subset=['_code_type', '_section', '_offense_level'], keep='first'\n",
    ").copy()"
   ]
  },
  {
   "cell_type": "code",
   "execution_count": 53,
   "metadata": {},
   "outputs": [
    {
     "data": {
      "text/plain": [
       "Index(['_original_code', '_code_type', '_offense_level', '_section',\n",
       "       '_subdivision', '_paragraph', '_subparagraph', '_clause',\n",
       "       '_charge_reconstructed', '_chsoff_violent', 'enactment_data',\n",
       "       'StatuteLiteral', 'EnactDate', 'RepealAmendDate', 'statute_object',\n",
       "       '_level_data', '_level_and_subpart_data', '_level_quantified'],\n",
       "      dtype='object')"
      ]
     },
     "execution_count": 53,
     "metadata": {},
     "output_type": "execute_result"
    }
   ],
   "source": [
    "first_subdivision.columns"
   ]
  },
  {
   "cell_type": "markdown",
   "metadata": {},
   "source": [
    "#### Account for charges missing both subparts and charge level"
   ]
  },
  {
   "cell_type": "code",
   "execution_count": 54,
   "metadata": {},
   "outputs": [],
   "source": [
    "first_subdivision_without_level = first_subdivision.drop_duplicates(\n",
    "    subset=['_code_type', '_section'], keep='first'\n",
    ")[['_original_code', '_code_type', '_section', '_charge_reconstructed',\n",
    "   '_chsoff_violent', 'StatuteLiteral', 'statute_object', '_level_data']].copy()"
   ]
  },
  {
   "cell_type": "code",
   "execution_count": 55,
   "metadata": {},
   "outputs": [],
   "source": [
    "ignoring_subparts = pd.concat(\n",
    "    [first_subdivision_with_level, first_subdivision_without_level], ignore_index=True)"
   ]
  },
  {
   "cell_type": "code",
   "execution_count": 56,
   "metadata": {},
   "outputs": [
    {
     "data": {
      "text/html": [
       "<div>\n",
       "<style scoped>\n",
       "    .dataframe tbody tr th:only-of-type {\n",
       "        vertical-align: middle;\n",
       "    }\n",
       "\n",
       "    .dataframe tbody tr th {\n",
       "        vertical-align: top;\n",
       "    }\n",
       "\n",
       "    .dataframe thead th {\n",
       "        text-align: right;\n",
       "    }\n",
       "</style>\n",
       "<table border=\"1\" class=\"dataframe\">\n",
       "  <thead>\n",
       "    <tr style=\"text-align: right;\">\n",
       "      <th></th>\n",
       "      <th>_original_code</th>\n",
       "      <th>_code_type</th>\n",
       "      <th>_offense_level</th>\n",
       "      <th>_section</th>\n",
       "      <th>_subdivision</th>\n",
       "      <th>_paragraph</th>\n",
       "      <th>_subparagraph</th>\n",
       "      <th>_clause</th>\n",
       "      <th>_charge_reconstructed</th>\n",
       "      <th>_chsoff_violent</th>\n",
       "      <th>enactment_data</th>\n",
       "      <th>StatuteLiteral</th>\n",
       "      <th>EnactDate</th>\n",
       "      <th>RepealAmendDate</th>\n",
       "      <th>statute_object</th>\n",
       "      <th>_level_data</th>\n",
       "      <th>_level_and_subpart_data</th>\n",
       "      <th>_level_quantified</th>\n",
       "    </tr>\n",
       "  </thead>\n",
       "  <tbody>\n",
       "  </tbody>\n",
       "</table>\n",
       "</div>"
      ],
      "text/plain": [
       "Empty DataFrame\n",
       "Columns: [_original_code, _code_type, _offense_level, _section, _subdivision, _paragraph, _subparagraph, _clause, _charge_reconstructed, _chsoff_violent, enactment_data, StatuteLiteral, EnactDate, RepealAmendDate, statute_object, _level_data, _level_and_subpart_data, _level_quantified]\n",
       "Index: []"
      ]
     },
     "execution_count": 56,
     "metadata": {},
     "output_type": "execute_result"
    }
   ],
   "source": [
    "ignoring_subparts[ignoring_subparts.duplicated(\n",
    "    subset=['_code_type', '_section', '_offense_level'], keep=False)]"
   ]
  },
  {
   "cell_type": "code",
   "execution_count": 57,
   "metadata": {},
   "outputs": [],
   "source": [
    "ignoring_subparts.to_json(\n",
    "    '../01_inputs/processed/c01_chsoff_ignoring_subparts.json', date_format='iso', date_unit='s')"
   ]
  }
 ],
 "metadata": {
  "kernelspec": {
   "display_name": "Python 3 (ipykernel)",
   "language": "python",
   "name": "python3"
  },
  "language_info": {
   "codemirror_mode": {
    "name": "ipython",
    "version": 3
   },
   "file_extension": ".py",
   "mimetype": "text/x-python",
   "name": "python",
   "nbconvert_exporter": "python",
   "pygments_lexer": "ipython3",
   "version": "3.8.5"
  }
 },
 "nbformat": 4,
 "nbformat_minor": 4
}
