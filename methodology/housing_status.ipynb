{
 "cells": [
  {
   "cell_type": "code",
   "execution_count": 1,
   "id": "b35d3b23-6427-43da-adac-2f4969a86206",
   "metadata": {},
   "outputs": [],
   "source": [
    "import sys\n",
    "\n",
    "# append the directory of law module to sys.path list\n",
    "sys.path.append('../modules/')"
   ]
  },
  {
   "cell_type": "code",
   "execution_count": 2,
   "id": "0529e6c6-00a4-4331-a60b-8fba62d676a9",
   "metadata": {},
   "outputs": [],
   "source": [
    "from pathlib import Path\n",
    "\n",
    "import arrest\n",
    "import pandas as pd"
   ]
  },
  {
   "cell_type": "markdown",
   "id": "028f0364-a967-4af4-aab9-521d4dd316a3",
   "metadata": {},
   "source": [
    "## Generate fake DataFrame"
   ]
  },
  {
   "cell_type": "code",
   "execution_count": 3,
   "id": "58fcc8c3-cc56-4e52-821b-cdf734f44f72",
   "metadata": {},
   "outputs": [],
   "source": [
    "fake_data = [{'Arrest ID': 'EABE_2641', 'Street Address': 'UNKNOWN'},\n",
    "             {'Arrest ID': 'QITO_3780', 'Street Address': 'PO B 1234'},\n",
    "             {'Arrest ID': '8RZH_6339', 'Street Address': 'TRANSIENT GD HWY'},\n",
    "             {'Arrest ID': 'VZ2L_8354', 'Street Address': '714 4th Rd.'},\n",
    "             {'Arrest ID': 'UD2Y_5453', 'Street Address': 'TANSIENT'},\n",
    "             {'Arrest ID': 'QSIG_1745', 'Street Address': '864 Park Rd.'},\n",
    "             {'Arrest ID': 'CXMS_4392', 'Street Address': ''},\n",
    "             {'Arrest ID': 'CXMS_4392', 'Street Address': '3647 Pine Rd.'},\n",
    "             {'Arrest ID': 'MWO9_2179', 'Street Address': 'TRANSEINT'},\n",
    "             {'Arrest ID': 'MGOZ_6829', 'Street Address': ''},\n",
    "             {'Arrest ID': 'UMDR_7294', 'Street Address': '8507 First Ct.'},\n",
    "             {'Arrest ID': 'XZGK_1786', 'Street Address': '9127 Oak Pl'},\n",
    "             {'Arrest ID': 'M0OF_7566', 'Street Address': 'TRANSIENT'},\n",
    "             {'Arrest ID': 'WXMU_5528', 'Street Address': 'GENERAL DELIVERY'},\n",
    "             {'Arrest ID': 'BBJ5_6702', 'Street Address': 'HOMELESS'},\n",
    "             {'Arrest ID': 'F4YT_7829', 'Street Address': '12319   Main Rd.'},\n",
    "             {'Arrest ID': 'XJJE_8818', 'Street Address': 'P O BOX 1234'},\n",
    "             {'Arrest ID': '3RB1_2221', 'Street Address': 'UNKNOWN 102'},\n",
    "             {'Arrest ID': 'KE7N_9749', 'Street Address': 'TRANSINET'},\n",
    "             {'Arrest ID': 'OGJ5_5598', 'Street Address': 'REFUSED'}]"
   ]
  },
  {
   "cell_type": "code",
   "execution_count": 4,
   "id": "ade2462f-04da-40a2-b3bc-614362cae67e",
   "metadata": {},
   "outputs": [],
   "source": [
    "df = pd.DataFrame(fake_data)"
   ]
  },
  {
   "cell_type": "code",
   "execution_count": 5,
   "id": "c60f2d8a-d24e-407e-a034-74b744c5d794",
   "metadata": {},
   "outputs": [
    {
     "data": {
      "text/html": [
       "<div>\n",
       "<style scoped>\n",
       "    .dataframe tbody tr th:only-of-type {\n",
       "        vertical-align: middle;\n",
       "    }\n",
       "\n",
       "    .dataframe tbody tr th {\n",
       "        vertical-align: top;\n",
       "    }\n",
       "\n",
       "    .dataframe thead th {\n",
       "        text-align: right;\n",
       "    }\n",
       "</style>\n",
       "<table border=\"1\" class=\"dataframe\">\n",
       "  <thead>\n",
       "    <tr style=\"text-align: right;\">\n",
       "      <th></th>\n",
       "      <th>Arrest ID</th>\n",
       "      <th>Street Address</th>\n",
       "    </tr>\n",
       "  </thead>\n",
       "  <tbody>\n",
       "    <tr>\n",
       "      <th>0</th>\n",
       "      <td>EABE_2641</td>\n",
       "      <td>UNKNOWN</td>\n",
       "    </tr>\n",
       "    <tr>\n",
       "      <th>1</th>\n",
       "      <td>QITO_3780</td>\n",
       "      <td>PO B 1234</td>\n",
       "    </tr>\n",
       "    <tr>\n",
       "      <th>2</th>\n",
       "      <td>8RZH_6339</td>\n",
       "      <td>TRANSIENT GD HWY</td>\n",
       "    </tr>\n",
       "    <tr>\n",
       "      <th>3</th>\n",
       "      <td>VZ2L_8354</td>\n",
       "      <td>714 4th Rd.</td>\n",
       "    </tr>\n",
       "    <tr>\n",
       "      <th>4</th>\n",
       "      <td>UD2Y_5453</td>\n",
       "      <td>TANSIENT</td>\n",
       "    </tr>\n",
       "  </tbody>\n",
       "</table>\n",
       "</div>"
      ],
      "text/plain": [
       "   Arrest ID    Street Address\n",
       "0  EABE_2641           UNKNOWN\n",
       "1  QITO_3780         PO B 1234\n",
       "2  8RZH_6339  TRANSIENT GD HWY\n",
       "3  VZ2L_8354       714 4th Rd.\n",
       "4  UD2Y_5453          TANSIENT"
      ]
     },
     "execution_count": 5,
     "metadata": {},
     "output_type": "execute_result"
    }
   ],
   "source": [
    "df.head()"
   ]
  },
  {
   "cell_type": "markdown",
   "id": "fa53016f-52cb-4c98-a168-7bbb0cd6fc46",
   "metadata": {
    "tags": []
   },
   "source": [
    "## Normalize text"
   ]
  },
  {
   "cell_type": "code",
   "execution_count": 6,
   "id": "ba355b7c-8196-457f-a060-883c3b88e55c",
   "metadata": {},
   "outputs": [
    {
     "name": "stdout",
     "output_type": "stream",
     "text": [
      "Help on function normalize_text in module arrest:\n",
      "\n",
      "normalize_text(value, punctuation=False)\n",
      "    Optionally removes punctuation, removes redundant whitespace, normalizes case\n",
      "    \n",
      "    Parameters\n",
      "    ----------\n",
      "    value : str\n",
      "        The string to operate on\n",
      "    punctuation : bool, default False\n",
      "        If True, sub any punctuation character with whitespace\n",
      "    \n",
      "    Returns\n",
      "    -------\n",
      "    str\n",
      "    \n",
      "    Examples\n",
      "    --------\n",
      "    >>> clean_string('1400   alder dr. ', punctuation=True)\n",
      "    '1400 ALDER DR'\n",
      "    \n",
      "    >>> clean_string('P.O. Box 123', punctuation=True)\n",
      "    'PO BOX 1234'\n",
      "    \n",
      "    >>> clean_string('P.O. Box 123')\n",
      "    'P.O. BOX 1234'\n",
      "\n"
     ]
    }
   ],
   "source": [
    "help(arrest.normalize_text)"
   ]
  },
  {
   "cell_type": "code",
   "execution_count": 7,
   "id": "5214f2d2-c72f-490c-b335-3cdd7c7b04ec",
   "metadata": {},
   "outputs": [],
   "source": [
    "df['_normalized_street_address'] = df['Street Address'].apply(\n",
    "    lambda x: arrest.normalize_text(x, punctuation=True)\n",
    ")"
   ]
  },
  {
   "cell_type": "markdown",
   "id": "d80ebd38-9069-4c2a-a651-d546bf454a5c",
   "metadata": {},
   "source": [
    "### Example regex search"
   ]
  },
  {
   "cell_type": "code",
   "execution_count": 8,
   "id": "a2c3b862-a2e3-425d-821d-2adcbf24aab6",
   "metadata": {},
   "outputs": [],
   "source": [
    "def categorize_from_regex(category, data, field):\n",
    "    \"\"\"Searches an address field with a particular regular expression (can just\n",
    "    be a string) and prompts user for manual review. If accepted, appends each address,\n",
    "    its category, and the expression matched to a line in a CSV file.\n",
    "\n",
    "        Parameters\n",
    "        ----------\n",
    "        category : str\n",
    "            The category to assign to any addresses matching on this expression,\n",
    "            typically \"unhoused,\" \"unknown,\" or \"po_box.\"\n",
    "\n",
    "        data : pd.DataFrame\n",
    "            The DataFrame to search.\n",
    "            \n",
    "        field : single label\n",
    "            The label of the column to search within.\n",
    "\n",
    "\n",
    "        Returns\n",
    "        -------\n",
    "        None\n",
    "    \"\"\"\n",
    "    try:\n",
    "        cat_df = pd.read_csv(\n",
    "            f'outputs/categorized_addresses.csv',\n",
    "            sep='\\t',\n",
    "            header=None,\n",
    "            names=['_street_address', '_category', '_expression_matched'],\n",
    "            dtype=str,\n",
    "        )\n",
    "        category_subset = cat_df[cat_df['_category'] == category]\n",
    "        category_addresses = list(category_subset['_street_address'])\n",
    "        terms_used = list(set(category_subset['_expression_matched']))\n",
    "        print(\n",
    "            f'Categorized addresses found. Expressions already used: {\",\".join(terms_used)}'\n",
    "        )\n",
    "    except IOError:\n",
    "        print('No file for categorized addresses found.\\nStarting fresh.')\n",
    "        Path(f'outputs/categorized_addresses.csv').touch()\n",
    "        category_addresses = []\n",
    "        terms_used = []\n",
    "    term = input('Enter search expression:\\n').upper()\n",
    "    if term in terms_used:\n",
    "        print('Expression already used.')\n",
    "        return None\n",
    "    else:\n",
    "        categorized_filter = df['Street Address'].isin(category_addresses)\n",
    "        search_filter = df['Street Address'].str.contains(\n",
    "            f'{term}', regex=True)\n",
    "        results = df[(search_filter) & (~categorized_filter)]\n",
    "    if len(results) > 0:\n",
    "        print(\n",
    "            results.groupby('Street Address', dropna=False)['Arrest ID']\n",
    "            .nunique()\n",
    "            .sort_values()\n",
    "        )\n",
    "        next_step = input(\n",
    "            f'Append all results under category \"{category}\"? y/n\\n')\n",
    "        if next_step == 'y':\n",
    "            reviewed_results = list(set(results['Street Address']))\n",
    "            export_str = ''.join(\n",
    "                [f\"{x}\\t{category}\\t{term}\\n\" for x in reviewed_results]\n",
    "            )\n",
    "            with open(f'outputs/categorized_addresses.csv', 'a') as file:\n",
    "                file.write(export_str)\n",
    "            print(\n",
    "                f'{len(reviewed_results)} addresses added to categorized_addresses.csv.'\n",
    "            )\n",
    "            category_addresses.extend(reviewed_results)\n",
    "            terms_used.append(term)\n",
    "        else:\n",
    "            print(f'Starting over. Last term searched: \"{term}\"\\n')\n",
    "    else:\n",
    "        print(f'\"{term}\" returned no results.')"
   ]
  },
  {
   "cell_type": "code",
   "execution_count": 9,
   "id": "d6a88c26-5cb7-471a-b93b-5b650abefe8e",
   "metadata": {},
   "outputs": [],
   "source": [
    "categorize_from_regex('unknown', df)"
   ]
  }
 ],
 "metadata": {
  "kernelspec": {
   "display_name": "Python 3 (ipykernel)",
   "language": "python",
   "name": "python3"
  },
  "language_info": {
   "codemirror_mode": {
    "name": "ipython",
    "version": 3
   },
   "file_extension": ".py",
   "mimetype": "text/x-python",
   "name": "python",
   "nbconvert_exporter": "python",
   "pygments_lexer": "ipython3",
   "version": "3.8.5"
  }
 },
 "nbformat": 4,
 "nbformat_minor": 5
}
