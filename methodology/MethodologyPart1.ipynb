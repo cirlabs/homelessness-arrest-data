{
 "cells": [
  {
   "cell_type": "code",
   "execution_count": 1,
   "id": "6ff56ef7-c9fd-4c15-a92e-a3f56cf8e851",
   "metadata": {},
   "outputs": [],
   "source": [
    "import sys\n",
    "\n",
    "# append the directory of law module to sys.path list\n",
    "sys.path.append('../modules/')"
   ]
  },
  {
   "cell_type": "code",
   "execution_count": 2,
   "id": "7736f654-1029-48f4-8b3c-1542056ab900",
   "metadata": {},
   "outputs": [],
   "source": [
    "import altair as alt\n",
    "import arrest\n",
    "import charge\n",
    "import law\n",
    "import pandas as pd"
   ]
  },
  {
   "cell_type": "markdown",
   "id": "64b3ac1c-ac27-4df8-b4a3-69f0f5d94539",
   "metadata": {},
   "source": [
    "# Cross-city comparisons\n",
    "\n",
    "## Decision: Date range\n",
    "\n",
    "I received data from six cities in time for the story. I'd requested ten years from each, but:\n",
    "\n",
    "- Portland charged several hundred dollars for even this ~4-year subset.\n",
    "- Oakland's began with 2010 because we sued for the data and so fulfillment started later than for other cities.\n",
    "- San Diego could only provide data as far back as 2013, and fulfilled the request earlier than other cities (September 2020).\n",
    "- Seattle could only provide data as far back as May 2019.\n",
    "\n",
    "### Approach: Compare a subset of \"recent\" dates\n",
    "\n",
    "In the radio show, I cited specifics only for Portland, so I used the full range of data the agency provided. I have since compared arrests among cities for **2017 through the end of 2020**, where possible."
   ]
  },
  {
   "cell_type": "markdown",
   "id": "d649ac95-e29c-415e-9e9b-ec7cdc71aeb7",
   "metadata": {},
   "source": [
    "![arrest_dates](visuals/arrest_dates.png)"
   ]
  },
  {
   "cell_type": "markdown",
   "id": "73be4d56-d1e3-49cf-9700-282db2351c69",
   "metadata": {},
   "source": [
    "### Concerns\n",
    "\n",
    "#### San Diego\n",
    "\n",
    "San Diego is short three months (ending September 2020). \n",
    "\n",
    "- For the purpose of visualization, **my approach is to include San Diego and add a note about San Diego in chart methodologies**.\n",
    "\n",
    "\n",
    "#### Seattle\n",
    "\n",
    "-  Seattle is short by much more; with a uniform end date of December 2020, Seattle represents 18 months of data. For the purpose of visualization, **my approach is also to include Seattle and add a note in chart methodologies.**"
   ]
  },
  {
   "cell_type": "markdown",
   "id": "f822d4dd-ffbd-45fb-9719-2f2222d45d87",
   "metadata": {},
   "source": [
    "![arrests_by_housing](visuals/arrests_by_housing_status.png)"
   ]
  },
  {
   "cell_type": "markdown",
   "id": "0fb6da5e-4848-4e6a-bff8-be8e00e41d15",
   "metadata": {},
   "source": [
    "\n",
    "##### Alternative approaches\n",
    "\n",
    "  - Exclude Seattle altogether, which I would prefer not to do.\n",
    "  - Start analysis at a later date, proceeding through December 2020.\n",
    "  - Reduce analysis to June 2019 through December 2020 for every city, which also presents a problem because of the pandemic."
   ]
  },
  {
   "cell_type": "markdown",
   "id": "beef61c5-4b4d-4c17-a743-3b70f2132e86",
   "metadata": {},
   "source": [
    "![percentage_points](visuals/pct_diff_arrests_by_housing_status.png)"
   ]
  },
  {
   "cell_type": "markdown",
   "id": "e6cb84c5-c6d7-4fcd-9944-0c96700c9ceb",
   "metadata": {},
   "source": [
    "## Decision: Juvenile data\n",
    "\n",
    "Some cities did not provide data on arrests of minors.\n",
    "\n",
    "### Approach: Exclude all arrests of people who were under age 18 when they were arrested."
   ]
  },
  {
   "cell_type": "markdown",
   "id": "ed56b677-4fa0-485d-b140-edc01dd0e887",
   "metadata": {},
   "source": [
    "## Decision: Categorizing housing status\n",
    "\n",
    "### No address information\n",
    "\n",
    "#### Approach:\n",
    "\n",
    "Separate each city into unhoused, housed, and no information. Though I'd requested arrests per se, it appears that Los Angeles also provided citation data, as thousands of entries had no jail booking number attached. Before I excluded these, \"no information\" arrests made up 28% of LAPD arrests between 2017 and 2020. After I excluded these, \"no information\" arrests dropped to <1%.\n",
    "\n",
    "\n",
    "The arrest percentage by housing status chart again:\n",
    "\n",
    "![arrests_by_housing](visuals/arrests_by_housing_status.png)"
   ]
  },
  {
   "cell_type": "markdown",
   "id": "8106d1b7-999f-4737-8f20-3b8c24187f1e",
   "metadata": {},
   "source": [
    "#### Concern\n",
    "\n",
    "I followed up with the San Diego Police Department public records administrator about the arrest data I received, and she reiterated that the city did not send citation data.\n",
    "\n",
    "> The San Diego Police Department has confirmed that the records provided only include arrests as requested.\n",
    "\n",
    "However, the \"no information\" proportion of arrests in this data is much higher than in any other city. I asked the same administrator about this April 28th, but as of today (May 5th, 2022), I have not received a response. I also contacted Seattle about its high proportion of such arrests and have also not received a response."
   ]
  },
  {
   "cell_type": "markdown",
   "id": "fed8f787-f469-452a-af55-26f729f9d757",
   "metadata": {
    "tags": []
   },
   "source": [
    "### Categorization: Regex"
   ]
  },
  {
   "cell_type": "markdown",
   "id": "e76973ea-88b9-4a60-8963-d2fd39067324",
   "metadata": {},
   "source": [
    "#### Approach, 'Unhoused'\n",
    "\n",
    "I categorized arrest subjects as unhoused if their recorded address:"
   ]
  },
  {
   "cell_type": "code",
   "execution_count": 3,
   "id": "0098e009-dec6-4968-9150-f0b5fb0a3134",
   "metadata": {},
   "outputs": [],
   "source": [
    "regex_df = pd.read_csv('example_data/unhoused_regex.csv', dtype=str)"
   ]
  },
  {
   "cell_type": "markdown",
   "id": "efca56d7-96c4-4729-a54f-d73fe342c79f",
   "metadata": {},
   "source": [
    "- **was** or **contained**:\n",
    "  - \"homeless\" or \"transient\" or what I deemed to be typos thereof.\n",
    "    - `0 TRANSIENT`, `299 17TH STREET TRANSIENT`"
   ]
  },
  {
   "cell_type": "code",
   "execution_count": 4,
   "id": "fc1fac55-1580-4cfa-9a77-5e8c2936cbfb",
   "metadata": {},
   "outputs": [
    {
     "data": {
      "text/html": [
       "<div>\n",
       "<style scoped>\n",
       "    .dataframe tbody tr th:only-of-type {\n",
       "        vertical-align: middle;\n",
       "    }\n",
       "\n",
       "    .dataframe tbody tr th {\n",
       "        vertical-align: top;\n",
       "    }\n",
       "\n",
       "    .dataframe thead th {\n",
       "        text-align: right;\n",
       "    }\n",
       "</style>\n",
       "<table border=\"1\" class=\"dataframe\">\n",
       "  <thead>\n",
       "    <tr style=\"text-align: right;\">\n",
       "      <th></th>\n",
       "      <th>city</th>\n",
       "      <th>_street_address</th>\n",
       "    </tr>\n",
       "  </thead>\n",
       "  <tbody>\n",
       "    <tr>\n",
       "      <th>0</th>\n",
       "      <td>San Diego</td>\n",
       "      <td>NONE TRANSIENT</td>\n",
       "    </tr>\n",
       "    <tr>\n",
       "      <th>1</th>\n",
       "      <td>Oakland</td>\n",
       "      <td>TRAINSENT</td>\n",
       "    </tr>\n",
       "    <tr>\n",
       "      <th>2</th>\n",
       "      <td>Los Angeles</td>\n",
       "      <td>1942 TRANSUEBT</td>\n",
       "    </tr>\n",
       "    <tr>\n",
       "      <th>3</th>\n",
       "      <td>Seattle</td>\n",
       "      <td>00000 HOMELESS SEATTLE, WA 98104</td>\n",
       "    </tr>\n",
       "    <tr>\n",
       "      <th>4</th>\n",
       "      <td>Portland</td>\n",
       "      <td>HOMELESS</td>\n",
       "    </tr>\n",
       "  </tbody>\n",
       "</table>\n",
       "</div>"
      ],
      "text/plain": [
       "          city                   _street_address\n",
       "0    San Diego                    NONE TRANSIENT\n",
       "1      Oakland                         TRAINSENT\n",
       "2  Los Angeles                    1942 TRANSUEBT\n",
       "3      Seattle  00000 HOMELESS SEATTLE, WA 98104\n",
       "4     Portland                          HOMELESS"
      ]
     },
     "execution_count": 4,
     "metadata": {},
     "output_type": "execute_result"
    }
   ],
   "source": [
    "regex_df[regex_df['_street_address'].str.contains('T[A-Z]+T|H[A-Z]+SS')].head()"
   ]
  },
  {
   "cell_type": "markdown",
   "id": "55b40e4b-b686-498e-bab8-1ca39d0d9278",
   "metadata": {},
   "source": [
    "  - The name of a social service or emergency shelter"
   ]
  },
  {
   "cell_type": "code",
   "execution_count": 5,
   "id": "104c7f0b-8f38-488e-9576-65077aeacb9f",
   "metadata": {},
   "outputs": [
    {
     "data": {
      "text/html": [
       "<div>\n",
       "<style scoped>\n",
       "    .dataframe tbody tr th:only-of-type {\n",
       "        vertical-align: middle;\n",
       "    }\n",
       "\n",
       "    .dataframe tbody tr th {\n",
       "        vertical-align: top;\n",
       "    }\n",
       "\n",
       "    .dataframe thead th {\n",
       "        text-align: right;\n",
       "    }\n",
       "</style>\n",
       "<table border=\"1\" class=\"dataframe\">\n",
       "  <thead>\n",
       "    <tr style=\"text-align: right;\">\n",
       "      <th></th>\n",
       "      <th>city</th>\n",
       "      <th>_street_address</th>\n",
       "    </tr>\n",
       "  </thead>\n",
       "  <tbody>\n",
       "    <tr>\n",
       "      <th>20</th>\n",
       "      <td>Seattle</td>\n",
       "      <td>1234 GENERAL DELIVERY SEATTLE, WA 98101</td>\n",
       "    </tr>\n",
       "    <tr>\n",
       "      <th>30</th>\n",
       "      <td>Seattle</td>\n",
       "      <td>99999 GENERAL DELIVERY SEATTLE, WA 98105</td>\n",
       "    </tr>\n",
       "    <tr>\n",
       "      <th>46</th>\n",
       "      <td>Seattle</td>\n",
       "      <td>9999 GENERAL DELIVERY BREMERTON, WA 98337</td>\n",
       "    </tr>\n",
       "    <tr>\n",
       "      <th>51</th>\n",
       "      <td>Oakland</td>\n",
       "      <td>GENERAL DELIVERY</td>\n",
       "    </tr>\n",
       "    <tr>\n",
       "      <th>53</th>\n",
       "      <td>Sacramento</td>\n",
       "      <td>GENERAL DELLIVERY</td>\n",
       "    </tr>\n",
       "  </tbody>\n",
       "</table>\n",
       "</div>"
      ],
      "text/plain": [
       "          city                            _street_address\n",
       "20     Seattle    1234 GENERAL DELIVERY SEATTLE, WA 98101\n",
       "30     Seattle   99999 GENERAL DELIVERY SEATTLE, WA 98105\n",
       "46     Seattle  9999 GENERAL DELIVERY BREMERTON, WA 98337\n",
       "51     Oakland                           GENERAL DELIVERY\n",
       "53  Sacramento                          GENERAL DELLIVERY"
      ]
     },
     "execution_count": 5,
     "metadata": {},
     "output_type": "execute_result"
    }
   ],
   "source": [
    "regex_df[regex_df['_street_address'].str.contains('GENERAL')].head()"
   ]
  },
  {
   "cell_type": "code",
   "execution_count": 6,
   "id": "9f19174c-fcad-49f4-9b53-73799b403b97",
   "metadata": {},
   "outputs": [
    {
     "data": {
      "text/html": [
       "<div>\n",
       "<style scoped>\n",
       "    .dataframe tbody tr th:only-of-type {\n",
       "        vertical-align: middle;\n",
       "    }\n",
       "\n",
       "    .dataframe tbody tr th {\n",
       "        vertical-align: top;\n",
       "    }\n",
       "\n",
       "    .dataframe thead th {\n",
       "        text-align: right;\n",
       "    }\n",
       "</style>\n",
       "<table border=\"1\" class=\"dataframe\">\n",
       "  <thead>\n",
       "    <tr style=\"text-align: right;\">\n",
       "      <th></th>\n",
       "      <th>city</th>\n",
       "      <th>_street_address</th>\n",
       "    </tr>\n",
       "  </thead>\n",
       "  <tbody>\n",
       "    <tr>\n",
       "      <th>131</th>\n",
       "      <td>Oakland</td>\n",
       "      <td>CITY TEAM SHELTER</td>\n",
       "    </tr>\n",
       "  </tbody>\n",
       "</table>\n",
       "</div>"
      ],
      "text/plain": [
       "        city    _street_address\n",
       "131  Oakland  CITY TEAM SHELTER"
      ]
     },
     "execution_count": 6,
     "metadata": {},
     "output_type": "execute_result"
    }
   ],
   "source": [
    "regex_df[regex_df['_street_address'].str.contains('CITY TEAM')].head()"
   ]
  },
  {
   "cell_type": "markdown",
   "id": "2d465ebf-5243-4002-9035-a1a256b67e14",
   "metadata": {},
   "source": [
    "  - The name of or reference to a correctional facility"
   ]
  },
  {
   "cell_type": "code",
   "execution_count": 7,
   "id": "a484ffe6-e7c4-407f-90f9-087187010c34",
   "metadata": {},
   "outputs": [
    {
     "data": {
      "text/html": [
       "<div>\n",
       "<style scoped>\n",
       "    .dataframe tbody tr th:only-of-type {\n",
       "        vertical-align: middle;\n",
       "    }\n",
       "\n",
       "    .dataframe tbody tr th {\n",
       "        vertical-align: top;\n",
       "    }\n",
       "\n",
       "    .dataframe thead th {\n",
       "        text-align: right;\n",
       "    }\n",
       "</style>\n",
       "<table border=\"1\" class=\"dataframe\">\n",
       "  <thead>\n",
       "    <tr style=\"text-align: right;\">\n",
       "      <th></th>\n",
       "      <th>city</th>\n",
       "      <th>_street_address</th>\n",
       "    </tr>\n",
       "  </thead>\n",
       "  <tbody>\n",
       "    <tr>\n",
       "      <th>315</th>\n",
       "      <td>Sacramento</td>\n",
       "      <td>DVI STATE PRISON</td>\n",
       "    </tr>\n",
       "    <tr>\n",
       "      <th>558</th>\n",
       "      <td>Oakland</td>\n",
       "      <td>CONTRA COSTA JAIL</td>\n",
       "    </tr>\n",
       "    <tr>\n",
       "      <th>583</th>\n",
       "      <td>Sacramento</td>\n",
       "      <td>1 CDCRSTATE PRISON</td>\n",
       "    </tr>\n",
       "    <tr>\n",
       "      <th>685</th>\n",
       "      <td>Oakland</td>\n",
       "      <td>SANTA CLARA COUNTY JAIL</td>\n",
       "    </tr>\n",
       "    <tr>\n",
       "      <th>737</th>\n",
       "      <td>Oakland</td>\n",
       "      <td>SAN FRANCISCO COUNTY JAIL</td>\n",
       "    </tr>\n",
       "  </tbody>\n",
       "</table>\n",
       "</div>"
      ],
      "text/plain": [
       "           city            _street_address\n",
       "315  Sacramento           DVI STATE PRISON\n",
       "558     Oakland          CONTRA COSTA JAIL\n",
       "583  Sacramento         1 CDCRSTATE PRISON\n",
       "685     Oakland    SANTA CLARA COUNTY JAIL\n",
       "737     Oakland  SAN FRANCISCO COUNTY JAIL"
      ]
     },
     "execution_count": 7,
     "metadata": {},
     "output_type": "execute_result"
    }
   ],
   "source": [
    "regex_df[regex_df['_street_address'].str.contains('JAIL|PRISON|RCCC')].head()"
   ]
  },
  {
   "cell_type": "markdown",
   "id": "de2cf56f-45f6-42eb-a5a2-76927fe0ce02",
   "metadata": {},
   "source": [
    "- **corresponded to an address of**:\n",
    "  - a social service or emergency shelter\n",
    "    - `5130 LEARY SEATTLE` ([Ballard Food Bank](https://www.ballardfoodbank.org/))\n",
    "  - a government-run social service\n",
    "    - `2415 W 6TH ST` ([LA County Department of Social Services](http://my.dpss.lacounty.gov/dpss/offices/default.cfm?orgid=336))"
   ]
  },
  {
   "cell_type": "markdown",
   "id": "0dde9e5b-e481-4400-9948-dcc733923e0e",
   "metadata": {},
   "source": [
    "#### Approach, 'Housed'\n",
    "\n",
    "I used regular expressions to find PO Boxes as well, because they're an easy pattern to match and it would save a lot of time and/or money on geocoding services. **I categorized arrests for which addresses were specific PO Box numbers as 'Housed.'**\n",
    "\n",
    "##### Concern\n",
    "\n",
    "I can't know what proportion of people with PO Box numbers are actually housed, but I made this decision based on two premises:\n",
    "1. PO Boxes cost money to reserve (in Portland, the cheapest size is $16 a month and the applicant has to pay for at least three months up front)\n",
    "2. [Applying](https://about.usps.com/forms/ps1093.pdf) requires two proofs of identication, one of which \"must be traceable to the bearer (prove your physical address).\""
   ]
  },
  {
   "cell_type": "markdown",
   "id": "f460d9a4-7d74-48fd-8bb1-07f8142361a4",
   "metadata": {
    "tags": []
   },
   "source": [
    "### Categorization: Geocoding\n",
    "\n",
    "#### Data quality\n",
    "\n",
    "I geocoded addresses to more efficiently normalize address fields.\n",
    "\n",
    "##### U.S. Census Bureau\n",
    "\n",
    "I geocoded addresses first by attempting to use the free (albeit slow, and less robust) U.S. Census Bureau [geocoding API]. This API returns metadata regarding whether an address matched and, if it matched, whether the match is `exact` or `inexact`. **I used the output of `exact` matches only.**\n",
    "\n",
    "##### Geocodio\n",
    "\n",
    "For the second pass, I used [Geocodio](https://www.geocod.io). Geocodio returns metadata regarding a match's `accuracy type` and `accuracy score`.\n",
    "\n",
    "Accuracy types, per [Geocodio documentation](https://www.geocod.io/guides/accuracy-types-scores/):\n",
    "\n",
    "> Accuracy types include:\n",
    "> \n",
    "> - **rooftop**: on the exact parcel\n",
    "> - **point**: generally, in front of the parcel on the street\n",
    "> - **range_interpolation**: generally, in front of the parcel on the street\n",
    "> - **nearest_rooftop_match**: the nearest rooftop point if the exact point is unavailable\n",
    "> - **intersection**: An intersection between two streets\n",
    "> - **street_center**: A central point on the street\n",
    "> - **place**: zip code or city centroid\n",
    "> - **county**: county centroid\n",
    "> - **state**: state centroid\n",
    "\n",
    "Acccuracy scores:\n",
    "\n",
    "> Accuracy scores are a reflection of the amount of differences between the input and the output. We generally recommend using results with an accuracy score above 0.8. Results below that threshold can indicate potential issues, such as formatting issues or incomplete addresses.\n",
    "> \n",
    "> - **1**: the exact input was returned\n",
    "> - **0.8**: Very close to the input with minor changes made\n",
    "> - **<0.6**: More significant changes made; use these results with caution\n",
    "\n",
    "I used the following criteria for using outputs:\n",
    "\n",
    "1. `Accuracy Type` must be `rooftop` or `range_interpolation` **and**\n",
    "2. `Accuracy Score` must be >=.76\n",
    "\n",
    "I found upon manual review that addresses were between .76 and .8 when the street names had an edit distance of about two characters, e.g. the input was `123 Brodway` and the output was `123 Broadway`."
   ]
  },
  {
   "cell_type": "markdown",
   "id": "a7f0d6f7-2ead-47a8-8e10-741ac993c4a4",
   "metadata": {},
   "source": [
    "#### Addresses to match on\n",
    "\n",
    "This is an excerpt from California's \"HUD 2021 Continuum of Care Homeless Assistance Programs Housing Inventory Count Report.\" Note that the inventory includes both emergency shelter and permanent housing:\n",
    "\n",
    "![hic](visuals/hic_report.png)"
   ]
  },
  {
   "cell_type": "markdown",
   "id": "1e5ff14c-add1-4e51-a9c5-96013b5d485b",
   "metadata": {},
   "source": [
    "HUD tracks addresses of the service providers in the [data](https://www.hudexchange.info/resource/3031/pit-and-hic-data-since-2007/) that underlies these counts."
   ]
  },
  {
   "cell_type": "code",
   "execution_count": 8,
   "id": "0185f353-0e2d-4d71-a46e-6164514705d5",
   "metadata": {},
   "outputs": [],
   "source": [
    "hic = pd.read_excel(\n",
    "    '../US/01_inputs/HUD/HIC/2019-Housing-Inventory-County-RawFile.xlsx', dtype=str)"
   ]
  },
  {
   "cell_type": "markdown",
   "id": "cede5316-0746-4df4-a814-9357ccc0e6ec",
   "metadata": {},
   "source": [
    "But the data is irregular:"
   ]
  },
  {
   "cell_type": "code",
   "execution_count": 9,
   "id": "e4f8eea5-88d2-4f22-9c58-feca5b4efb27",
   "metadata": {},
   "outputs": [
    {
     "data": {
      "text/html": [
       "<div>\n",
       "<style scoped>\n",
       "    .dataframe tbody tr th:only-of-type {\n",
       "        vertical-align: middle;\n",
       "    }\n",
       "\n",
       "    .dataframe tbody tr th {\n",
       "        vertical-align: top;\n",
       "    }\n",
       "\n",
       "    .dataframe thead th {\n",
       "        text-align: right;\n",
       "    }\n",
       "</style>\n",
       "<table border=\"1\" class=\"dataframe\">\n",
       "  <thead>\n",
       "    <tr style=\"text-align: right;\">\n",
       "      <th></th>\n",
       "      <th>address1</th>\n",
       "      <th>city</th>\n",
       "      <th>state</th>\n",
       "    </tr>\n",
       "  </thead>\n",
       "  <tbody>\n",
       "    <tr>\n",
       "      <th>4950</th>\n",
       "      <td>9251 PIONEER BLVD.</td>\n",
       "      <td>SANTA FE SPRINGS</td>\n",
       "      <td>CA</td>\n",
       "    </tr>\n",
       "    <tr>\n",
       "      <th>5473</th>\n",
       "      <td>9251 PIONEER BLVD.</td>\n",
       "      <td>SANTA FE SPRINGS</td>\n",
       "      <td>CA</td>\n",
       "    </tr>\n",
       "    <tr>\n",
       "      <th>5475</th>\n",
       "      <td>9251 PIONEER BLVD.</td>\n",
       "      <td>SANTA FE SPRINGS</td>\n",
       "      <td>CA</td>\n",
       "    </tr>\n",
       "    <tr>\n",
       "      <th>5476</th>\n",
       "      <td>9251 PIONEER BLVD.</td>\n",
       "      <td>SANTA FE SPRINGS</td>\n",
       "      <td>CA</td>\n",
       "    </tr>\n",
       "    <tr>\n",
       "      <th>5477</th>\n",
       "      <td>9251 Pioneer Blvd</td>\n",
       "      <td>Santa Fe Springs</td>\n",
       "      <td>CA</td>\n",
       "    </tr>\n",
       "    <tr>\n",
       "      <th>5478</th>\n",
       "      <td>9251 Pioneer Blvd</td>\n",
       "      <td>Santa Fe Springs</td>\n",
       "      <td>CA</td>\n",
       "    </tr>\n",
       "  </tbody>\n",
       "</table>\n",
       "</div>"
      ],
      "text/plain": [
       "                address1              city state\n",
       "4950  9251 PIONEER BLVD.  SANTA FE SPRINGS    CA\n",
       "5473  9251 PIONEER BLVD.  SANTA FE SPRINGS    CA\n",
       "5475  9251 PIONEER BLVD.  SANTA FE SPRINGS    CA\n",
       "5476  9251 PIONEER BLVD.  SANTA FE SPRINGS    CA\n",
       "5477   9251 Pioneer Blvd  Santa Fe Springs    CA\n",
       "5478   9251 Pioneer Blvd  Santa Fe Springs    CA"
      ]
     },
     "execution_count": 9,
     "metadata": {},
     "output_type": "execute_result"
    }
   ],
   "source": [
    "hic[(hic['HudNum'] == 'CA-600') & (hic['address1'].str.contains('9251'))][\n",
    "    ['address1', 'city', 'state']\n",
    "].sort_values(by=['address1'])"
   ]
  },
  {
   "cell_type": "markdown",
   "id": "d98ee12f-bc42-4178-9dfe-9d470c66684f",
   "metadata": {},
   "source": [
    "So I also geocoded all addresses of service providers that operate in the jurisdictions for which I have arrest data. I set another criterion, as well:"
   ]
  },
  {
   "cell_type": "code",
   "execution_count": 10,
   "id": "608e4200-235f-4996-8549-59f1ce94eaf5",
   "metadata": {},
   "outputs": [
    {
     "data": {
      "text/html": [
       "<div>\n",
       "<style scoped>\n",
       "    .dataframe tbody tr th:only-of-type {\n",
       "        vertical-align: middle;\n",
       "    }\n",
       "\n",
       "    .dataframe tbody tr th {\n",
       "        vertical-align: top;\n",
       "    }\n",
       "\n",
       "    .dataframe thead th {\n",
       "        text-align: right;\n",
       "    }\n",
       "</style>\n",
       "<table border=\"1\" class=\"dataframe\">\n",
       "  <thead>\n",
       "    <tr style=\"text-align: right;\">\n",
       "      <th></th>\n",
       "      <th>Organization Name</th>\n",
       "      <th>address1</th>\n",
       "      <th>city</th>\n",
       "      <th>state</th>\n",
       "      <th>Project Type</th>\n",
       "    </tr>\n",
       "  </thead>\n",
       "  <tbody>\n",
       "    <tr>\n",
       "      <th>4950</th>\n",
       "      <td>Community Development Commission of the County...</td>\n",
       "      <td>9251 PIONEER BLVD.</td>\n",
       "      <td>SANTA FE SPRINGS</td>\n",
       "      <td>CA</td>\n",
       "      <td>RRH</td>\n",
       "    </tr>\n",
       "    <tr>\n",
       "      <th>5473</th>\n",
       "      <td>The Whole Child</td>\n",
       "      <td>9251 PIONEER BLVD.</td>\n",
       "      <td>SANTA FE SPRINGS</td>\n",
       "      <td>CA</td>\n",
       "      <td>PSH</td>\n",
       "    </tr>\n",
       "    <tr>\n",
       "      <th>5475</th>\n",
       "      <td>The Whole Child</td>\n",
       "      <td>9251 PIONEER BLVD.</td>\n",
       "      <td>SANTA FE SPRINGS</td>\n",
       "      <td>CA</td>\n",
       "      <td>RRH</td>\n",
       "    </tr>\n",
       "    <tr>\n",
       "      <th>5476</th>\n",
       "      <td>The Whole Child</td>\n",
       "      <td>9251 PIONEER BLVD.</td>\n",
       "      <td>SANTA FE SPRINGS</td>\n",
       "      <td>CA</td>\n",
       "      <td>RRH</td>\n",
       "    </tr>\n",
       "    <tr>\n",
       "      <th>5477</th>\n",
       "      <td>The Whole Child</td>\n",
       "      <td>9251 Pioneer Blvd</td>\n",
       "      <td>Santa Fe Springs</td>\n",
       "      <td>CA</td>\n",
       "      <td>ES</td>\n",
       "    </tr>\n",
       "    <tr>\n",
       "      <th>5478</th>\n",
       "      <td>The Whole Child</td>\n",
       "      <td>9251 Pioneer Blvd</td>\n",
       "      <td>Santa Fe Springs</td>\n",
       "      <td>CA</td>\n",
       "      <td>RRH</td>\n",
       "    </tr>\n",
       "  </tbody>\n",
       "</table>\n",
       "</div>"
      ],
      "text/plain": [
       "                                      Organization Name            address1  \\\n",
       "4950  Community Development Commission of the County...  9251 PIONEER BLVD.   \n",
       "5473                                    The Whole Child  9251 PIONEER BLVD.   \n",
       "5475                                    The Whole Child  9251 PIONEER BLVD.   \n",
       "5476                                    The Whole Child  9251 PIONEER BLVD.   \n",
       "5477                                    The Whole Child   9251 Pioneer Blvd   \n",
       "5478                                    The Whole Child   9251 Pioneer Blvd   \n",
       "\n",
       "                  city state Project Type  \n",
       "4950  SANTA FE SPRINGS    CA          RRH  \n",
       "5473  SANTA FE SPRINGS    CA          PSH  \n",
       "5475  SANTA FE SPRINGS    CA          RRH  \n",
       "5476  SANTA FE SPRINGS    CA          RRH  \n",
       "5477  Santa Fe Springs    CA           ES  \n",
       "5478  Santa Fe Springs    CA          RRH  "
      ]
     },
     "execution_count": 10,
     "metadata": {},
     "output_type": "execute_result"
    }
   ],
   "source": [
    "hic[(hic['HudNum'] == 'CA-600') & (hic['address1'].str.contains('9251'))][\n",
    "    ['Organization Name', 'address1', 'city', 'state', 'Project Type']\n",
    "].sort_values(by=['address1'])"
   ]
  },
  {
   "cell_type": "markdown",
   "id": "9d66c643-385c-4b42-9c06-f8212b53d74f",
   "metadata": {},
   "source": [
    "One address can correspond to arbitrarily many organizations and, more importantly, greater than one `Project Type`. So after geocoding, I also produced sets of each `Project Type` recorded for an address:"
   ]
  },
  {
   "cell_type": "code",
   "execution_count": 11,
   "id": "15d47e63-f4e3-4108-9f52-857af5846c53",
   "metadata": {},
   "outputs": [],
   "source": [
    "hic_processed = pd.read_csv(\n",
    "    '../US/04_outputs/c02_hic_west_coast_geocoded_with_type.csv', dtype=str)"
   ]
  },
  {
   "cell_type": "code",
   "execution_count": 12,
   "id": "4aade9c9-ab77-438c-a76e-576eee7039a2",
   "metadata": {},
   "outputs": [
    {
     "data": {
      "text/html": [
       "<div>\n",
       "<style scoped>\n",
       "    .dataframe tbody tr th:only-of-type {\n",
       "        vertical-align: middle;\n",
       "    }\n",
       "\n",
       "    .dataframe tbody tr th {\n",
       "        vertical-align: top;\n",
       "    }\n",
       "\n",
       "    .dataframe thead th {\n",
       "        text-align: right;\n",
       "    }\n",
       "</style>\n",
       "<table border=\"1\" class=\"dataframe\">\n",
       "  <thead>\n",
       "    <tr style=\"text-align: right;\">\n",
       "      <th></th>\n",
       "      <th>_geocodio_street_address</th>\n",
       "      <th>_project_types</th>\n",
       "      <th>_subcategory</th>\n",
       "      <th>_category</th>\n",
       "    </tr>\n",
       "  </thead>\n",
       "  <tbody>\n",
       "    <tr>\n",
       "      <th>3538</th>\n",
       "      <td>9251 PIONEER BLVD</td>\n",
       "      <td>RRH; PSH; ES</td>\n",
       "      <td>mixed support</td>\n",
       "      <td>sheltered</td>\n",
       "    </tr>\n",
       "  </tbody>\n",
       "</table>\n",
       "</div>"
      ],
      "text/plain": [
       "     _geocodio_street_address _project_types   _subcategory  _category\n",
       "3538        9251 PIONEER BLVD   RRH; PSH; ES  mixed support  sheltered"
      ]
     },
     "execution_count": 12,
     "metadata": {},
     "output_type": "execute_result"
    }
   ],
   "source": [
    "hic_processed[hic_processed['_geocodio_street_address'].str.contains(\n",
    "    '^9251')][['_geocodio_street_address', '_project_types', '_subcategory', '_category']]"
   ]
  },
  {
   "cell_type": "markdown",
   "id": "e08f5918-5b56-4bd9-84a9-2d4f04fadd21",
   "metadata": {},
   "source": [
    "Because the above address provides both emergency shelter and permanent supportive housing, **I did not categorize this address as \"unhoused.\"** I did, however, make a note of the subcategory for future reference.\n",
    "\n",
    "From the set of HIC site addresses, **I categorized each as \"unhoused\" only if the only recorded Project Type was \"ES\" (Emergency Shelter)**:"
   ]
  },
  {
   "cell_type": "code",
   "execution_count": 13,
   "id": "5a3fb28f-19b0-4e05-9484-bdb7dc0321b2",
   "metadata": {},
   "outputs": [
    {
     "data": {
      "text/plain": [
       "array(['ES'], dtype=object)"
      ]
     },
     "execution_count": 13,
     "metadata": {},
     "output_type": "execute_result"
    }
   ],
   "source": [
    "hic_processed[hic_processed['_category']=='unhoused']['_project_types'].unique()"
   ]
  },
  {
   "cell_type": "code",
   "execution_count": 14,
   "id": "bbda9ddc-02eb-4b0d-a324-438f96ce4046",
   "metadata": {},
   "outputs": [
    {
     "name": "stdout",
     "output_type": "stream",
     "text": [
      "Last exported to PDF May 05, 2022, ~09:55 PDT\n"
     ]
    }
   ],
   "source": [
    "print(f'Last exported to PDF {pd.Timestamp.now().strftime(\"%B %d, %Y, ~%H:%M PDT\")}')"
   ]
  }
 ],
 "metadata": {
  "kernelspec": {
   "display_name": "Python 3 (ipykernel)",
   "language": "python",
   "name": "python3"
  },
  "language_info": {
   "codemirror_mode": {
    "name": "ipython",
    "version": 3
   },
   "file_extension": ".py",
   "mimetype": "text/x-python",
   "name": "python",
   "nbconvert_exporter": "python",
   "pygments_lexer": "ipython3",
   "version": "3.8.5"
  },
  "toc-autonumbering": true,
  "toc-showcode": false,
  "toc-showmarkdowntxt": false
 },
 "nbformat": 4,
 "nbformat_minor": 5
}
