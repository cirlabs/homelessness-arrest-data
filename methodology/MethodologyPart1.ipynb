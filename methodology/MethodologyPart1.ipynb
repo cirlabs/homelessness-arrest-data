{
 "cells": [
  {
   "cell_type": "code",
   "execution_count": 1,
   "id": "6ff56ef7-c9fd-4c15-a92e-a3f56cf8e851",
   "metadata": {},
   "outputs": [],
   "source": [
    "import sys\n",
    "\n",
    "# append the directory of law module to sys.path list\n",
    "sys.path.append('../modules/')"
   ]
  },
  {
   "cell_type": "code",
   "execution_count": 2,
   "id": "7736f654-1029-48f4-8b3c-1542056ab900",
   "metadata": {},
   "outputs": [
    {
     "data": {
      "text/plain": [
       "ThemeRegistry.enable('reveal')"
      ]
     },
     "execution_count": 2,
     "metadata": {},
     "output_type": "execute_result"
    }
   ],
   "source": [
    "import json\n",
    "import re\n",
    "from textwrap import wrap\n",
    "\n",
    "import altair as alt\n",
    "import altair_reveal as reveal\n",
    "import arrest\n",
    "import law\n",
    "import numpy as np\n",
    "import pandas as pd\n",
    "import requests\n",
    "from altair.expr import datum\n",
    "from altair_saver import save\n",
    "from scipy.stats import chi2_contingency\n",
    "from scipy.stats.contingency import expected_freq\n",
    "\n",
    "alt.themes.register('reveal', reveal.theme)\n",
    "alt.themes.enable('reveal')"
   ]
  },
  {
   "cell_type": "code",
   "execution_count": 3,
   "id": "71ad3428-b9e1-4d3b-a66c-209c2c5817fa",
   "metadata": {},
   "outputs": [],
   "source": [
    "def load_chart_json(file):\n",
    "    with open(file) as jsonfile:\n",
    "        data = json.dumps(json.load(jsonfile))\n",
    "    new_chart = alt.Chart.from_json(data)\n",
    "    return new_chart"
   ]
  },
  {
   "cell_type": "markdown",
   "id": "64b3ac1c-ac27-4df8-b4a3-69f0f5d94539",
   "metadata": {
    "tags": []
   },
   "source": [
    "# Cross-city comparisons\n",
    "\n",
    "## Decision: Date range\n",
    "\n",
    "I received data from six cities in time for the story.\n",
    "\n",
    "I'd requested ten years from each, but:\n",
    "\n",
    "- Portland charged several hundred dollars for even this ~4-year subset.\n",
    "- Oakland's began with 2010 because we sued for the data and so fulfillment started later than for other cities.\n",
    "- San Diego could only provide data as far back as 2013, and fulfilled the request earlier than other cities (September 2020).\n",
    "- Seattle could only provide data as far back as May 2019.\n",
    "\n",
    "### Approach: Compare a subset of \"recent\" dates\n",
    "\n",
    "In the radio show, I cited specifics only for Portland, so I used the full range of data the agency provided. I have since compared arrests among cities for **2017 through the end of 2020**, where possible."
   ]
  },
  {
   "cell_type": "markdown",
   "id": "10679cea-2cf8-4d71-ac46-ad053d219ade",
   "metadata": {},
   "source": [
    "![arrest_dates](visuals/arrest_dates.png)"
   ]
  },
  {
   "cell_type": "markdown",
   "id": "73be4d56-d1e3-49cf-9700-282db2351c69",
   "metadata": {
    "jp-MarkdownHeadingCollapsed": true,
    "tags": []
   },
   "source": [
    "### Concerns\n",
    "\n",
    "#### San Diego\n",
    "\n",
    "San Diego is short three months (ending September 2020). \n",
    "\n",
    "- For the purpose of visualization, **my approach is to include San Diego and add a note about it in chart methodologies**.\n",
    "\n",
    "\n",
    "#### Seattle\n",
    "\n",
    "-  Seattle is short by much more; with a uniform end date of December 2020, Seattle represents 18 months of data. For the purpose of visualization, **my approach is to exclude Seattle from graphics and add a note in the overall arrest chart methodology.**"
   ]
  },
  {
   "cell_type": "markdown",
   "id": "e6cb84c5-c6d7-4fcd-9944-0c96700c9ceb",
   "metadata": {
    "tags": []
   },
   "source": [
    "## Decision: Juvenile data\n",
    "\n",
    "Some cities did not provide data on arrests of minors.\n",
    "\n",
    "### Approach: Exclude all arrests of people who were under age 18 when they were arrested."
   ]
  },
  {
   "cell_type": "markdown",
   "id": "ed56b677-4fa0-485d-b140-edc01dd0e887",
   "metadata": {
    "tags": []
   },
   "source": [
    "## Decision: Categorizing housing status\n",
    "\n",
    "### No address information\n",
    "\n",
    "#### Approach:\n",
    "\n",
    "Separate each city into unhoused, housed, and no information. Though I'd requested arrests per se, it appears that Los Angeles also provided citation data, as thousands of entries had no jail booking number attached. I contacted the Los Angeles Police Department Public Records Unit about this, and this was their response:\n",
    "\n",
    ">Although your request is not a request for records, in the spirit of transparency and community relations, the answers to your questions are as follows:\n",
    ">\n",
    ">\n",
    ">> 1. I'd requested data regarding arrests, but if an entry has neither a Booking Number nor warrant information, does this mean that the entry represents a citation? I ask in part because these entries are also always without address information as well.\n",
    ">\n",
    ">\n",
    ">The entries that have neither a booking number or warrant number are release from custody arrests. This means that the person was not physically booked, and therefore was not assigned a booking number. In these cases, the violator is issued paperwork similar to a citation. This is also why their residence address is not captured."
   ]
  },
  {
   "cell_type": "markdown",
   "id": "8106d1b7-999f-4737-8f20-3b8c24187f1e",
   "metadata": {},
   "source": [
    "#### Concern\n",
    "\n",
    "I followed up with the San Diego Police Department public records administrator about the arrest data I received, and she reiterated that the city did not send citation data.\n",
    "\n",
    "> The San Diego Police Department has confirmed that the records provided only include arrests as requested.\n",
    "\n",
    "However, the \"no information\" proportion of arrests in this data is much higher than in any other city. I asked the same administrator about this April 28th, but as of today (May 5th, 2022), I have not received a response. I also contacted Seattle about its high proportion of such arrests and have also not received a response."
   ]
  },
  {
   "cell_type": "code",
   "execution_count": 4,
   "id": "04c9a41f-bdd7-484b-b119-ba8b13294f70",
   "metadata": {},
   "outputs": [],
   "source": [
    "story_df = pd.read_csv('../US/04_outputs/c05_nibrs_charge_sets_merged.csv',\n",
    "                       dtype=str)"
   ]
  },
  {
   "cell_type": "code",
   "execution_count": 5,
   "id": "7cad80d2-7b0a-4ca4-afc4-88f9ffa553c5",
   "metadata": {},
   "outputs": [],
   "source": [
    "seattle_df = pd.read_csv('../US/04_outputs/a01_seattle.csv',\n",
    "                         usecols=['_arrest_id', '_arrest_date', '_housing_status', '_city'])"
   ]
  },
  {
   "cell_type": "code",
   "execution_count": 6,
   "id": "bbc2b9ed-2b0c-462a-bf25-525a97be4268",
   "metadata": {},
   "outputs": [],
   "source": [
    "df = pd.concat([story_df, seattle_df], ignore_index=True)"
   ]
  },
  {
   "cell_type": "code",
   "execution_count": 7,
   "id": "23a23498-9317-406d-8b7f-8f9a8624e730",
   "metadata": {},
   "outputs": [],
   "source": [
    "df.columns = [re.sub('^_', '', x) for x in df.columns]"
   ]
  },
  {
   "cell_type": "code",
   "execution_count": 8,
   "id": "398ddbcc-d11a-412e-8b17-1dc884725510",
   "metadata": {},
   "outputs": [],
   "source": [
    "df['housing_status'] = df['housing_status'].str.title()"
   ]
  },
  {
   "cell_type": "code",
   "execution_count": 9,
   "id": "c24a08f5-b453-4e5d-bc3e-2480268238ac",
   "metadata": {},
   "outputs": [],
   "source": [
    "df['simplified_housing_status'] = df['housing_status'].replace(\n",
    "    {'No Information': 'Address missing or unknown',\n",
    "     'Unknown': 'Address missing or unknown'})"
   ]
  },
  {
   "cell_type": "markdown",
   "id": "95056cba-e1c4-453d-b147-04f9764e2e84",
   "metadata": {},
   "source": [
    "### Plot"
   ]
  },
  {
   "cell_type": "code",
   "execution_count": 10,
   "id": "ccb62a7e-dc3d-4ae2-b6c8-9810cdaa7a65",
   "metadata": {},
   "outputs": [],
   "source": [
    "arrests_by_simplified_housing = df.groupby(['city', 'simplified_housing_status']).agg(\n",
    "    arrests=('arrest_id', 'nunique')\n",
    ")"
   ]
  },
  {
   "cell_type": "code",
   "execution_count": 11,
   "id": "8fc0cf88-2191-47bb-b604-4c013a8f9305",
   "metadata": {},
   "outputs": [],
   "source": [
    "arrests_by_housing = df.groupby(['city', 'housing_status']).agg(\n",
    "    arrests=('arrest_id', 'nunique'))"
   ]
  },
  {
   "cell_type": "code",
   "execution_count": 12,
   "id": "d8496e72-452f-4c3a-9bea-0c1971a5199a",
   "metadata": {},
   "outputs": [
    {
     "data": {
      "text/html": [
       "<div>\n",
       "<style scoped>\n",
       "    .dataframe tbody tr th:only-of-type {\n",
       "        vertical-align: middle;\n",
       "    }\n",
       "\n",
       "    .dataframe tbody tr th {\n",
       "        vertical-align: top;\n",
       "    }\n",
       "\n",
       "    .dataframe thead th {\n",
       "        text-align: right;\n",
       "    }\n",
       "</style>\n",
       "<table border=\"1\" class=\"dataframe\">\n",
       "  <thead>\n",
       "    <tr style=\"text-align: right;\">\n",
       "      <th></th>\n",
       "      <th></th>\n",
       "      <th>arrests</th>\n",
       "    </tr>\n",
       "    <tr>\n",
       "      <th>city</th>\n",
       "      <th>housing_status</th>\n",
       "      <th></th>\n",
       "    </tr>\n",
       "  </thead>\n",
       "  <tbody>\n",
       "    <tr>\n",
       "      <th rowspan=\"4\" valign=\"top\">Los Angeles</th>\n",
       "      <th>Housed</th>\n",
       "      <td>747443</td>\n",
       "    </tr>\n",
       "    <tr>\n",
       "      <th>No Information</th>\n",
       "      <td>379</td>\n",
       "    </tr>\n",
       "    <tr>\n",
       "      <th>Unhoused</th>\n",
       "      <td>150216</td>\n",
       "    </tr>\n",
       "    <tr>\n",
       "      <th>Unknown</th>\n",
       "      <td>67</td>\n",
       "    </tr>\n",
       "    <tr>\n",
       "      <th rowspan=\"4\" valign=\"top\">Oakland</th>\n",
       "      <th>Housed</th>\n",
       "      <td>78659</td>\n",
       "    </tr>\n",
       "    <tr>\n",
       "      <th>No Information</th>\n",
       "      <td>671</td>\n",
       "    </tr>\n",
       "    <tr>\n",
       "      <th>Unhoused</th>\n",
       "      <td>5321</td>\n",
       "    </tr>\n",
       "    <tr>\n",
       "      <th>Unknown</th>\n",
       "      <td>946</td>\n",
       "    </tr>\n",
       "    <tr>\n",
       "      <th rowspan=\"4\" valign=\"top\">Portland</th>\n",
       "      <th>Housed</th>\n",
       "      <td>31982</td>\n",
       "    </tr>\n",
       "    <tr>\n",
       "      <th>No Information</th>\n",
       "      <td>1603</td>\n",
       "    </tr>\n",
       "    <tr>\n",
       "      <th>Unhoused</th>\n",
       "      <td>34486</td>\n",
       "    </tr>\n",
       "    <tr>\n",
       "      <th>Unknown</th>\n",
       "      <td>951</td>\n",
       "    </tr>\n",
       "    <tr>\n",
       "      <th rowspan=\"4\" valign=\"top\">Sacramento</th>\n",
       "      <th>Housed</th>\n",
       "      <td>126382</td>\n",
       "    </tr>\n",
       "    <tr>\n",
       "      <th>No Information</th>\n",
       "      <td>302</td>\n",
       "    </tr>\n",
       "    <tr>\n",
       "      <th>Unhoused</th>\n",
       "      <td>45194</td>\n",
       "    </tr>\n",
       "    <tr>\n",
       "      <th>Unknown</th>\n",
       "      <td>811</td>\n",
       "    </tr>\n",
       "    <tr>\n",
       "      <th rowspan=\"4\" valign=\"top\">San Diego</th>\n",
       "      <th>Housed</th>\n",
       "      <td>99013</td>\n",
       "    </tr>\n",
       "    <tr>\n",
       "      <th>No Information</th>\n",
       "      <td>49545</td>\n",
       "    </tr>\n",
       "    <tr>\n",
       "      <th>Unhoused</th>\n",
       "      <td>16403</td>\n",
       "    </tr>\n",
       "    <tr>\n",
       "      <th>Unknown</th>\n",
       "      <td>1168</td>\n",
       "    </tr>\n",
       "    <tr>\n",
       "      <th rowspan=\"3\" valign=\"top\">Seattle</th>\n",
       "      <th>Housed</th>\n",
       "      <td>25936</td>\n",
       "    </tr>\n",
       "    <tr>\n",
       "      <th>No Information</th>\n",
       "      <td>3747</td>\n",
       "    </tr>\n",
       "    <tr>\n",
       "      <th>Unhoused</th>\n",
       "      <td>4916</td>\n",
       "    </tr>\n",
       "  </tbody>\n",
       "</table>\n",
       "</div>"
      ],
      "text/plain": [
       "                            arrests\n",
       "city        housing_status         \n",
       "Los Angeles Housed           747443\n",
       "            No Information      379\n",
       "            Unhoused         150216\n",
       "            Unknown              67\n",
       "Oakland     Housed            78659\n",
       "            No Information      671\n",
       "            Unhoused           5321\n",
       "            Unknown             946\n",
       "Portland    Housed            31982\n",
       "            No Information     1603\n",
       "            Unhoused          34486\n",
       "            Unknown             951\n",
       "Sacramento  Housed           126382\n",
       "            No Information      302\n",
       "            Unhoused          45194\n",
       "            Unknown             811\n",
       "San Diego   Housed            99013\n",
       "            No Information    49545\n",
       "            Unhoused          16403\n",
       "            Unknown            1168\n",
       "Seattle     Housed            25936\n",
       "            No Information     3747\n",
       "            Unhoused           4916"
      ]
     },
     "execution_count": 12,
     "metadata": {},
     "output_type": "execute_result"
    }
   ],
   "source": [
    "arrests_by_housing"
   ]
  },
  {
   "cell_type": "markdown",
   "id": "f6ae0423-8f18-4e41-80a7-0cec0ccc2a42",
   "metadata": {},
   "source": [
    "#### Aggregation"
   ]
  },
  {
   "cell_type": "code",
   "execution_count": 13,
   "id": "b1034ac9-f7e1-42d5-a237-0d37bdbc0a60",
   "metadata": {},
   "outputs": [],
   "source": [
    "arrests_by_simplified_housing = df.groupby(['city', 'simplified_housing_status']).agg(\n",
    "    arrests=('arrest_id', 'nunique')\n",
    ")"
   ]
  },
  {
   "cell_type": "code",
   "execution_count": 14,
   "id": "9123be53-69ac-4288-92d9-e06211425d6b",
   "metadata": {},
   "outputs": [],
   "source": [
    "arrests_by_housing = df.groupby(['city', 'housing_status']).agg(\n",
    "    arrests=('arrest_id', 'nunique'))"
   ]
  },
  {
   "cell_type": "code",
   "execution_count": 15,
   "id": "e320b153-f4f7-4767-b986-b4694e0da2df",
   "metadata": {},
   "outputs": [],
   "source": [
    "arrests_by_city = df.groupby(['city']).agg(arrests=('arrest_id', 'nunique'))"
   ]
  },
  {
   "cell_type": "code",
   "execution_count": 16,
   "id": "e8cd6915-8719-4d98-9656-c1eded0333b3",
   "metadata": {},
   "outputs": [],
   "source": [
    "percent_df = arrests_by_housing.div(arrests_by_city).reset_index()"
   ]
  },
  {
   "cell_type": "code",
   "execution_count": 17,
   "id": "63eda675-75b8-4f8c-acbd-e3abe9639289",
   "metadata": {},
   "outputs": [],
   "source": [
    "simplified_percent_df = arrests_by_simplified_housing.div(\n",
    "    arrests_by_city).reset_index()"
   ]
  },
  {
   "cell_type": "markdown",
   "id": "14778f33-001d-491c-b969-25eeadb72d0f",
   "metadata": {},
   "source": [
    "#### Generate field to sort by housing status"
   ]
  },
  {
   "cell_type": "code",
   "execution_count": 18,
   "id": "93f689df-6f09-4863-b0aa-3c9b81a05249",
   "metadata": {},
   "outputs": [],
   "source": [
    "c = dict(zip(['Unhoused', 'Housed', 'No Information',\n",
    "            'Unknown', 'Address missing or unknown'], [1, 2, 3, 3, 3]))"
   ]
  },
  {
   "cell_type": "code",
   "execution_count": 19,
   "id": "ab485314-ae3a-4d49-840f-11bfea41ce7e",
   "metadata": {},
   "outputs": [],
   "source": [
    "percent_df['_order'] = percent_df['housing_status'].replace(c)"
   ]
  },
  {
   "cell_type": "code",
   "execution_count": 20,
   "id": "62054d72-2f4f-4011-851a-9efe0ce1ad35",
   "metadata": {},
   "outputs": [],
   "source": [
    "simplified_percent_df['_order'] = simplified_percent_df['simplified_housing_status'].replace(\n",
    "    c)"
   ]
  },
  {
   "cell_type": "code",
   "execution_count": 21,
   "id": "ab9e0181-1f0a-49c1-a4ea-b905eb1935af",
   "metadata": {},
   "outputs": [
    {
     "data": {
      "text/html": [
       "<div>\n",
       "<style scoped>\n",
       "    .dataframe tbody tr th:only-of-type {\n",
       "        vertical-align: middle;\n",
       "    }\n",
       "\n",
       "    .dataframe tbody tr th {\n",
       "        vertical-align: top;\n",
       "    }\n",
       "\n",
       "    .dataframe thead th {\n",
       "        text-align: right;\n",
       "    }\n",
       "</style>\n",
       "<table border=\"1\" class=\"dataframe\">\n",
       "  <thead>\n",
       "    <tr style=\"text-align: right;\">\n",
       "      <th></th>\n",
       "      <th>city</th>\n",
       "      <th>simplified_housing_status</th>\n",
       "      <th>arrests</th>\n",
       "      <th>_order</th>\n",
       "    </tr>\n",
       "  </thead>\n",
       "  <tbody>\n",
       "    <tr>\n",
       "      <th>0</th>\n",
       "      <td>Los Angeles</td>\n",
       "      <td>Address missing or unknown</td>\n",
       "      <td>0.000497</td>\n",
       "      <td>3</td>\n",
       "    </tr>\n",
       "    <tr>\n",
       "      <th>1</th>\n",
       "      <td>Los Angeles</td>\n",
       "      <td>Housed</td>\n",
       "      <td>0.832245</td>\n",
       "      <td>2</td>\n",
       "    </tr>\n",
       "    <tr>\n",
       "      <th>2</th>\n",
       "      <td>Los Angeles</td>\n",
       "      <td>Unhoused</td>\n",
       "      <td>0.167259</td>\n",
       "      <td>1</td>\n",
       "    </tr>\n",
       "    <tr>\n",
       "      <th>3</th>\n",
       "      <td>Oakland</td>\n",
       "      <td>Address missing or unknown</td>\n",
       "      <td>0.018891</td>\n",
       "      <td>3</td>\n",
       "    </tr>\n",
       "    <tr>\n",
       "      <th>4</th>\n",
       "      <td>Oakland</td>\n",
       "      <td>Housed</td>\n",
       "      <td>0.918946</td>\n",
       "      <td>2</td>\n",
       "    </tr>\n",
       "    <tr>\n",
       "      <th>5</th>\n",
       "      <td>Oakland</td>\n",
       "      <td>Unhoused</td>\n",
       "      <td>0.062163</td>\n",
       "      <td>1</td>\n",
       "    </tr>\n",
       "    <tr>\n",
       "      <th>6</th>\n",
       "      <td>Portland</td>\n",
       "      <td>Address missing or unknown</td>\n",
       "      <td>0.037003</td>\n",
       "      <td>3</td>\n",
       "    </tr>\n",
       "    <tr>\n",
       "      <th>7</th>\n",
       "      <td>Portland</td>\n",
       "      <td>Housed</td>\n",
       "      <td>0.463360</td>\n",
       "      <td>2</td>\n",
       "    </tr>\n",
       "    <tr>\n",
       "      <th>8</th>\n",
       "      <td>Portland</td>\n",
       "      <td>Unhoused</td>\n",
       "      <td>0.499638</td>\n",
       "      <td>1</td>\n",
       "    </tr>\n",
       "    <tr>\n",
       "      <th>9</th>\n",
       "      <td>Sacramento</td>\n",
       "      <td>Address missing or unknown</td>\n",
       "      <td>0.006445</td>\n",
       "      <td>3</td>\n",
       "    </tr>\n",
       "    <tr>\n",
       "      <th>10</th>\n",
       "      <td>Sacramento</td>\n",
       "      <td>Housed</td>\n",
       "      <td>0.731847</td>\n",
       "      <td>2</td>\n",
       "    </tr>\n",
       "    <tr>\n",
       "      <th>11</th>\n",
       "      <td>Sacramento</td>\n",
       "      <td>Unhoused</td>\n",
       "      <td>0.261707</td>\n",
       "      <td>1</td>\n",
       "    </tr>\n",
       "    <tr>\n",
       "      <th>12</th>\n",
       "      <td>San Diego</td>\n",
       "      <td>Address missing or unknown</td>\n",
       "      <td>0.305263</td>\n",
       "      <td>3</td>\n",
       "    </tr>\n",
       "    <tr>\n",
       "      <th>13</th>\n",
       "      <td>San Diego</td>\n",
       "      <td>Housed</td>\n",
       "      <td>0.596001</td>\n",
       "      <td>2</td>\n",
       "    </tr>\n",
       "    <tr>\n",
       "      <th>14</th>\n",
       "      <td>San Diego</td>\n",
       "      <td>Unhoused</td>\n",
       "      <td>0.098737</td>\n",
       "      <td>1</td>\n",
       "    </tr>\n",
       "    <tr>\n",
       "      <th>15</th>\n",
       "      <td>Seattle</td>\n",
       "      <td>Address missing or unknown</td>\n",
       "      <td>0.108298</td>\n",
       "      <td>3</td>\n",
       "    </tr>\n",
       "    <tr>\n",
       "      <th>16</th>\n",
       "      <td>Seattle</td>\n",
       "      <td>Housed</td>\n",
       "      <td>0.749617</td>\n",
       "      <td>2</td>\n",
       "    </tr>\n",
       "    <tr>\n",
       "      <th>17</th>\n",
       "      <td>Seattle</td>\n",
       "      <td>Unhoused</td>\n",
       "      <td>0.142085</td>\n",
       "      <td>1</td>\n",
       "    </tr>\n",
       "  </tbody>\n",
       "</table>\n",
       "</div>"
      ],
      "text/plain": [
       "           city   simplified_housing_status   arrests  _order\n",
       "0   Los Angeles  Address missing or unknown  0.000497       3\n",
       "1   Los Angeles                      Housed  0.832245       2\n",
       "2   Los Angeles                    Unhoused  0.167259       1\n",
       "3       Oakland  Address missing or unknown  0.018891       3\n",
       "4       Oakland                      Housed  0.918946       2\n",
       "5       Oakland                    Unhoused  0.062163       1\n",
       "6      Portland  Address missing or unknown  0.037003       3\n",
       "7      Portland                      Housed  0.463360       2\n",
       "8      Portland                    Unhoused  0.499638       1\n",
       "9    Sacramento  Address missing or unknown  0.006445       3\n",
       "10   Sacramento                      Housed  0.731847       2\n",
       "11   Sacramento                    Unhoused  0.261707       1\n",
       "12    San Diego  Address missing or unknown  0.305263       3\n",
       "13    San Diego                      Housed  0.596001       2\n",
       "14    San Diego                    Unhoused  0.098737       1\n",
       "15      Seattle  Address missing or unknown  0.108298       3\n",
       "16      Seattle                      Housed  0.749617       2\n",
       "17      Seattle                    Unhoused  0.142085       1"
      ]
     },
     "execution_count": 21,
     "metadata": {},
     "output_type": "execute_result"
    }
   ],
   "source": [
    "simplified_percent_df"
   ]
  },
  {
   "cell_type": "markdown",
   "id": "38196d0c-3afa-47ef-aeb6-75d75a2928a5",
   "metadata": {},
   "source": [
    "#### Chart"
   ]
  },
  {
   "cell_type": "code",
   "execution_count": 22,
   "id": "3db7c4d4-a9ad-45a1-b12c-2a06e6eaefe0",
   "metadata": {},
   "outputs": [],
   "source": [
    "simplified_arrests_by_housing = (\n",
    "    alt.Chart(simplified_percent_df)\n",
    "    .mark_bar(size=25)\n",
    "    .encode(\n",
    "        x=alt.X(\n",
    "            'arrests:Q',\n",
    "            axis=None,\n",
    "            title=None,\n",
    "            stack='zero'\n",
    "        ),\n",
    "        order='_order:Q',\n",
    "        fill=alt.Color(\n",
    "            'simplified_housing_status',\n",
    "            legend=alt.Legend(\n",
    "                orient='top',\n",
    "                title=None,\n",
    "                values=[\n",
    "                    'Unhoused',\n",
    "                    'Housed',\n",
    "                    'No information/Unknown',\n",
    "                ],\n",
    "                titleLimit=0,\n",
    "                labelLimit=0,\n",
    "            ),\n",
    "            scale=alt.Scale(\n",
    "                domain=['Unhoused', 'Housed', 'Address missing or unknown'],\n",
    "                range=['#004488', '#349AC2', '#CCCCCC'],\n",
    "            ),\n",
    "        ),\n",
    "        opacity=alt.condition(\n",
    "            datum.city == 'Seattle' or datum.city != 'Seattle',\n",
    "            alt.value(0.5),\n",
    "            alt.value(1)),\n",
    "    )\n",
    ")"
   ]
  },
  {
   "cell_type": "markdown",
   "id": "31e0ab3f-366d-447e-b155-9a2a6c779a73",
   "metadata": {
    "tags": []
   },
   "source": [
    "#### Text"
   ]
  },
  {
   "cell_type": "code",
   "execution_count": 23,
   "id": "5dc463fd-2c52-44b5-9a32-4813ae444754",
   "metadata": {},
   "outputs": [],
   "source": [
    "simplified_arrests_text = (\n",
    "    alt.Chart(simplified_percent_df)\n",
    "    .mark_text(font='Tenon', fontSize=14, align='right', dx=-5)\n",
    "    .encode(\n",
    "        x=alt.X('arrests:Q', title=None, stack='zero'),\n",
    "        order='_order:Q',\n",
    "        color=alt.condition(\n",
    "            datum.simplified_housing_status == 'Address missing or unknown',\n",
    "            alt.value('black'),\n",
    "            alt.value('white'),\n",
    "        ),\n",
    "        text=alt.Text('arrests:Q', format='.0%'),\n",
    "    )\n",
    ").transform_filter(datum.arrests > 0.04)"
   ]
  },
  {
   "cell_type": "markdown",
   "id": "e05a8a21-dcaa-4317-9703-9a2ebbd141d1",
   "metadata": {},
   "source": [
    "#### Base"
   ]
  },
  {
   "cell_type": "code",
   "execution_count": 24,
   "id": "06912963-80dc-4afd-9443-7f913027c8a2",
   "metadata": {},
   "outputs": [],
   "source": [
    "arrests_base_story = (\n",
    "    simplified_arrests_by_housing + simplified_arrests_text\n",
    ").properties(width=400, height=35, title=alt.TitleParams(text=datum.city)).transform_filter(datum.city != 'Seattle')"
   ]
  },
  {
   "cell_type": "code",
   "execution_count": 25,
   "id": "a670f31c-40ca-4586-8a9d-9127db6fa530",
   "metadata": {},
   "outputs": [],
   "source": [
    "arrests_base_seattle = (\n",
    "    simplified_arrests_by_housing + simplified_arrests_text\n",
    ").properties(width=400, height=35, title=alt.TitleParams(text=datum.city))"
   ]
  },
  {
   "cell_type": "markdown",
   "id": "c72fc62d-4664-4f52-a5f2-c951b5bdefc6",
   "metadata": {},
   "source": [
    "#### Title, subtitle"
   ]
  },
  {
   "cell_type": "code",
   "execution_count": 26,
   "id": "8f1e06b9-2ea0-41f3-bf35-a8c2754e201c",
   "metadata": {},
   "outputs": [],
   "source": [
    "def custom_wrap(text, max_width):\n",
    "    width = max_width\n",
    "    wrapped = wrap(text, width)\n",
    "    while ' ' not in wrapped[-1]:\n",
    "        width -= 1\n",
    "        wrapped = custom_wrap(text, width)\n",
    "    return wrapped"
   ]
  },
  {
   "cell_type": "code",
   "execution_count": 27,
   "id": "7c3f891a-b428-410e-8cc1-2f8d7be9bb0f",
   "metadata": {},
   "outputs": [],
   "source": [
    "all_arrests_title = 'Police disproportionately arrest unhoused people in West Coast cities'"
   ]
  },
  {
   "cell_type": "code",
   "execution_count": 28,
   "id": "94dcd250-e6a2-4572-b387-ba7ca4cc72fe",
   "metadata": {},
   "outputs": [],
   "source": [
    "all_arrests_title_formatted = custom_wrap(all_arrests_title, 30)"
   ]
  },
  {
   "cell_type": "code",
   "execution_count": 29,
   "id": "1c391304-f813-4fd3-b5ab-61f2031b5519",
   "metadata": {},
   "outputs": [],
   "source": [
    "all_arrests_subtitle = 'From 2017 through 2020, unhoused people made up at most an estimated 2% of the population in each of the following cities.'"
   ]
  },
  {
   "cell_type": "code",
   "execution_count": 30,
   "id": "ba49fb80-e8ba-4e23-95e5-5bd0a871f8cf",
   "metadata": {},
   "outputs": [],
   "source": [
    "all_arrests_subtitle_formatted = custom_wrap(all_arrests_subtitle, 40)"
   ]
  },
  {
   "cell_type": "code",
   "execution_count": 31,
   "id": "6490a712-41f1-41e4-a641-2c9fc737d59a",
   "metadata": {},
   "outputs": [],
   "source": [
    "def facet_and_config(base, city_sort, title_str='Draft/Reference', subtitle_str=None, title_size=28, subtitle_size=20):\n",
    "    chart = (\n",
    "        alt.layer(base)\n",
    "        .facet(\n",
    "            row=alt.Row(\n",
    "                'city:N',\n",
    "                sort=city_sort,\n",
    "                title=None,\n",
    "                header=alt.Header(\n",
    "                    labelFontSize=15,\n",
    "                    labelFont='Tenon',\n",
    "                    labelOrient='top',\n",
    "                    labelAlign='left',\n",
    "                    labelAnchor='start',\n",
    "                    labelPadding=5,\n",
    "                ),\n",
    "            )\n",
    "        )\n",
    "        .resolve_axis(x='independent')\n",
    "        .configure_title(\n",
    "            font='Tenon',\n",
    "            fontSize=title_size,\n",
    "            color='#222222',\n",
    "            fontWeight=500,\n",
    "            align='left',\n",
    "            anchor='start',\n",
    "            subtitleFont='Tenon',\n",
    "            subtitleColor='#222222',\n",
    "            subtitleFontSize=subtitle_size,\n",
    "            subtitleFontWeight=300,\n",
    "            subtitlePadding=10,\n",
    "            subtitleLineHeight=24,\n",
    "            offset=22,\n",
    "        )\n",
    "        .configure_axis(\n",
    "            gridColor='#dddddd',\n",
    "            title=None,\n",
    "            titleColor='#666666',\n",
    "            titleFontWeight=300,\n",
    "            labelColor='#666666',\n",
    "            labelFont='Tenon',\n",
    "            labelFontSize=13,\n",
    "            labelFontWeight=400,\n",
    "            labelFlush=False,\n",
    "            labelPadding=5,\n",
    "            tickSize=6,\n",
    "        )\n",
    "        .configure_axisX(\n",
    "            # labels=False,\n",
    "            domainColor='#666666',\n",
    "            tickColor='#666666')\n",
    "        .configure_axisY(\n",
    "            labels=False,\n",
    "            domainColor='#f9f9f9',\n",
    "            tickColor='#f9f9f9')\n",
    "        .configure_legend(\n",
    "            title=None,\n",
    "            orient='top',\n",
    "            direction='horizontal',\n",
    "            offset=40,\n",
    "            columnPadding=20,\n",
    "            titleFont='Tenon',\n",
    "            titleFontSize=16,\n",
    "            titleFontWeight=400,\n",
    "            labelAlign='left',\n",
    "            labelFont='Tenon',\n",
    "            labelFontSize=15,\n",
    "            labelFontWeight=300,\n",
    "            labelColor='#222222',\n",
    "            labelBaseline='middle',\n",
    "            rowPadding=10,\n",
    "            symbolType='square',\n",
    "        )\n",
    "    )\n",
    "    if subtitle_str == None:\n",
    "        return chart.properties(\n",
    "            title={\n",
    "                'text': title_str,\n",
    "            },\n",
    "        )\n",
    "    else:\n",
    "        return chart.properties(\n",
    "            title={\n",
    "                'text': title_str,\n",
    "                'subtitle': subtitle_str,\n",
    "            },\n",
    "        )"
   ]
  },
  {
   "cell_type": "code",
   "execution_count": 33,
   "id": "c571f71b-f81f-454d-a95b-cefd2670793e",
   "metadata": {},
   "outputs": [
    {
     "data": {
      "text/html": [
       "\n",
       "<div id=\"altair-viz-bf61b13812dd4273a54ba49a2885e582\"></div>\n",
       "<script type=\"text/javascript\">\n",
       "  var VEGA_DEBUG = (typeof VEGA_DEBUG == \"undefined\") ? {} : VEGA_DEBUG;\n",
       "  (function(spec, embedOpt){\n",
       "    let outputDiv = document.currentScript.previousElementSibling;\n",
       "    if (outputDiv.id !== \"altair-viz-bf61b13812dd4273a54ba49a2885e582\") {\n",
       "      outputDiv = document.getElementById(\"altair-viz-bf61b13812dd4273a54ba49a2885e582\");\n",
       "    }\n",
       "    const paths = {\n",
       "      \"vega\": \"https://cdn.jsdelivr.net/npm//vega@5?noext\",\n",
       "      \"vega-lib\": \"https://cdn.jsdelivr.net/npm//vega-lib?noext\",\n",
       "      \"vega-lite\": \"https://cdn.jsdelivr.net/npm//vega-lite@4.17.0?noext\",\n",
       "      \"vega-embed\": \"https://cdn.jsdelivr.net/npm//vega-embed@6?noext\",\n",
       "    };\n",
       "\n",
       "    function maybeLoadScript(lib, version) {\n",
       "      var key = `${lib.replace(\"-\", \"\")}_version`;\n",
       "      return (VEGA_DEBUG[key] == version) ?\n",
       "        Promise.resolve(paths[lib]) :\n",
       "        new Promise(function(resolve, reject) {\n",
       "          var s = document.createElement('script');\n",
       "          document.getElementsByTagName(\"head\")[0].appendChild(s);\n",
       "          s.async = true;\n",
       "          s.onload = () => {\n",
       "            VEGA_DEBUG[key] = version;\n",
       "            return resolve(paths[lib]);\n",
       "          };\n",
       "          s.onerror = () => reject(`Error loading script: ${paths[lib]}`);\n",
       "          s.src = paths[lib];\n",
       "        });\n",
       "    }\n",
       "\n",
       "    function showError(err) {\n",
       "      outputDiv.innerHTML = `<div class=\"error\" style=\"color:red;\">${err}</div>`;\n",
       "      throw err;\n",
       "    }\n",
       "\n",
       "    function displayChart(vegaEmbed) {\n",
       "      vegaEmbed(outputDiv, spec, embedOpt)\n",
       "        .catch(err => showError(`Javascript Error: ${err.message}<br>This usually means there's a typo in your chart specification. See the javascript console for the full traceback.`));\n",
       "    }\n",
       "\n",
       "    if(typeof define === \"function\" && define.amd) {\n",
       "      requirejs.config({paths});\n",
       "      require([\"vega-embed\"], displayChart, err => showError(`Error loading script: ${err.message}`));\n",
       "    } else {\n",
       "      maybeLoadScript(\"vega\", \"5\")\n",
       "        .then(() => maybeLoadScript(\"vega-lite\", \"4.17.0\"))\n",
       "        .then(() => maybeLoadScript(\"vega-embed\", \"6\"))\n",
       "        .catch(showError)\n",
       "        .then(() => displayChart(vegaEmbed));\n",
       "    }\n",
       "  })({\"config\": {\"view\": {\"width\": 320, \"height\": 500, \"strokeOpacity\": 0}, \"background\": \"#f9f9f9\", \"padding\": {\"left\": 20, \"top\": 20, \"right\": 20, \"bottom\": 80}, \"arc\": {\"fill\": \"#0077bb\"}, \"area\": {\"fill\": \"#0077bb\"}, \"line\": {\"stroke\": \"#0077bb\", \"strokeWidth\": 3}, \"path\": {\"stroke\": \"#0077bb\"}, \"rect\": {\"fill\": \"#0077bb\"}, \"shape\": {\"stroke\": \"#0077bb\"}, \"bar\": {\"fill\": \"#0077bb\"}, \"point\": {\"stroke\": \"#0077bb\"}, \"symbol\": {\"fill\": \"#0077bb\", \"size\": 30}, \"title\": {\"font\": \"Tenon\", \"fontSize\": 28, \"color\": \"#222222\", \"fontWeight\": 500, \"align\": \"left\", \"anchor\": \"start\", \"subtitleFont\": \"Tenon\", \"subtitleColor\": \"#222222\", \"subtitleFontSize\": 20, \"subtitleFontWeight\": 300, \"subtitlePadding\": 10, \"subtitleLineHeight\": 24, \"offset\": 22}, \"axis\": {\"gridColor\": \"#dddddd\", \"title\": null, \"titleColor\": \"#666666\", \"titleFontWeight\": 300, \"labelColor\": \"#666666\", \"labelFont\": \"Tenon\", \"labelFontSize\": 13, \"labelFontWeight\": 400, \"labelFlush\": false, \"labelPadding\": 5, \"tickSize\": 6}, \"axisX\": {\"domainColor\": \"#666666\", \"tickColor\": \"#666666\"}, \"axisY\": {\"domainColor\": \"#f9f9f9\", \"tickColor\": \"#f9f9f9\", \"labels\": false}, \"legend\": {\"title\": null, \"orient\": \"top\", \"direction\": \"horizontal\", \"offset\": 40, \"columnPadding\": 20, \"titleFont\": \"Tenon\", \"titleFontSize\": 16, \"titleFontWeight\": 400, \"labelAlign\": \"left\", \"labelFont\": \"Tenon\", \"labelFontSize\": 15, \"labelFontWeight\": 300, \"labelColor\": \"#222222\", \"labelBaseline\": \"middle\", \"rowPadding\": 10, \"symbolType\": \"square\"}}, \"data\": {\"name\": \"data-8c2fe9a62a41f24b93bb691be64174bb\"}, \"facet\": {\"row\": {\"field\": \"city\", \"header\": {\"labelAlign\": \"left\", \"labelAnchor\": \"start\", \"labelFont\": \"Tenon\", \"labelFontSize\": 15, \"labelOrient\": \"top\", \"labelPadding\": 5}, \"sort\": [\"Portland\", \"Sacramento\", \"Los Angeles\", \"Seattle\", \"San Diego\", \"Oakland\"], \"title\": null, \"type\": \"nominal\"}}, \"spec\": {\"layer\": [{\"layer\": [{\"mark\": {\"type\": \"bar\", \"size\": 25}, \"encoding\": {\"fill\": {\"field\": \"simplified_housing_status\", \"legend\": {\"labelLimit\": 0, \"orient\": \"top\", \"title\": null, \"titleLimit\": 0, \"values\": [\"Unhoused\", \"Housed\", \"No information/Unknown\"]}, \"scale\": {\"domain\": [\"Unhoused\", \"Housed\", \"Address missing or unknown\"], \"range\": [\"#004488\", \"#349AC2\", \"#CCCCCC\"]}, \"type\": \"nominal\"}, \"opacity\": {\"condition\": {\"value\": 0.5, \"test\": \"(datum.city === 'Seattle')\"}, \"value\": 1}, \"order\": {\"field\": \"_order\", \"type\": \"quantitative\"}, \"x\": {\"axis\": null, \"field\": \"arrests\", \"stack\": \"zero\", \"title\": null, \"type\": \"quantitative\"}}}, {\"mark\": {\"type\": \"text\", \"align\": \"right\", \"dx\": -5, \"font\": \"Tenon\", \"fontSize\": 14}, \"encoding\": {\"color\": {\"condition\": {\"value\": \"black\", \"test\": \"(datum.simplified_housing_status === 'Address missing or unknown')\"}, \"value\": \"white\"}, \"order\": {\"field\": \"_order\", \"type\": \"quantitative\"}, \"text\": {\"field\": \"arrests\", \"format\": \".0%\", \"type\": \"quantitative\"}, \"x\": {\"field\": \"arrests\", \"stack\": \"zero\", \"title\": null, \"type\": \"quantitative\"}}, \"transform\": [{\"filter\": \"(datum.arrests > 0.04)\"}]}], \"height\": 35, \"title\": {\"text\": \"datum.city\"}, \"width\": 400}]}, \"resolve\": {\"axis\": {\"x\": \"independent\"}}, \"title\": {\"text\": \"Draft/Reference\"}, \"$schema\": \"https://vega.github.io/schema/vega-lite/v4.17.0.json\", \"datasets\": {\"data-8c2fe9a62a41f24b93bb691be64174bb\": [{\"city\": \"Los Angeles\", \"simplified_housing_status\": \"Address missing or unknown\", \"arrests\": 0.0004966011769225202, \"_order\": 3}, {\"city\": \"Los Angeles\", \"simplified_housing_status\": \"Housed\", \"arrests\": 0.8322445593778011, \"_order\": 2}, {\"city\": \"Los Angeles\", \"simplified_housing_status\": \"Unhoused\", \"arrests\": 0.16725883944527645, \"_order\": 1}, {\"city\": \"Oakland\", \"simplified_housing_status\": \"Address missing or unknown\", \"arrests\": 0.018890848978352043, \"_order\": 3}, {\"city\": \"Oakland\", \"simplified_housing_status\": \"Housed\", \"arrests\": 0.9189457574447703, \"_order\": 2}, {\"city\": \"Oakland\", \"simplified_housing_status\": \"Unhoused\", \"arrests\": 0.062163393576877696, \"_order\": 1}, {\"city\": \"Portland\", \"simplified_housing_status\": \"Address missing or unknown\", \"arrests\": 0.037002694792964565, \"_order\": 3}, {\"city\": \"Portland\", \"simplified_housing_status\": \"Housed\", \"arrests\": 0.4633595085624873, \"_order\": 2}, {\"city\": \"Portland\", \"simplified_housing_status\": \"Unhoused\", \"arrests\": 0.4996377966445481, \"_order\": 1}, {\"city\": \"Sacramento\", \"simplified_housing_status\": \"Address missing or unknown\", \"arrests\": 0.0064451123117280195, \"_order\": 3}, {\"city\": \"Sacramento\", \"simplified_housing_status\": \"Housed\", \"arrests\": 0.7318474251399916, \"_order\": 2}, {\"city\": \"Sacramento\", \"simplified_housing_status\": \"Unhoused\", \"arrests\": 0.2617074625482804, \"_order\": 1}, {\"city\": \"San Diego\", \"simplified_housing_status\": \"Address missing or unknown\", \"arrests\": 0.3052627777209277, \"_order\": 3}, {\"city\": \"San Diego\", \"simplified_housing_status\": \"Housed\", \"arrests\": 0.5960006982525627, \"_order\": 2}, {\"city\": \"San Diego\", \"simplified_housing_status\": \"Unhoused\", \"arrests\": 0.09873652402650952, \"_order\": 1}, {\"city\": \"Seattle\", \"simplified_housing_status\": \"Address missing or unknown\", \"arrests\": 0.10829792768577126, \"_order\": 3}, {\"city\": \"Seattle\", \"simplified_housing_status\": \"Housed\", \"arrests\": 0.7496170409549409, \"_order\": 2}, {\"city\": \"Seattle\", \"simplified_housing_status\": \"Unhoused\", \"arrests\": 0.14208503135928785, \"_order\": 1}]}}, {\"mode\": \"vega-lite\"});\n",
       "</script>"
      ],
      "text/plain": [
       "alt.FacetChart(...)"
      ]
     },
     "execution_count": 33,
     "metadata": {},
     "output_type": "execute_result"
    }
   ],
   "source": [
    "facet_and_config(\n",
    "    arrests_base_seattle,\n",
    "    city_sort=['Portland', 'Sacramento', 'Los Angeles',\n",
    "          'Seattle', 'San Diego', 'Oakland'],\n",
    "    title_size=28,\n",
    "    subtitle_size=20,\n",
    ")"
   ]
  },
  {
   "cell_type": "markdown",
   "id": "352f393c-b5d6-40b2-b795-f703e0b13175",
   "metadata": {},
   "source": [
    "#### [In story draft](https://docs.google.com/document/d/13YtdcIQttSUras5WUCrisBa8xG8waVq6OkOUpPaENZE/edit#bookmark=id.ilojw9v0ijv8)"
   ]
  },
  {
   "cell_type": "code",
   "execution_count": 34,
   "id": "1e521b2a-2f72-46d3-95c3-4063e574a2f8",
   "metadata": {},
   "outputs": [
    {
     "data": {
      "text/html": [
       "\n",
       "<div id=\"altair-viz-bf3e18cd3d2d42c9a2215b26f2838132\"></div>\n",
       "<script type=\"text/javascript\">\n",
       "  var VEGA_DEBUG = (typeof VEGA_DEBUG == \"undefined\") ? {} : VEGA_DEBUG;\n",
       "  (function(spec, embedOpt){\n",
       "    let outputDiv = document.currentScript.previousElementSibling;\n",
       "    if (outputDiv.id !== \"altair-viz-bf3e18cd3d2d42c9a2215b26f2838132\") {\n",
       "      outputDiv = document.getElementById(\"altair-viz-bf3e18cd3d2d42c9a2215b26f2838132\");\n",
       "    }\n",
       "    const paths = {\n",
       "      \"vega\": \"https://cdn.jsdelivr.net/npm//vega@5?noext\",\n",
       "      \"vega-lib\": \"https://cdn.jsdelivr.net/npm//vega-lib?noext\",\n",
       "      \"vega-lite\": \"https://cdn.jsdelivr.net/npm//vega-lite@4.17.0?noext\",\n",
       "      \"vega-embed\": \"https://cdn.jsdelivr.net/npm//vega-embed@6?noext\",\n",
       "    };\n",
       "\n",
       "    function maybeLoadScript(lib, version) {\n",
       "      var key = `${lib.replace(\"-\", \"\")}_version`;\n",
       "      return (VEGA_DEBUG[key] == version) ?\n",
       "        Promise.resolve(paths[lib]) :\n",
       "        new Promise(function(resolve, reject) {\n",
       "          var s = document.createElement('script');\n",
       "          document.getElementsByTagName(\"head\")[0].appendChild(s);\n",
       "          s.async = true;\n",
       "          s.onload = () => {\n",
       "            VEGA_DEBUG[key] = version;\n",
       "            return resolve(paths[lib]);\n",
       "          };\n",
       "          s.onerror = () => reject(`Error loading script: ${paths[lib]}`);\n",
       "          s.src = paths[lib];\n",
       "        });\n",
       "    }\n",
       "\n",
       "    function showError(err) {\n",
       "      outputDiv.innerHTML = `<div class=\"error\" style=\"color:red;\">${err}</div>`;\n",
       "      throw err;\n",
       "    }\n",
       "\n",
       "    function displayChart(vegaEmbed) {\n",
       "      vegaEmbed(outputDiv, spec, embedOpt)\n",
       "        .catch(err => showError(`Javascript Error: ${err.message}<br>This usually means there's a typo in your chart specification. See the javascript console for the full traceback.`));\n",
       "    }\n",
       "\n",
       "    if(typeof define === \"function\" && define.amd) {\n",
       "      requirejs.config({paths});\n",
       "      require([\"vega-embed\"], displayChart, err => showError(`Error loading script: ${err.message}`));\n",
       "    } else {\n",
       "      maybeLoadScript(\"vega\", \"5\")\n",
       "        .then(() => maybeLoadScript(\"vega-lite\", \"4.17.0\"))\n",
       "        .then(() => maybeLoadScript(\"vega-embed\", \"6\"))\n",
       "        .catch(showError)\n",
       "        .then(() => displayChart(vegaEmbed));\n",
       "    }\n",
       "  })({\"config\": {\"view\": {\"width\": 320, \"height\": 500, \"strokeOpacity\": 0}, \"background\": \"#f9f9f9\", \"padding\": {\"left\": 20, \"top\": 20, \"right\": 20, \"bottom\": 80}, \"arc\": {\"fill\": \"#0077bb\"}, \"area\": {\"fill\": \"#0077bb\"}, \"line\": {\"stroke\": \"#0077bb\", \"strokeWidth\": 3}, \"path\": {\"stroke\": \"#0077bb\"}, \"rect\": {\"fill\": \"#0077bb\"}, \"shape\": {\"stroke\": \"#0077bb\"}, \"bar\": {\"fill\": \"#0077bb\"}, \"point\": {\"stroke\": \"#0077bb\"}, \"symbol\": {\"fill\": \"#0077bb\", \"size\": 30}, \"title\": {\"font\": \"Tenon\", \"fontSize\": 28, \"color\": \"#222222\", \"fontWeight\": 500, \"align\": \"left\", \"anchor\": \"start\", \"subtitleFont\": \"Tenon\", \"subtitleColor\": \"#222222\", \"subtitleFontSize\": 20, \"subtitleFontWeight\": 300, \"subtitlePadding\": 10, \"subtitleLineHeight\": 24, \"offset\": 22}, \"axis\": {\"gridColor\": \"#dddddd\", \"title\": null, \"titleColor\": \"#666666\", \"titleFontWeight\": 300, \"labelColor\": \"#666666\", \"labelFont\": \"Tenon\", \"labelFontSize\": 13, \"labelFontWeight\": 400, \"labelFlush\": false, \"labelPadding\": 5, \"tickSize\": 6}, \"axisX\": {\"domainColor\": \"#666666\", \"tickColor\": \"#666666\"}, \"axisY\": {\"domainColor\": \"#f9f9f9\", \"tickColor\": \"#f9f9f9\", \"labels\": false}, \"legend\": {\"title\": null, \"orient\": \"top\", \"direction\": \"horizontal\", \"offset\": 40, \"columnPadding\": 20, \"titleFont\": \"Tenon\", \"titleFontSize\": 16, \"titleFontWeight\": 400, \"labelAlign\": \"left\", \"labelFont\": \"Tenon\", \"labelFontSize\": 15, \"labelFontWeight\": 300, \"labelColor\": \"#222222\", \"labelBaseline\": \"middle\", \"rowPadding\": 10, \"symbolType\": \"square\"}}, \"data\": {\"name\": \"data-8c2fe9a62a41f24b93bb691be64174bb\"}, \"facet\": {\"row\": {\"field\": \"city\", \"header\": {\"labelAlign\": \"left\", \"labelAnchor\": \"start\", \"labelFont\": \"Tenon\", \"labelFontSize\": 15, \"labelOrient\": \"top\", \"labelPadding\": 5}, \"sort\": [\"Portland\", \"Sacramento\", \"Los Angeles\", \"San Diego\", \"Oakland\"], \"title\": null, \"type\": \"nominal\"}}, \"spec\": {\"layer\": [{\"layer\": [{\"mark\": {\"type\": \"bar\", \"size\": 25}, \"encoding\": {\"fill\": {\"field\": \"simplified_housing_status\", \"legend\": {\"labelLimit\": 0, \"orient\": \"top\", \"title\": null, \"titleLimit\": 0, \"values\": [\"Unhoused\", \"Housed\", \"No information/Unknown\"]}, \"scale\": {\"domain\": [\"Unhoused\", \"Housed\", \"Address missing or unknown\"], \"range\": [\"#004488\", \"#349AC2\", \"#CCCCCC\"]}, \"type\": \"nominal\"}, \"opacity\": {\"condition\": {\"value\": 0.5, \"test\": \"(datum.city === 'Seattle')\"}, \"value\": 1}, \"order\": {\"field\": \"_order\", \"type\": \"quantitative\"}, \"x\": {\"axis\": null, \"field\": \"arrests\", \"stack\": \"zero\", \"title\": null, \"type\": \"quantitative\"}}}, {\"mark\": {\"type\": \"text\", \"align\": \"right\", \"dx\": -5, \"font\": \"Tenon\", \"fontSize\": 14}, \"encoding\": {\"color\": {\"condition\": {\"value\": \"black\", \"test\": \"(datum.simplified_housing_status === 'Address missing or unknown')\"}, \"value\": \"white\"}, \"order\": {\"field\": \"_order\", \"type\": \"quantitative\"}, \"text\": {\"field\": \"arrests\", \"format\": \".0%\", \"type\": \"quantitative\"}, \"x\": {\"field\": \"arrests\", \"stack\": \"zero\", \"title\": null, \"type\": \"quantitative\"}}, \"transform\": [{\"filter\": \"(datum.arrests > 0.04)\"}]}], \"height\": 35, \"title\": {\"text\": \"datum.city\"}, \"transform\": [{\"filter\": \"(datum.city !== 'Seattle')\"}], \"width\": 400}]}, \"resolve\": {\"axis\": {\"x\": \"independent\"}}, \"title\": {\"text\": [\"Police disproportionately\", \"arrest unhoused people in West\", \"Coast cities\"], \"subtitle\": [\"From 2017 through 2020, unhoused\", \"people made up at most an estimated 2%\", \"of the population in each of the\", \"following cities.\"]}, \"$schema\": \"https://vega.github.io/schema/vega-lite/v4.17.0.json\", \"datasets\": {\"data-8c2fe9a62a41f24b93bb691be64174bb\": [{\"city\": \"Los Angeles\", \"simplified_housing_status\": \"Address missing or unknown\", \"arrests\": 0.0004966011769225202, \"_order\": 3}, {\"city\": \"Los Angeles\", \"simplified_housing_status\": \"Housed\", \"arrests\": 0.8322445593778011, \"_order\": 2}, {\"city\": \"Los Angeles\", \"simplified_housing_status\": \"Unhoused\", \"arrests\": 0.16725883944527645, \"_order\": 1}, {\"city\": \"Oakland\", \"simplified_housing_status\": \"Address missing or unknown\", \"arrests\": 0.018890848978352043, \"_order\": 3}, {\"city\": \"Oakland\", \"simplified_housing_status\": \"Housed\", \"arrests\": 0.9189457574447703, \"_order\": 2}, {\"city\": \"Oakland\", \"simplified_housing_status\": \"Unhoused\", \"arrests\": 0.062163393576877696, \"_order\": 1}, {\"city\": \"Portland\", \"simplified_housing_status\": \"Address missing or unknown\", \"arrests\": 0.037002694792964565, \"_order\": 3}, {\"city\": \"Portland\", \"simplified_housing_status\": \"Housed\", \"arrests\": 0.4633595085624873, \"_order\": 2}, {\"city\": \"Portland\", \"simplified_housing_status\": \"Unhoused\", \"arrests\": 0.4996377966445481, \"_order\": 1}, {\"city\": \"Sacramento\", \"simplified_housing_status\": \"Address missing or unknown\", \"arrests\": 0.0064451123117280195, \"_order\": 3}, {\"city\": \"Sacramento\", \"simplified_housing_status\": \"Housed\", \"arrests\": 0.7318474251399916, \"_order\": 2}, {\"city\": \"Sacramento\", \"simplified_housing_status\": \"Unhoused\", \"arrests\": 0.2617074625482804, \"_order\": 1}, {\"city\": \"San Diego\", \"simplified_housing_status\": \"Address missing or unknown\", \"arrests\": 0.3052627777209277, \"_order\": 3}, {\"city\": \"San Diego\", \"simplified_housing_status\": \"Housed\", \"arrests\": 0.5960006982525627, \"_order\": 2}, {\"city\": \"San Diego\", \"simplified_housing_status\": \"Unhoused\", \"arrests\": 0.09873652402650952, \"_order\": 1}, {\"city\": \"Seattle\", \"simplified_housing_status\": \"Address missing or unknown\", \"arrests\": 0.10829792768577126, \"_order\": 3}, {\"city\": \"Seattle\", \"simplified_housing_status\": \"Housed\", \"arrests\": 0.7496170409549409, \"_order\": 2}, {\"city\": \"Seattle\", \"simplified_housing_status\": \"Unhoused\", \"arrests\": 0.14208503135928785, \"_order\": 1}]}}, {\"mode\": \"vega-lite\"});\n",
       "</script>"
      ],
      "text/plain": [
       "alt.FacetChart(...)"
      ]
     },
     "execution_count": 34,
     "metadata": {},
     "output_type": "execute_result"
    }
   ],
   "source": [
    "facet_and_config(\n",
    "    arrests_base_story,\n",
    "    city_sort=['Portland', 'Sacramento', 'Los Angeles', 'San Diego', 'Oakland'],\n",
    "    title_str=all_arrests_title_formatted,\n",
    "    subtitle_str=all_arrests_subtitle_formatted,\n",
    "    title_size=28,\n",
    "    subtitle_size=20,\n",
    ")"
   ]
  },
  {
   "cell_type": "markdown",
   "id": "ef651fd6-c0e4-42c0-bc47-6ad95052a6f6",
   "metadata": {},
   "source": [
    "***"
   ]
  },
  {
   "cell_type": "markdown",
   "id": "f696883d-902c-4f1c-a7d6-6f2b226da603",
   "metadata": {},
   "source": [
    "# The rest is to be restructured!"
   ]
  },
  {
   "cell_type": "markdown",
   "id": "fed8f787-f469-452a-af55-26f729f9d757",
   "metadata": {
    "tags": []
   },
   "source": [
    "### Categorization: Regex"
   ]
  },
  {
   "cell_type": "markdown",
   "id": "e76973ea-88b9-4a60-8963-d2fd39067324",
   "metadata": {},
   "source": [
    "#### Approach, 'Unhoused'\n",
    "\n",
    "I categorized arrest subjects as unhoused if their recorded address:"
   ]
  },
  {
   "cell_type": "code",
   "execution_count": 3,
   "id": "0098e009-dec6-4968-9150-f0b5fb0a3134",
   "metadata": {},
   "outputs": [],
   "source": [
    "regex_df = pd.read_csv('example_data/unhoused_regex.csv', dtype=str)"
   ]
  },
  {
   "cell_type": "markdown",
   "id": "efca56d7-96c4-4729-a54f-d73fe342c79f",
   "metadata": {},
   "source": [
    "- **was** or **contained**:\n",
    "  - \"homeless\" or \"transient\" or what I deemed to be typos thereof.\n",
    "    - `0 TRANSIENT`, `299 17TH STREET TRANSIENT`"
   ]
  },
  {
   "cell_type": "code",
   "execution_count": 4,
   "id": "fc1fac55-1580-4cfa-9a77-5e8c2936cbfb",
   "metadata": {},
   "outputs": [
    {
     "data": {
      "text/html": [
       "<div>\n",
       "<style scoped>\n",
       "    .dataframe tbody tr th:only-of-type {\n",
       "        vertical-align: middle;\n",
       "    }\n",
       "\n",
       "    .dataframe tbody tr th {\n",
       "        vertical-align: top;\n",
       "    }\n",
       "\n",
       "    .dataframe thead th {\n",
       "        text-align: right;\n",
       "    }\n",
       "</style>\n",
       "<table border=\"1\" class=\"dataframe\">\n",
       "  <thead>\n",
       "    <tr style=\"text-align: right;\">\n",
       "      <th></th>\n",
       "      <th>city</th>\n",
       "      <th>_street_address</th>\n",
       "    </tr>\n",
       "  </thead>\n",
       "  <tbody>\n",
       "    <tr>\n",
       "      <th>0</th>\n",
       "      <td>San Diego</td>\n",
       "      <td>NONE TRANSIENT</td>\n",
       "    </tr>\n",
       "    <tr>\n",
       "      <th>1</th>\n",
       "      <td>Oakland</td>\n",
       "      <td>TRAINSENT</td>\n",
       "    </tr>\n",
       "    <tr>\n",
       "      <th>2</th>\n",
       "      <td>Los Angeles</td>\n",
       "      <td>1942 TRANSUEBT</td>\n",
       "    </tr>\n",
       "    <tr>\n",
       "      <th>3</th>\n",
       "      <td>Seattle</td>\n",
       "      <td>00000 HOMELESS SEATTLE, WA 98104</td>\n",
       "    </tr>\n",
       "    <tr>\n",
       "      <th>4</th>\n",
       "      <td>Portland</td>\n",
       "      <td>HOMELESS</td>\n",
       "    </tr>\n",
       "  </tbody>\n",
       "</table>\n",
       "</div>"
      ],
      "text/plain": [
       "          city                   _street_address\n",
       "0    San Diego                    NONE TRANSIENT\n",
       "1      Oakland                         TRAINSENT\n",
       "2  Los Angeles                    1942 TRANSUEBT\n",
       "3      Seattle  00000 HOMELESS SEATTLE, WA 98104\n",
       "4     Portland                          HOMELESS"
      ]
     },
     "execution_count": 4,
     "metadata": {},
     "output_type": "execute_result"
    }
   ],
   "source": [
    "regex_df[regex_df['_street_address'].str.contains('T[A-Z]+T|H[A-Z]+SS')].head()"
   ]
  },
  {
   "cell_type": "markdown",
   "id": "55b40e4b-b686-498e-bab8-1ca39d0d9278",
   "metadata": {},
   "source": [
    "  - The name of a social service or emergency shelter"
   ]
  },
  {
   "cell_type": "code",
   "execution_count": 5,
   "id": "104c7f0b-8f38-488e-9576-65077aeacb9f",
   "metadata": {},
   "outputs": [
    {
     "data": {
      "text/html": [
       "<div>\n",
       "<style scoped>\n",
       "    .dataframe tbody tr th:only-of-type {\n",
       "        vertical-align: middle;\n",
       "    }\n",
       "\n",
       "    .dataframe tbody tr th {\n",
       "        vertical-align: top;\n",
       "    }\n",
       "\n",
       "    .dataframe thead th {\n",
       "        text-align: right;\n",
       "    }\n",
       "</style>\n",
       "<table border=\"1\" class=\"dataframe\">\n",
       "  <thead>\n",
       "    <tr style=\"text-align: right;\">\n",
       "      <th></th>\n",
       "      <th>city</th>\n",
       "      <th>_street_address</th>\n",
       "    </tr>\n",
       "  </thead>\n",
       "  <tbody>\n",
       "    <tr>\n",
       "      <th>20</th>\n",
       "      <td>Seattle</td>\n",
       "      <td>1234 GENERAL DELIVERY SEATTLE, WA 98101</td>\n",
       "    </tr>\n",
       "    <tr>\n",
       "      <th>30</th>\n",
       "      <td>Seattle</td>\n",
       "      <td>99999 GENERAL DELIVERY SEATTLE, WA 98105</td>\n",
       "    </tr>\n",
       "    <tr>\n",
       "      <th>46</th>\n",
       "      <td>Seattle</td>\n",
       "      <td>9999 GENERAL DELIVERY BREMERTON, WA 98337</td>\n",
       "    </tr>\n",
       "    <tr>\n",
       "      <th>51</th>\n",
       "      <td>Oakland</td>\n",
       "      <td>GENERAL DELIVERY</td>\n",
       "    </tr>\n",
       "    <tr>\n",
       "      <th>53</th>\n",
       "      <td>Sacramento</td>\n",
       "      <td>GENERAL DELLIVERY</td>\n",
       "    </tr>\n",
       "  </tbody>\n",
       "</table>\n",
       "</div>"
      ],
      "text/plain": [
       "          city                            _street_address\n",
       "20     Seattle    1234 GENERAL DELIVERY SEATTLE, WA 98101\n",
       "30     Seattle   99999 GENERAL DELIVERY SEATTLE, WA 98105\n",
       "46     Seattle  9999 GENERAL DELIVERY BREMERTON, WA 98337\n",
       "51     Oakland                           GENERAL DELIVERY\n",
       "53  Sacramento                          GENERAL DELLIVERY"
      ]
     },
     "execution_count": 5,
     "metadata": {},
     "output_type": "execute_result"
    }
   ],
   "source": [
    "regex_df[regex_df['_street_address'].str.contains('GENERAL')].head()"
   ]
  },
  {
   "cell_type": "code",
   "execution_count": 6,
   "id": "9f19174c-fcad-49f4-9b53-73799b403b97",
   "metadata": {},
   "outputs": [
    {
     "data": {
      "text/html": [
       "<div>\n",
       "<style scoped>\n",
       "    .dataframe tbody tr th:only-of-type {\n",
       "        vertical-align: middle;\n",
       "    }\n",
       "\n",
       "    .dataframe tbody tr th {\n",
       "        vertical-align: top;\n",
       "    }\n",
       "\n",
       "    .dataframe thead th {\n",
       "        text-align: right;\n",
       "    }\n",
       "</style>\n",
       "<table border=\"1\" class=\"dataframe\">\n",
       "  <thead>\n",
       "    <tr style=\"text-align: right;\">\n",
       "      <th></th>\n",
       "      <th>city</th>\n",
       "      <th>_street_address</th>\n",
       "    </tr>\n",
       "  </thead>\n",
       "  <tbody>\n",
       "    <tr>\n",
       "      <th>131</th>\n",
       "      <td>Oakland</td>\n",
       "      <td>CITY TEAM SHELTER</td>\n",
       "    </tr>\n",
       "  </tbody>\n",
       "</table>\n",
       "</div>"
      ],
      "text/plain": [
       "        city    _street_address\n",
       "131  Oakland  CITY TEAM SHELTER"
      ]
     },
     "execution_count": 6,
     "metadata": {},
     "output_type": "execute_result"
    }
   ],
   "source": [
    "regex_df[regex_df['_street_address'].str.contains('CITY TEAM')].head()"
   ]
  },
  {
   "cell_type": "markdown",
   "id": "2d465ebf-5243-4002-9035-a1a256b67e14",
   "metadata": {},
   "source": [
    "  - The name of or reference to a correctional facility"
   ]
  },
  {
   "cell_type": "code",
   "execution_count": 7,
   "id": "a484ffe6-e7c4-407f-90f9-087187010c34",
   "metadata": {},
   "outputs": [
    {
     "data": {
      "text/html": [
       "<div>\n",
       "<style scoped>\n",
       "    .dataframe tbody tr th:only-of-type {\n",
       "        vertical-align: middle;\n",
       "    }\n",
       "\n",
       "    .dataframe tbody tr th {\n",
       "        vertical-align: top;\n",
       "    }\n",
       "\n",
       "    .dataframe thead th {\n",
       "        text-align: right;\n",
       "    }\n",
       "</style>\n",
       "<table border=\"1\" class=\"dataframe\">\n",
       "  <thead>\n",
       "    <tr style=\"text-align: right;\">\n",
       "      <th></th>\n",
       "      <th>city</th>\n",
       "      <th>_street_address</th>\n",
       "    </tr>\n",
       "  </thead>\n",
       "  <tbody>\n",
       "    <tr>\n",
       "      <th>315</th>\n",
       "      <td>Sacramento</td>\n",
       "      <td>DVI STATE PRISON</td>\n",
       "    </tr>\n",
       "    <tr>\n",
       "      <th>558</th>\n",
       "      <td>Oakland</td>\n",
       "      <td>CONTRA COSTA JAIL</td>\n",
       "    </tr>\n",
       "    <tr>\n",
       "      <th>583</th>\n",
       "      <td>Sacramento</td>\n",
       "      <td>1 CDCRSTATE PRISON</td>\n",
       "    </tr>\n",
       "    <tr>\n",
       "      <th>685</th>\n",
       "      <td>Oakland</td>\n",
       "      <td>SANTA CLARA COUNTY JAIL</td>\n",
       "    </tr>\n",
       "    <tr>\n",
       "      <th>737</th>\n",
       "      <td>Oakland</td>\n",
       "      <td>SAN FRANCISCO COUNTY JAIL</td>\n",
       "    </tr>\n",
       "  </tbody>\n",
       "</table>\n",
       "</div>"
      ],
      "text/plain": [
       "           city            _street_address\n",
       "315  Sacramento           DVI STATE PRISON\n",
       "558     Oakland          CONTRA COSTA JAIL\n",
       "583  Sacramento         1 CDCRSTATE PRISON\n",
       "685     Oakland    SANTA CLARA COUNTY JAIL\n",
       "737     Oakland  SAN FRANCISCO COUNTY JAIL"
      ]
     },
     "execution_count": 7,
     "metadata": {},
     "output_type": "execute_result"
    }
   ],
   "source": [
    "regex_df[regex_df['_street_address'].str.contains('JAIL|PRISON|RCCC')].head()"
   ]
  },
  {
   "cell_type": "markdown",
   "id": "de2cf56f-45f6-42eb-a5a2-76927fe0ce02",
   "metadata": {},
   "source": [
    "- **corresponded to an address of**:\n",
    "  - a social service or emergency shelter\n",
    "    - `5130 LEARY SEATTLE` ([Ballard Food Bank](https://www.ballardfoodbank.org/))\n",
    "  - a government-run social service\n",
    "    - `2415 W 6TH ST` ([LA County Department of Social Services](http://my.dpss.lacounty.gov/dpss/offices/default.cfm?orgid=336))"
   ]
  },
  {
   "cell_type": "markdown",
   "id": "0dde9e5b-e481-4400-9948-dcc733923e0e",
   "metadata": {},
   "source": [
    "#### Approach, 'Housed'\n",
    "\n",
    "I used regular expressions to find PO Boxes as well, because they're an easy pattern to match and it would save a lot of time and/or money on geocoding services. **I categorized arrests for which addresses were specific PO Box numbers as 'Housed.'**\n",
    "\n",
    "##### Concern\n",
    "\n",
    "I can't know what proportion of people with PO Box numbers are actually housed, but I made this decision based on two premises:\n",
    "1. PO Boxes cost money to reserve (in Portland, the cheapest size is $16 a month and the applicant has to pay for at least three months up front)\n",
    "2. [Applying](https://about.usps.com/forms/ps1093.pdf) requires two proofs of identication, one of which \"must be traceable to the bearer (prove your physical address).\""
   ]
  },
  {
   "cell_type": "markdown",
   "id": "f460d9a4-7d74-48fd-8bb1-07f8142361a4",
   "metadata": {
    "tags": []
   },
   "source": [
    "### Categorization: Geocoding\n",
    "\n",
    "#### Data quality\n",
    "\n",
    "I geocoded addresses to more efficiently normalize address fields.\n",
    "\n",
    "##### U.S. Census Bureau\n",
    "\n",
    "I geocoded addresses first by attempting to use the free (albeit slow, and less robust) U.S. Census Bureau [geocoding API]. This API returns metadata regarding whether an address matched and, if it matched, whether the match is `exact` or `inexact`. **I used the output of `exact` matches only.**\n",
    "\n",
    "##### Geocodio\n",
    "\n",
    "For the second pass, I used [Geocodio](https://www.geocod.io). Geocodio returns metadata regarding a match's `accuracy type` and `accuracy score`.\n",
    "\n",
    "Accuracy types, per [Geocodio documentation](https://www.geocod.io/guides/accuracy-types-scores/):\n",
    "\n",
    "> Accuracy types include:\n",
    "> \n",
    "> - **rooftop**: on the exact parcel\n",
    "> - **point**: generally, in front of the parcel on the street\n",
    "> - **range_interpolation**: generally, in front of the parcel on the street\n",
    "> - **nearest_rooftop_match**: the nearest rooftop point if the exact point is unavailable\n",
    "> - **intersection**: An intersection between two streets\n",
    "> - **street_center**: A central point on the street\n",
    "> - **place**: zip code or city centroid\n",
    "> - **county**: county centroid\n",
    "> - **state**: state centroid\n",
    "\n",
    "Acccuracy scores:\n",
    "\n",
    "> Accuracy scores are a reflection of the amount of differences between the input and the output. We generally recommend using results with an accuracy score above 0.8. Results below that threshold can indicate potential issues, such as formatting issues or incomplete addresses.\n",
    "> \n",
    "> - **1**: the exact input was returned\n",
    "> - **0.8**: Very close to the input with minor changes made\n",
    "> - **<0.6**: More significant changes made; use these results with caution\n",
    "\n",
    "I used the following criteria for using outputs:\n",
    "\n",
    "1. `Accuracy Type` must be `rooftop` or `range_interpolation` **and**\n",
    "2. `Accuracy Score` must be >=.76\n",
    "\n",
    "I found upon manual review that addresses were between .76 and .8 when the street names had an edit distance of about two characters, e.g. the input was `123 Brodway` and the output was `123 Broadway`."
   ]
  },
  {
   "cell_type": "markdown",
   "id": "a7f0d6f7-2ead-47a8-8e10-741ac993c4a4",
   "metadata": {},
   "source": [
    "#### Addresses to match on\n",
    "\n",
    "This is an excerpt from California's \"HUD 2021 Continuum of Care Homeless Assistance Programs Housing Inventory Count Report.\" Note that the inventory includes both emergency shelter and permanent housing:\n",
    "\n",
    "![hic](visuals/hic_report.png)"
   ]
  },
  {
   "cell_type": "markdown",
   "id": "1e5ff14c-add1-4e51-a9c5-96013b5d485b",
   "metadata": {},
   "source": [
    "HUD tracks addresses of the service providers in the [data](https://www.hudexchange.info/resource/3031/pit-and-hic-data-since-2007/) that underlies these counts."
   ]
  },
  {
   "cell_type": "code",
   "execution_count": 8,
   "id": "0185f353-0e2d-4d71-a46e-6164514705d5",
   "metadata": {},
   "outputs": [],
   "source": [
    "hic = pd.read_excel(\n",
    "    '../US/01_inputs/HUD/HIC/2019-Housing-Inventory-County-RawFile.xlsx', dtype=str)"
   ]
  },
  {
   "cell_type": "markdown",
   "id": "cede5316-0746-4df4-a814-9357ccc0e6ec",
   "metadata": {},
   "source": [
    "But the data is irregular:"
   ]
  },
  {
   "cell_type": "code",
   "execution_count": 9,
   "id": "e4f8eea5-88d2-4f22-9c58-feca5b4efb27",
   "metadata": {},
   "outputs": [
    {
     "data": {
      "text/html": [
       "<div>\n",
       "<style scoped>\n",
       "    .dataframe tbody tr th:only-of-type {\n",
       "        vertical-align: middle;\n",
       "    }\n",
       "\n",
       "    .dataframe tbody tr th {\n",
       "        vertical-align: top;\n",
       "    }\n",
       "\n",
       "    .dataframe thead th {\n",
       "        text-align: right;\n",
       "    }\n",
       "</style>\n",
       "<table border=\"1\" class=\"dataframe\">\n",
       "  <thead>\n",
       "    <tr style=\"text-align: right;\">\n",
       "      <th></th>\n",
       "      <th>address1</th>\n",
       "      <th>city</th>\n",
       "      <th>state</th>\n",
       "    </tr>\n",
       "  </thead>\n",
       "  <tbody>\n",
       "    <tr>\n",
       "      <th>4950</th>\n",
       "      <td>9251 PIONEER BLVD.</td>\n",
       "      <td>SANTA FE SPRINGS</td>\n",
       "      <td>CA</td>\n",
       "    </tr>\n",
       "    <tr>\n",
       "      <th>5473</th>\n",
       "      <td>9251 PIONEER BLVD.</td>\n",
       "      <td>SANTA FE SPRINGS</td>\n",
       "      <td>CA</td>\n",
       "    </tr>\n",
       "    <tr>\n",
       "      <th>5475</th>\n",
       "      <td>9251 PIONEER BLVD.</td>\n",
       "      <td>SANTA FE SPRINGS</td>\n",
       "      <td>CA</td>\n",
       "    </tr>\n",
       "    <tr>\n",
       "      <th>5476</th>\n",
       "      <td>9251 PIONEER BLVD.</td>\n",
       "      <td>SANTA FE SPRINGS</td>\n",
       "      <td>CA</td>\n",
       "    </tr>\n",
       "    <tr>\n",
       "      <th>5477</th>\n",
       "      <td>9251 Pioneer Blvd</td>\n",
       "      <td>Santa Fe Springs</td>\n",
       "      <td>CA</td>\n",
       "    </tr>\n",
       "    <tr>\n",
       "      <th>5478</th>\n",
       "      <td>9251 Pioneer Blvd</td>\n",
       "      <td>Santa Fe Springs</td>\n",
       "      <td>CA</td>\n",
       "    </tr>\n",
       "  </tbody>\n",
       "</table>\n",
       "</div>"
      ],
      "text/plain": [
       "                address1              city state\n",
       "4950  9251 PIONEER BLVD.  SANTA FE SPRINGS    CA\n",
       "5473  9251 PIONEER BLVD.  SANTA FE SPRINGS    CA\n",
       "5475  9251 PIONEER BLVD.  SANTA FE SPRINGS    CA\n",
       "5476  9251 PIONEER BLVD.  SANTA FE SPRINGS    CA\n",
       "5477   9251 Pioneer Blvd  Santa Fe Springs    CA\n",
       "5478   9251 Pioneer Blvd  Santa Fe Springs    CA"
      ]
     },
     "execution_count": 9,
     "metadata": {},
     "output_type": "execute_result"
    }
   ],
   "source": [
    "hic[(hic['HudNum'] == 'CA-600') & (hic['address1'].str.contains('9251'))][\n",
    "    ['address1', 'city', 'state']\n",
    "].sort_values(by=['address1'])"
   ]
  },
  {
   "cell_type": "markdown",
   "id": "d98ee12f-bc42-4178-9dfe-9d470c66684f",
   "metadata": {},
   "source": [
    "So I also geocoded all addresses of service providers that operate in the jurisdictions for which I have arrest data. I set another criterion, as well:"
   ]
  },
  {
   "cell_type": "code",
   "execution_count": 10,
   "id": "608e4200-235f-4996-8549-59f1ce94eaf5",
   "metadata": {},
   "outputs": [
    {
     "data": {
      "text/html": [
       "<div>\n",
       "<style scoped>\n",
       "    .dataframe tbody tr th:only-of-type {\n",
       "        vertical-align: middle;\n",
       "    }\n",
       "\n",
       "    .dataframe tbody tr th {\n",
       "        vertical-align: top;\n",
       "    }\n",
       "\n",
       "    .dataframe thead th {\n",
       "        text-align: right;\n",
       "    }\n",
       "</style>\n",
       "<table border=\"1\" class=\"dataframe\">\n",
       "  <thead>\n",
       "    <tr style=\"text-align: right;\">\n",
       "      <th></th>\n",
       "      <th>Organization Name</th>\n",
       "      <th>address1</th>\n",
       "      <th>city</th>\n",
       "      <th>state</th>\n",
       "      <th>Project Type</th>\n",
       "    </tr>\n",
       "  </thead>\n",
       "  <tbody>\n",
       "    <tr>\n",
       "      <th>4950</th>\n",
       "      <td>Community Development Commission of the County...</td>\n",
       "      <td>9251 PIONEER BLVD.</td>\n",
       "      <td>SANTA FE SPRINGS</td>\n",
       "      <td>CA</td>\n",
       "      <td>RRH</td>\n",
       "    </tr>\n",
       "    <tr>\n",
       "      <th>5473</th>\n",
       "      <td>The Whole Child</td>\n",
       "      <td>9251 PIONEER BLVD.</td>\n",
       "      <td>SANTA FE SPRINGS</td>\n",
       "      <td>CA</td>\n",
       "      <td>PSH</td>\n",
       "    </tr>\n",
       "    <tr>\n",
       "      <th>5475</th>\n",
       "      <td>The Whole Child</td>\n",
       "      <td>9251 PIONEER BLVD.</td>\n",
       "      <td>SANTA FE SPRINGS</td>\n",
       "      <td>CA</td>\n",
       "      <td>RRH</td>\n",
       "    </tr>\n",
       "    <tr>\n",
       "      <th>5476</th>\n",
       "      <td>The Whole Child</td>\n",
       "      <td>9251 PIONEER BLVD.</td>\n",
       "      <td>SANTA FE SPRINGS</td>\n",
       "      <td>CA</td>\n",
       "      <td>RRH</td>\n",
       "    </tr>\n",
       "    <tr>\n",
       "      <th>5477</th>\n",
       "      <td>The Whole Child</td>\n",
       "      <td>9251 Pioneer Blvd</td>\n",
       "      <td>Santa Fe Springs</td>\n",
       "      <td>CA</td>\n",
       "      <td>ES</td>\n",
       "    </tr>\n",
       "    <tr>\n",
       "      <th>5478</th>\n",
       "      <td>The Whole Child</td>\n",
       "      <td>9251 Pioneer Blvd</td>\n",
       "      <td>Santa Fe Springs</td>\n",
       "      <td>CA</td>\n",
       "      <td>RRH</td>\n",
       "    </tr>\n",
       "  </tbody>\n",
       "</table>\n",
       "</div>"
      ],
      "text/plain": [
       "                                      Organization Name            address1  \\\n",
       "4950  Community Development Commission of the County...  9251 PIONEER BLVD.   \n",
       "5473                                    The Whole Child  9251 PIONEER BLVD.   \n",
       "5475                                    The Whole Child  9251 PIONEER BLVD.   \n",
       "5476                                    The Whole Child  9251 PIONEER BLVD.   \n",
       "5477                                    The Whole Child   9251 Pioneer Blvd   \n",
       "5478                                    The Whole Child   9251 Pioneer Blvd   \n",
       "\n",
       "                  city state Project Type  \n",
       "4950  SANTA FE SPRINGS    CA          RRH  \n",
       "5473  SANTA FE SPRINGS    CA          PSH  \n",
       "5475  SANTA FE SPRINGS    CA          RRH  \n",
       "5476  SANTA FE SPRINGS    CA          RRH  \n",
       "5477  Santa Fe Springs    CA           ES  \n",
       "5478  Santa Fe Springs    CA          RRH  "
      ]
     },
     "execution_count": 10,
     "metadata": {},
     "output_type": "execute_result"
    }
   ],
   "source": [
    "hic[(hic['HudNum'] == 'CA-600') & (hic['address1'].str.contains('9251'))][\n",
    "    ['Organization Name', 'address1', 'city', 'state', 'Project Type']\n",
    "].sort_values(by=['address1'])"
   ]
  },
  {
   "cell_type": "markdown",
   "id": "9d66c643-385c-4b42-9c06-f8212b53d74f",
   "metadata": {},
   "source": [
    "One address can correspond to arbitrarily many organizations and, more importantly, greater than one `Project Type`. So after geocoding, I also produced sets of each `Project Type` recorded for an address:"
   ]
  },
  {
   "cell_type": "code",
   "execution_count": 11,
   "id": "15d47e63-f4e3-4108-9f52-857af5846c53",
   "metadata": {},
   "outputs": [],
   "source": [
    "hic_processed = pd.read_csv(\n",
    "    '../US/04_outputs/c02_hic_west_coast_geocoded_with_type.csv', dtype=str)"
   ]
  },
  {
   "cell_type": "code",
   "execution_count": 12,
   "id": "4aade9c9-ab77-438c-a76e-576eee7039a2",
   "metadata": {},
   "outputs": [
    {
     "data": {
      "text/html": [
       "<div>\n",
       "<style scoped>\n",
       "    .dataframe tbody tr th:only-of-type {\n",
       "        vertical-align: middle;\n",
       "    }\n",
       "\n",
       "    .dataframe tbody tr th {\n",
       "        vertical-align: top;\n",
       "    }\n",
       "\n",
       "    .dataframe thead th {\n",
       "        text-align: right;\n",
       "    }\n",
       "</style>\n",
       "<table border=\"1\" class=\"dataframe\">\n",
       "  <thead>\n",
       "    <tr style=\"text-align: right;\">\n",
       "      <th></th>\n",
       "      <th>_geocodio_street_address</th>\n",
       "      <th>_project_types</th>\n",
       "      <th>_subcategory</th>\n",
       "      <th>_category</th>\n",
       "    </tr>\n",
       "  </thead>\n",
       "  <tbody>\n",
       "    <tr>\n",
       "      <th>3538</th>\n",
       "      <td>9251 PIONEER BLVD</td>\n",
       "      <td>RRH; PSH; ES</td>\n",
       "      <td>mixed support</td>\n",
       "      <td>sheltered</td>\n",
       "    </tr>\n",
       "  </tbody>\n",
       "</table>\n",
       "</div>"
      ],
      "text/plain": [
       "     _geocodio_street_address _project_types   _subcategory  _category\n",
       "3538        9251 PIONEER BLVD   RRH; PSH; ES  mixed support  sheltered"
      ]
     },
     "execution_count": 12,
     "metadata": {},
     "output_type": "execute_result"
    }
   ],
   "source": [
    "hic_processed[hic_processed['_geocodio_street_address'].str.contains(\n",
    "    '^9251')][['_geocodio_street_address', '_project_types', '_subcategory', '_category']]"
   ]
  },
  {
   "cell_type": "markdown",
   "id": "e08f5918-5b56-4bd9-84a9-2d4f04fadd21",
   "metadata": {},
   "source": [
    "Because the above address provides both emergency shelter and permanent supportive housing, **I did not categorize this address as \"unhoused.\"** I did, however, make a note of the subcategory for future reference.\n",
    "\n",
    "From the set of HIC site addresses, **I categorized each as \"unhoused\" only if the only recorded Project Type was \"ES\" (Emergency Shelter)**:"
   ]
  },
  {
   "cell_type": "code",
   "execution_count": 13,
   "id": "5a3fb28f-19b0-4e05-9484-bdb7dc0321b2",
   "metadata": {},
   "outputs": [
    {
     "data": {
      "text/plain": [
       "array(['ES'], dtype=object)"
      ]
     },
     "execution_count": 13,
     "metadata": {},
     "output_type": "execute_result"
    }
   ],
   "source": [
    "hic_processed[hic_processed['_category'] ==\n",
    "              'unhoused']['_project_types'].unique()"
   ]
  }
 ],
 "metadata": {
  "kernelspec": {
   "display_name": "Python 3 (ipykernel)",
   "language": "python",
   "name": "python3"
  },
  "language_info": {
   "codemirror_mode": {
    "name": "ipython",
    "version": 3
   },
   "file_extension": ".py",
   "mimetype": "text/x-python",
   "name": "python",
   "nbconvert_exporter": "python",
   "pygments_lexer": "ipython3",
   "version": "3.8.5"
  },
  "toc-autonumbering": true,
  "toc-showcode": false,
  "toc-showmarkdowntxt": false
 },
 "nbformat": 4,
 "nbformat_minor": 5
}
