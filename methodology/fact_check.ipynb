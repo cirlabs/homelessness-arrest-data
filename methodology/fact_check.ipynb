{
 "cells": [
  {
   "cell_type": "code",
   "execution_count": null,
   "id": "d2781a5c-9554-4283-b91d-9a07c5331e2c",
   "metadata": {},
   "outputs": [],
   "source": [
    "import sys\n",
    "\n",
    "# append the directory of law module to sys.path list\n",
    "sys.path.append('../modules/')"
   ]
  },
  {
   "cell_type": "code",
   "execution_count": null,
   "id": "6332a18a-b30e-4a70-931e-fb183b7d0ee4",
   "metadata": {},
   "outputs": [],
   "source": [
    "import json\n",
    "import re\n",
    "from textwrap import wrap\n",
    "\n",
    "import altair as alt\n",
    "import altair_reveal as reveal\n",
    "import arrest\n",
    "import law\n",
    "import numpy as np\n",
    "import pandas as pd\n",
    "import requests\n",
    "from altair.expr import datum\n",
    "from altair_saver import save\n",
    "from scipy.stats import chi2_contingency\n",
    "from scipy.stats.contingency import expected_freq\n",
    "\n",
    "alt.themes.register('reveal', reveal.theme)\n",
    "alt.themes.enable('reveal')\n",
    "alt.renderers.enable('mimetype')"
   ]
  },
  {
   "cell_type": "markdown",
   "id": "55aeeba7-7955-452e-9a12-6a5a7d97ceb3",
   "metadata": {
    "tags": []
   },
   "source": [
    "## Bunch o' code you don't need to read!"
   ]
  },
  {
   "cell_type": "code",
   "execution_count": null,
   "id": "28669eb6-7ed4-45c8-874e-e5f3891e5223",
   "metadata": {},
   "outputs": [],
   "source": [
    "def load_chart_json(file):\n",
    "    with open(file) as jsonfile:\n",
    "        data = json.dumps(json.load(jsonfile))\n",
    "    new_chart = alt.Chart.from_json(data)\n",
    "    return new_chart"
   ]
  },
  {
   "cell_type": "code",
   "execution_count": null,
   "id": "87aaf674-0251-420e-89ef-893fd572a3f7",
   "metadata": {},
   "outputs": [],
   "source": [
    "def custom_wrap(text, max_width):\n",
    "    width = max_width\n",
    "    wrapped = wrap(text, width)\n",
    "    while ' ' not in wrapped[-1]:\n",
    "        width -= 1\n",
    "        wrapped = custom_wrap(text, width)\n",
    "    return wrapped"
   ]
  },
  {
   "cell_type": "code",
   "execution_count": null,
   "id": "a125a3e3-3fbf-4ff2-99a3-915b2d111ea0",
   "metadata": {},
   "outputs": [],
   "source": [
    "def facet_and_config(\n",
    "    base,\n",
    "    city_sort,\n",
    "    title_str='Draft/Reference',\n",
    "    subtitle_str=None,\n",
    "    title_size=28,\n",
    "    subtitle_size=20,\n",
    "):\n",
    "    \"\"\"This effectively reproduces the config in the template,\n",
    "    but I make it explicit here in case we need to make adjustments.\n",
    "    \"\"\"\n",
    "    chart = (\n",
    "        alt.layer(base)\n",
    "        .facet(\n",
    "            row=alt.Row(\n",
    "                'city:N',\n",
    "                sort=city_sort,\n",
    "                title=None,\n",
    "                header=alt.Header(\n",
    "                    labelFontSize=15,\n",
    "                    labelFont='Tenon',\n",
    "                    labelOrient='top',\n",
    "                    labelAlign='left',\n",
    "                    labelAnchor='start',\n",
    "                    labelPadding=5,\n",
    "                ),\n",
    "            )\n",
    "        )\n",
    "        .resolve_axis(x='independent')\n",
    "        .configure_title(\n",
    "            font='Tenon',\n",
    "            fontSize=title_size,\n",
    "            color='#222222',\n",
    "            fontWeight=500,\n",
    "            align='left',\n",
    "            anchor='start',\n",
    "            subtitleFont='Tenon',\n",
    "            subtitleColor='#222222',\n",
    "            subtitleFontSize=subtitle_size,\n",
    "            subtitleFontWeight=300,\n",
    "            subtitlePadding=10,\n",
    "            subtitleLineHeight=24,\n",
    "            offset=22,\n",
    "        )\n",
    "        .configure_axis(\n",
    "            gridColor='#dddddd',\n",
    "            title=None,\n",
    "            titleColor='#666666',\n",
    "            titleFontWeight=300,\n",
    "            labelColor='#666666',\n",
    "            labelFont='Tenon',\n",
    "            labelFontSize=13,\n",
    "            labelFontWeight=400,\n",
    "            labelFlush=False,\n",
    "            labelPadding=5,\n",
    "            tickSize=6,\n",
    "        )\n",
    "        .configure_axisX(\n",
    "            # labels=False,\n",
    "            domainColor='#666666',\n",
    "            tickColor='#666666',\n",
    "        )\n",
    "        .configure_axisY(labels=False, domainColor='#f9f9f9', tickColor='#f9f9f9')\n",
    "        .configure_legend(\n",
    "            title=None,\n",
    "            orient='top',\n",
    "            direction='horizontal',\n",
    "            offset=40,\n",
    "            columnPadding=20,\n",
    "            titleFont='Tenon',\n",
    "            titleFontSize=16,\n",
    "            titleFontWeight=400,\n",
    "            labelAlign='left',\n",
    "            labelFont='Tenon',\n",
    "            labelFontSize=15,\n",
    "            labelFontWeight=300,\n",
    "            labelColor='#222222',\n",
    "            labelBaseline='middle',\n",
    "            rowPadding=10,\n",
    "            symbolType='square',\n",
    "        )\n",
    "    )\n",
    "    if subtitle_str == None:\n",
    "        return chart.properties(\n",
    "            title={\n",
    "                'text': title_str,\n",
    "            },\n",
    "        )\n",
    "    else:\n",
    "        return chart.properties(\n",
    "            title={\n",
    "                'text': title_str,\n",
    "                'subtitle': subtitle_str,\n",
    "            },\n",
    "        )"
   ]
  },
  {
   "cell_type": "markdown",
   "id": "8958b1da-1402-42ac-bc69-85e8584b5f14",
   "metadata": {},
   "source": [
    "### Importing data"
   ]
  },
  {
   "cell_type": "code",
   "execution_count": null,
   "id": "2caea472-72ec-4bc7-a4c2-a06360d7412e",
   "metadata": {},
   "outputs": [],
   "source": [
    "story_df = pd.read_csv('../US/04_outputs/c05_nibrs_charge_sets_merged.csv',\n",
    "                       dtype=str)"
   ]
  },
  {
   "cell_type": "code",
   "execution_count": null,
   "id": "b5c42b09-1caf-4136-b1f6-94eafbef55da",
   "metadata": {},
   "outputs": [],
   "source": [
    "seattle_df = pd.read_csv('../US/04_outputs/a01_seattle.csv',\n",
    "                         usecols=['_arrest_id', '_arrest_date', '_housing_status', '_city'])"
   ]
  },
  {
   "cell_type": "code",
   "execution_count": null,
   "id": "cd9bb773-13e8-4236-97bc-ff80cc98d298",
   "metadata": {},
   "outputs": [],
   "source": [
    "df = pd.concat([story_df, seattle_df], ignore_index=True)"
   ]
  },
  {
   "cell_type": "code",
   "execution_count": null,
   "id": "a59ab103-2be2-4af9-88b0-8ece5d88a0e4",
   "metadata": {},
   "outputs": [],
   "source": [
    "df.columns = [re.sub('^_', '', x) for x in df.columns]"
   ]
  },
  {
   "cell_type": "code",
   "execution_count": null,
   "id": "e4f3ac7f-f46d-482f-ab1c-40a6d68032b4",
   "metadata": {},
   "outputs": [],
   "source": [
    "df['housing_status'] = df['housing_status'].str.title()"
   ]
  },
  {
   "cell_type": "code",
   "execution_count": null,
   "id": "bd484b46-2f4a-42ce-bc57-b17fcefae9ab",
   "metadata": {},
   "outputs": [],
   "source": [
    "df['simplified_housing_status'] = df['housing_status'].replace(\n",
    "    {'No Information': 'Address missing or unknown',\n",
    "     'Unknown': 'Address missing or unknown'})"
   ]
  },
  {
   "cell_type": "markdown",
   "id": "5ade19e7-d498-44fb-aa0d-e74a2f8fbb68",
   "metadata": {},
   "source": [
    "### Plot"
   ]
  },
  {
   "cell_type": "code",
   "execution_count": null,
   "id": "33b2e31b-3cd0-41db-9c3d-df65590f3616",
   "metadata": {},
   "outputs": [],
   "source": [
    "arrests_by_simplified_housing = df.groupby(['city', 'simplified_housing_status']).agg(\n",
    "    arrests=('arrest_id', 'nunique')\n",
    ")"
   ]
  },
  {
   "cell_type": "code",
   "execution_count": null,
   "id": "02ebfcb4-5e9e-483d-861c-8f5a7ce2ba82",
   "metadata": {},
   "outputs": [],
   "source": [
    "arrests_by_housing = df.groupby(['city', 'housing_status']).agg(\n",
    "    arrests=('arrest_id', 'nunique'))"
   ]
  },
  {
   "cell_type": "code",
   "execution_count": null,
   "id": "349bfc98-09dd-4c73-a309-869606f48852",
   "metadata": {},
   "outputs": [],
   "source": [
    "arrests_by_housing"
   ]
  },
  {
   "cell_type": "markdown",
   "id": "d1767f0b-fad0-420f-bb79-a4beb543ae1b",
   "metadata": {},
   "source": [
    "#### Aggregation"
   ]
  },
  {
   "cell_type": "code",
   "execution_count": null,
   "id": "c9323eca-f34c-441f-8ae7-0e28bc724db3",
   "metadata": {},
   "outputs": [],
   "source": [
    "arrests_by_simplified_housing = df.groupby(['city', 'simplified_housing_status']).agg(\n",
    "    arrests=('arrest_id', 'nunique')\n",
    ")"
   ]
  },
  {
   "cell_type": "code",
   "execution_count": null,
   "id": "5f98a3c7-524c-47f8-a4b8-e8a0ecae895a",
   "metadata": {},
   "outputs": [],
   "source": [
    "arrests_by_housing = df.groupby(['city', 'housing_status']).agg(\n",
    "    arrests=('arrest_id', 'nunique'))"
   ]
  },
  {
   "cell_type": "code",
   "execution_count": null,
   "id": "13654c7d-9a3b-44f7-835f-1306e226129b",
   "metadata": {},
   "outputs": [],
   "source": [
    "arrests_by_city = df.groupby(['city']).agg(arrests=('arrest_id', 'nunique'))"
   ]
  },
  {
   "cell_type": "code",
   "execution_count": null,
   "id": "38405a84-ca61-4337-a92f-97c3b5ecaa51",
   "metadata": {},
   "outputs": [],
   "source": [
    "percent_df = arrests_by_housing.div(arrests_by_city).reset_index()"
   ]
  },
  {
   "cell_type": "code",
   "execution_count": null,
   "id": "3bfa0078-c89a-400f-8f83-36d239820b74",
   "metadata": {},
   "outputs": [],
   "source": [
    "simplified_percent_df = arrests_by_simplified_housing.div(\n",
    "    arrests_by_city).reset_index()"
   ]
  },
  {
   "cell_type": "markdown",
   "id": "19bc1c01-1e40-49c8-a072-09b8bf39c90f",
   "metadata": {},
   "source": [
    "#### Generate field to sort by housing status"
   ]
  },
  {
   "cell_type": "code",
   "execution_count": null,
   "id": "1f043422-26dd-4363-a4b1-0080303b8569",
   "metadata": {},
   "outputs": [],
   "source": [
    "c = dict(zip(['Unhoused', 'Housed', 'No Information',\n",
    "            'Unknown', 'Address missing or unknown'], [1, 2, 3, 3, 3]))"
   ]
  },
  {
   "cell_type": "code",
   "execution_count": null,
   "id": "b2342f1d-b7f1-4ce3-86ad-21002a71b701",
   "metadata": {},
   "outputs": [],
   "source": [
    "percent_df['_order'] = percent_df['housing_status'].replace(c)"
   ]
  },
  {
   "cell_type": "code",
   "execution_count": null,
   "id": "588684e7-7042-4dc7-ad9b-9501116ec85c",
   "metadata": {},
   "outputs": [],
   "source": [
    "simplified_percent_df['_order'] = simplified_percent_df['simplified_housing_status'].replace(\n",
    "    c)"
   ]
  },
  {
   "cell_type": "code",
   "execution_count": null,
   "id": "d0d15001-772b-47ab-9331-d210450929cd",
   "metadata": {},
   "outputs": [],
   "source": [
    "simplified_percent_df"
   ]
  },
  {
   "cell_type": "markdown",
   "id": "2c8121df-b048-4912-ad38-20e785595030",
   "metadata": {},
   "source": [
    "#### Chart"
   ]
  },
  {
   "cell_type": "code",
   "execution_count": null,
   "id": "ba63db72-00e6-48c1-9413-e39ccdee3710",
   "metadata": {},
   "outputs": [],
   "source": [
    "simplified_arrests_by_housing = (\n",
    "    alt.Chart(simplified_percent_df)\n",
    "    .mark_bar(size=25)\n",
    "    .encode(\n",
    "        x=alt.X(\n",
    "            'arrests:Q',\n",
    "            axis=None,\n",
    "            title=None,\n",
    "            stack='zero'\n",
    "        ),\n",
    "        order='_order:Q',\n",
    "        fill=alt.Color(\n",
    "            'simplified_housing_status',\n",
    "            legend=alt.Legend(\n",
    "                orient='top',\n",
    "                title=None,\n",
    "                values=[\n",
    "                    'Unhoused',\n",
    "                    'Housed',\n",
    "                    'No information/Unknown',\n",
    "                ],\n",
    "                titleLimit=0,\n",
    "                labelLimit=0,\n",
    "            ),\n",
    "            scale=alt.Scale(\n",
    "                domain=['Unhoused', 'Housed', 'Address missing or unknown'],\n",
    "                range=['#004488', '#349AC2', '#CCCCCC'],\n",
    "            ),\n",
    "        ),\n",
    "        opacity=alt.condition(\n",
    "            datum.city == 'Seattle' or datum.city != 'Seattle',\n",
    "            alt.value(0.5),\n",
    "            alt.value(1)),\n",
    "    )\n",
    ")"
   ]
  },
  {
   "cell_type": "markdown",
   "id": "21383721-9c48-47fb-a909-967f182f2c53",
   "metadata": {
    "tags": []
   },
   "source": [
    "#### Text"
   ]
  },
  {
   "cell_type": "code",
   "execution_count": null,
   "id": "b932a695-59f9-4383-a121-4c81021adeef",
   "metadata": {},
   "outputs": [],
   "source": [
    "simplified_arrests_text = (\n",
    "    alt.Chart(simplified_percent_df)\n",
    "    .mark_text(font='Tenon', fontSize=14, align='right', dx=-5)\n",
    "    .encode(\n",
    "        x=alt.X('arrests:Q', title=None, stack='zero'),\n",
    "        order='_order:Q',\n",
    "        color=alt.condition(\n",
    "            datum.simplified_housing_status == 'Address missing or unknown',\n",
    "            alt.value('black'),\n",
    "            alt.value('white'),\n",
    "        ),\n",
    "        text=alt.Text('arrests:Q', format='.0%'),\n",
    "    )\n",
    ").transform_filter(datum.arrests > 0.04)"
   ]
  },
  {
   "cell_type": "markdown",
   "id": "9e6af524-a2c2-4a23-a035-b12279eb052f",
   "metadata": {},
   "source": [
    "#### Base"
   ]
  },
  {
   "cell_type": "code",
   "execution_count": null,
   "id": "ffdc3137-5f1f-4203-8978-adf66c043d6c",
   "metadata": {},
   "outputs": [],
   "source": [
    "arrests_base_story = (\n",
    "    simplified_arrests_by_housing + simplified_arrests_text\n",
    ").properties(width=400, height=35, title=alt.TitleParams(text=datum.city)).transform_filter(datum.city != 'Seattle')"
   ]
  },
  {
   "cell_type": "code",
   "execution_count": null,
   "id": "60eb0db0-7b6f-4c44-94e4-faf22d035dd7",
   "metadata": {},
   "outputs": [],
   "source": [
    "arrests_base_seattle = (\n",
    "    simplified_arrests_by_housing + simplified_arrests_text\n",
    ").properties(width=400, height=35, title=alt.TitleParams(text=datum.city))"
   ]
  },
  {
   "cell_type": "markdown",
   "id": "c1c73b21-61a4-42fb-9687-df03bff08cb7",
   "metadata": {},
   "source": [
    "#### Title, subtitle"
   ]
  },
  {
   "cell_type": "code",
   "execution_count": null,
   "id": "3cfec0dc-304c-4692-aa44-1a4c54cd2193",
   "metadata": {},
   "outputs": [],
   "source": [
    "all_arrests_title = 'Police disproportionately arrest unhoused people in West Coast cities'"
   ]
  },
  {
   "cell_type": "code",
   "execution_count": null,
   "id": "c3583748-eae8-430f-8e40-ae25ad1aafb2",
   "metadata": {},
   "outputs": [],
   "source": [
    "all_arrests_title_formatted = custom_wrap(all_arrests_title, 30)"
   ]
  },
  {
   "cell_type": "code",
   "execution_count": null,
   "id": "7ea18daf-085f-42b1-9c19-f9b61edde097",
   "metadata": {},
   "outputs": [],
   "source": [
    "all_arrests_subtitle = 'From 2017 through 2020, unhoused people made up at most an estimated 2% of the population in each of the following cities.'"
   ]
  },
  {
   "cell_type": "code",
   "execution_count": null,
   "id": "ba8abb87-6fad-41f0-9c1e-d208a684cd7b",
   "metadata": {},
   "outputs": [],
   "source": [
    "all_arrests_subtitle_formatted = custom_wrap(all_arrests_subtitle, 40)"
   ]
  },
  {
   "cell_type": "code",
   "execution_count": null,
   "id": "1f12de0e-a3a8-4b9f-909e-1c6328ed2b2c",
   "metadata": {},
   "outputs": [],
   "source": [
    "facet_and_config(\n",
    "    arrests_base_seattle,\n",
    "    city_sort=['Portland', 'Sacramento', 'Los Angeles',\n",
    "          'Seattle', 'San Diego', 'Oakland'],\n",
    "    title_size=28,\n",
    "    subtitle_size=20,\n",
    ")"
   ]
  },
  {
   "cell_type": "markdown",
   "id": "22f27396-f77e-4050-9d24-5021e5034719",
   "metadata": {},
   "source": [
    "#### [In story draft](https://docs.google.com/document/d/13YtdcIQttSUras5WUCrisBa8xG8waVq6OkOUpPaENZE/edit#bookmark=id.ilojw9v0ijv8)"
   ]
  },
  {
   "cell_type": "code",
   "execution_count": null,
   "id": "4e0be7e6-5ae5-4eff-9c71-43e8dbdef267",
   "metadata": {},
   "outputs": [],
   "source": [
    "all_arrests = facet_and_config(\n",
    "    arrests_base_story,\n",
    "    city_sort=['Portland', 'Sacramento', 'Los Angeles', 'San Diego', 'Oakland'],\n",
    "    title_str=all_arrests_title_formatted,\n",
    "    subtitle_str=all_arrests_subtitle_formatted,\n",
    "    title_size=28,\n",
    "    subtitle_size=20,\n",
    ")\n",
    "\n",
    "all_arrests"
   ]
  },
  {
   "cell_type": "markdown",
   "id": "a387db2a-0aa2-4070-b919-bde287d51d16",
   "metadata": {},
   "source": [
    "***"
   ]
  }
 ],
 "metadata": {
  "kernelspec": {
   "display_name": "Python 3 (ipykernel)",
   "language": "python",
   "name": "python3"
  },
  "language_info": {
   "codemirror_mode": {
    "name": "ipython",
    "version": 3
   },
   "file_extension": ".py",
   "mimetype": "text/x-python",
   "name": "python",
   "nbconvert_exporter": "python",
   "pygments_lexer": "ipython3",
   "version": "3.8.5"
  }
 },
 "nbformat": 4,
 "nbformat_minor": 5
}
